{
 "cells": [
  {
   "cell_type": "markdown",
   "metadata": {},
   "source": [
    "# 파이썬의 특징\n",
    "- 가독성\n",
    "- 풍부한 라이브러리\n",
    "Django, Falsk\n",
    "keras, tensorflow, sk-learn\n",
    "pansdas, meta, syborn\n",
    "- 접목성 : c 모듈사용가능\n",
    "- 무료\n",
    "- 유니코드 지원 \n",
    "- 동적타이핑 : 런타임시 타입체크를 하는 기능"
   ]
  },
  {
   "cell_type": "markdown",
   "metadata": {},
   "source": [
    "# 파이썬의 종류\n",
    " - Cpython : C로 작성된 파이썬으로 기본적인 파이썬\n",
    " - Jython : 자바로 작성된 파이썬 자바와 연동가능\n",
    " - Iron Python : c#으로 구현, Net과 Mono 용으로 개발\n",
    " - PyPy : 파이썬으로 구현된 파이썬"
   ]
  },
  {
   "cell_type": "markdown",
   "metadata": {},
   "source": [
    "# 2.x와 3.x의 차이\n",
    "- print 형태\n",
    "- long형이 없어짐\n",
    "- int/int의 결과 float처리\n",
    "- String과 Unicode 체계변경"
   ]
  },
  {
   "cell_type": "code",
   "execution_count": null,
   "metadata": {},
   "outputs": [],
   "source": [
    "print 'hi'\n",
    "print ('hi')"
   ]
  },
  {
   "cell_type": "code",
   "execution_count": null,
   "metadata": {},
   "outputs": [],
   "source": [
    "for i in range(1,101):\n",
    "    for j in list(str(num)):\n",
    "        if j in {'3','6','9'}:\n",
    "            print(\"짝\")"
   ]
  },
  {
   "cell_type": "code",
   "execution_count": null,
   "metadata": {},
   "outputs": [],
   "source": [
    "for i in range(1, 21):\n",
    "    if ((i%10 ==3) | (i%10 ==6) | (i%10 ==9)):\n",
    "        print('짝')\n",
    "    elif (i%3 == 0):\n",
    "        print('짝')\n",
    "    else:\n",
    "        print(i)"
   ]
  },
  {
   "cell_type": "code",
   "execution_count": null,
   "metadata": {},
   "outputs": [],
   "source": [
    "for i in range(1,101):\n",
    "    if '3' in list(str(i)) or '6' in list(str(i)) or '9' in list(str(i)):\n",
    "        print(\"짝\")\n",
    "    else :\n",
    "        print(i)"
   ]
  },
  {
   "cell_type": "code",
   "execution_count": null,
   "metadata": {},
   "outputs": [],
   "source": [
    "arr=[2,3,4]\n",
    "arr.extend({1,2,3})\n",
    "print(arr)"
   ]
  },
  {
   "cell_type": "code",
   "execution_count": null,
   "metadata": {},
   "outputs": [],
   "source": []
  },
  {
   "cell_type": "code",
   "execution_count": null,
   "metadata": {},
   "outputs": [],
   "source": [
    "type(2**31)"
   ]
  },
  {
   "cell_type": "code",
   "execution_count": null,
   "metadata": {},
   "outputs": [],
   "source": [
    "1/2"
   ]
  },
  {
   "cell_type": "code",
   "execution_count": null,
   "metadata": {},
   "outputs": [],
   "source": [
    "type('가')"
   ]
  },
  {
   "cell_type": "code",
   "execution_count": null,
   "metadata": {},
   "outputs": [],
   "source": [
    "type(u'가') #2.x에서는 결과 : unicode"
   ]
  },
  {
   "cell_type": "markdown",
   "metadata": {},
   "source": [
    "# 아나콘다 설치\n",
    "http://kamang-it.tistory.com/entry/Anaconda%EC%95%84%EB%82%98%EC%BD%98%EB%8B%A4-%EC%84%A4%EC%B9%98%ED%95%98%EB%8A%94%EB%B2%95%EA%B3%BC-%EC%82%AC%EC%9A%A9%EB%B2%95"
   ]
  },
  {
   "cell_type": "markdown",
   "metadata": {},
   "source": [
    "# vs code설치\n",
    "http://gomcine.tistory.com/entry/VS-Code-%EC%84%A4%EC%B9%98-%EB%B0%8F-%EC%84%B8%ED%8C%85%ED%95%98%EA%B8%B0"
   ]
  },
  {
   "cell_type": "code",
   "execution_count": null,
   "metadata": {},
   "outputs": [],
   "source": [
    "a = 1\n",
    "a = b = c = 2\n",
    "a, b, c = 1,2,3\n",
    "print(a,b,c)"
   ]
  },
  {
   "cell_type": "code",
   "execution_count": null,
   "metadata": {},
   "outputs": [],
   "source": []
  },
  {
   "cell_type": "code",
   "execution_count": null,
   "metadata": {},
   "outputs": [],
   "source": [
    "#예약어\n",
    "import keyword\n",
    "print(keyword.kwlist)"
   ]
  },
  {
   "cell_type": "markdown",
   "metadata": {},
   "source": [
    "# 변수, 함수, 클래스 이름생성\n",
    "\n",
    "#스네이크 케이스 : 변수 함수 이름생성\n",
    " i_love_You, i_love_You()\n",
    "#케멀케이스 : 클래스 이름생서\n",
    " ILoveYou"
   ]
  },
  {
   "cell_type": "code",
   "execution_count": null,
   "metadata": {},
   "outputs": [],
   "source": [
    "knight_health =100\n",
    "knight_health()\n",
    "Knight"
   ]
  },
  {
   "cell_type": "code",
   "execution_count": null,
   "metadata": {},
   "outputs": [],
   "source": [
    "# 수치\n",
    "a = 2019\n",
    "b = 0o10 # 8진수\n",
    "c = 0x10 # 16진수\n",
    "d = 0b10 # 2진수\n",
    "print(a,b,c,d)"
   ]
  },
  {
   "cell_type": "code",
   "execution_count": null,
   "metadata": {},
   "outputs": [],
   "source": [
    "e = oct(38)\n",
    "f = hex(38)\n",
    "g = bin(38)\n",
    "print(e,f,g)\n",
    "print(type(e))\n",
    "변수 함수의 차이\n",
    "magic_health\n",
    "Magic"
   ]
  },
  {
   "cell_type": "code",
   "execution_count": null,
   "metadata": {},
   "outputs": [],
   "source": [
    "print(type(a))\n",
    "print(type(b))\n",
    "print(type(c))\n",
    "print(type(d))\n",
    "print(type(e))\n",
    "print(type(f))\n",
    "print(type(g))\n",
    "print(type(2))\n",
    "print(type(2.1))\n",
    "h = 3 - 4j\n",
    "print(type(h)) # 복소수\n",
    "print(h.imag) # 복소수의 실수부\n",
    "print(h.real) #복소수의 허수부\n",
    "print(h.conjugate()) # 복소수값 반환"
   ]
  },
  {
   "cell_type": "code",
   "execution_count": null,
   "metadata": {},
   "outputs": [],
   "source": [
    "#문자표현\n",
    "a = 'string'\n",
    "b = \"string\"\n",
    "c = \"가\" \n",
    "print(a,b,c)\n",
    "print(type(a))\n",
    "print(type(b))\n",
    "print(type(c))"
   ]
  },
  {
   "cell_type": "code",
   "execution_count": null,
   "metadata": {},
   "outputs": [],
   "source": [
    "word = list(\"2020년 03월 04일 대전 1시에 만나요\")\n",
    "count = 0\n",
    "while count <= 9:\n",
    "    try:\n",
    "        word.remove(str(count))\n",
    "    except:\n",
    "        count += 1\n",
    "word = \"\".join(word)\n",
    "print(word)"
   ]
  },
  {
   "cell_type": "code",
   "execution_count": null,
   "metadata": {},
   "outputs": [],
   "source": [
    "a = [\"2020년 03월 04일 대전 1시에 만나요\"]\n",
    "print(a[0])\n",
    "a=\"2020년 03월 04일 대전 1시에 만나요\"\n",
    "print(a[0])\n",
    "a= list(\"2020년 03월 04일 대전 1시에 만나요\")\n",
    "print(a[0])\n",
    "a.remove()\n",
    "print(변 in a)\n",
    "if 변 in a\n",
    "if 변 == a:\n",
    "for i in f:\n",
    "    if 변 == a:\n",
    "            set"
   ]
  },
  {
   "cell_type": "code",
   "execution_count": null,
   "metadata": {},
   "outputs": [],
   "source": [
    "word = \"2020년 03월 04일 대전 1시에 만나요\"\n",
    "\n",
    "def change(word, key):\n",
    "    result = \"\"\n",
    "    for i in word:\n",
    "        if ord(i) == \"\":\n",
    "            result += \" \"\n",
    "            continue\n",
    "        result += chr(ord(i)+key)\n",
    "    return result\n",
    "\n",
    "make = change(word, 5)\n",
    "back = change(make, -5)\n",
    "\n",
    "print(make)\n",
    "print(back)"
   ]
  },
  {
   "cell_type": "code",
   "execution_count": null,
   "metadata": {},
   "outputs": [],
   "source": []
  },
  {
   "cell_type": "code",
   "execution_count": null,
   "metadata": {},
   "outputs": [],
   "source": [
    "a = list(\"time 2020 03 04 Deajun hour 1 meet you\")\n",
    "print(a)\n",
    "b=str(a)\n",
    "print(b)\n",
    "a.remove(b)"
   ]
  },
  {
   "cell_type": "code",
   "execution_count": null,
   "metadata": {},
   "outputs": [],
   "source": [
    "a.extend(['a','c'])\n",
    "a.append(\"5\")\n",
    "a.insert(2, '3')"
   ]
  },
  {
   "cell_type": "code",
   "execution_count": null,
   "metadata": {},
   "outputs": [],
   "source": [
    "a = list(\"time 2020 03 04 Deajun hour 1 meet you\")\n",
    "print(a)\n",
    "#print(a)\n",
    "#print(type(a))\n",
    "#b= \"time 2020 03 04 Deajun hour 1 meet you\"\n",
    "#print(b[0]) # 리스트\n",
    "#print(a[0])\n",
    "key = 5\n",
    "for i in a: #리스트 길이 구할려고\n",
    "    print(i)\n",
    "    a[i] = chr(ord(a[i]) + key)\n",
    "    print(a[i],  end = '')"
   ]
  },
  {
   "cell_type": "code",
   "execution_count": null,
   "metadata": {},
   "outputs": [],
   "source": []
  },
  {
   "cell_type": "code",
   "execution_count": null,
   "metadata": {},
   "outputs": [],
   "source": [
    "a = ['a','b','c','d','e','f','g','h','i','j','k','l','m','n','o','p','q','r','s','t','u','v','w','x','y','z'\n",
    "     ,'0','1','2','3','4','5','6','7','8','9']\n",
    "\n",
    "b, c, key = 'hello',\n",
    "a.remove()\n",
    "for i in a:\n",
    "    print(i)\n",
    "    c += 1\n",
    "    print(c-1)\n",
    "    65778#자릿수\n",
    "    \n",
    "# 입력된 글자를 자리수로 변경하고\n",
    "# 입력된 글자의 자리수에 key값을 더한후 출력하면 됩니다\n",
    "  \n",
    "   "
   ]
  },
  {
   "cell_type": "code",
   "execution_count": null,
   "metadata": {},
   "outputs": [],
   "source": [
    "#manual_txt = ['hello']\n",
    "manual_txt ='hello'\n",
    "#print(manual_txt[0])\n",
    "#print(type(manual_txt))\n",
    "key = 5\n",
    "for i in manual_txt:\n",
    "    print(chr(bin(i)+key))\n",
    "    "
   ]
  },
  {
   "cell_type": "markdown",
   "metadata": {},
   "source": [
    "# 문자열 다루기\n",
    "\\n # 줄바꿈\n",
    "\\t # 탭\n",
    "\\r # 캐리지 리턴\n",
    "\\0 # null\n",
    "\\\\ # 문자 \\출력\n",
    "문자열 연결 '+'"
   ]
  },
  {
   "cell_type": "code",
   "execution_count": null,
   "metadata": {},
   "outputs": [],
   "source": [
    "print('하나\\n둘\\t셋') \n",
    "print('넷\\r다섯\\0여섯\\\\')\n",
    "print('abcd' + 'efg')"
   ]
  },
  {
   "cell_type": "code",
   "execution_count": null,
   "metadata": {},
   "outputs": [],
   "source": [
    "#인덱싱\n",
    "a ='string'\n",
    "print(a[0])\n",
    "print(a[1])\n",
    "print(a[2])\n",
    "print(a[3])\n",
    "print(a[4])\n",
    "print(a[5])"
   ]
  },
  {
   "cell_type": "code",
   "execution_count": null,
   "metadata": {},
   "outputs": [],
   "source": [
    "#슬라이싱\n",
    "a ='string'\n",
    "print(a[0:1])\n",
    "print(a[1:4])\n",
    "print(a[:2])\n",
    "print(a[-2])\n",
    "print(a[-2:])\n",
    "print(a[:])"
   ]
  },
  {
   "cell_type": "code",
   "execution_count": null,
   "metadata": {},
   "outputs": [],
   "source": [
    "#유니코드 : 다양한 나라의 언어 및 기호를 모은 코드\n",
    "a= '가'\n",
    "print(type(a))\n",
    "b = '가'.encode('utf-8') ,  =\n",
    "print(b)\n",
    "print(type(b))\n",
    "print(ord(a)) # 유니코드 값\n",
    "print(chr(44032))\n",
    "0o27\n",
    " 비트 한자리 수 0, 1 바이트 : 비트 8자리 01011000\n",
    "        \n",
    "인터넷 기사를 txt 파일로 만듭니다\n",
    "이것을 -> 암호문으로 바꿔서 txt파일로 만드는것을 합니다\n"
   ]
  },
  {
   "cell_type": "code",
   "execution_count": null,
   "metadata": {},
   "outputs": [],
   "source": [
    "#리스트\n",
    "a = ['하나', '둘', 1, 2, 3.0 ]\n",
    "print(a)\n",
    "print(type(a))\n",
    "b = a.append('셋') #리스트의 함수는 변수에 저장하면 아무것도 없다.\n",
    "print(b)\n",
    "print(type(b))\n",
    "print(a.append('A'))\n",
    "print(a)"
   ]
  },
  {
   "cell_type": "code",
   "execution_count": null,
   "metadata": {},
   "outputs": [],
   "source": [
    "a = ['하나', '둘', 1, 2, 3.0 ]\n",
    "a.extend(['넷','다섯'])\n",
    "b=a\n",
    "print(b)"
   ]
  },
  {
   "cell_type": "code",
   "execution_count": null,
   "metadata": {},
   "outputs": [],
   "source": [
    "a = ['하나', '둘', 1, 2, 3.0 ]\n",
    "a.insert(2,'셋') # 지정위치 선정후 입력\n",
    "print(b)\n",
    "print(type(b))\n",
    "print(a.insert(2,'셋'))\n",
    "a.extend(['넷','다섯']) # 두개이상입력\n",
    "print(a)\n",
    "a.count('하나')\n",
    "print(a.pop())\n",
    "print(a.pop(1))\n",
    "print(a)\n",
    "print(a.remove('셋')) # 하나만 지움\n",
    "print(a)\n",
    "print(a.remove('셋'))\n",
    "print(a)\n",
    "print(a.remove('셋'))\n",
    "print(a)"
   ]
  },
  {
   "cell_type": "code",
   "execution_count": null,
   "metadata": {},
   "outputs": [],
   "source": [
    "#집합\n",
    "a = {1,2,3}\n",
    "b = {3,4,5}\n",
    "print(type(a))\n",
    "print(a & b) #교집합\n",
    "print(a - b) #차집합\n",
    "print(a | b) # 합집합"
   ]
  },
  {
   "cell_type": "code",
   "execution_count": null,
   "metadata": {},
   "outputs": [],
   "source": [
    "# 튜플\n",
    "a= (1,2,3)\n",
    "print(a)\n",
    "print(type(a))"
   ]
  },
  {
   "cell_type": "code",
   "execution_count": null,
   "metadata": {},
   "outputs": [],
   "source": [
    "#스왑(swap)\n",
    "a , b = 1, 2\n",
    "print(a, b)\n",
    "a, b = b, a"
   ]
  },
  {
   "cell_type": "code",
   "execution_count": null,
   "metadata": {},
   "outputs": [],
   "source": [
    "#리스트, 튜플, 집합의 타입변환\n",
    "a = set((1,2,3))\n",
    "print(a)\n",
    "print(type(a))\n",
    "b = {3,4,5}\n",
    "\n",
    "print(b)\n",
    "print(type(b))\n",
    "c = list(a)\n",
    "print(c)\n",
    "print(type(c))\n",
    "d = tuple(a)\n",
    "print(d)\n",
    "print(type(d))\n",
    "e = tuple(d)\n",
    "print(e)\n",
    "print(type(e))\n",
    "f = set(e)\n",
    "print(f)\n",
    "print(type(f))\n",
    "print(1 in f)\n",
    "\n",
    "print(1 in b)\n",
    "허그맘"
   ]
  },
  {
   "cell_type": "code",
   "execution_count": null,
   "metadata": {},
   "outputs": [],
   "source": [
    "# 사전\n",
    "a= dict(a=1, b=2, c=3)\n",
    "print(a)\n",
    "print(type(a))\n",
    "b = {'d': 4, 'e': 5, 'f': 6}\n",
    "a = dict(d=4, e=5, f=6)\n",
    "print(b)\n",
    "print(type(b))\n",
    "#print(a[1]) # 인덱싱 지원 안함\n",
    "a[\"g\"] = 9\n",
    "print(a)\n",
    "# 사전은 items(), keys(), values() 메서드를 사용해야함\n",
    "#magic_health()\n",
    "print(a.items)\n",
    "print(a.items())\n",
    "print(a.keys())\n",
    "print(a.values())"
   ]
  },
  {
   "cell_type": "markdown",
   "metadata": {},
   "source": [
    "# for문\n",
    "for<아이템> in <범위를 나타내는 객체> :\n",
    "    <구문>"
   ]
  },
  {
   "cell_type": "code",
   "execution_count": null,
   "metadata": {},
   "outputs": [],
   "source": [
    "a = [1,2,3,4,5,6,7,8,9,10]\n",
    "\n",
    "for i in a:\n",
    "    print(i)\n",
    "    print(a[i]-2)\n",
    "    1\n",
    "    0\n",
    "    2\n",
    "    1\n",
    "    3\n",
    "    2\n",
    "    "
   ]
  },
  {
   "cell_type": "code",
   "execution_count": null,
   "metadata": {},
   "outputs": [],
   "source": [
    "b = 'string'\n",
    "print(b[2])\n",
    "for i in b:\n",
    "    print(b)\n",
    "    print(b[i])"
   ]
  },
  {
   "cell_type": "code",
   "execution_count": null,
   "metadata": {},
   "outputs": [],
   "source": [
    "list(range(1,10))"
   ]
  },
  {
   "cell_type": "code",
   "execution_count": null,
   "metadata": {},
   "outputs": [],
   "source": [
    "for i in range(1,5):\n",
    "    print(i)"
   ]
  },
  {
   "cell_type": "code",
   "execution_count": null,
   "metadata": {},
   "outputs": [],
   "source": [
    "for i in range(1,10,3):\n",
    "    print(i)"
   ]
  },
  {
   "cell_type": "code",
   "execution_count": null,
   "metadata": {},
   "outputs": [],
   "source": [
    "a = [\"하나\", '둘', '셋',1,2,3]\n",
    "print(a)\n",
    "for i in range(len(a)):\n",
    "    print(i)"
   ]
  },
  {
   "cell_type": "code",
   "execution_count": null,
   "metadata": {},
   "outputs": [],
   "source": [
    "#while문\n",
    "while <부울> :\n",
    "    <구문>"
   ]
  },
  {
   "cell_type": "code",
   "execution_count": null,
   "metadata": {},
   "outputs": [],
   "source": [
    "wiki =1000\n",
    "day = 1\n",
    "while day < 6:\n",
    "        wiki = wiki + wiki * 0.3\n",
    "        day = day + 1\n",
    "        print(wiki, day)"
   ]
  },
  {
   "cell_type": "code",
   "execution_count": null,
   "metadata": {},
   "outputs": [],
   "source": [
    "c , d = 1 , 2\n",
    "print(c==1 and r d==0)"
   ]
  },
  {
   "cell_type": "code",
   "execution_count": null,
   "metadata": {},
   "outputs": [],
   "source": [
    "시저암호\n",
    "a,b,c,d,....\n",
    "암호화 : key : 3\n",
    "평문 : cat\n",
    "암호문 : gdx\n",
    "평문 : cat\n",
    "    리스트 a = [1,2,3,4]\n",
    "    a[i]\n",
    "    클레오파트라가 시저에게 \" 2020년 3월 4일에 대전u에서 1시에 볼수 있니?\" # unicode\n",
    "    time 2020 03 04 Deajun hour 1 meet you\n",
    "    key = 5\n",
    "    암호문을 만드는걸 만드세요?\n",
    "    평문으로 만드는 세요?\n",
    "    "
   ]
  },
  {
   "cell_type": "code",
   "execution_count": null,
   "metadata": {},
   "outputs": [],
   "source": [
    "c , d = 1 , 2\n",
    "print(c == 1 and d != 2)\n",
    "print(not 0 )\n",
    "a=[1,2,3]\n"
   ]
  },
  {
   "cell_type": "code",
   "execution_count": null,
   "metadata": {},
   "outputs": [],
   "source": [
    "#부울문\n",
    "a = True\n",
    "b = False\n",
    "print(type(a))\n",
    "print(type(b))\n",
    "c , d = 1 , 2\n",
    "print(c < d)\n",
    "print(c <= d)\n",
    "print(c > d)\n",
    "print(c >= d)\n",
    "print(c == d)\n",
    "c , d = 1 , 2\n",
    "print(c and d )\n",
    "print(a or b )\n",
    "print(not c )\n",
    "print(not b )\n",
    "print(bool(0))\n",
    "print(bool(1))\n",
    "print(bool('test'))\n",
    "print(bool(None))\n"
   ]
  },
  {
   "cell_type": "markdown",
   "metadata": {},
   "source": [
    "# if문\n",
    "if <부울> :\n",
    "   <구문>\n",
    "   elif <부울> :\n",
    "   elif <부울< :\n",
    "   .\n",
    "   .\n",
    "   .\n",
    "   else:\n",
    "       <구문>"
   ]
  },
  {
   "cell_type": "code",
   "execution_count": null,
   "metadata": {},
   "outputs": [],
   "source": [
    "price = 7000\n",
    "if price < 1000:\n",
    "    bid = 1\n",
    "elif price >= 1000 and price < 5000:\n",
    "    bid = 5\n",
    "elif price >= 5000 and price < 10000:\n",
    "    bid = 10\n",
    "elif price >= 10000 and price < 50000:\n",
    "    bid = 50\n",
    "elif price >= 50000 and price < 100000:\n",
    "    bid = 100\n",
    "elif price >= 100000 and price < 500000:\n",
    "    bid = 500\n",
    "else:\n",
    "    bid = 1000\n",
    "print(bid)"
   ]
  },
  {
   "cell_type": "code",
   "execution_count": null,
   "metadata": {},
   "outputs": [],
   "source": [
    "# 객체 참조와 복사\n",
    "a = [1,2,3]\n",
    "b = a       #객체 참조\n",
    "print(a)\n",
    "print(b)\n",
    "print(type(a))\n",
    "print(type(b))\n",
    "print(id(a))\n",
    "print(id(b))\n",
    "c = [2,3,4]\n",
    "d = c[:]    #객체 복사\n",
    "print(c)\n",
    "print(d)\n",
    "print(type(c))\n",
    "print(type(d))\n",
    "print(id(c))\n",
    "print(id(d))"
   ]
  },
  {
   "cell_type": "markdown",
   "metadata": {},
   "source": [
    "# 함수\n",
    "def <함수명>(인수1, 인수2...) :\n",
    "    <구문>\n",
    "    return <반환값>"
   ]
  },
  {
   "cell_type": "code",
   "execution_count": null,
   "metadata": {},
   "outputs": [],
   "source": [
    "def sum(a, b):\n",
    "    return a + b\n",
    "\n",
    "print(sum(2,3))\n",
    "\n",
    "print(sum)\n",
    "c = sum(3,4) #리턴값 저장가능\n",
    "print(c)\n",
    "globals() # 함수의 객체를 볼수 있음\n",
    "def sum(a, b):\n",
    "    c =a + b\n",
    "print(sum(2,3)) # 리턴이 없으면 값이 반환되지않는다."
   ]
  },
  {
   "cell_type": "code",
   "execution_count": null,
   "metadata": {},
   "outputs": [],
   "source": [
    "print(globals())"
   ]
  },
  {
   "cell_type": "code",
   "execution_count": null,
   "metadata": {},
   "outputs": [],
   "source": [
    "def sum(a, b):\n",
    "    print(a + b)\n",
    "\n",
    "sum(2,3)"
   ]
  },
  {
   "cell_type": "code",
   "execution_count": null,
   "metadata": {},
   "outputs": [],
   "source": [
    "#인수전달\n",
    "a, b = 1, 2\n",
    "def multi(a,b) :\n",
    "    return a*b\n",
    "print(multi(a,b))"
   ]
  },
  {
   "cell_type": "code",
   "execution_count": null,
   "metadata": {},
   "outputs": [],
   "source": [
    "#스코핑룰(전역변수, 지역변수)\n",
    "x = 1  #전역변수\n",
    "def func(a):\n",
    "    return a + x #x값이 없기 때문에 전역변수에서 값을 가져옴\n",
    "print(func(1)) \n",
    "\n",
    "def func1(a):\n",
    "    x = 2\n",
    "    return a + x #지역변수x값이 있음\n",
    "print(func1(3))\n",
    "\n",
    "x = 3\n",
    "def func2(a):\n",
    "    global x    # 전역변수값을 참조해서 가져옴\n",
    "    return a + x \n",
    "print(func2(1)) \n",
    "\n",
    "def func2(a):\n",
    "    global x \n",
    "    x = 5 # 전역변수값을 바꿈\n",
    "    return a + x \n",
    "print(func2(1)) \n",
    "print(x)"
   ]
  },
  {
   "cell_type": "code",
   "execution_count": null,
   "metadata": {},
   "outputs": [],
   "source": [
    "#내장함수 이름보기\n",
    "dir(print)"
   ]
  },
  {
   "cell_type": "code",
   "execution_count": null,
   "metadata": {},
   "outputs": [],
   "source": [
    "dir(__builtin__)"
   ]
  },
  {
   "cell_type": "code",
   "execution_count": 1,
   "metadata": {},
   "outputs": [
    {
     "name": "stdout",
     "output_type": "stream",
     "text": [
      "5\n"
     ]
    }
   ],
   "source": [
    "#함수 인수\n",
    "def sum(a =1, b=2):\n",
    "    return a+b\n",
    "print(sum(2,3))"
   ]
  },
  {
   "cell_type": "code",
   "execution_count": null,
   "metadata": {},
   "outputs": [],
   "source": [
    "def sum(a =1, b): # 뒤에 인수값이 오지않아 에러남\n",
    "    return a+b"
   ]
  },
  {
   "cell_type": "code",
   "execution_count": 2,
   "metadata": {
    "scrolled": true
   },
   "outputs": [
    {
     "name": "stdout",
     "output_type": "stream",
     "text": [
      "7\n"
     ]
    }
   ],
   "source": [
    "#키워드 인수\n",
    "def sum(a=1, b=2):\n",
    "    return a+b\n",
    "print(sum(a=3, b=4))"
   ]
  },
  {
   "cell_type": "code",
   "execution_count": null,
   "metadata": {},
   "outputs": [],
   "source": [
    "for i in range(1, 101):\n",
    "    one = i % 10\n",
    "    ten = int(i / 10)\n",
    "    if (ten in (3, 6, 9)):\n",
    "        if (one in (3, 6, 9)):\n",
    "            print('짝짝')\n",
    "        else:\n",
    "            print('짝')        \n",
    "    else:\n",
    "        if (one in (3, 6, 9)):\n",
    "            print('짝')\n",
    "        else:\n",
    "            print(i)"
   ]
  },
  {
   "cell_type": "code",
   "execution_count": null,
   "metadata": {},
   "outputs": [],
   "source": [
    "def 삼육구(start, end):\n",
    "    for i in range(start, end+1):\n",
    "        arr=list(str(i))\n",
    "        count=arr.count('3')+arr.count('6')+arr.count('9')\n",
    "        if count>0:\n",
    "            print('짝'*count)\n",
    "        else :\n",
    "            print(i)\n",
    "\n",
    "삼육구(0,334)"
   ]
  },
  {
   "cell_type": "code",
   "execution_count": null,
   "metadata": {},
   "outputs": [],
   "source": [
    "def ssg(start, end):\n",
    "    result = \"\"\n",
    "    for i in range(start, end):\n",
    "        count = str(i).count(\"3\") + str(i).count(\"6\") + str(i).count(\"9\")\n",
    "        if count:\n",
    "            result += \"짝\"*count + \"\\n\"\n",
    "        else:\n",
    "            result += str(i) + \"\\n\"\n",
    "    return result\n",
    "\n",
    "\n",
    "print(ssg(0, 334))"
   ]
  },
  {
   "cell_type": "code",
   "execution_count": null,
   "metadata": {},
   "outputs": [],
   "source": [
    "for i in range(1, 101):\n",
    "    one = i % 10\n",
    "    ten = int(i / 10)\n",
    "    if ((ten in (3, 6, 9)) & (one in (3, 6, 9))):\n",
    "        print('짝짝') \n",
    "    elif(ten in (3, 6, 9)):\n",
    "        print('짝')\n",
    "    elif (one in (3, 6, 9)):\n",
    "        print('짝')        \n",
    "    else:\n",
    "        print(i)"
   ]
  },
  {
   "cell_type": "code",
   "execution_count": null,
   "metadata": {},
   "outputs": [],
   "source": [
    "for i in range(1,21):\n",
    "    if i%3==0:\n",
    "        print(\"짝\")\n",
    "    elif i%10==3 or i%10==6 or i%10==9:\n",
    "        print(\"짝\")\n",
    "    else:\n",
    "        print(i)"
   ]
  },
  {
   "cell_type": "code",
   "execution_count": null,
   "metadata": {},
   "outputs": [],
   "source": [
    "def sum(a, b):\n",
    "    return a+b\n",
    "print(sum(a=1, 2))"
   ]
  },
  {
   "cell_type": "code",
   "execution_count": null,
   "metadata": {},
   "outputs": [],
   "source": [
    "#가변인수\n",
    "def test(*args): #args 는 argument의 줄임말\n",
    "    print(args)\n",
    "\n",
    "print(test(1)) # 반환값이 없어 출력암됨, 그리고 타입은 튜플타입\n",
    "print(test(1,2))\n",
    "print(test(1,3,5))"
   ]
  },
  {
   "cell_type": "code",
   "execution_count": 3,
   "metadata": {},
   "outputs": [
    {
     "name": "stdout",
     "output_type": "stream",
     "text": [
      "kwargs =  {}\n",
      "kwargs.keys() =  dict_keys([])\n",
      "kwargs.values() =  dict_values([])\n",
      "kwargs =  {'Top': '하나', 'Jungle': '둘', 'Middle': '셋', 'Bottom': '넷', 'Supporter': '다섯'}\n",
      "kwargs.keys() =  dict_keys(['Top', 'Jungle', 'Middle', 'Bottom', 'Supporter'])\n",
      "kwargs.values() =  dict_values(['하나', '둘', '셋', '넷', '다섯'])\n",
      "key값 :  Top  과 value 값:  하나\n",
      "key값 :  Jungle  과 value 값:  둘\n",
      "key값 :  Middle  과 value 값:  셋\n",
      "key값 :  Bottom  과 value 값:  넷\n",
      "key값 :  Supporter  과 value 값:  다섯\n"
     ]
    }
   ],
   "source": [
    "#정의 되지않은 인수 처리\n",
    "def test(*args, **kwargs): #**kwargs는 keyword argument의 줄임말\n",
    "    print('kwargs = ', kwargs) # 사전형태로 되어있음\n",
    "    print('kwargs.keys() = ', kwargs.keys())\n",
    "    print('kwargs.values() = ', kwargs.values())\n",
    "\n",
    "    for key, value in kwargs.items():\n",
    "        print('key값 : ', key, ' 과 value 값: ', value)\n",
    "test(1,2,3)\n",
    "test(1,2,3,Top = '하나', Jungle = '둘', Middle = '셋', Bottom = '넷', Supporter = '다섯')"
   ]
  },
  {
   "cell_type": "code",
   "execution_count": 4,
   "metadata": {},
   "outputs": [
    {
     "name": "stdout",
     "output_type": "stream",
     "text": [
      "f의 값은(a=1, args=(2, 3, 4), kwargs={'b': 5, 'c': 6}\n",
      "g의 값은(f=10, g=11, args=(12,), kwargs={'d': 13, 'e': 14})\n"
     ]
    }
   ],
   "source": [
    "def f(a = 0, *args, **kwargs):\n",
    "    print(\"f의 값은(a=%s, args=%s, kwargs=%s\" % (a, args, kwargs))\n",
    "    \n",
    "def g(f, g = 0, *args, **kwargs):\n",
    "        print(\"g의 값은(f=%s, g=%s, args=%s, kwargs=%s)\" % (f, g, args, kwargs))\n",
    "\n",
    "f(1, 2, 3, 4, b = 5, c = 6)\n",
    "g(10, 11, 12, d = 13, e = 14)\n"
   ]
  },
  {
   "cell_type": "code",
   "execution_count": null,
   "metadata": {},
   "outputs": [],
   "source": [
    "for i in range(334):\n",
    "    count = str(i).count(\"3\") + str(i).count(\"6\") + str(i).count(\"9\")\n",
    "    if count:\n",
    "        print(\"짝\"*count)\n",
    "    else:\n",
    "        print(i)"
   ]
  },
  {
   "cell_type": "code",
   "execution_count": null,
   "metadata": {},
   "outputs": [],
   "source": [
    "count = 0\n",
    "while count < 100 :\n",
    "    count += 1\n",
    "    count_10 = int(count/10)\n",
    "    count_1 = count-(count_10*10)\n",
    "    if count_1 % 3 == 0 and count_10 % 3 == 0 and count_1 != 0 and count_10 != 0:\n",
    "        print(\"%d : 짝짝\" %count)\n",
    "    elif count % 3 == 0 or (count_1 % 3 == 0 and count_1 != 0) or (count_10 % 3 == 0 and count_10 != 0):\n",
    "        print(\"%d : 짝\" %count)\n",
    "    else : \n",
    "        print(count)"
   ]
  },
  {
   "cell_type": "code",
   "execution_count": null,
   "metadata": {},
   "outputs": [],
   "source": [
    "result = 0\n",
    "for plus in range(1,101):\n",
    "    \n",
    "        #3의 배수 프린트 한자리\n",
    "    if 1<=plus<=10 and plus%3 == 0 :\n",
    "            print (\"짝\")\n",
    "            \n",
    "        #나머지 프린트 한자리\n",
    "    elif 1<=plus<=10 and plus%3 != 0: \n",
    "             print(plus)\n",
    "        \n",
    "        #3의배수 및 3,6,9 끝나는 수 프린트\n",
    "    if 11<=plus<=20 and plus%3 == 0 or 11<=plus<=20 and (plus-10)%3 == 0 or 21<=plus<=30 and plus%3 == 0 or 21<=plus<=30 and (plus-20)%3 == 0 or (41<=plus<=50 and plus%3 == 0 or 41<=plus<=50 and (plus-40)%3 == 0) or (51<=plus<=60 and plus%3 == 0 or 51<=plus<=60 and (plus-50)%3 == 0) or (71<=plus<=80 and plus%3 == 0 or 71<=plus<=80 and (plus-70)%3 == 0) or (81<=plus<=90 and plus%3 == 0 or 81<=plus<=90 and (plus-80)%3 == 0):\n",
    "             print (\"짝\")\n",
    "            \n",
    "        #나머지 프린트 두자리\n",
    "    elif 11<=plus<=20 or 21<=plus<=30 or (41<=plus<=50) or (51<=plus<=60) or (71<=plus<=80) or (81<=plus<=90):\n",
    "            print(plus)\n",
    "            \n",
    "        #30번대,60번대,90번대\n",
    "    if 31<=plus<=39 and plus%3 != 0 or 61<=plus<=69 and plus%3 != 0 or 91<=plus<=99 and plus%3 != 0:\n",
    "        print(\"짝\")\n",
    "    elif 31<=plus<=39 and plus%3 ==0 or 61<=plus<=69 and plus%3 ==0 or 91<=plus<=99 and plus%3== 0:\n",
    "        print(\"짝짝\")\n",
    "    elif 31<=plus<=40 or 61<=plus<=70  :\n",
    "        print(plus)\n",
    "        \n"
   ]
  },
  {
   "cell_type": "code",
   "execution_count": null,
   "metadata": {},
   "outputs": [],
   "source": [
    "def game_369(count) :\n",
    "    count_10 = int(count/10)\n",
    "    count_1 = count-(count_10*10)\n",
    "    if count_1 % 3 == 0 and count_10 % 3 == 0 and count_1 != 0 and count_10 != 0:\n",
    "        return \"짝짝\"\n",
    "    elif count % 3 == 0 or (count_1 % 3 == 0 and count_1 != 0) or (count_10 % 3 == 0 and count_10 != 0):\n",
    "        return \"짝\"\n",
    "    else : \n",
    "        return count\n",
    "num = 0\n",
    "while num < 100 :\n",
    "    num += 1\n",
    "    print(game_369(num))\n",
    "    "
   ]
  },
  {
   "cell_type": "code",
   "execution_count": null,
   "metadata": {},
   "outputs": [],
   "source": [
    "result = 0\n",
    "for plus in range(1,101):\n",
    "    \n",
    "\n",
    "    if 1<=plus<=10 and plus%3 == 0 or 11<=plus<=20 and plus%3 == 0 or 11<=plus<=20 and (plus-10)%3 == 0 or 21<=plus<=30 and plus%3 == 0 or 21<=plus<=30 and (plus-20)%3 == 0 or (41<=plus<=50 and plus%3 == 0 or 41<=plus<=50 and (plus-40)%3 == 0) or (51<=plus<=60 and plus%3 == 0 or 51<=plus<=60 and (plus-50)%3 == 0) or (71<=plus<=80 and plus%3 == 0 or 71<=plus<=80 and (plus-70)%3 == 0) or (81<=plus<=90 and plus%3 == 0 or 81<=plus<=90 and (plus-80)%3 == 0) or 31<=plus<=39 and plus%3 != 0 or 61<=plus<=69 and plus%3 != 0 or 91<=plus<=99 and plus%3 != 0:\n",
    "            print (\"짝\")\n",
    "    elif 31<=plus<=39 and plus%3 ==0 or 61<=plus<=69 and plus%3 ==0 or 91<=plus<=99 and plus%3== 0:\n",
    "        print(\"짝짝\")\n",
    "    elif 1<=plus<=10 and plus%3 != 0 or 11<=plus<=20 or 21<=plus<=30 or (41<=plus<=50) or (51<=plus<=60) or (71<=plus<=80) or (81<=plus<=90) or 31<=plus<=40 or 61<=plus<=70 or plus == 100: \n",
    "             print(plus)\n",
    "                \n"
   ]
  },
  {
   "cell_type": "code",
   "execution_count": null,
   "metadata": {},
   "outputs": [],
   "source": [
    "def game_369(i) :\n",
    "    num = 0\n",
    "    while num < i :\n",
    "        num += 1\n",
    "        count = str(num).count(\"3\") + str(num).count(\"6\") + str(num).count(\"9\")\n",
    "        if count:\n",
    "            print(\"짝\"*count)\n",
    "        else:\n",
    "            print(num)\n",
    "\n",
    "game_369(100)"
   ]
  },
  {
   "cell_type": "code",
   "execution_count": null,
   "metadata": {},
   "outputs": [],
   "source": [
    "def sam (count):\n",
    "    count_10 = int(count/10)\n",
    "      \n",
    "    count_1 = count-(count_10*10)\n",
    "        \n",
    "    if count_1 % 3 == 0 and count_10 % 3 == 0 and count_1 != 0 and count_10 != 0:\n",
    "        print(\"%d : 짝짝\" %count)\n",
    "    elif count % 3 == 0 or (count_1 % 3 == 0 and count_1 != 0) or (count_10 % 3 == 0 and count_10 != 0):\n",
    "        print(\"%d : 짝\" %count)\n",
    "    else : \n",
    "        print(count)\n",
    "        \n",
    "sam(100)"
   ]
  },
  {
   "cell_type": "code",
   "execution_count": null,
   "metadata": {},
   "outputs": [],
   "source": [
    "def sam (count):\n",
    "   for count in range(1,count):\n",
    "    count_10 = int(count/10)\n",
    "      \n",
    "    count_1 = count-(count_10*10)\n",
    "        \n",
    "    if count_1 % 3 == 0 and count_10 % 3 == 0 and count_1 != 0 and count_10 != 0:\n",
    "        print(\"%d : 짝짝\" %count)\n",
    "    elif count % 3 == 0 or (count_1 % 3 == 0 and count_1 != 0) or (count_10 % 3 == 0 and count_10 != 0):\n",
    "        print(\"%d : 짝\" %count)\n",
    "    else : \n",
    "        print(count)\n",
    "        \n",
    "sam(100)"
   ]
  },
  {
   "cell_type": "code",
   "execution_count": null,
   "metadata": {},
   "outputs": [],
   "source": [
    "# [ 기초 ]\n",
    "\n",
    "# 리스트 = [표현식 for 요소 in 이터러블객체 if 조건문]\n",
    "\n",
    "print([i+2 for i in range(10)])\n",
    "for i in range(10):\n",
    "    i=i+2\n",
    "print([i for i in \"문자열\"])\n",
    "print([i for i in (\"튜\", \"플\")])\n",
    "print([i for i in {\"딕\": 1, \"셔\": 2, \"너\": 3, \"리\": 4}])\n",
    "print([i for i in [\"리\", \"스\", \"트\"]])\n",
    "print([len(c) for c in [\"사과\", \"바나나\", \"귤\", \"포도\"]])\n",
    "print([i for i in range(10) if i % 2 == 0])\n",
    "\n",
    "# 컴프리헨션 내부 if else문\n",
    "print([i+2 for i in range(100) if i % 2 == 0 if i % 5 == 0])\n",
    "print([i for i in range(100) if (i % 2 == 0 and i % 5 == 0)])\n",
    "print([i for i in range(10) if i % 2 == 0 if i % 3 != 0])\n",
    "\n",
    "\n",
    "\n",
    "# [ 고급 ]\n",
    "\n",
    "# 1. 표현식 변형\n",
    "print([\"짝\" if i % 2 == 0 else \"홀\" for i in range(10)])\n",
    "\n",
    "# 2. 리스트 컴프리헨션 중첩\n",
    "matrix = [1, 2, 3, 4], [5, 6, 7, 8]\n",
    "\n",
    "def zipper(matrix):\n",
    "    return [[row[index] for row in matrix] for index in range(len(matrix[0]))]\n",
    "change = zipper(matrix)\n",
    "print(change)\n",
    "\n",
    "# 3. 369게임\n",
    "def jjack(number):\n",
    "    return str(number).count(\"3\")+str(number).count(\"6\")+str(number).count(\"9\")\n",
    "print([\"짝\"*jjack(i) if jjack(i) != 0 else i for i in range(334)])\n",
    "for i in a:\n",
    "    (-,)"
   ]
  },
  {
   "cell_type": "code",
   "execution_count": null,
   "metadata": {},
   "outputs": [],
   "source": [
    "print([i+2 for i in range(10)])\n",
    "list_1 = []\n",
    "for i in range(10):\n",
    "    list_1.append(i+2)\n",
    "print(list_1)"
   ]
  },
  {
   "cell_type": "code",
   "execution_count": null,
   "metadata": {},
   "outputs": [],
   "source": [
    "for i in range(1, 101):\n",
    "    one = i % 10\n",
    "    ten = int(i / 10)\n",
    "    if ((ten in (3, 6, 9)) & (one in (3, 6, 9))):\n",
    "        print('짝짝') \n",
    "    elif ((ten in (3, 6, 9)) | (one in (3, 6, 9))):\n",
    "        print('짝')\n",
    "    else:\n",
    "        print(i)"
   ]
  },
  {
   "cell_type": "code",
   "execution_count": null,
   "metadata": {},
   "outputs": [],
   "source": [
    "game = map(lambda i : \"짝\" * (str(i).count(\"3\") + str(i).count(\"6\") + str(i).count(\"9\")) if(str(i).count(\"3\") + str(i).count(\"6\") + str(i).count(\"9\"))>0 else i,range(101))\n",
    "print(list(game))"
   ]
  },
  {
   "cell_type": "code",
   "execution_count": null,
   "metadata": {},
   "outputs": [],
   "source": [
    "print([ \"짝\" * (str(i).count(\"3\") + str(i).count(\"6\") + str(i).count(\"9\")) if (str(i).count(\"3\") + str(i).count(\"6\") + str(i).count(\"9\")) > 0 else i  for i in range(101)])"
   ]
  },
  {
   "cell_type": "code",
   "execution_count": null,
   "metadata": {},
   "outputs": [],
   "source": [
    "class Cal:\n",
    "    \n",
    "    def __init__(self,num):\n",
    "        self.num = range(num)\n",
    "        print('총합계 :', reduce(lambda x,y : x+y , self.num))\n",
    "                \n",
    "    def __del__(self):\n",
    "        print(\"삭제되었습니다\")\n",
    "    \n",
    "    def sam_list(self,num):\n",
    "        self.num = range(1,num)\n",
    "        result = [ \"짝\" * (str(i).count(\"3\") + str(i).count(\"6\") + str(i).count(\"9\")) if (str(i).count(\"3\") + str(i).count(\"6\") + str(i).count(\"9\")) > 0 else i  for i in self.num]\n",
    "        print(result)\n",
    "        \n",
    "    def sum_odd(self,num):\n",
    "        self.num = range(num)\n",
    "        num_odd = [self.num for self.num in self.num if self.num % 2 != 0 ]\n",
    "        print('홀수합계 :', reduce(lambda x,y : x+y , num_odd)) \n",
    "        \n",
    "    def sum_even(self,num):\n",
    "        self.num = range(num)\n",
    "        num_odd = [self.num for self.num in self.num if self.num % 2 == 0 ]\n",
    "        print('짝수합계 :', reduce(lambda x,y : x+y , num_odd)) \n",
    "    \n",
    "def call(num):\n",
    "    a = Cal(num)\n",
    "    a.sam_list(num)\n",
    "    a.sum_odd(num)\n",
    "    a.sum_even(num)\n",
    "    \n",
    "    \n",
    "call(100)"
   ]
  },
  {
   "cell_type": "code",
   "execution_count": null,
   "metadata": {},
   "outputs": [],
   "source": [
    "<lambda>\n",
    " # 형식 : 함수명 = lambda 인수 : 구문\n",
    "def a(x,y):\n",
    "    return x+y\n",
    " 입력 : a = lambda x,y: x + y\n",
    "          print(a(10,20))\n",
    " 출력 : 30\n",
    "\n",
    " # 사용하는 이유\n",
    "1. 쓰고 버리는 일시적인 함수이다. (익명함수 : 메모리를 아끼고 향상시킨다.) \n",
    "2. 간단한 기능을 일반적인 함수와 같이 정의해두고 쓰는 것이 아니고 필요한 곳에서 즉시 사용하고 버릴수 있다. \n",
    "\n",
    " # map(함수 , 리스트) : 리스트로부터 원소를 하나씩 꺼내서 함수를 적용시킨 다음 리스트화 한다.\n",
    "\t- 파이썬 3.0 에서는 list(map(함수,리스트))로 사용 한다.\n",
    "\n",
    " 입력 : list(map(lambda x: x ** 2, range(5)))\n",
    "    for i in range(5)\n",
    "\n",
    " 출력 : [0, 1, 4, 9, 16]\n",
    "\n",
    " # reduce(함수, 순서형 자료)\n",
    "\t- 순서형 자료형 이란 ? 문자열 과 리스트 튜플을 말한다.\n",
    " \t- 순서형 자료의 원소를 누적하여 함수에 적용한다.\n",
    "\n",
    "    a=[0, 1, 2, 3, 4]\n",
    " 입력 : reduce(lambda x, y: x + y, [0, 1, 2, 3, 4])\n",
    "\n",
    " 출력 : 10\n",
    "\n",
    " # filter(함수, 리스트) : 리스트에 들어있는 원소들을 함수에 적용 시켜서 참인 값들로 리스트화 한다.\n",
    "\n",
    " 입력 : list(filter(lambda x: x < 5, range(10)))\n",
    "\n",
    " 출력 : [0, 1, 2, 3, 4]\n",
    "\n",
    " # lambda 표현식안에서는 변수를 만들수 없다. (단 전역변수는 사용할 수 있다.)"
   ]
  },
  {
   "cell_type": "code",
   "execution_count": 7,
   "metadata": {},
   "outputs": [
    {
     "name": "stdout",
     "output_type": "stream",
     "text": [
      "[1, 2, '짝', 4, 5, '짝', 7, 8, '짝', 10, 11, 12, '짝', 14, 15, '짝', 17, 18, '짝', 20, 21, 22, '짝', 24, 25, '짝', 27, 28, '짝', '짝', '짝', '짝', '짝짝']\n"
     ]
    }
   ],
   "source": [
    "num= { \"3\", \"6\" ,\"9\"  }\n",
    "\n",
    "def game(number):\n",
    "    \n",
    "    return [\"짝\"* (  str(i).count(\"3\")+ str(i).count(\"6\") + str(i).count(\"9\") ) \n",
    "    if  set( str(i) ) & num  else i for i in range(1,number+1) ]\n",
    "    \n",
    "print (  game(33) )"
   ]
  },
  {
   "cell_type": "code",
   "execution_count": 6,
   "metadata": {},
   "outputs": [
    {
     "data": {
      "text/plain": [
       "[0, 1, 4, 9, 16]"
      ]
     },
     "execution_count": 6,
     "metadata": {},
     "output_type": "execute_result"
    }
   ],
   "source": [
    "list(map(lambda x: x ** 2, range(5)))"
   ]
  },
  {
   "cell_type": "code",
   "execution_count": null,
   "metadata": {},
   "outputs": [],
   "source": [
    "  for i in range(1,101):\n",
    "        a=list(str(i))\n",
    "        a.append(i)\n",
    "        count=a.count('3')+a.count('6')+a.count('9')\n",
    "        if count==1:\n",
    "            print(\"짝\")\n",
    "        elif count==2:\n",
    "            print(\"짝짝\")\n",
    "        else:\n",
    "            print(i)"
   ]
  },
  {
   "cell_type": "code",
   "execution_count": 8,
   "metadata": {},
   "outputs": [
    {
     "name": "stdout",
     "output_type": "stream",
     "text": [
      "[1, 2, '짝', 4, 5, '짝', 7, 8, '짝', 10, 11, '짝', '짝', 14, '짝', '짝', 17, '짝', '짝', 20, '짝', 22, '짝', '짝', 25, '짝', '짝', 28, '짝', '짝', '짝', '짝', '짝짝', '짝', '짝', '짝짝', '짝', '짝', '짝짝', 40, 41, '짝', '짝', 44, '짝', '짝', 47, '짝', '짝', 50, '짝', 52, '짝', '짝', 55, '짝', '짝', 58, '짝', '짝', '짝', '짝', '짝짝', '짝', '짝', '짝짝', '짝', '짝', '짝짝', 70, 71, '짝', '짝', 74, '짝', '짝', 77, '짝', '짝', 80, '짝', 82, '짝', '짝', 85, '짝', '짝', 88, '짝', '짝', '짝', '짝', '짝짝', '짝', '짝', '짝짝', '짝', '짝', '짝짝']\n"
     ]
    }
   ],
   "source": [
    "def SamYukGu(x,y):\n",
    "    b=list(map(lambda a: str(a).count('3')+str(a).count('6')+str(a).count('9'),  range(x,y)))\n",
    "    c=list(map(lambda c: '짝' if ((b[c-1]==1) or (c%3==0 and b[c-1]==0))   else \"짝짝\" if b[c-1]==2   else c , range(x,y)))\n",
    "    print (c)\n",
    "\n",
    "SamYukGu(1,100) "
   ]
  },
  {
   "cell_type": "code",
   "execution_count": null,
   "metadata": {},
   "outputs": [],
   "source": [
    "def SamYukGu(x,y):\n",
    "    b=list(map(lambda a: str(a).count('3')+str(a).count('6')+str(a).count('9'),  range(1,y)))\n",
    "\n",
    "    for i in range(x,y):\n",
    "\n",
    "        if (b[i-1]==1) or (i%3==0 and b[i-1]==0):\n",
    "            print(\"짝\")\n",
    "        elif b[i-1]==2:\n",
    "            print(\"짝짝\")\n",
    "        else:\n",
    "            print(i)\n",
    "\n",
    "SamYukGu(1,101)"
   ]
  },
  {
   "cell_type": "code",
   "execution_count": null,
   "metadata": {},
   "outputs": [],
   "source": [
    "from functools import reduce\n",
    "class Game:\n",
    "    num_all = 0\n",
    "    num_odd = 0\n",
    "    num_even = 0\n",
    "    def __init__(self,num):\n",
    "        Game.num_all = reduce(lambda x,y : x + y,range(1,num+1))\n",
    "        print(\"총합 : %d\" %Game.num_all)\n",
    "    def v_369(num) :\n",
    "        print([ \"짝\" * (str(i).count(\"3\") + str(i).count(\"6\") + str(i).count(\"9\")) if (str(i).count(\"3\") + str(i).count(\"6\") + str(i).count(\"9\")) > 0 else i  for i in range(1,num+1)])\n",
    "    def odd_even(num) :\n",
    "        Game.num_odd = reduce(lambda x,y : x + y , [i if i % 2 == 1 else 0 for i in range(1,num+1)])\n",
    "        Game.num_even = reduce(lambda x,y : x + y , [i if i % 2 == 0 else 0 for i in range(1,num+1)])\n",
    "        print(\"홀수의 합 : %d\" %Game.num_odd)\n",
    "        print(\"짝수의 합 : %d\" %Game.num_even)\n",
    "    def __del__(self):\n",
    "        print(\"총합 %d 를 제거하였습니다.\" %Game.num_all)\n",
    "        \n",
    "def game(num):\n",
    "    Game(num)\n",
    "    Game.v_369(num)\n",
    "    Game.odd_even(num)\n",
    "\n",
    "game(100)\n",
    "    "
   ]
  },
  {
   "cell_type": "code",
   "execution_count": null,
   "metadata": {},
   "outputs": [],
   "source": [
    "b = lambda x: x < 10, [i * i for i in [0,1,2,3,4,5]]\n",
    "print(b)\n",
    "print(type(b))"
   ]
  },
  {
   "cell_type": "code",
   "execution_count": null,
   "metadata": {},
   "outputs": [],
   "source": [
    "count=lambda arr : arr.count('3')+arr.count('6')+arr.count('9')\n",
    "print(arr)\n",
    "print(count(list(str(x)))*'짝' if count(list(str(x)))>0 else x for x in range(1, 101))"
   ]
  },
  {
   "cell_type": "code",
   "execution_count": null,
   "metadata": {},
   "outputs": [],
   "source": [
    "cnt=lambda arr : arr.count('3')+arr.count('6')+arr.count('9')\n",
    "print([cnt(list(str(x)))*'짝' if cnt(list(str(x)))>0 else x for x in range(1, 101)])"
   ]
  },
  {
   "cell_type": "code",
   "execution_count": null,
   "metadata": {},
   "outputs": [],
   "source": [
    "def change(num):\n",
    "    a=\"\"\n",
    "    while(num>0):\n",
    "        if( (num%10)%3==0 and (num%10)!=0  ):\n",
    "            a=a+\"짝\"\n",
    "        num= int(num/10)\n",
    "    return a    \n",
    "\n",
    "for i in range(50):\n",
    "    print('%2d = %s' %   (i+1,change(i+1))   )"
   ]
  },
  {
   "cell_type": "code",
   "execution_count": null,
   "metadata": {},
   "outputs": [],
   "source": [
    "for i in range(1,101):\n",
    "    if i%3==0:\n",
    "        if i>10:\n",
    "            if i%10==3 or i%10==6 or i%10==9:\n",
    "                print(\"짝짝\")\n",
    "\n",
    "            else:\n",
    "                print(\"짝\")\n",
    "        else:\n",
    "            print(\"짝\")\n",
    "    elif i%10==3 or i%10==6 or i%10==9:\n",
    "         print(\"짝\")\n",
    "    elif i>=30 and i<40:\n",
    "        print(\"짝\") \n",
    "    elif i>=60 and i<70:\n",
    "        print(\"짝\") \n",
    "    elif i>=90 and i<100:\n",
    "        print(\"짝\")   \n",
    "    else:\n",
    "        print(i)"
   ]
  },
  {
   "cell_type": "code",
   "execution_count": null,
   "metadata": {},
   "outputs": [],
   "source": [
    "    for i in range(1,101):\n",
    "\n",
    "        a=list(str(i))\n",
    "        a.append(i)\n",
    "        count=a.count('3')+a.count('6')+a.count('9')\n",
    "\n",
    "\n",
    "        if (count==1) or (i%3==0 and count==0) :\n",
    "            print(\"짝\")\n",
    "        elif count==2:\n",
    "            print(\"짝짝\")\n",
    "        else:\n",
    "            print(i)"
   ]
  },
  {
   "cell_type": "code",
   "execution_count": null,
   "metadata": {},
   "outputs": [],
   "source": [
    "a = b = c = 0\n",
    "\n",
    "for i in range(1, 101):\n",
    "    a = i%10 #일의자리\n",
    "    b = i/10 #십의자리\n",
    "    c = i%30 #30단위\n",
    "    \n",
    "    \n",
    "\n",
    "    if (i>29) and ((c==3) or (c==6) or (c==9)) :    #30 이전에 짝짝나오는 것 방지\n",
    "        print('짝짝')\n",
    "        #33 36 39 의 경우엔 짝짝\n",
    "        \n",
    "    elif (a==3) or (a==6) or (a==9) :    #1의자리가 3 6 9 일때 짝\n",
    "        print('짝')    \n",
    "            \n",
    "    elif (b%3==0) :\n",
    "        print('짝')\n",
    "        #  0으로 나눈뒤 나머지(일의자리)가 3 6 9 일때 짝 출력\n",
    "    \n",
    "    elif (i>29) and (c>=1) and (c<=9) : \n",
    "        print('짝')\n",
    "        #i는 처음 10의 자리때 나머지때문에 '짝'나오는거 방지\n",
    "        #30으로 나눈뒤 1의자리가 1~9(30의 경우 30~39)에서 짝 출력\n",
    "        \n",
    "    else :\n",
    "        print(i)"
   ]
  },
  {
   "cell_type": "code",
   "execution_count": null,
   "metadata": {},
   "outputs": [],
   "source": [
    "class SamYukGu:\n",
    "    \n",
    "    def __init__(self,num):\n",
    "        self.num = range(1,num)\n",
    "        result = [ \"짝\" * (str(i).count(\"3\") + str(i).count(\"6\") + str(i).count(\"9\")) if (str(i).count(\"3\") + str(i).count(\"6\") + str(i).count(\"9\")) > 0 else i  for i in self.num]\n",
    "        print(result)\n",
    "   \n",
    "    \n",
    "    \n",
    "    \n",
    "    \n",
    "def call(num):\n",
    "    a = SamYukGu(num)\n",
    "    \n",
    "    \n",
    "call(100)"
   ]
  },
  {
   "cell_type": "code",
   "execution_count": null,
   "metadata": {
    "scrolled": true
   },
   "outputs": [],
   "source": [
    "b =[ i*i for i in filter(lambda x: x ** 2, range(5))]\n",
    "print(b)"
   ]
  },
  {
   "cell_type": "code",
   "execution_count": null,
   "metadata": {},
   "outputs": [],
   "source": [
    "a=[1,2,3,4]\n",
    "a.append('t')\n",
    "a.insert(2,\"x\")\n",
    "a.extend({\"t\",3,4})\n",
    "print(a)\n",
    "a.count(\"셋\")\n",
    "print(a)"
   ]
  },
  {
   "cell_type": "code",
   "execution_count": null,
   "metadata": {},
   "outputs": [],
   "source": [
    "#lambda 함수\n",
    "def sum (a,b):\n",
    "    return a+b\n",
    "print(sum(1,2))\n",
    "\n",
    "e =lambda c,d : c*d\n",
    "print(e(3,4))"
   ]
  },
  {
   "cell_type": "code",
   "execution_count": null,
   "metadata": {},
   "outputs": [],
   "source": [
    "#재귀적함수 호출\n",
    "def factorial(a):\n",
    "    if a == 1:\n",
    "        return 1 \n",
    "    else : \n",
    "        return a * factorial(a-1)\n",
    "\n",
    "print(factorial(10))"
   ]
  },
  {
   "cell_type": "code",
   "execution_count": null,
   "metadata": {},
   "outputs": [],
   "source": [
    "def factorial(a):\n",
    "    if a == 1:\n",
    "        return 1\n",
    "    else : \n",
    "        return a * factorial(a-1)\n",
    "\n",
    "print(factorial(10))#pass, continue, break\n",
    "for i in range(1, 5):\n",
    "    if i == 3:\n",
    "        pass\n",
    "    print(i)"
   ]
  },
  {
   "cell_type": "code",
   "execution_count": null,
   "metadata": {},
   "outputs": [],
   "source": [
    "for i in range(1, 5):\n",
    "    if i == 3:\n",
    "        continue\n",
    "    print(i)"
   ]
  },
  {
   "cell_type": "code",
   "execution_count": null,
   "metadata": {},
   "outputs": [],
   "source": [
    "for i in range(1, 5):\n",
    "    if i == 3:\n",
    "        break\n",
    "    print(i)"
   ]
  },
  {
   "cell_type": "code",
   "execution_count": null,
   "metadata": {},
   "outputs": [],
   "source": [
    "#help함수\n",
    "help(print)"
   ]
  },
  {
   "cell_type": "code",
   "execution_count": null,
   "metadata": {},
   "outputs": [],
   "source": [
    "def factorial(a):\n",
    "    if a == 1:\n",
    "        return 1\n",
    "    else : \n",
    "        return a * factorial(a-1)\n",
    "help(factorial) #내가 만든함수도 볼수 있음"
   ]
  },
  {
   "cell_type": "code",
   "execution_count": null,
   "metadata": {},
   "outputs": [],
   "source": [
    "factorial.__doc__ = \"팩토리얼함수를 만들었습니다.\"\n",
    "#내장함수 __doc__는 내가만든함수에 대한 설명을 할수 있습니다\n",
    "help(factorial)"
   ]
  },
  {
   "cell_type": "code",
   "execution_count": null,
   "metadata": {},
   "outputs": [],
   "source": [
    "#이터레이터 : 객체의 내용(리터럴)을 순서대로 가져오는것\n",
    "a = \"string\"\n",
    "b = iter(a)\n",
    "print(b)\n",
    "print(next(b))\n",
    "print(next(b))\n",
    "print(next(b))\n",
    "print(next(b))\n",
    "print(next(b))\n",
    "print(next(b))\n",
    "#print(next(b)) # 가져오는 값의 범위를 넘으면 에러남"
   ]
  },
  {
   "cell_type": "code",
   "execution_count": null,
   "metadata": {},
   "outputs": [],
   "source": [
    "#제너레이터는 이터레이터를 만드는 도구\n",
    "def multi(a):\n",
    "    result = []\n",
    "    for i in a:\n",
    "        result.append(i * i)\n",
    "    return result\n",
    "a =[1, 2, 3, 4, 5]\n",
    "print(multi(a))"
   ]
  },
  {
   "cell_type": "code",
   "execution_count": null,
   "metadata": {},
   "outputs": [],
   "source": [
    "def multi1(a):\n",
    "    for i in a:\n",
    "        yield i * i #yeild는 연산하고, 그 값을 메모리에 저장하고, 값을 전달하지않고 next()를 실행시킨다.\n",
    "                    #사용하는 이유 메모리를 효율적으로 사용하기위해                    \n",
    "a =[1, 2, 3, 4, 5]\n",
    "print(multi1(a)) # 제너레이터라는 object가 리턴됨\n",
    "\n",
    "b = multi1(a)\n",
    "print(next(b)) #계속 다음번 값으로 변환됨 \n",
    "print(next(b))\n",
    "print(next(b))\n",
    "print(next(b))\n",
    "print(next(b))\n",
    "#print(next(b)) # 값의 범위를벗어나서 더이상 전달할 값이 없다고 에러남"
   ]
  },
  {
   "cell_type": "code",
   "execution_count": null,
   "metadata": {},
   "outputs": [],
   "source": [
    "def multi(a):\n",
    "    result = []\n",
    "    for i in a:\n",
    "        result.append(i * i)\n",
    "    return result\n",
    "a = [1, 2, 3, 4, 5]\n",
    "b = multi(a)\n",
    "for i in b:\n",
    "    print(i)\n",
    "    "
   ]
  },
  {
   "cell_type": "code",
   "execution_count": null,
   "metadata": {},
   "outputs": [],
   "source": [
    "#list 컴프리핸선\n",
    "b = [i*i for i in [1, 2, 3, 4, 5]]\n",
    "\n",
    "print(b) #리스트 타입에 변환해서 집어넣음\n",
    "\n",
    "for i in b:\n",
    "    print(i)"
   ]
  },
  {
   "cell_type": "code",
   "execution_count": null,
   "metadata": {},
   "outputs": [],
   "source": [
    "b = (i*i for i in [1, 2, 3, 4, 5]) # [] 를 ()로 변환했는데 제너레이터로 변환됨\n",
    "\n",
    "print(b) \n",
    "\n",
    "for i in b:\n",
    "    print(i)"
   ]
  },
  {
   "cell_type": "code",
   "execution_count": null,
   "metadata": {},
   "outputs": [],
   "source": [
    "b = (i*i for i in [1, 2, 3, 4, 5]) # [] 를 ()로 변환했는데 제너레이터로 변환됨\n",
    "\n",
    "print(b) \n",
    "\n",
    "print(list(b)) # 리스트에 제너레이터 저장"
   ]
  },
  {
   "cell_type": "code",
   "execution_count": null,
   "metadata": {},
   "outputs": [],
   "source": [
    "def SamYukGu(x,y):\n",
    "    b=list(map(lambda a: str(a).count('3')+str(a).count('6')+str(a).count('9'), range(x,y),   \"짝\" if (b[i-1]==1) or (i%3==0 and b[i-1]==0)   else \"짝짝\" if b[i-1]==2   else i , range(x,y))\n",
    "\n",
    "SamYukGu(1,100) "
   ]
  },
  {
   "cell_type": "code",
   "execution_count": null,
   "metadata": {},
   "outputs": [],
   "source": [
    "_str=\"짝\"\n",
    "num= { \"3\", \"6\" ,\"9\"  }\n",
    "list_369 = []\n",
    "\n",
    "for i in range(1,66):\n",
    "    if set( str(i) ) & num:\n",
    "        list_369.append(_str* (  str(i).count(\"3\") + str(i).count(\"6\")+ str(i).count(\"9\") ))\n",
    "    else:\n",
    "        list_369.append(i)\n",
    "        \n",
    "print( list_369 )"
   ]
  },
  {
   "cell_type": "code",
   "execution_count": null,
   "metadata": {},
   "outputs": [],
   "source": [
    "_str=\"짝\"\n",
    "num= { \"3\", \"6\" ,\"9\"  }\n",
    "\n",
    "[ _str* (  str(i).count(\"3\")+ str(i).count(\"6\")+ str(i).count(\"9\")) if  set( str(i) ) & num else i for i in range(1,66) ]"
   ]
  },
  {
   "cell_type": "code",
   "execution_count": null,
   "metadata": {},
   "outputs": [],
   "source": [
    "from __future__ import division\n",
    "import os\n",
    "import psutil\n",
    "import random\n",
    "import time\n",
    "\n",
    "names = ['최용호', '지길정', '진영욱', '김세훈', '오세훈', '김민우']\n",
    "majors = ['컴퓨터 공학', '국문학', '영문학', '수학', '정치']\n",
    "\n",
    "process = psutil.Process(os.getpid())\n",
    "mem_before = process.memory_info().rss / 1024 / 1024\n",
    "\n",
    "\n",
    "def people_list(num_people):\n",
    "    result = []\n",
    "    for i in range(num_people):\n",
    "        person = {\n",
    "            'id': i,\n",
    "            'name': random.choice(names),\n",
    "            'major': random.choice(majors)\n",
    "        }\n",
    "        result.append(person)\n",
    "    return result\n",
    "\n",
    "\n",
    "def people_generator(num_people):\n",
    "    for i in range(num_people):\n",
    "        person = {\n",
    "            'id': i,\n",
    "            'name': random.choice(names),\n",
    "            'major': random.choice(majors)\n",
    "        }\n",
    "        yield person\n",
    "\n",
    "t1 = time.clock()\n",
    "people = people_list(1000000)  #1 people_list를 호출\n",
    "t2 = time.clock()\n",
    "mem_after = process.memory_info().rss / 1024 / 1024\n",
    "total_time = t2 - t1\n",
    "\n",
    "print ('시작 전 메모리 사용량: {} MB'.format(mem_before))\n",
    "print ('종료 후 메모리 사용량: {} MB'.format(mem_after))\n",
    "print ('총 소요된 시간: {:.6f} 초'.format(total_time))"
   ]
  },
  {
   "cell_type": "code",
   "execution_count": null,
   "metadata": {},
   "outputs": [],
   "source": [
    "from __future__ import division\n",
    "import os\n",
    "import psutil\n",
    "import random\n",
    "import time\n",
    "\n",
    "names = ['최용호', '지길정', '진영욱', '김세훈', '오세훈', '김민우']\n",
    "majors = ['컴퓨터 공학', '국문학', '영문학', '수학', '정치']\n",
    "\n",
    "process = psutil.Process(os.getpid())\n",
    "mem_before = process.memory_info().rss / 1024 / 1024\n",
    "\n",
    "\n",
    "def people_list(num_people):\n",
    "    result = []\n",
    "    for i in range(num_people):\n",
    "        person = {\n",
    "            'id': i,\n",
    "            'name': random.choice(names),\n",
    "            'major': random.choice(majors)\n",
    "        }\n",
    "        result.append(person)\n",
    "    return result\n",
    "\n",
    "\n",
    "def people_generator(num_people):\n",
    "    for i in range(num_people):\n",
    "        person = {\n",
    "            'id': i,\n",
    "            'name': random.choice(names),\n",
    "            'major': random.choice(majors)\n",
    "        }\n",
    "        yield person\n",
    "\n",
    "t1 = time.clock()\n",
    "#people = people_generator(4)  #1 people_generator를 호출\n",
    "people = people_list(4) \n",
    "# print(next(people))\n",
    "# print(next(people))\n",
    "# print(next(people))\n",
    "people1=iter(people)\n",
    "for i in people1:\n",
    "    print(next(people1))\n",
    "# {print(next(people)) for i in people}\n",
    "t2 = time.clock()\n",
    "mem_after = process.memory_info().rss / 1024 / 1024\n",
    "total_time = t2 - t1\n",
    "\n",
    "print ('시작 전 메모리 사용량: {} MB'.format(mem_before))\n",
    "print ('종료 후 메모리 사용량: {} MB'.format(mem_after))\n",
    "print ('총 소요된 시간: {:.6f} 초'.format(total_time))"
   ]
  },
  {
   "cell_type": "code",
   "execution_count": null,
   "metadata": {},
   "outputs": [],
   "source": [
    "def fibo(a):\n",
    "    a=b=1\n",
    "    while True:\n",
    "        yield a\n",
    "        a, b = b, a + b # a를 구하고 a = b, b = a+b를 해라 라는 구문 \n",
    "print(fibo(5)) # 제너레이터를 만들었음 다음은 값을 출력하려면"
   ]
  },
  {
   "cell_type": "code",
   "execution_count": 1,
   "metadata": {},
   "outputs": [
    {
     "name": "stdout",
     "output_type": "stream",
     "text": [
      "<generator object fibo1 at 0x000000DE471D6CF0>\n"
     ]
    }
   ],
   "source": [
    "def fibo1(n):\n",
    "    a = b = 1\n",
    "    for i in range(n):\n",
    "        yield a\n",
    "        x = a\n",
    "        a = b\n",
    "        b = x + b\n",
    "print(fibo1(5))"
   ]
  },
  {
   "cell_type": "code",
   "execution_count": 2,
   "metadata": {},
   "outputs": [
    {
     "name": "stdout",
     "output_type": "stream",
     "text": [
      "<generator object fibo2 at 0x000000DE471D6CF0>\n",
      "[1, 1, 2, 3, 5, 8, 13, 21, 34, 55]\n"
     ]
    }
   ],
   "source": [
    "def fibo2(x):\n",
    "    a = b= 1\n",
    "    for i in range(x):\n",
    "        yield a\n",
    "        a,b = b, a+b\n",
    "print(fibo2(5))\n",
    "file = [x for x in fibo2(10)]\n",
    "print(file)"
   ]
  },
  {
   "cell_type": "code",
   "execution_count": null,
   "metadata": {},
   "outputs": [],
   "source": [
    "def fibo1(x):\n",
    "    a=b=1\n",
    "    while True:\n",
    "        yield a\n",
    "        a, b = b, a + b # a를 구하고 a = b, b = a+b를 해라 라는 구문 \n",
    "for i in fibo1(5):\n",
    "    print(i)\n",
    "    if i >10000:\n",
    "        break"
   ]
  },
  {
   "cell_type": "code",
   "execution_count": null,
   "metadata": {},
   "outputs": [],
   "source": [
    "def fibo3(x):\n",
    "    a = 0\n",
    "    b = 1\n",
    "    for i in range(x):\n",
    "        a, b = b, a + b # a를 구하고 a = b, b = a+b를 해라 라는 구문 \n",
    "    return a\n",
    "print(fibo3(10))"
   ]
  },
  {
   "cell_type": "markdown",
   "metadata": {},
   "source": [
    "# class\n",
    "class <클래스이름> :\n",
    "   def <함수이름> :\n",
    "       <구문>"
   ]
  },
  {
   "cell_type": "code",
   "execution_count": 18,
   "metadata": {},
   "outputs": [
    {
     "data": {
      "text/plain": [
       "['__class__',\n",
       " '__delattr__',\n",
       " '__dict__',\n",
       " '__dir__',\n",
       " '__doc__',\n",
       " '__eq__',\n",
       " '__format__',\n",
       " '__ge__',\n",
       " '__getattribute__',\n",
       " '__gt__',\n",
       " '__hash__',\n",
       " '__init__',\n",
       " '__init_subclass__',\n",
       " '__le__',\n",
       " '__lt__',\n",
       " '__module__',\n",
       " '__ne__',\n",
       " '__new__',\n",
       " '__reduce__',\n",
       " '__reduce_ex__',\n",
       " '__repr__',\n",
       " '__setattr__',\n",
       " '__sizeof__',\n",
       " '__str__',\n",
       " '__subclasshook__',\n",
       " '__weakref__']"
      ]
     },
     "execution_count": 18,
     "metadata": {},
     "output_type": "execute_result"
    }
   ],
   "source": [
    "#클래스 선언\n",
    "class MyClass:\n",
    "    '''이 클래스는 보'''\n",
    "    pass\n",
    "dir(MyClass)"
   ]
  },
  {
   "cell_type": "code",
   "execution_count": 22,
   "metadata": {},
   "outputs": [
    {
     "name": "stdout",
     "output_type": "stream",
     "text": [
      "하나\n",
      "5\n",
      "하나\n"
     ]
    }
   ],
   "source": [
    "class MyClass:\n",
    "    '''클래스 주석'''\n",
    "    name = \"하나\" #멤버변수\n",
    "    def sum(self, a, b): #멤버 메소드\n",
    "        print(self.name)\n",
    "        return a + b\n",
    "\n",
    "c1 = MyClass() # 인스턴스생성\n",
    "c2 = MyClass() \n",
    "d1 = c1.sum(2,3) # 멤버 함수 값 출력 \n",
    "d2 = c1.name\n",
    "print(d1)\n",
    "print(d2)"
   ]
  },
  {
   "cell_type": "code",
   "execution_count": 4,
   "metadata": {},
   "outputs": [
    {
     "name": "stdout",
     "output_type": "stream",
     "text": [
      "하나\n",
      "하나\n"
     ]
    }
   ],
   "source": [
    "class MyClass:\n",
    "    '''클래스 주석'''\n",
    "    name = \"하나\" #멤버변수\n",
    "    def sum(self, a, b): #멤버 메소드\n",
    "        print(self.name)\n",
    "        return a + b\n",
    "\n",
    "c1 = MyClass() # 인스턴스객체생성\n",
    "c2 = MyClass()\n",
    "print(c1.name)\n",
    "print(c2.name)"
   ]
  },
  {
   "cell_type": "code",
   "execution_count": 5,
   "metadata": {},
   "outputs": [
    {
     "name": "stdout",
     "output_type": "stream",
     "text": [
      "하나\n",
      "둘\n"
     ]
    }
   ],
   "source": [
    "class MyClass:\n",
    "    '''클래스 주석'''\n",
    "    name = \"하나\" #멤버변수\n",
    "    def sum(self, a, b): #멤버 메소드\n",
    "        print(self.name)\n",
    "        return a + b\n",
    "\n",
    "c1 = MyClass() # 인스턴스 객체생성\n",
    "c2 = MyClass()\n",
    "print(c1.name) #클래스 데이터 참조\n",
    "c2.name='둘'\n",
    "print(c2.name) # 인스턴스 객체 접근하여 변경"
   ]
  },
  {
   "cell_type": "code",
   "execution_count": 9,
   "metadata": {},
   "outputs": [
    {
     "ename": "IndentationError",
     "evalue": "unexpected indent (<ipython-input-9-9b1178aef708>, line 4)",
     "output_type": "error",
     "traceback": [
      "\u001b[1;36m  File \u001b[1;32m\"<ipython-input-9-9b1178aef708>\"\u001b[1;36m, line \u001b[1;32m4\u001b[0m\n\u001b[1;33m    pass\u001b[0m\n\u001b[1;37m    ^\u001b[0m\n\u001b[1;31mIndentationError\u001b[0m\u001b[1;31m:\u001b[0m unexpected indent\n"
     ]
    }
   ],
   "source": [
    "#isinstance\n",
    "class Person:\n",
    " 두발로 걸어다닌다\n",
    "    pass\n",
    "class Animal:\n",
    "    pass\n",
    "class Student(Person,Animal):\n",
    "    공부한다\n",
    "    pass\n",
    "p = Person()\n",
    "s = Student()\n",
    "a = Animal()\n",
    "print(isinstance(p, Person)) # p 인스턴스가 Person에게 상속받았는지확인\n",
    "print(isinstance(s, Person))\n",
    "print(isinstance(a, Person))"
   ]
  },
  {
   "cell_type": "code",
   "execution_count": 20,
   "metadata": {
    "scrolled": false
   },
   "outputs": [
    {
     "name": "stdout",
     "output_type": "stream",
     "text": [
      "하나은 사람입니다\n",
      "하나은 사람은 제거 되었습니다\n"
     ]
    },
    {
     "data": {
      "text/plain": [
       "['__class__',\n",
       " '__del__',\n",
       " '__delattr__',\n",
       " '__dict__',\n",
       " '__dir__',\n",
       " '__doc__',\n",
       " '__eq__',\n",
       " '__format__',\n",
       " '__ge__',\n",
       " '__getattribute__',\n",
       " '__gt__',\n",
       " '__hash__',\n",
       " '__init__',\n",
       " '__init_subclass__',\n",
       " '__le__',\n",
       " '__lt__',\n",
       " '__module__',\n",
       " '__ne__',\n",
       " '__new__',\n",
       " '__reduce__',\n",
       " '__reduce_ex__',\n",
       " '__repr__',\n",
       " '__setattr__',\n",
       " '__sizeof__',\n",
       " '__str__',\n",
       " '__subclasshook__',\n",
       " '__weakref__']"
      ]
     },
     "execution_count": 20,
     "metadata": {},
     "output_type": "execute_result"
    }
   ],
   "source": [
    "#생성자,소멸자\n",
    "class Person:\n",
    "    def __init__(self, name): #생성자 메소드\n",
    "        self.name = name\n",
    "        print('{}은 사람입니다'.format(self.name))\n",
    "    def __del__(self):  #소멸자 메소드\n",
    "        print('{}은 사람은 제거 되었습니다'.format(self.name))\n",
    "\n",
    "def family():\n",
    "    a = Person(\"하나\")\n",
    "family()\n",
    "dir(Person)\n"
   ]
  },
  {
   "cell_type": "code",
   "execution_count": 78,
   "metadata": {},
   "outputs": [
    {
     "name": "stdout",
     "output_type": "stream",
     "text": [
      "[1, '짝', 3, '짝', 5, '짝', 7, '짝', 9, '짝']\n",
      "[[1], [2], ['짝'], [4], [5], ['짝'], [7], [8], ['짝'], [10], [11], ['짝'], ['짝'], [14], ['짝'], ['짝'], [17], ['짝'], ['짝'], [20], ['짝'], [22], ['짝'], ['짝'], [25], ['짝'], ['짝'], [28], ['짝'], ['짝'], ['짝'], ['짝'], ['짝짝'], ['짝'], ['짝'], ['짝짝'], ['짝'], ['짝'], ['짝짝'], [40], [41], ['짝'], ['짝'], [44], ['짝'], ['짝'], [47], ['짝'], ['짝'], [50], ['짝'], [52], ['짝'], ['짝'], [55], ['짝'], ['짝'], [58], ['짝'], ['짝'], ['짝'], ['짝'], ['짝짝'], ['짝'], ['짝'], ['짝짝'], ['짝'], ['짝'], ['짝짝'], [70], [71], ['짝'], ['짝'], [74], ['짝'], ['짝'], [77], ['짝'], ['짝'], [80], ['짝'], [82], ['짝'], ['짝'], [85], ['짝'], ['짝'], [88], ['짝'], ['짝'], ['짝'], ['짝'], ['짝짝'], ['짝'], ['짝'], ['짝짝'], ['짝'], ['짝'], ['짝짝'], [100]]\n"
     ]
    },
    {
     "data": {
      "text/plain": [
       "[[1],\n",
       " [2],\n",
       " ['짝'],\n",
       " [4],\n",
       " [5],\n",
       " ['짝'],\n",
       " [7],\n",
       " [8],\n",
       " ['짝'],\n",
       " [10],\n",
       " [11],\n",
       " ['짝'],\n",
       " ['짝'],\n",
       " [14],\n",
       " ['짝'],\n",
       " ['짝'],\n",
       " [17],\n",
       " ['짝'],\n",
       " ['짝'],\n",
       " [20],\n",
       " ['짝'],\n",
       " [22],\n",
       " ['짝'],\n",
       " ['짝'],\n",
       " [25],\n",
       " ['짝'],\n",
       " ['짝'],\n",
       " [28],\n",
       " ['짝'],\n",
       " ['짝'],\n",
       " ['짝'],\n",
       " ['짝'],\n",
       " ['짝짝'],\n",
       " ['짝'],\n",
       " ['짝'],\n",
       " ['짝짝'],\n",
       " ['짝'],\n",
       " ['짝'],\n",
       " ['짝짝'],\n",
       " [40],\n",
       " [41],\n",
       " ['짝'],\n",
       " ['짝'],\n",
       " [44],\n",
       " ['짝'],\n",
       " ['짝'],\n",
       " [47],\n",
       " ['짝'],\n",
       " ['짝'],\n",
       " [50],\n",
       " ['짝'],\n",
       " [52],\n",
       " ['짝'],\n",
       " ['짝'],\n",
       " [55],\n",
       " ['짝'],\n",
       " ['짝'],\n",
       " [58],\n",
       " ['짝'],\n",
       " ['짝'],\n",
       " ['짝'],\n",
       " ['짝'],\n",
       " ['짝짝'],\n",
       " ['짝'],\n",
       " ['짝'],\n",
       " ['짝짝'],\n",
       " ['짝'],\n",
       " ['짝'],\n",
       " ['짝짝'],\n",
       " [70],\n",
       " [71],\n",
       " ['짝'],\n",
       " ['짝'],\n",
       " [74],\n",
       " ['짝'],\n",
       " ['짝'],\n",
       " [77],\n",
       " ['짝'],\n",
       " ['짝'],\n",
       " [80],\n",
       " ['짝'],\n",
       " [82],\n",
       " ['짝'],\n",
       " ['짝'],\n",
       " [85],\n",
       " ['짝'],\n",
       " ['짝'],\n",
       " [88],\n",
       " ['짝'],\n",
       " ['짝'],\n",
       " ['짝'],\n",
       " ['짝'],\n",
       " ['짝짝'],\n",
       " ['짝'],\n",
       " ['짝'],\n",
       " ['짝짝'],\n",
       " ['짝'],\n",
       " ['짝'],\n",
       " ['짝짝'],\n",
       " [100]]"
      ]
     },
     "execution_count": 78,
     "metadata": {},
     "output_type": "execute_result"
    }
   ],
   "source": [
    "class Hamsu:\n",
    "\n",
    "    def __init__(self,name) :#홀짝_멤버함수\n",
    "        self.name = name\n",
    "        for i in name :\n",
    "            result1.append(\"짝\" if i%2 == 0 else i)\n",
    "        return result1\n",
    "\n",
    "class Person:\n",
    "    def __init__(self, name): #생성자 메소드\n",
    "        self.name = name\n",
    "        print('{}은 사람입니다'.format(self.name))\n",
    "    def __del__(self):  #소멸자 메소드\n",
    "        print('{}은 사람은 제거 되었습니다'.format(self.name))\n",
    "\n",
    "def family():\n",
    "    a = Person(\"하나\")\n",
    "family()\n",
    "dir(Person)\n",
    "    \n",
    "    \n",
    "    \n",
    "    def a_1(self,name1) :#홀짝_멤버함수\n",
    "        result1 = []\n",
    "        for i in name1 :\n",
    "            result1.append(\"짝\" if i%2 == 0 else i)\n",
    "        return result1\n",
    "\n",
    "    def a_2(self,name2) :#3,6,9_멤버함수(인스턴스함수)\n",
    "        result2 = []\n",
    "        for i in name2 :\n",
    "            result2.append([\"짝짝\" \n",
    "                           if i in [33,36,39,63,66,69,93,96,99] \n",
    "                           else \"짝\" if i%3 < 1 or i%10 == 3 or i%10 == 6 or i%10 == 9 or \n",
    "                           ((i/10)%3 < 1 and i > 10) else i])\n",
    "        return result2\n",
    "\n",
    "    def a_3() : #홀짝_클래스함수\n",
    "        result3 = []\n",
    "        for i in a :\n",
    "            result3.append(\"짝\" if i%2 == 0 else i)\n",
    "        return result3\n",
    "\n",
    "    def a_4() :#3,6,9_클래스함수\n",
    "        result4 = []\n",
    "        for i in b :\n",
    "            result4.append([\"짝짝\" \n",
    "                           if i in [33,36,39,63,66,69,93,96,99] \n",
    "                           else \"짝\" if i%3 < 1 or i%10 == 3 or i%10 == 6 or i%10 == 9 or \n",
    "                           ((i/10)%3 < 1 and i > 10) else i])\n",
    "        return result4\n",
    "\n",
    "c_H = Hamsu()\n",
    "a = range(1,11)\n",
    "b = range(1,101)\n",
    "print(list(c_H.a_1(range(1,11))))\n",
    "print(list(c_H.a_2(range(1,101))))\n",
    "Hamsu.a_3()\n",
    "Hamsu.a_4()"
   ]
  },
  {
   "cell_type": "code",
   "execution_count": 95,
   "metadata": {},
   "outputs": [
    {
     "ename": "TypeError",
     "evalue": "__init__() should return None, not 'list'",
     "output_type": "error",
     "traceback": [
      "\u001b[1;31m---------------------------------------------------------------------------\u001b[0m",
      "\u001b[1;31mTypeError\u001b[0m                                 Traceback (most recent call last)",
      "\u001b[1;32m<ipython-input-95-53cb5d2cbe42>\u001b[0m in \u001b[0;36m<module>\u001b[1;34m\u001b[0m\n\u001b[0;32m     11\u001b[0m     \u001b[0mprint\u001b[0m\u001b[1;33m(\u001b[0m\u001b[0mresult1\u001b[0m\u001b[1;33m)\u001b[0m\u001b[1;33m\u001b[0m\u001b[1;33m\u001b[0m\u001b[0m\n\u001b[0;32m     12\u001b[0m \u001b[1;33m\u001b[0m\u001b[0m\n\u001b[1;32m---> 13\u001b[1;33m \u001b[0mfamily\u001b[0m\u001b[1;33m(\u001b[0m\u001b[0mrange\u001b[0m\u001b[1;33m(\u001b[0m\u001b[1;36m1\u001b[0m\u001b[1;33m,\u001b[0m\u001b[1;36m11\u001b[0m\u001b[1;33m)\u001b[0m\u001b[1;33m)\u001b[0m\u001b[1;33m\u001b[0m\u001b[1;33m\u001b[0m\u001b[0m\n\u001b[0m",
      "\u001b[1;32m<ipython-input-95-53cb5d2cbe42>\u001b[0m in \u001b[0;36mfamily\u001b[1;34m(name)\u001b[0m\n\u001b[0;32m      8\u001b[0m \u001b[1;33m\u001b[0m\u001b[0m\n\u001b[0;32m      9\u001b[0m \u001b[1;32mdef\u001b[0m \u001b[0mfamily\u001b[0m\u001b[1;33m(\u001b[0m\u001b[0mname\u001b[0m\u001b[1;33m)\u001b[0m\u001b[1;33m:\u001b[0m\u001b[1;33m\u001b[0m\u001b[1;33m\u001b[0m\u001b[0m\n\u001b[1;32m---> 10\u001b[1;33m     \u001b[0ma\u001b[0m \u001b[1;33m=\u001b[0m \u001b[0mHamsu\u001b[0m\u001b[1;33m(\u001b[0m\u001b[0mname\u001b[0m\u001b[1;33m)\u001b[0m\u001b[1;33m\u001b[0m\u001b[1;33m\u001b[0m\u001b[0m\n\u001b[0m\u001b[0;32m     11\u001b[0m     \u001b[0mprint\u001b[0m\u001b[1;33m(\u001b[0m\u001b[0mresult1\u001b[0m\u001b[1;33m)\u001b[0m\u001b[1;33m\u001b[0m\u001b[1;33m\u001b[0m\u001b[0m\n\u001b[0;32m     12\u001b[0m \u001b[1;33m\u001b[0m\u001b[0m\n",
      "\u001b[1;31mTypeError\u001b[0m: __init__() should return None, not 'list'"
     ]
    }
   ],
   "source": [
    "class Hamsu:\n",
    "    def __init__(self,name) :#홀짝_멤버함수\n",
    "        self.name = name\n",
    "        result1 = []\n",
    "        for i in name :\n",
    "            result1.append(\"짝\" if i%2 == 0 else i)\n",
    "        return result1\n",
    "\n",
    "def family(name):\n",
    "    a = Hamsu(name)\n",
    "    print(result1)\n",
    "\n",
    "family(range(1,11))"
   ]
  },
  {
   "cell_type": "code",
   "execution_count": 90,
   "metadata": {},
   "outputs": [
    {
     "name": "stdout",
     "output_type": "stream",
     "text": [
      "하나는 사람입니다\n",
      "둘는 사람입니다\n",
      "셋는 사람입니다\n",
      "3명 사람들이 있습니다\n"
     ]
    }
   ],
   "source": [
    "# 클래스 변수\n",
    "class Person:\n",
    "    num_count = 0\n",
    "    def __init__(self,name):\n",
    "        self.name = name\n",
    "        print('{}는 사람입니다'.format(self.name))\n",
    "        Person.num_count +=1  # 클래스변수사용방법\n",
    "    def counter():\n",
    "        print('{}명 사람들이 있습니다'.format(Person.num_count)) # 클래스변수사용방법\n",
    "\n",
    "def family(name):\n",
    "    a = Person(name)\n",
    "family(\"하나\")\n",
    "family(\"둘\")\n",
    "family(\"셋\")\n",
    "Person.counter() # 클래스메소드사용방법"
   ]
  },
  {
   "cell_type": "code",
   "execution_count": null,
   "metadata": {},
   "outputs": [],
   "source": [
    "b.counter() # 임의적으로 호출하면 안됨"
   ]
  },
  {
   "cell_type": "code",
   "execution_count": null,
   "metadata": {},
   "outputs": [],
   "source": [
    "#정적메서드\n",
    "#static메소드 , class메소드\n",
    "class Person:\n",
    "    num_count = 0\n",
    "    def __init__(self,name):\n",
    "        self.name = name\n",
    "        print('{}는 사람입니다'.format(self.name))\n",
    "        Person.num_count +=1\n",
    "    def static_counter():   #정적 메소드 정의\n",
    "        print('{}명 사람들이 있습니다'.format(Person.num_count))\n",
    "    static_count = staticmethod(static_counter) #static메소드로 등록\n",
    "    def class_counter(cls): # 임의적으로 첫인자를 받음\n",
    "        print('{}인스턴스 생성'.format(cls.num_count))\n",
    "    class_count = classmethod(class_counter) # 클래스메소드로 등록\n",
    "\n",
    "a = Person('하나')\n",
    "b = Person('둘')\n",
    "c = Person('셋')\n",
    "Person.static_count()\n",
    "b.static_count()\n",
    "Person.class_count()\n",
    "b.static_count()"
   ]
  },
  {
   "cell_type": "code",
   "execution_count": null,
   "metadata": {},
   "outputs": [],
   "source": [
    "print(Person.num_count) # 외부에서 클래스 메소드 접근\n",
    "Person.num_count = 5 #외부에서 클래스 메소드 값 변경\n",
    "print(Person.num_count)"
   ]
  },
  {
   "cell_type": "markdown",
   "metadata": {},
   "source": [
    "# 외부에서 클래스변수를 조정하면 문제가 될때는 아래와 같이 적용한다."
   ]
  },
  {
   "cell_type": "code",
   "execution_count": null,
   "metadata": {},
   "outputs": [],
   "source": [
    "class Person:\n",
    "    __num_count = 0\n",
    "    def __init__(self,name):\n",
    "        self.name = name\n",
    "        print('{}는 사람입니다'.format(self.name))\n",
    "        Person.__num_count +=1\n",
    "    def static_counter():   #정적 메소드 정의\n",
    "        print('{}명 사람들이 있습니다'.format(Person.__num_count))\n",
    "    static_count = staticmethod(static_counter) #static메소드로 등록\n",
    "    def class_counter(cls): # 임의적으로 첫인자를 받음\n",
    "        print('{}인스턴스 생성'.format(cls.__num_count))\n",
    "    class_count = classmethod(class_counter) # 클래스메소드로 등록\n",
    "\n",
    "a = Person('하나')\n",
    "b = Person('둘')\n",
    "c = Person('셋')\n",
    "Person.static_count()\n",
    "b.static_count()\n",
    "Person.class_count()\n",
    "b.static_count()"
   ]
  },
  {
   "cell_type": "markdown",
   "metadata": {},
   "source": [
    "# 클래스 변수 __num_count를 외부에서 접근하면 접근하지 못한다. __로 시작하는 경우 외부에서 참조할때 '_[클래스명]__클래스변수'로 변경되어 접근한다"
   ]
  },
  {
   "cell_type": "code",
   "execution_count": null,
   "metadata": {},
   "outputs": [],
   "source": [
    "print(Person.__num_count) # 외부에서 클래스 메소드 접근\n",
    "Person.__num_count = 5 #외부에서 클래스 메소드 값 변경\n",
    "print(Person.__num_count)"
   ]
  },
  {
   "cell_type": "markdown",
   "metadata": {},
   "source": [
    "# '_[클래스명]__클래스변수'로 변경된것 확인"
   ]
  },
  {
   "cell_type": "code",
   "execution_count": null,
   "metadata": {},
   "outputs": [],
   "source": [
    "dir(Person)"
   ]
  },
  {
   "cell_type": "markdown",
   "metadata": {},
   "source": [
    "# 외부에서 변경을 원하지 않기위해 __를 사용할때는 변경하지않는 것을 원칙으로 한다."
   ]
  },
  {
   "cell_type": "code",
   "execution_count": null,
   "metadata": {},
   "outputs": [],
   "source": [
    "_Person__num_count = 5 # 변경되지않음\n",
    "Person.static_count()\n",
    "b.static_count()\n",
    "Person.class_count()\n",
    "b.static_count()\n",
    "Person._Person__num_count = 5 # 변경됨\n",
    "Person.static_count()\n",
    "b.static_count()\n",
    "Person.class_count()\n",
    "b.static_count()"
   ]
  },
  {
   "cell_type": "code",
   "execution_count": null,
   "metadata": {},
   "outputs": [],
   "source": [
    "#상속\n",
    "class Person:\n",
    "    'Super Class'\n",
    "    def __init__(self,name,number):\n",
    "        self.name=name\n",
    "        self.number=number\n",
    "\n",
    "    def info(self):\n",
    "        print(\"info(name: {0}, number: {1})\".format(self.name,self.number))\n",
    "\n",
    "    def persondata(self):\n",
    "        print(\"info(name: {0}, number: {1})\".format(self.name,self.number))\n",
    "    "
   ]
  },
  {
   "cell_type": "code",
   "execution_count": null,
   "metadata": {},
   "outputs": [],
   "source": [
    "class Student(Person):\n",
    "    'Sub Class'\n",
    "    def __init__(self,name,number,subject,studentID):\n",
    "        self.name=name\n",
    "        self.number=number\n",
    "        self.subject=subject\n",
    "        self.studentID=studentID"
   ]
  },
  {
   "cell_type": "code",
   "execution_count": null,
   "metadata": {},
   "outputs": [],
   "source": [
    "p = Person(\"하나\",\"010-345-6789\")"
   ]
  },
  {
   "cell_type": "code",
   "execution_count": null,
   "metadata": {},
   "outputs": [],
   "source": [
    "s = Student(\"둘\",\"010-654-3210\",\"한봄\",\"990999\")"
   ]
  },
  {
   "cell_type": "code",
   "execution_count": null,
   "metadata": {},
   "outputs": [],
   "source": [
    "p.__dict__ #person인스턴스객체"
   ]
  },
  {
   "cell_type": "code",
   "execution_count": null,
   "metadata": {},
   "outputs": [],
   "source": [
    " s.__dict__ #student인스턴스객체"
   ]
  },
  {
   "cell_type": "code",
   "execution_count": null,
   "metadata": {},
   "outputs": [],
   "source": [
    "print(issubclass(Student,Person)) #student가 person의 자식클래스인지 확인\n",
    "print(issubclass(Person,Student)) #person이 student의 자식클래스인지 확인\n",
    "print(issubclass(Person,Person)) #자기자신은 항상 True를 반환\n",
    "print(issubclass(Person,object)) #모든 클래스는 object를 암묵적으로 상속받음"
   ]
  },
  {
   "cell_type": "code",
   "execution_count": null,
   "metadata": {},
   "outputs": [],
   "source": [
    "#부모클래스 생성자 호출\n",
    "class Person:\n",
    "    'Super Class'\n",
    "    def __init__(self,name,number):\n",
    "        self.name=name\n",
    "        self.number=number\n",
    "\n",
    "    def info(self):\n",
    "        print(\"info(name: {0}, number: {1})\".format(self.name,self.number))\n",
    "\n",
    "    def persondata(self):\n",
    "        print(\"info(name: {0}, number: {1})\".format(self.name,self.number))\n",
    "    def printpersondata(self):\n",
    "        print(\"info(name: {0}, number: {1})\".format(self.name,self.number))"
   ]
  },
  {
   "cell_type": "code",
   "execution_count": null,
   "metadata": {},
   "outputs": [],
   "source": [
    "#부모클래스 생성자 호출\n",
    "class Student(Person):\n",
    "    'Sub Class'\n",
    "    def __init__(self,name,number,subject,studentID):\n",
    "        self.name=name\n",
    "        self.number=number\n",
    "        self.subject=subject\n",
    "        self.studentID=studentID\n",
    "    def printstudentdata(self): #새로운 메서드를 추가\n",
    "        print(\"student(subject:{0},student ID:{1})\".format(self.subject,self.studentID))"
   ]
  },
  {
   "cell_type": "code",
   "execution_count": null,
   "metadata": {},
   "outputs": [],
   "source": [
    "s = Student(\"둘\",\"010-654-3210\",\"한봄\",\"990999\")"
   ]
  },
  {
   "cell_type": "code",
   "execution_count": null,
   "metadata": {},
   "outputs": [],
   "source": [
    "s.printpersondata() #person으로부터 상속받은 메서드호출"
   ]
  },
  {
   "cell_type": "code",
   "execution_count": null,
   "metadata": {},
   "outputs": [],
   "source": [
    "s.printstudentdata() #student에 추가된 메서드호출"
   ]
  },
  {
   "cell_type": "markdown",
   "metadata": {},
   "source": [
    "# 메소드 재정의\n",
    "부모클래스를 수정하려는데 자식클래스가 많아서 일부를 수정하려는데 다른 자식클래스에 영향을 주기때문에 하는것"
   ]
  },
  {
   "cell_type": "code",
   "execution_count": null,
   "metadata": {},
   "outputs": [],
   "source": [
    "class Student(person):\n",
    "    'Sub Class'\n",
    "\n",
    "    def __init__(self,name,number,subject,studentID):\n",
    "        person.__init__(self,name,number) #부모클래스 메소드 재정의를 위해\n",
    "        self.subject=subject\n",
    "        self.studentID=studentID\n",
    "\n",
    "    def printstudentdata(self):\n",
    "        print(\"student(subject:{0},student ID:{1})\".format(self.subject,self.studentID))\n",
    "\n",
    "    def printinfo(self): # 부모클래스 메소드재정의된것을 자식클래스에서 출력\n",
    "        print(\"info(name:{0}, number:{1}\".format(self.name,self.number))\n",
    "        print(\"info(subject:{0}, studentID:{1}\".format(self.subject,self.studentID))"
   ]
  },
  {
   "cell_type": "code",
   "execution_count": null,
   "metadata": {},
   "outputs": [],
   "source": [
    "s = Student(\"둘\",\"010-654-3210\",\"한봄\",\"990999\")"
   ]
  },
  {
   "cell_type": "code",
   "execution_count": null,
   "metadata": {},
   "outputs": [],
   "source": [
    "s.printinfo() #재정의된 메서드를 호출"
   ]
  },
  {
   "cell_type": "code",
   "execution_count": null,
   "metadata": {},
   "outputs": [],
   "source": [
    "p = Person('셋','010-123-456')\n",
    "s1 = Student('넷','010-234-567','Com','9909')\n",
    "personlist=[s,s1]\n",
    "print(personlist)"
   ]
  },
  {
   "cell_type": "code",
   "execution_count": null,
   "metadata": {},
   "outputs": [],
   "source": [
    "for item in personlist:\n",
    "    item.printinfo()"
   ]
  },
  {
   "cell_type": "markdown",
   "metadata": {},
   "source": [
    "# 메소드 확장하기\n",
    "상속받은 메서드중에 기능은 그럭저럭 만족하는데, 실제 사용하기 위해서는 일부 추가적인 기능이 필요한 경우가 있다. 이러한 경우 부모클래스 메서드는 그대로 이용하면서 자식클래스 메서드에서 필요한 기능만 정의할수 있다."
   ]
  },
  {
   "cell_type": "code",
   "execution_count": null,
   "metadata": {},
   "outputs": [],
   "source": [
    "#메소드 확장하기\n",
    "class student(person):\n",
    "    'Sub Class'\n",
    "\n",
    "    def __init__(self,name,number,subject,studentID):\n",
    "        person.__init__(self,name,number)\n",
    "        self.subject=subject\n",
    "        self.studentID=studentID\n",
    "\n",
    "    def printstudentdata(self):\n",
    "        print(\"student(subject:{0},student ID:{1})\".format(self.subject,self.studentID))\n",
    "\n",
    "    def printinfo(self):\n",
    "        person.printinfo(self) #명시적으로 person클래스의 printinfo()를 호출\n",
    "        print(\"info(subject:{0}, studentID:{1}\".format(self.subject,self.studentID))"
   ]
  },
  {
   "cell_type": "code",
   "execution_count": null,
   "metadata": {},
   "outputs": [],
   "source": [
    "personlist=[s,s1]\n",
    "print(personlist)\n",
    "for item in personlist:\n",
    "    item.printinfo()"
   ]
  },
  {
   "cell_type": "markdown",
   "metadata": {},
   "source": [
    "# 클래스상속과 이름공간\n",
    "[인스턴스객체영역 -> 클래스객체영역 -> 전역영역] 이와 같은 규칙으로 멤버변수나 함수의 이름을 찾는다.\n",
    "\n",
    "클래스간의 상속관계가 포함되면 아래와 같이 규칙이 확장된다.\n",
    "[인스턴스객체영역 -> 클래스객체간 상속을 통한영역(자식클래스영역 -> 부모클래스영역) -> 전역영역]"
   ]
  },
  {
   "cell_type": "code",
   "execution_count": null,
   "metadata": {},
   "outputs": [],
   "source": [
    "class SUPER: #부모클래스\n",
    "    x=10\n",
    "    def printX(self):\n",
    "        print(self.x)\n",
    "\n",
    "class SUB(SUPER): #자식클래스\n",
    "    y=20\n",
    "    def printY(self):\n",
    "        print(self.y)\n",
    "s = SUB()\n",
    "s.a = 30 #인스턴스객체's'에 멤버변수a를 정의\n",
    "SUPER.__dict__ # 부모클래스의 x값출력"
   ]
  },
  {
   "cell_type": "code",
   "execution_count": null,
   "metadata": {},
   "outputs": [],
   "source": [
    "SUB.__dict__ # 자식클래스의 x값출력"
   ]
  },
  {
   "cell_type": "code",
   "execution_count": null,
   "metadata": {},
   "outputs": [],
   "source": [
    "s.__dict__ # 인스턴스객체의 x값출력"
   ]
  },
  {
   "cell_type": "markdown",
   "metadata": {},
   "source": [
    "# 상속관계 검색의원칙(Princeples of the inheritance search)\n",
    "s'라는 인스턴스객체를 통해 s.printX()를 호출하면, 's'객체의 이름공간에서 'printX'가 존재하는지 확인한다. 만약 존재하지 않으면 인스턴스객체를 생성한 클래스객체인 'SUB'객체의 이름공간을 확인하고 이번에도 존재하지 않으면 부모클래스인 'SUPER'객체의 이름공간을 검색한다. 이러한 검색이 끝나는 조건은 동일한 이름이 가장 먼저 나올때 까지이다. 이번 예제에서 'printX'라는 이름은 'SUPER'객체에서 정의가 되어 있는것을 찾을수 있다. 만약 이러한 순서로 검색을 하여도 속성의 이름을 찾을수 없는 경우 'AttributeError'에러를 반환한다."
   ]
  },
  {
   "cell_type": "code",
   "execution_count": null,
   "metadata": {},
   "outputs": [],
   "source": [
    "class SUPER: #부모클래스\n",
    "    x=10\n",
    "    def printX(self):\n",
    "        print(self.x)\n",
    "\n",
    "class SUB(SUPER): #자식클래스\n",
    "    y=20\n",
    "    def printY(self):\n",
    "        print(self.y)\n",
    "s = SUB()\n",
    "s.__dict__ "
   ]
  },
  {
   "cell_type": "code",
   "execution_count": null,
   "metadata": {},
   "outputs": [],
   "source": [
    "s.printX()"
   ]
  },
  {
   "cell_type": "code",
   "execution_count": null,
   "metadata": {},
   "outputs": [],
   "source": [
    "s.x #SUPER객체의 x를 참조하여 값을 가져옴"
   ]
  },
  {
   "cell_type": "code",
   "execution_count": null,
   "metadata": {},
   "outputs": [],
   "source": [
    "s.x = 30\n",
    "s.__dict__"
   ]
  },
  {
   "cell_type": "code",
   "execution_count": null,
   "metadata": {},
   "outputs": [],
   "source": [
    "s.printX()"
   ]
  },
  {
   "cell_type": "code",
   "execution_count": null,
   "metadata": {},
   "outputs": [],
   "source": [
    "class Tiger:\n",
    "    def jump(self):\n",
    "        print('호랑이처럼 멀리 점프하기')\n",
    "\n",
    "class Lion:\n",
    "    def bite(self):\n",
    "        print('사자처럼 한입에 꿀꺽하기')\n",
    "\n",
    "class Liger(Tiger,Lion): #다중상속\n",
    "    def play(self):\n",
    "        print('라이거만의 사육사와 재미있게 놀기')"
   ]
  },
  {
   "cell_type": "code",
   "execution_count": null,
   "metadata": {},
   "outputs": [],
   "source": [
    "l=Liger()"
   ]
  },
  {
   "cell_type": "code",
   "execution_count": null,
   "metadata": {},
   "outputs": [],
   "source": [
    "l.jump()"
   ]
  },
  {
   "cell_type": "code",
   "execution_count": null,
   "metadata": {},
   "outputs": [],
   "source": [
    "l.bite()"
   ]
  },
  {
   "cell_type": "code",
   "execution_count": null,
   "metadata": {},
   "outputs": [],
   "source": [
    "l.play()"
   ]
  },
  {
   "cell_type": "code",
   "execution_count": null,
   "metadata": {},
   "outputs": [],
   "source": [
    "Liger.__mro__ #클래스 상속 리스트찬는법,튜플로 되어있다"
   ]
  },
  {
   "cell_type": "markdown",
   "metadata": {},
   "source": [
    "# super()를 이용한 상위클래스 메서드호출\n",
    "Animal클래스에 Tiger,Lion의 공통된 속성을 정의하고, 각 Tiger,Lion클래스는 Animal을 상속받아 개별클래스의 특화된 점을 정의한 후 Liger클래스는 Tiger,Lion을 다중상속받는 예제이다."
   ]
  },
  {
   "cell_type": "code",
   "execution_count": null,
   "metadata": {},
   "outputs": [],
   "source": [
    "#super()를 이용한 상위클래스 메서드호출\n",
    "class Animal:\n",
    "    def __init__(self):\n",
    "        print('Animal 생성자호출')\n",
    "\n",
    "class Tiger(Animal):\n",
    "    def __init__(self):\n",
    "        Animal.__init__(self)\n",
    "        print('Tiger 생성자호출')\n",
    "\n",
    "class Lion(Animal):\n",
    "    def __init__(self):\n",
    "        Animal.__init__(self)\n",
    "        print('Lion 생성자호출')\n",
    "\n",
    "class Liger(Tiger,Lion):\n",
    "    def __init__(self):\n",
    "        Tiger.__init__(self)\n",
    "        Lion.__init__(self)\n",
    "        print('Liger 생성자호출')"
   ]
  },
  {
   "cell_type": "code",
   "execution_count": null,
   "metadata": {},
   "outputs": [],
   "source": [
    "l = Liger()"
   ]
  },
  {
   "cell_type": "code",
   "execution_count": null,
   "metadata": {},
   "outputs": [],
   "source": [
    "Liger.__mro__"
   ]
  },
  {
   "cell_type": "markdown",
   "metadata": {},
   "source": [
    "# super()를 이용한 상위클래스 메서드호출\n",
    "Animal클래스의 생성자가 두번 호출되는 문제가 있다. 그 이유는 Tiger클래스의 생성자에서 Animal클래스의 생성자가 호출되었음에도 Lion클래스에서 또 다시 Animal클래스의 생성자를 호출하기 때문이다. 이러한 문제는 위와 같이 다이아몬트형태로 상속되는 경우 발생한다.\n",
    "이러한 문제를 해결하기 위해서 super()내장함수를 사용할수 있다."
   ]
  },
  {
   "cell_type": "code",
   "execution_count": null,
   "metadata": {},
   "outputs": [],
   "source": [
    "#super()를 이용한 상위클래스 메서드호출\n",
    "class Animal:\n",
    "    def __init__(self):\n",
    "        print('Animal 생성자호출')\n",
    "\n",
    "class Tiger(Animal):\n",
    "    def __init__(self):\n",
    "        super().__init__() #super()함수적용 self는 필요없음 자신을 생성하는것이 아니라 super()로 그대로 받아오기때문\n",
    "        print('Tiger 생성자호출')\n",
    "\n",
    "class Lion(Animal):\n",
    "    def __init__(self):\n",
    "        super().__init__()\n",
    "        print('Lion 생성자호출')\n",
    "\n",
    "class Liger(Tiger,Lion):\n",
    "    def __init__(self):\n",
    "        super().__init__()\n",
    "        print('Liger 생성자호출')"
   ]
  },
  {
   "cell_type": "code",
   "execution_count": null,
   "metadata": {},
   "outputs": [],
   "source": [
    "l = Liger()"
   ]
  },
  {
   "cell_type": "code",
   "execution_count": null,
   "metadata": {},
   "outputs": [],
   "source": [
    "Liger.__mro__"
   ]
  },
  {
   "cell_type": "markdown",
   "metadata": {},
   "source": [
    "# 모듈"
   ]
  },
  {
   "cell_type": "code",
   "execution_count": null,
   "metadata": {},
   "outputs": [],
   "source": [
    "import os #os모듈 import\n",
    "dir(os)\n",
    "369.py\n",
    "import 369"
   ]
  },
  {
   "cell_type": "code",
   "execution_count": null,
   "metadata": {},
   "outputs": [],
   "source": [
    "from os import getcwd,getpid #os모듈에서 getcwd,getpid 클래스 가져오기\n",
    "dir(getcwd)"
   ]
  },
  {
   "cell_type": "code",
   "execution_count": null,
   "metadata": {},
   "outputs": [],
   "source": [
    "from os import * # __(어트리뷰트)함수까지 모두불러옴\n",
    "dir(os)"
   ]
  },
  {
   "cell_type": "code",
   "execution_count": null,
   "metadata": {},
   "outputs": [],
   "source": [
    "import pandas as pd # pandas 축약해서 ps로 하기\n",
    "a=pd"
   ]
  },
  {
   "cell_type": "markdown",
   "metadata": {},
   "source": [
    "# 모듈은 클래스의 집합, 클래스는 함수와 변수의 집합, \n",
    "클래스를 .py로 저장하고 import 하면 자신이 만들파일 즉 모듈을 불러올수 있다"
   ]
  },
  {
   "cell_type": "code",
   "execution_count": null,
   "metadata": {},
   "outputs": [],
   "source": [
    "import Animal #Animal.py파일이 없으면 에러남"
   ]
  },
  {
   "cell_type": "code",
   "execution_count": null,
   "metadata": {},
   "outputs": [],
   "source": [
    "%%writefile Animal.py\n",
    "class Animal:\n",
    "    def __init__(self):\n",
    "        print('Animal 생성자호출')\n",
    "\n",
    "class Tiger(Animal):\n",
    "    def __init__(self):\n",
    "        super().__init__() #super()함수적용 self는 필요없음 자신을 생성하는것이 아니라 super()로 그대로 받아오기때문\n",
    "        print('Tiger 생성자호출')\n",
    "\n",
    "class Lion(Animal):\n",
    "    def __init__(self):\n",
    "        super().__init__()\n",
    "        print('Lion 생성자호출')\n",
    "\n",
    "class Liger(Tiger,Lion):\n",
    "    def __init__(self):\n",
    "        super().__init__()\n",
    "        print('Liger 생성자호출')"
   ]
  },
  {
   "cell_type": "code",
   "execution_count": null,
   "metadata": {},
   "outputs": [],
   "source": [
    "%ls"
   ]
  },
  {
   "cell_type": "code",
   "execution_count": null,
   "metadata": {},
   "outputs": [],
   "source": [
    "import Animal\n",
    "Animal.Liger()"
   ]
  },
  {
   "cell_type": "markdown",
   "metadata": {},
   "source": [
    "# __main__사용하기\n",
    "우리가 생성한 파이썬 파일들은 임포트해서 사용할수도 있지만 직접실행할수도 있다."
   ]
  },
  {
   "cell_type": "code",
   "execution_count": null,
   "metadata": {},
   "outputs": [],
   "source": [
    "dir(Animal)"
   ]
  },
  {
   "cell_type": "code",
   "execution_count": null,
   "metadata": {},
   "outputs": [],
   "source": [
    "Animal.__name__"
   ]
  },
  {
   "cell_type": "code",
   "execution_count": null,
   "metadata": {},
   "outputs": [],
   "source": [
    "class Animal_1:\n",
    "    if __name__ =='__main__':\n",
    "        print(\"직접실행\")\n",
    "    else:\n",
    "        print(\"임포트했음\")"
   ]
  },
  {
   "cell_type": "code",
   "execution_count": null,
   "metadata": {},
   "outputs": [],
   "source": [
    "import Animal_1"
   ]
  },
  {
   "cell_type": "code",
   "execution_count": null,
   "metadata": {},
   "outputs": [],
   "source": [
    "%%writefile Animal_1.py\n",
    "class Animal_1:\n",
    "    if __name__ =='__main__':\n",
    "        print(\"직접실행\")\n",
    "    else:\n",
    "        print(\"임포트했음\")"
   ]
  },
  {
   "cell_type": "code",
   "execution_count": null,
   "metadata": {},
   "outputs": [],
   "source": [
    "import Animal_1"
   ]
  },
  {
   "cell_type": "markdown",
   "metadata": {},
   "source": [
    "# 예외처리\n",
    "프로그램의 제어흐름을 조정하기 위해 사용하는 이벤트를 예외(Exception)라고 함.\n",
    "\n",
    "기본적으로 파이썬에서는 아무런 처리를 하지 않는 예외에 대하여 자동으로 에러(Error)를 일으키며, 사용자의 제어흐름을 벗어난 에러문을 출력하고 프로그램을 종료함.\n"
   ]
  },
  {
   "cell_type": "code",
   "execution_count": null,
   "metadata": {},
   "outputs": [],
   "source": [
    "#구문에러(Syntax Error)\n",
    "print('a)"
   ]
  },
  {
   "cell_type": "code",
   "execution_count": null,
   "metadata": {},
   "outputs": [],
   "source": [
    "#구문에러(Syntax Error)\n",
    "for t in [1,2,3]"
   ]
  },
  {
   "cell_type": "code",
   "execution_count": null,
   "metadata": {},
   "outputs": [],
   "source": [
    "#NameError a라는 변수를 찾지 못하여 발생함\n",
    "\n",
    "print(a)"
   ]
  },
  {
   "cell_type": "code",
   "execution_count": null,
   "metadata": {},
   "outputs": [],
   "source": [
    "#ZeroDivisionError\n",
    "10/0"
   ]
  },
  {
   "cell_type": "code",
   "execution_count": null,
   "metadata": {},
   "outputs": [],
   "source": [
    "#ndexError 리스트의 인덱스범위를 넘어선 참조시 발생함\n",
    "a = [1,2,3]\n",
    "\n",
    "a[3]"
   ]
  },
  {
   "cell_type": "code",
   "execution_count": null,
   "metadata": {},
   "outputs": [],
   "source": [
    "#typeError 정수 나누기 문자, type맞지 않는 연산으로 인해 발생함\n",
    "a = 'apple'\n",
    "\n",
    "10 /a"
   ]
  },
  {
   "cell_type": "markdown",
   "metadata": {},
   "source": [
    "# 예외 목록"
   ]
  },
  {
   "cell_type": "code",
   "execution_count": null,
   "metadata": {},
   "outputs": [],
   "source": [
    "\n",
    "from IPython.display import Image\n",
    "Image(filename='0003.png')"
   ]
  },
  {
   "cell_type": "code",
   "execution_count": null,
   "metadata": {},
   "outputs": [],
   "source": [
    "Image(filename='0004.png')"
   ]
  },
  {
   "cell_type": "markdown",
   "metadata": {},
   "source": [
    "# 예외처리\n",
    "try:\n",
    "\n",
    "<예외 발생가능성이 있는 문장>\n",
    "\n",
    "except <예외 종류>:\n",
    "\n",
    "<예외 처리 문장>\n",
    "\n",
    "except (예외1,예외2):\n",
    "\n",
    "<예외 처리 문장>\n",
    "\n",
    "except 예외 as 인자:\n",
    "\n",
    "<예외 처리 문장>\n",
    "\n",
    "else:\n",
    "\n",
    "<예외가 발생하지 않은 경우, 수행할 문장>\n",
    "\n",
    "finally:\n",
    "\n",
    "<예외 발생 유무에 상관없이 try블록 이후 수행할 문장>"
   ]
  },
  {
   "cell_type": "code",
   "execution_count": null,
   "metadata": {},
   "outputs": [],
   "source": [
    "Image(filename='0005.png')"
   ]
  },
  {
   "cell_type": "markdown",
   "metadata": {},
   "source": [
    "# 책임사슬(Chain of Responsibilty)\n",
    "에러처리에 유연하게 적용할수 있는 구조이다.\n",
    "에러를 해결할수 있는 에러처리기(Error Handler)를 일렬로 늘어놓은 후, 만약 에러가 발생하는 경우 순차적으로 각 에러처리기가 해결할수 있으면 해결을 하고 할수 없는 경우 다음으로 에러를 전달하는 방식이다."
   ]
  },
  {
   "cell_type": "code",
   "execution_count": null,
   "metadata": {},
   "outputs": [],
   "source": [
    "def divide(a,b):\n",
    "    return a /b\n",
    "\n",
    "try:\n",
    "    c = divide(5,'string')\n",
    "\n",
    "except ZeroDivisionError:\n",
    "    print('두번째 인자는 0이면 안됨')\n",
    "\n",
    "except TypeError:\n",
    "    print('모든 인수는 숫자이어야 함')\n",
    "\n",
    "except:\n",
    "    print('무슨 에러인지 모르겠음')"
   ]
  },
  {
   "cell_type": "markdown",
   "metadata": {},
   "source": [
    "# as구문을 이용하여 예외인스턴스객체의 추가적인 정보를 출력하기\n",
    "as구문을 이용하여 예외인스턴스 발생시 추가적인정보를 변수에 대입후 출력을 할수 있다."
   ]
  },
  {
   "cell_type": "code",
   "execution_count": null,
   "metadata": {},
   "outputs": [],
   "source": [
    "def divide(a,b):\n",
    "    return a /b\n",
    "\n",
    "try:\n",
    "    c = divide(5,'string')\n",
    "\n",
    "except TypeError as e:\n",
    "    print('모든 인수는 숫자이어야 함')\n",
    "    print(e)"
   ]
  },
  {
   "cell_type": "markdown",
   "metadata": {},
   "source": [
    "# tuple을 이용하여 에러를 묶어서 처리하기\n",
    "except에 대한 에러지정시 tuple을 이용하여 한가지의 예외가 아닌 여러가지의 예외를 지정하여\n",
    "여러 에러를 묶어서 동시에 처리할수가 있다."
   ]
  },
  {
   "cell_type": "code",
   "execution_count": null,
   "metadata": {},
   "outputs": [],
   "source": [
    "def divide(a,b):\n",
    "    return a /b\n",
    "\n",
    "try:\n",
    "    c = divide(5,'string')\n",
    "\n",
    "except (TypeError,OverflowError,FloatingPointError):\n",
    "    print('수치 관련 에러발생')"
   ]
  },
  {
   "cell_type": "markdown",
   "metadata": {},
   "source": [
    "# 상위 예외클래스를지정하여 하위예외를 모두 처리하기\n",
    "ZeroDivisionError가 포함되어 있는 부모클래스를 호출하여 상위클래스로 하여금 하위클래스트예외를 모두 처리하게끔 하는 방법이다."
   ]
  },
  {
   "cell_type": "code",
   "execution_count": null,
   "metadata": {},
   "outputs": [],
   "source": [
    "def divide(a,b):\n",
    "    return a /b\n",
    "\n",
    "try:\n",
    "    c = divide(5,0)\n",
    "\n",
    "except ArithmeticError: #  ArithmeticError클래스에는 수치관련예외들이 포함되어 있다.\n",
    "    print('수치 관련 에러발생')"
   ]
  },
  {
   "cell_type": "markdown",
   "metadata": {},
   "source": [
    "# raise구문\n",
    "프로그래머가 의도적으로 예외를 발생시켜야 하는 경우도 있다. 이때 raise구문 사용\n",
    "\n",
    "raise [Exception] #해당 예외를 발생함\n",
    "\n",
    "raise [Exception(data)] #예외를 발생시 관련 데이터를 전달함\n",
    "\n",
    "raise #발생된 예외를 상위로 전달함"
   ]
  },
  {
   "cell_type": "code",
   "execution_count": null,
   "metadata": {},
   "outputs": [],
   "source": [
    "#내장예외발생\n",
    "def RaiseErrorFunc():\n",
    "    raise NameError\n",
    "\n",
    "try:\n",
    "    RaiseErrorFunc()\n",
    "\n",
    "except:\n",
    "    print('NameError 발견')"
   ]
  },
  {
   "cell_type": "markdown",
   "metadata": {},
   "source": [
    "# 내장예외전달\n",
    "PropagateError()함수가 호출되고 내부의 RaiseErrorFunc()함수도 호출됨\n",
    "RaiseErrorFunc()함수에 의해서 NameError에러가 발생하며, 처리하는 부분이 없기 때문에 발생한 에러는 PropagateError()함수로 전달됨\n",
    "예외를 받은 PropagateError()함수에서는 화면에 메세지를 출력하고 받은 예외를 그대로 상위로 전달함 전달된 예외는 처리하는 부분이 없기 때문에 출력결과에서 확인할수 있듯이, 에러를 출력함.\n",
    "출력결과에서 예외가 발생할때의 콜스택(Call Stack)정보와 raise구문에서 전달한 인자를 확인할수 있다."
   ]
  },
  {
   "cell_type": "code",
   "execution_count": null,
   "metadata": {},
   "outputs": [],
   "source": [
    "#내장예외전달\n",
    "def RaiseErrorFunc():\n",
    "    raise NameError(\"NameError의 인자\")\n",
    "\n",
    "def PropagateError():\n",
    "    try:\n",
    "        RaiseErrorFunc()\n",
    "\n",
    "    except:\n",
    "        print(\"에러전달 이전에 먼저 이 메시지가 출력됨\")\n",
    "        raise\n",
    "\n",
    "PropagateError()"
   ]
  },
  {
   "cell_type": "markdown",
   "metadata": {},
   "source": [
    "# 사용자정의 예외 \n",
    "개발을 하다보면 내장예외만으로는 표현할수 있는 한계가 있다.\n",
    "모든 사용자 정의 예외는 내장 예외인 Exception클래스나 그 하위클래스를 상속받아 구현되어야 하며, 전달해야할 인자가 있는 경우에는 생성자에서 클래스 멤버변수를 이용하여 저장할수 있다. 이렇게 정의된 클래스는 개발자가 원하는 경우에 raise구문으로 예외를 발생시킬수 있다."
   ]
  },
  {
   "cell_type": "code",
   "execution_count": null,
   "metadata": {},
   "outputs": [],
   "source": [
    "class NegativeDivisionError(Exception):\n",
    "    def __init__(self,value):\n",
    "        self.value = value\n",
    "\n",
    "def PositiveDivide(a,b):\n",
    "    if(b < 0) : #제수가 0보다 작은경우, NegativeDivisionError발생\n",
    "        raise NegativeDivisionError(b)\n",
    "    return a/b\n",
    "\n",
    "try:\n",
    "    ret = PositiveDivide(10,-3)\n",
    "    print('10/3={0}'.format(ret))\n",
    "\n",
    "except NegativeDivisionError as e: #사용자정의 예외인경우\n",
    "    print('Error - Second argument of PositiveDivide is ',e.value)\n",
    "\n",
    "except ZeroDivisionError as e: #0으로 나눈 경우\n",
    "    print('Error - ',e.args[0])\n",
    "\n",
    "except: #그 외 모든 예외의 경우\n",
    "    print(e.args)"
   ]
  },
  {
   "cell_type": "markdown",
   "metadata": {},
   "source": [
    "# assert구문\n",
    "예외를 발생시키는 또 다른 방법으로 assert문을 이용할수 있다.\n",
    "일반적으로 assert구문은 개발과정에서 제약사항을 설정할 목적으로 사용하며, 인자로 받은 조건식이 거짓인경우 AssertionError가 발생한다.\n",
    "\n",
    "형식 : assert <조건식>, <관련데이터>\n",
    "\n",
    "최적화옵션(-O)을 설정하고 코드를 수행하면 assert 구문이 수행되지 않기 때문에 \"return x * 10\"문장이 정상적으로 수행되어 아래와 같은 결과가 출력된다.\n",
    "\n",
    "예) C:\\>python.exe -O 예외처리예제.py\n",
    "aaaaaaaaaa"
   ]
  },
  {
   "cell_type": "code",
   "execution_count": null,
   "metadata": {},
   "outputs": [],
   "source": [
    "def foo(x):\n",
    "    assert type(x) == int,\"Input value must be integer\"\n",
    "    return x * 10\n",
    "\n",
    "ret = foo('a') #AssertionError발생\n",
    "print(ret)"
   ]
  },
  {
   "cell_type": "markdown",
   "metadata": {},
   "source": [
    "# 파일 입출력\n",
    "파일객체 = open(file,mode)\n",
    "\n",
    "file : 파일명\n",
    "\n",
    "mode : 파일을 열때의 모드를 의미하여, 다음의 문자열의 조합으로 사용가능\n",
    "\n",
    "r : 읽기 (Default)\n",
    "\n",
    "w : 쓰기\n",
    "\n",
    "a : 쓰기 + 이어쓰기\n",
    "\n",
    "+ : 읽기 + 쓰기\n",
    "\n",
    "b : 바이너리\n",
    "\n",
    "t : 텍스트 (Default)\n",
    "\n",
    "텍스트모드인 경우 유닉스에서는 newline이 '\\n'으로 적용되며, 윈도우에서는 '\\r\\n'으로 적용됨\n",
    "\n",
    "파일로부터 읽고 쓰기 위해서는 read()함수와 문자열을 쓰는 write()함수가 제공됨\n",
    "\n",
    "파일을 열고 할일을 모두 완료했을경우 close()함수로 파일을 닫아줘야함"
   ]
  },
  {
   "cell_type": "code",
   "execution_count": null,
   "metadata": {},
   "outputs": [],
   "source": [
    "%%writefile test.txt\n",
    "hello python"
   ]
  },
  {
   "cell_type": "code",
   "execution_count": null,
   "metadata": {},
   "outputs": [],
   "source": [
    "f = open('test.txt','w') #test.txt.파일을 쓰기모두 열었음"
   ]
  },
  {
   "cell_type": "code",
   "execution_count": null,
   "metadata": {},
   "outputs": [],
   "source": [
    "f.write('Python') #test.txt파일에 \"Python\"이라는 문자열을 기록함"
   ]
  },
  {
   "cell_type": "code",
   "execution_count": null,
   "metadata": {},
   "outputs": [],
   "source": [
    "f.close() #파일 닫기"
   ]
  },
  {
   "cell_type": "code",
   "execution_count": null,
   "metadata": {},
   "outputs": [],
   "source": [
    "f = open('test.txt') #파일을 읽기모드로 열었음"
   ]
  },
  {
   "cell_type": "code",
   "execution_count": null,
   "metadata": {},
   "outputs": [],
   "source": [
    "f.read() #파일내용 읽기"
   ]
  },
  {
   "cell_type": "code",
   "execution_count": null,
   "metadata": {},
   "outputs": [],
   "source": [
    "f.close() #파일 닫기"
   ]
  },
  {
   "cell_type": "code",
   "execution_count": null,
   "metadata": {},
   "outputs": [],
   "source": [
    "f.closed #파일 닫혀있는지 확인하기"
   ]
  },
  {
   "cell_type": "code",
   "execution_count": null,
   "metadata": {},
   "outputs": [],
   "source": [
    "%%writefile test1.txt\n",
    "hello python\n",
    "hello world\n",
    "hello hana"
   ]
  },
  {
   "cell_type": "code",
   "execution_count": null,
   "metadata": {},
   "outputs": [],
   "source": [
    "file = open('test1.txt')\n",
    "file.readline()"
   ]
  },
  {
   "cell_type": "code",
   "execution_count": null,
   "metadata": {},
   "outputs": [],
   "source": [
    "file.readlines()"
   ]
  },
  {
   "cell_type": "code",
   "execution_count": null,
   "metadata": {},
   "outputs": [],
   "source": [
    "file.tell() #현재 파일의 어디까지 읽고 썻는지 위치를 반환"
   ]
  },
  {
   "cell_type": "code",
   "execution_count": null,
   "metadata": {},
   "outputs": [],
   "source": [
    "file.seek(1) #파일에 대한 포인터를 원하는 위치로 이동시켜줌"
   ]
  },
  {
   "cell_type": "code",
   "execution_count": null,
   "metadata": {},
   "outputs": [],
   "source": [
    "file.tell() #현재 파일의 어디까지 읽고 썻는지 위치를 반환"
   ]
  },
  {
   "cell_type": "code",
   "execution_count": null,
   "metadata": {},
   "outputs": [],
   "source": [
    "# with문을 이용하여 file.close()를 사용하지 않아도 파일이 닫히므로 파일을 실수로 닫지 않아 발생하는 오류에 대해서 어느정도 대처가 가능함\n",
    "\n",
    "with open('test1.txt') as file:\n",
    "             print(file.readline())\n"
   ]
  },
  {
   "cell_type": "code",
   "execution_count": null,
   "metadata": {},
   "outputs": [],
   "source": [
    "file.closed"
   ]
  },
  {
   "cell_type": "markdown",
   "metadata": {},
   "source": [
    "# str(), repr(), ascii(),eval()\n",
    "str()을 이용하면 실제값과 다르게 변활될수 있지만,\n",
    "\n",
    "repr()을 사용하면 형식적으로 동일한 결과가 나온다.\n",
    "\n",
    "※ eval()는 string형식으로 받은 문자열을 그대로 실행해준다."
   ]
  },
  {
   "cell_type": "code",
   "execution_count": null,
   "metadata": {},
   "outputs": [],
   "source": [
    "str('파이썬test')"
   ]
  },
  {
   "cell_type": "code",
   "execution_count": null,
   "metadata": {},
   "outputs": [],
   "source": [
    "repr('파이썬test')"
   ]
  },
  {
   "cell_type": "code",
   "execution_count": null,
   "metadata": {},
   "outputs": [],
   "source": [
    "ascii('파이썬test')"
   ]
  },
  {
   "cell_type": "code",
   "execution_count": null,
   "metadata": {},
   "outputs": [],
   "source": [
    "eval(repr('파이썬test'))"
   ]
  },
  {
   "cell_type": "code",
   "execution_count": null,
   "metadata": {},
   "outputs": [],
   "source": [
    "eval(ascii('파이썬test'))"
   ]
  },
  {
   "cell_type": "code",
   "execution_count": null,
   "metadata": {},
   "outputs": [],
   "source": [
    "#문자열 포맷팅\n",
    "name = \"하나'\"\n",
    "print('{}는 천재'.format(name))"
   ]
  },
  {
   "cell_type": "code",
   "execution_count": null,
   "metadata": {},
   "outputs": [],
   "source": [
    "dic = { \"name\" : '둘', \"num\" : 2}\n",
    "print('{0[name]}는 {0[num]}천재'.format(dic)) #0은 dic의 name을 가르키는 첫번째 인자"
   ]
  },
  {
   "cell_type": "code",
   "execution_count": null,
   "metadata": {},
   "outputs": [],
   "source": [
    "name = '셋'\n",
    "number = 3\n",
    "print('{0[name]}는 {0[number]}천재'.format(locals())) #locals를 사용하는 경우\n",
    "print('{name}는 {number}천재'.format(**locals()))\n",
    "print('{name}는 {num}천재'.format(**dic))"
   ]
  },
  {
   "cell_type": "code",
   "execution_count": null,
   "metadata": {},
   "outputs": [],
   "source": [
    "list = [1,2,3,4,5]\n",
    "print('{list}'.format(**vars()))\n",
    "print('{list[3]}'.format(**vars()))"
   ]
  },
  {
   "cell_type": "code",
   "execution_count": null,
   "metadata": {},
   "outputs": [],
   "source": [
    "class Person:\n",
    "    name = \"하나\"\n",
    "p = Person()\n",
    "print('{p.name}'.format(**vars()))"
   ]
  },
  {
   "cell_type": "markdown",
   "metadata": {},
   "source": [
    "# 문자열 포맷팅"
   ]
  },
  {
   "cell_type": "code",
   "execution_count": 1,
   "metadata": {},
   "outputs": [
    {
     "name": "stdout",
     "output_type": "stream",
     "text": [
      "$$$10\n",
      "+$$10\n",
      "$$+10\n",
      "$$$10\n",
      "$$ 10\n",
      "1010\n",
      "a\n",
      "10\n",
      "12\n",
      "\n",
      "\n",
      "{0:#b} {0:#x} 0o12\n",
      "{0:e} {0:f} 500.000000%\n",
      "4, \n",
      "3.400000, \n",
      "하나\n"
     ]
    }
   ],
   "source": [
    "# 정렬, 폭, 부호, 공백처리,소숫점,타이입지정가능\n",
    "# > 오른쪽정렬, < 왼쪽으로 정렬, ^ 가운데 정렬, = 부호표시\n",
    "print('{0:$>5}'.format(10)) \n",
    "print('{0:$=+5}'.format(10))\n",
    "print('{0:$>+5}'.format(10))\n",
    "print('{0:$>-5}'.format(10))\n",
    "print('{0:$> 5}'.format(10))\n",
    "# b이진수, x는 16진수, d는 십진수, o는 8진수, c는 문자열\n",
    "print('{0:b}'.format(10))\n",
    "print('{0:x}'.format(10))\n",
    "print('{0:d}'.format(10))\n",
    "print('{0:o}'.format(10))\n",
    "print('{0:c}'.format(10))\n",
    "# #을 사용하면 \n",
    "print('{0:#b}','{0:#x}','{0:#o}' .format(10))\n",
    "# e는 지수, f는 소수점, %는 퍼센트\n",
    "print('{0:e}','{0:f}','{0:%}' .format(10/2))\n",
    "# %d, %f, %s\n",
    "print('%d, '%4)\n",
    "print('%f, '%3.4,)\n",
    "print('%s'%('하나'))"
   ]
  },
  {
   "cell_type": "markdown",
   "metadata": {},
   "source": [
    "# pickle\n",
    "일반 텍스트를 파일로저장할때는 파일입출력을 이용하면 된다.\n",
    "\n",
    "하지만 리스트나 클래스같은 텍스트가 아닌 자료형은 일반적인 파일입출력을방법으로는 데이터를 저장하거나 불러올수 없다\n",
    "\n",
    "따라서 파이썬에서는 이와같은 텍스트이외의 자료형을 파일로저장하기 위하여 pickle이라는 모듈을 제공한다."
   ]
  },
  {
   "cell_type": "code",
   "execution_count": null,
   "metadata": {},
   "outputs": [],
   "source": [
    "list=['a','b','c']\n",
    "\n",
    "with open('test.txt','w') as f:\n",
    "     f.write(list) #텍스트를 파일에 저장하는 방법으로 리스트를 저장하려면 TypeError를 발생한다."
   ]
  },
  {
   "cell_type": "code",
   "execution_count": null,
   "metadata": {},
   "outputs": [],
   "source": [
    "import pickle\n",
    "\n",
    "list=['a','b','c']\n",
    "\n",
    "with open('test.txt','wb') as f: #주의할점은 pickle로 데이터를 저장하거나 불러올때는 파일을 바이트형식으로 읽거나 써야 한다는것이다\n",
    "\n",
    "file = open('text.txt','rb')\n",
    "     pickle.dump(list,f)\n",
    "\n",
    "with open('test.txt','rb') as f: #주의할점은 pickle로 데이터를 저장하거나 불러올때는 파일을 바이트형식으로 읽거나 써야 한다는것이다\n",
    "     data=pickle.load(f)\n",
    "data"
   ]
  },
  {
   "cell_type": "code",
   "execution_count": null,
   "metadata": {},
   "outputs": [],
   "source": [
    "import pickle \n",
    "\n",
    "class test: #클래스도 저장가능\n",
    "    var='data'\n",
    "\n",
    "a=test()\n",
    "f=open('test.pickle','wb')\n",
    "pickle.dump(a,f)\n",
    "f.close()\n",
    "f=open('test.pickle','rb')\n",
    "b=pickle.load(f)\n",
    "f.close()\n",
    "b.var"
   ]
  },
  {
   "cell_type": "code",
   "execution_count": null,
   "metadata": {},
   "outputs": [],
   "source": []
  }
 ],
 "metadata": {
  "kernelspec": {
   "display_name": "Python 3",
   "language": "python",
   "name": "python3"
  },
  "language_info": {
   "codemirror_mode": {
    "name": "ipython",
    "version": 3
   },
   "file_extension": ".py",
   "mimetype": "text/x-python",
   "name": "python",
   "nbconvert_exporter": "python",
   "pygments_lexer": "ipython3",
   "version": "3.7.6"
  }
 },
 "nbformat": 4,
 "nbformat_minor": 2
}
