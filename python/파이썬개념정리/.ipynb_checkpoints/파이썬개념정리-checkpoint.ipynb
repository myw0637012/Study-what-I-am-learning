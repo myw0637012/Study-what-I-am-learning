{
 "cells": [
  {
   "cell_type": "markdown",
   "metadata": {},
   "source": [
    "1. 클래스\n",
    "2. 언더스코어 사용법\n",
    "3. 클래스 상속\n",
    "4. 데코레이션\n",
    "5. 모듈"
   ]
  },
  {
   "cell_type": "markdown",
   "metadata": {},
   "source": [
    "# 1. 클래스\n",
    "반복해서 쓸 \"변수\"와 \"메소드\"를 묶어놓고 실제로 쓸때는 인스턴스화하여 사용한다"
   ]
  },
  {
   "cell_type": "code",
   "execution_count": null,
   "metadata": {},
   "outputs": [],
   "source": [
    "#동물 클래스에 '짖기'와 '달리기' 메소드가 있습니다\n",
    "class Animal:\n",
    "    \n",
    "    def bark(self):  #멤버메소드\n",
    "        print('bark')\n",
    "    def runing(self):\n",
    "        print('runing' )\n",
    "        \n",
    "dog = Animal()\n",
    "#강아지를 동물클래스의 인스턴스로 만들면 self가 들어갔던 멤버메소드들은 \n",
    "#dog라는 인스턴스를 통해 접근가능합니다\n",
    "\n",
    "dog.bark()\n",
    "dog.runing()\n",
    "\n",
    "Animal().bark() #dog라는 변수에 할당하지 않고도 쓸수있지만 다음에 더 사용할수가 없습니다\n",
    "\n",
    "Animal.bark(3) #그냥 Animall의 bark라는 함수에 접근한것으로 이때는 self에 해당하는 인자값을 날려줘야 실행됩니다\n"
   ]
  },
  {
   "cell_type": "code",
   "execution_count": 42,
   "metadata": {},
   "outputs": [
    {
     "name": "stdout",
     "output_type": "stream",
     "text": [
      "4\n",
      "2\n"
     ]
    }
   ],
   "source": [
    "# 클래스의 인스턴스를 만들때 __init__함수로 개별적 속성들을 초기화할수있습니다\n",
    "\n",
    "class Animal:\n",
    "    #인스턴스를 생성하는순간 __init__함수가 실행됩니다\n",
    "    def __init__(self, leg):  \n",
    "        self.leg = leg    #self.속성  인스턴스변수로 초기화한다\n",
    "        \n",
    "    def bark(self):  \n",
    "        print('bark')\n",
    "        \n",
    "    def runing(self):\n",
    "        print('runing' )\n",
    "\n",
    "dog = Animal(4) #개의 다리개수 4개로 초기화\n",
    "bird = Animal(2) #새의 다리개수 2개로 초기화\n",
    "\n",
    "print(dog.leg)\n",
    "print(bird.leg)"
   ]
  },
  {
   "cell_type": "code",
   "execution_count": 43,
   "metadata": {},
   "outputs": [
    {
     "name": "stdout",
     "output_type": "stream",
     "text": [
      "1\n",
      "1\n"
     ]
    }
   ],
   "source": [
    "#다리 개수뿐만 아니라 머리 개수들도 초기화 해보겠습니다\n",
    "class Animal:\n",
    "    \n",
    "    def __init__(self, leg, head):\n",
    "        self.leg = leg\n",
    "        self.head = head\n",
    "    def bark(self):  \n",
    "        print('bark')\n",
    "        \n",
    "    def runing(self):\n",
    "        print('runing' )\n",
    "        \n",
    "dog = Animal(4,1) #다리넷 머리하나\n",
    "bird = Animal(2,1) # 다리둘 머리하나\n",
    "\n",
    "print(dog.head)\n",
    "print(bird.head)"
   ]
  },
  {
   "cell_type": "code",
   "execution_count": 44,
   "metadata": {},
   "outputs": [
    {
     "name": "stdout",
     "output_type": "stream",
     "text": [
      "1\n",
      "1\n",
      "1\n"
     ]
    }
   ],
   "source": [
    "#공통적 속성들은 클래스변수로 설정해줍니다\n",
    "class Animal:\n",
    "    head = 1\n",
    "    \n",
    "    def __init__(self, leg):\n",
    "        self.leg = leg\n",
    "        \n",
    "    def bark(self):  \n",
    "        print('bark')\n",
    "        \n",
    "    def runing(self):\n",
    "        print('runing' )\n",
    "        \n",
    "dog = Animal(4) \n",
    "bird = Animal(2)\n",
    "\n",
    "print(dog.head) #self.head라고 따로 인스턴스변수를 초기화하지 않았습니다 \n",
    "                #인스턴스변수를 찾을수없으므로 클래스변수에서 참조합니다 \n",
    "                #dog인스턴스로 클래스변수에 접근가능합니다\n",
    "        \n",
    "print(bird.head)\n",
    "\n",
    "print(Animal.head) #클래스에서 클래스변수로 바로 접근할수도 있습니다"
   ]
  },
  {
   "cell_type": "code",
   "execution_count": 45,
   "metadata": {},
   "outputs": [
    {
     "name": "stdout",
     "output_type": "stream",
     "text": [
      "bark\n",
      "runing\n"
     ]
    }
   ],
   "source": [
    "#인스턴스 메소드 내에서 다른 인스턴스 메소드를 호출하는 방법\n",
    "class Animal:\n",
    "    head = 1\n",
    "    \n",
    "    def __init__(self, leg):\n",
    "        self.leg = leg\n",
    "        \n",
    "    def bark(self):  \n",
    "        print('bark')\n",
    "        \n",
    "    def runing(self):\n",
    "        print('runing' )\n",
    "    \n",
    "    #짖기와 달리기를 합친 allmethod메소드를 만들었습니다\n",
    "    def allmethod(self):\n",
    "        self.bark()  #인스턴스 메소드 호출방법 self.메소드명\n",
    "        self.runing()\n",
    "        \n",
    "dog = Animal(4)\n",
    "dog.allmethod()"
   ]
  },
  {
   "cell_type": "code",
   "execution_count": 46,
   "metadata": {},
   "outputs": [
    {
     "name": "stdout",
     "output_type": "stream",
     "text": [
      "bark\n",
      "runing\n",
      "water\n"
     ]
    }
   ],
   "source": [
    "#클래스 내에서 또다른 클래스를 불러낼수 있습니다\n",
    "#아까 생성했던 allmethod모든행동함수에서 새로만든 Eat클래스의 drink 메소드에 접근해보겠습니다\n",
    "class Eat:\n",
    "    def drink(self):\n",
    "        print(\"water\")\n",
    "        \n",
    "class Animal:\n",
    "    head = 1\n",
    "    \n",
    "    def __init__(self, leg):\n",
    "        self.leg = leg\n",
    "        \n",
    "    def bark(self):  \n",
    "        print('bark')\n",
    "        \n",
    "    def runing(self):\n",
    "        print('runing' )\n",
    "    \n",
    "    def allmethod(self):\n",
    "        self.bark()  \n",
    "        self.runing()\n",
    "        Eat().drink() #바뀐부분\n",
    "        \n",
    "dog = Animal(4)\n",
    "dog.allmethod()\n",
    "    \n"
   ]
  },
  {
   "cell_type": "code",
   "execution_count": 47,
   "metadata": {},
   "outputs": [
    {
     "name": "stdout",
     "output_type": "stream",
     "text": [
      "2\n",
      "2\n",
      "2\n",
      "2\n"
     ]
    }
   ],
   "source": [
    "##인스턴스 메소드의 초기화과정에서 클래스변수에 접근해서 변경하고 클래스 메소드에 접근하는법\n",
    "#아래는 은행계좌 클래스로 account라는 모든 인스턴스가 공유할수있는 클래스변수를 만들었습니다\n",
    "class Account:\n",
    "    account_number=0\n",
    "    \n",
    "    def __init__(self,name):\n",
    "        self.name = name\n",
    "        Account.account_number += 1\n",
    "    \n",
    "    def count():\n",
    "        print(Account.account_number)\n",
    "\n",
    "p1 = Account('p1') #인스턴스를 생성\n",
    "p2 = Account('p2')\n",
    "\n",
    "print( Account.account_number) #클래스.클래스변수\n",
    "Account.count()                #클래스.클래스함수\n",
    "\n",
    "print( p1.account_number ) #인스턴스를 통해 클래스변수 접근\n",
    "print( p2.account_number )  \n",
    "#account라는 인스턴스변수를 생성하지않았으므로 클래스변수를 참조함https://wikidocs.net/1744\n"
   ]
  },
  {
   "cell_type": "markdown",
   "metadata": {},
   "source": [
    "# 2. 언더스코어\n"
   ]
  },
  {
   "cell_type": "markdown",
   "metadata": {},
   "source": [
    "## 2-1 값을 무시하고픈경우"
   ]
  },
  {
   "cell_type": "code",
   "execution_count": 48,
   "metadata": {},
   "outputs": [
    {
     "name": "stdout",
     "output_type": "stream",
     "text": [
      "a 1\n",
      "b 2\n",
      "c 3\n"
     ]
    }
   ],
   "source": [
    "diction = {'a':1, 'b':2 , 'c':3}\n",
    "\n",
    "for key,value in diction.items(): #키,벨류가 튜플로 튀어나옴\n",
    "    print(key, value)\n"
   ]
  },
  {
   "cell_type": "code",
   "execution_count": 49,
   "metadata": {},
   "outputs": [
    {
     "name": "stdout",
     "output_type": "stream",
     "text": [
      "1\n",
      "2\n",
      "3\n"
     ]
    }
   ],
   "source": [
    "for _, value in diction.items(): #키값은 받지않음\n",
    "    print( value)"
   ]
  },
  {
   "cell_type": "markdown",
   "metadata": {},
   "source": [
    "## 2-2 숫자 자리수 구분"
   ]
  },
  {
   "cell_type": "code",
   "execution_count": 50,
   "metadata": {},
   "outputs": [
    {
     "name": "stdout",
     "output_type": "stream",
     "text": [
      "99999999\n",
      "99999999\n"
     ]
    }
   ],
   "source": [
    "print(99999999)\n",
    "print(99_999_999)"
   ]
  },
  {
   "cell_type": "markdown",
   "metadata": {},
   "source": [
    "## private하게사용"
   ]
  },
  {
   "cell_type": "code",
   "execution_count": 51,
   "metadata": {},
   "outputs": [
    {
     "name": "stdout",
     "output_type": "stream",
     "text": [
      "hello\n"
     ]
    }
   ],
   "source": [
    "#main.py 파일\n",
    "def _hello():\n",
    "    print('hello')\n",
    "_hello()\n",
    "_a=10"
   ]
  },
  {
   "cell_type": "markdown",
   "metadata": {},
   "source": [
    "외부에서 main.py 모듈을 쓸때\n",
    "\n",
    "from main import * 와 같은 식으로 모듈을 불러오게 됩니다.\n",
    "\n",
    "이때 _로된 변수나 함수는 끌어오지 못합니다\n",
    "\n",
    "하지만 from main import _hello 처럼 명시적으로 끌어오면 사용이 가능합니다"
   ]
  },
  {
   "cell_type": "markdown",
   "metadata": {},
   "source": [
    "## 2-4 인터프리터 사용"
   ]
  },
  {
   "cell_type": "raw",
   "metadata": {},
   "source": [
    "파이썬 쉘 명령창에서 마지막 값을 자동으로 가지고있다\n",
    ">>> a=10\n",
    ">>> a\n",
    "10\n",
    ">>>_\n",
    "10"
   ]
  },
  {
   "cell_type": "markdown",
   "metadata": {},
   "source": [
    "## 2-5 중복된 이름을 피하기위해"
   ]
  },
  {
   "cell_type": "code",
   "execution_count": 52,
   "metadata": {},
   "outputs": [
    {
     "name": "stdout",
     "output_type": "stream",
     "text": [
      "func2 A\n",
      "func2 B\n"
     ]
    }
   ],
   "source": [
    "class A:\n",
    "    def func1(self):\n",
    "        print('func2 A')\n",
    "    def func2(self):\n",
    "        print('func2 A')\n",
    "class B:\n",
    "    def func1(self):\n",
    "        print('func2 B')\n",
    "    def func2(self):\n",
    "        print('func2 B')\n",
    "\n",
    "a=A()\n",
    "b=B()\n",
    "\n",
    "a.func1()\n",
    "b.func1()"
   ]
  },
  {
   "cell_type": "code",
   "execution_count": 53,
   "metadata": {},
   "outputs": [
    {
     "name": "stdout",
     "output_type": "stream",
     "text": [
      "func2 A\n",
      "func2 B\n"
     ]
    }
   ],
   "source": [
    "class A:\n",
    "    def __func1(self):\n",
    "        print('func2 A')\n",
    "    def __func2(self):\n",
    "        print('func2 A')\n",
    "class B:\n",
    "    def __func1(self):\n",
    "        print('func2 B')\n",
    "    def __func2(self):\n",
    "        print('func2 B')\n",
    "\n",
    "a=A()\n",
    "b=B()\n",
    "\n",
    "a._A__func1()\n",
    "b._B__func1()\n",
    "\n",
    "# 인스턴스명._클래스명__함수명()으로 어떤 클래스를 인스턴화했는지 코드자체에서 확인이가능하다"
   ]
  },
  {
   "cell_type": "markdown",
   "metadata": {},
   "source": [
    "# 3.상속\n",
    "클래스에서 상속이란, 부모 클래스의 내용(속성과 메소드)을 자식 클래스가 물려받는 개념입니다."
   ]
  },
  {
   "cell_type": "code",
   "execution_count": 54,
   "metadata": {},
   "outputs": [
    {
     "name": "stdout",
     "output_type": "stream",
     "text": [
      "2\n",
      "2\n",
      "walk\n"
     ]
    }
   ],
   "source": [
    "class Parent:\n",
    "    \n",
    "    def __init__(self,arm,knee):\n",
    "        self.arm=arm\n",
    "        self.knee=knee\n",
    "    \n",
    "    def move(self):\n",
    "        print('walk')\n",
    "        \n",
    "class Sun(Parent):\n",
    "    \n",
    "    pass\n",
    "\n",
    "#아들 클래스에는 아무내용도없이 pass했지만 팔다리 개수를2로 초기화하는 init함수를 물려받아 사용중\n",
    "sun1=Sun(2,2)\n",
    "print( sun1.arm ) \n",
    "print( sun1.knee )\n",
    "\n",
    "#역시 부모의 move 멤버메소드를 상속받았음\n",
    "sun1.move() \n",
    "\n"
   ]
  },
  {
   "cell_type": "code",
   "execution_count": 55,
   "metadata": {},
   "outputs": [
    {
     "name": "stdout",
     "output_type": "stream",
     "text": [
      "2\n",
      "2\n",
      "run\n"
     ]
    }
   ],
   "source": [
    "##오버라이딩 : 원래 있던 부모의 성질을 나타내던 변수/메소드를 새로이 덮어쓰는행위\n",
    "\n",
    "class Parent:\n",
    "    \n",
    "    def __init__(self,arm,knee):\n",
    "        self.arm=arm\n",
    "        self.knee=knee\n",
    "    \n",
    "    def move(self):\n",
    "        print('walk') \n",
    "        \n",
    "class Son(Parent):\n",
    "    def move(self):\n",
    "        print('run')  #바뀐부분\n",
    "    \n",
    "    pass\n",
    "\n",
    "\n",
    "sun1=Son(2,2)  \n",
    "\n",
    "print( sun1.arm )\n",
    "print( sun1.knee )\n",
    "\n",
    "sun1.move() #부모와 달리 아들의 움직이는 방법은 달리기입니다\n",
    "\n"
   ]
  },
  {
   "cell_type": "code",
   "execution_count": 56,
   "metadata": {},
   "outputs": [
    {
     "name": "stdout",
     "output_type": "stream",
     "text": [
      "2\n",
      "2\n",
      "run\n",
      "walk\n"
     ]
    }
   ],
   "source": [
    "#super : 부모가 가진속성을 추가로 사용할수있다\n",
    "\n",
    "class Parent:\n",
    "    \n",
    "    def __init__(self,arm,knee):\n",
    "        self.arm=arm\n",
    "        self.knee=knee\n",
    "    \n",
    "    def move(self):\n",
    "        print('walk') \n",
    "        \n",
    "class Son(Parent):\n",
    "    def move(self):\n",
    "        print('run')  \n",
    "        \n",
    "        super().move() #부모의 걷기 속성을 추가로 사용한다\n",
    "    pass\n",
    "\n",
    "\n",
    "sun1=Son(2,2)  \n",
    "\n",
    "print( sun1.arm )\n",
    "print( sun1.knee )\n",
    "\n",
    "sun1.move() \n"
   ]
  },
  {
   "cell_type": "markdown",
   "metadata": {},
   "source": [
    "# super(자식클래스,self).__init__(*args) 사용\n",
    "\n",
    "super(Son,self).__init__(*args)"
   ]
  },
  {
   "cell_type": "code",
   "execution_count": 57,
   "metadata": {},
   "outputs": [
    {
     "name": "stdout",
     "output_type": "stream",
     "text": [
      "부모초기화\n",
      "vitamin\n"
     ]
    }
   ],
   "source": [
    "class Parent:\n",
    "    def __init__(self,medicine):\n",
    "        print(\"부모초기화\")\n",
    "        self.health=medicine\n",
    "\n",
    "class Son(Parent):\n",
    "    pass\n",
    "\n",
    "son=Son('vitamin')\n",
    "print( son.health )\n",
    "\n",
    "#아들함수에 __init__()이 없으므로 부모의 __init__()함수를 썼음"
   ]
  },
  {
   "cell_type": "code",
   "execution_count": 33,
   "metadata": {},
   "outputs": [
    {
     "name": "stdout",
     "output_type": "stream",
     "text": [
      "아들초기화\n",
      "writing\n"
     ]
    }
   ],
   "source": [
    "class Parent:\n",
    "    def __init__(self,medicine):\n",
    "        print(\"부모초기화\")\n",
    "        self.health=medicine\n",
    "\n",
    "class Son(Parent):\n",
    "    def __init__(self,task):\n",
    "        print(\"아들초기화\")\n",
    "        self.work=task\n",
    "    pass\n",
    "\n",
    "son=Son('writing')\n",
    "print( son.work )\n",
    "\n",
    "#아들 함수에 __init__()이 있으므로 그냥 아들의__init__을 사용하고 부모의__init__에 도달할수없음"
   ]
  },
  {
   "cell_type": "markdown",
   "metadata": {},
   "source": [
    "자식클래스의 __init__()과 부모의 __init__()을 같이 쓰고싶을때 사용합니다"
   ]
  },
  {
   "cell_type": "code",
   "execution_count": 58,
   "metadata": {},
   "outputs": [
    {
     "name": "stdout",
     "output_type": "stream",
     "text": [
      "아들초기화\n",
      "부모초기화\n",
      "writing\n",
      "vitamin\n"
     ]
    }
   ],
   "source": [
    "class Parent:\n",
    "    def __init__(self,medicine):\n",
    "        print(\"부모초기화\")\n",
    "        self.health=medicine\n",
    "\n",
    "class Son(Parent):\n",
    "    def __init__(self,task,medicine): #자식생성자에서쓸 task와 부모생성자에서쓸 medicine을 받는다\n",
    "        print(\"아들초기화\")\n",
    "        self.work=task  #task로 자식 초기화\n",
    "        \n",
    "        super().__init__(medicine)  #medicine으로 부모초기화\n",
    "        \n",
    "    pass\n",
    "\n",
    "son=Son('writing','vitamin')\n",
    "print( son.work )\n",
    "print( son.health)\n"
   ]
  },
  {
   "cell_type": "code",
   "execution_count": 59,
   "metadata": {},
   "outputs": [
    {
     "name": "stdout",
     "output_type": "stream",
     "text": [
      "아들초기화\n",
      "부모초기화\n",
      "writing\n",
      "vitamin\n"
     ]
    }
   ],
   "source": [
    "class Parent:\n",
    "    def __init__(self,medicine):\n",
    "        print(\"부모초기화\")\n",
    "        self.health=medicine\n",
    "\n",
    "class Son(Parent):\n",
    "    def __init__(self,task,medicine):\n",
    "        print(\"아들초기화\")\n",
    "        self.work=task\n",
    "        \n",
    "        super(Son,self).__init__(medicine)\n",
    "        \n",
    "    pass\n",
    "\n",
    "son=Son('writing','vitamin')\n",
    "print( son.work )\n",
    "print( son.health)"
   ]
  },
  {
   "cell_type": "markdown",
   "metadata": {},
   "source": [
    "super() is considered super\n"
   ]
  },
  {
   "cell_type": "markdown",
   "metadata": {},
   "source": [
    "# 4.데코레이션\n",
    "함수/클래스 내에서 반복되는 부분이 있을때 데코레이터를 만들어서 반복작업을 줄일수있다\n",
    "\n",
    "핵심적이고 개별적인 함수를 데코레이터 인자로 날리고\n",
    "\n",
    "wrap()함수 따위로 부가적이고 반복되는부분과 핵심부분을 합쳐 데코레이터 wrap()함수의 주솟값을 리턴한다\n",
    "\n",
    "여기서 핵심부분은 이름과 반이 있는 스트링에서 스플릿함수로 나누고 이름만 프린트하는 부분이고\n",
    "\n",
    "반복되는 부분은 핵심부분의 앞뒤로 현재시간과 분을 나타내는 작업입니다"
   ]
  },
  {
   "cell_type": "code",
   "execution_count": 68,
   "metadata": {},
   "outputs": [
    {
     "name": "stdout",
     "output_type": "stream",
     "text": [
      "3\n",
      "<function plus at 0x000002115144C1F0>\n"
     ]
    }
   ],
   "source": [
    "def plus(a,b):\n",
    "    return a+b\n",
    "\n",
    "print(plus(1,2))\n",
    "print(plus)\n",
    "#함수에()를 써서 함수를 실행시키면 리턴값이 돌아오지만\n",
    "#()를 쓰지 않으면 주소값이 찍힙니다 그리고 이 주소값을 함수의 인자로 사용할수도있습니다"
   ]
  },
  {
   "cell_type": "code",
   "execution_count": null,
   "metadata": {},
   "outputs": [],
   "source": [
    "def plus(a,b):\n",
    "    return a+b\n",
    "\n",
    "def test(address):\n",
    "    return address(1,2)\n",
    "    \n",
    "test(plus) #test함수의 인자로 함수 주소값을 주고 그 주소값을 ()로 실행시킨 리턴값을 리턴했습니다"
   ]
  },
  {
   "cell_type": "code",
   "execution_count": 69,
   "metadata": {},
   "outputs": [
    {
     "name": "stdout",
     "output_type": "stream",
     "text": [
      "<function nowMinute.<locals>.wrap at 0x0000021151416DC0>\n",
      "20 시\n",
      "김삼성\n",
      "1 분\n"
     ]
    }
   ],
   "source": [
    "from datetime import datetime\n",
    "\n",
    "\n",
    "def nowMinute(func1):\n",
    "    def wrap():\n",
    "        print( str(datetime.now().today().hour)+\" 시\")  #부가적\n",
    "        \n",
    "        func1()                                         #핵심\n",
    "        \n",
    "        print( str(datetime.now().today().minute)+\" 분\")#부가적\n",
    "        \n",
    "    return wrap\n",
    "\n",
    "def kid_name():\n",
    "    print(_str.split()[0]) #스트링에서 이름만 뽑아내는 함수\n",
    "    \n",
    "    \n",
    "_str = \"김삼성 3반\"\n",
    "myFunc=nowMinute(kid_name)  #(원하는기능에 부가적인걸 추가하여) 묶어버린 함수의 주소값을 리턴받는다\n",
    "\n",
    "print(myFunc) #리턴받은 주소값\n",
    "\n",
    "myFunc() #함수실행\n",
    "\n",
    "# nowMinute(kid_name)() #변수에 담지않아도 사용할 수는있다"
   ]
  },
  {
   "cell_type": "code",
   "execution_count": 70,
   "metadata": {},
   "outputs": [
    {
     "name": "stdout",
     "output_type": "stream",
     "text": [
      "20 시\n",
      "김삼성\n",
      "1 분\n"
     ]
    }
   ],
   "source": [
    "def nowMinute(func):\n",
    "    \n",
    "    def wrap():\n",
    "        \n",
    "        print( str(datetime.now().today().hour)+\" 시\")  #부가적\n",
    "        func()                                          #핵심\n",
    "        print( str(datetime.now().today().minute)+\" 분\")#부가적\n",
    "        \n",
    "    return wrap\n",
    "\n",
    "@nowMinute #함수를 인자로 넘기는 과정없이 @데코레이터 를 써줌으로써 데코레이팅이 된상태\n",
    "def kid_name():\n",
    "    print(_str.split()[0])\n",
    "    \n",
    "_str = \"김삼성 3반\"\n",
    "\n",
    "kid_name() \n",
    "\n",
    "    \n",
    "   "
   ]
  },
  {
   "cell_type": "code",
   "execution_count": null,
   "metadata": {},
   "outputs": [],
   "source": [
    "\n",
    "\n",
    "def nowMinute(func):\n",
    "    \n",
    "    def wrap():\n",
    "        \n",
    "        print(str(datetime.now().today().hour)+\" 시\")\n",
    "        func()\n",
    "        print(str(datetime.now().today().minute)+\" 분\")\n",
    "    return wrap\n",
    "\n",
    "@nowMinute\n",
    "def kid_name():\n",
    "    print(_str.split()[0])   #무슨 함수를 만들던지 @데코레이터를 붙이면 부가적인 부분들을 추가하기쉽다\n",
    "\n",
    "    \n",
    "@nowMinute\n",
    "def kid_class():\n",
    "    print(_str.split()[1])\n",
    "    \n",
    "    \n",
    "_str = \"김삼성 3반\"\n",
    "kid_name() #학생이름\n",
    "\n",
    "# kid_class() #학생 반"
   ]
  },
  {
   "cell_type": "code",
   "execution_count": null,
   "metadata": {},
   "outputs": [],
   "source": [
    "import datetime\n",
    "\n",
    "class DatetimeDecorator:\n",
    "\n",
    "        def __init__(self, f):\n",
    "\n",
    "                self.func = f #생성자로 인스턴스변수에 함수를 배정\n",
    "                \n",
    "        #__init__ 은인스턴스 초기화 할 때 불러와지고, __call__은 인스턴스가 호출됐을 때 실행\n",
    "        def __call__(self, *args, **kwargs):\n",
    "\n",
    "                print (datetime.datetime.now())\n",
    "\n",
    "                self.func(*args, **kwargs)\n",
    "\n",
    "                print (datetime.datetime.now())\n",
    "                \n",
    "             \n",
    "#세 함수가 모두 같은 데코레이터를 씁니다\n",
    "class MainClass:\n",
    "\n",
    "        @DatetimeDecorator\n",
    "\n",
    "        def main_function_1():\n",
    "\n",
    "                print (\"MAIN FUNCTION 1 START\")\n",
    "\n",
    "\n",
    "        @DatetimeDecorator\n",
    "\n",
    "        def main_function_2():\n",
    "\n",
    "                print (\"MAIN FUNCTION 2 START\")\n",
    "\n",
    "\n",
    "        @DatetimeDecorator\n",
    "\n",
    "        def main_function_3():\n",
    "\n",
    "                print (\"MAIN FUNCTION 3 START\")\n",
    "\n",
    "my = MainClass() #데코레이터의 __init__은 여기서 실행되고\n",
    "\n",
    "\n",
    "my.main_function_1() #__call__은 여기서 실행된다\n",
    " \n",
    "\n",
    "# my.main_function_2()\n",
    "\n",
    "\n",
    "# my.main_function_3()"
   ]
  },
  {
   "cell_type": "code",
   "execution_count": 71,
   "metadata": {},
   "outputs": [
    {
     "name": "stdout",
     "output_type": "stream",
     "text": [
      "init실행됨\n",
      "init실행됨\n",
      "init실행됨\n",
      "2020-05-23 20:01:43.714265\n",
      "MAIN FUNCTION 1 START\n",
      "2020-05-23 20:01:43.714265\n",
      "call실행됨\n"
     ]
    }
   ],
   "source": [
    "import datetime\n",
    "\n",
    "class DatetimeDecorator:\n",
    "\n",
    "        def __init__(self, f):\n",
    "\n",
    "                self.func = f #생성자로 인스턴스변수에 함수를 배정\n",
    "                print(\"init실행됨\")\n",
    "                \n",
    "        #__init__ 인스턴스 초기화 할 때 불러와지고, __call__은 인스턴스가 호출됐을 때 실행\n",
    "        def __call__(self, *args, **kwargs):\n",
    "\n",
    "                print (datetime.datetime.now())\n",
    "\n",
    "                self.func(*args, **kwargs)\n",
    "\n",
    "                print (datetime.datetime.now())\n",
    "                \n",
    "                print(\"call실행됨\")\n",
    "\n",
    "#세 함수가 모두 같은 데코레이터를 씁니다\n",
    "class MainClass:\n",
    "        \n",
    "        def _sum(self):\n",
    "            print(\"gkq\")\n",
    "        \n",
    "        @DatetimeDecorator\n",
    "\n",
    "        def main_function_1():\n",
    "\n",
    "                print (\"MAIN FUNCTION 1 START\")\n",
    "\n",
    "\n",
    "        @DatetimeDecorator\n",
    "\n",
    "        def main_function_2():\n",
    "\n",
    "                print (\"MAIN FUNCTION 2 START\")\n",
    "\n",
    "\n",
    "        @DatetimeDecorator\n",
    "\n",
    "        def main_function_3():\n",
    "\n",
    "                print (\"MAIN FUNCTION 3 START\")\n",
    "\n",
    "my = MainClass() #데코레이터의 __init__은 여기서 실행되고\n",
    "\n",
    "\n",
    "my.main_function_1() #__call__은 여기서 실행된다\n",
    " \n",
    "\n",
    "# my.main_function_2()\n",
    "\n",
    "\n",
    "# my.main_function_3()"
   ]
  },
  {
   "cell_type": "markdown",
   "metadata": {},
   "source": [
    "# 5.모듈\n",
    "클래스,함수,변수를 모두 묶은 단위"
   ]
  },
  {
   "cell_type": "code",
   "execution_count": 60,
   "metadata": {},
   "outputs": [
    {
     "name": "stdout",
     "output_type": "stream",
     "text": [
      "Overwriting mymodule.py\n"
     ]
    }
   ],
   "source": [
    "%%writefile mymodule.py\n",
    "class Cal1:\n",
    "    def plus(self,a,b):\n",
    "        return a+b\n",
    "    def minus(self,a,b):\n",
    "        return a-b\n",
    "class Cal2:\n",
    "    def multiply(self,a,b):\n",
    "        return a*b\n",
    "    def divide(self,a,b):\n",
    "        return a/b"
   ]
  },
  {
   "cell_type": "code",
   "execution_count": 61,
   "metadata": {},
   "outputs": [
    {
     "name": "stdout",
     "output_type": "stream",
     "text": [
      "Overwriting mymain.py\n"
     ]
    }
   ],
   "source": [
    "%%writefile mymain.py\n",
    "from mymodule import *\n",
    "cal1=Cal1()\n",
    "cal2=Cal2()\n",
    "\n",
    "print(cal1.plus(1,2))\n",
    "print(cal2.multiply(1,2))"
   ]
  },
  {
   "cell_type": "code",
   "execution_count": 62,
   "metadata": {},
   "outputs": [
    {
     "name": "stdout",
     "output_type": "stream",
     "text": [
      "3\n",
      "2\n"
     ]
    }
   ],
   "source": [
    "!python mymain.py"
   ]
  },
  {
   "cell_type": "markdown",
   "metadata": {},
   "source": [
    "모듈파일에서 Cal1 클래스를 _Cal1 으로 바꾸면 mymain.py에서 *로는 임포트가 되지않습니다"
   ]
  },
  {
   "cell_type": "code",
   "execution_count": 63,
   "metadata": {},
   "outputs": [
    {
     "name": "stdout",
     "output_type": "stream",
     "text": [
      "Overwriting mymodule.py\n"
     ]
    }
   ],
   "source": [
    "%%writefile mymodule.py\n",
    "class _Cal1:\n",
    "    def plus(self,a,b):\n",
    "        return a+b\n",
    "    def minus(self,a,b):\n",
    "        return a-b\n",
    "class Cal2:\n",
    "    def multiply(self,a,b):\n",
    "        return a*b\n",
    "    def divide(self,a,b):\n",
    "        return a/b"
   ]
  },
  {
   "cell_type": "code",
   "execution_count": 64,
   "metadata": {},
   "outputs": [
    {
     "name": "stdout",
     "output_type": "stream",
     "text": [
      "Overwriting mymain.py\n"
     ]
    }
   ],
   "source": [
    "%%writefile mymain.py\n",
    "from mymodule import *\n",
    "cal1=_Cal1()\n",
    "cal2=Cal2()\n",
    "\n",
    "print(cal1.plus(1,2))\n",
    "print(cal2.multiply(1,2))"
   ]
  },
  {
   "cell_type": "code",
   "execution_count": 65,
   "metadata": {},
   "outputs": [
    {
     "name": "stderr",
     "output_type": "stream",
     "text": [
      "Traceback (most recent call last):\n",
      "  File \"mymain.py\", line 2, in <module>\n",
      "    cal1=_Cal1()\n",
      "NameError: name '_Cal1' is not defined\n"
     ]
    }
   ],
   "source": [
    "!python mymain.py"
   ]
  },
  {
   "cell_type": "markdown",
   "metadata": {},
   "source": [
    "import에서 _Cal1을 명시적으로 해주면 mymain.py에서 사용가능합니다"
   ]
  },
  {
   "cell_type": "code",
   "execution_count": 66,
   "metadata": {},
   "outputs": [
    {
     "name": "stdout",
     "output_type": "stream",
     "text": [
      "Overwriting mymain.py\n"
     ]
    }
   ],
   "source": [
    "%%writefile mymain.py\n",
    "from mymodule import _Cal1, Cal2\n",
    "cal1=_Cal1()\n",
    "cal2=Cal2()\n",
    "\n",
    "print(cal1.plus(1,2))\n",
    "print(cal2.multiply(1,2))"
   ]
  },
  {
   "cell_type": "code",
   "execution_count": 67,
   "metadata": {},
   "outputs": [
    {
     "name": "stdout",
     "output_type": "stream",
     "text": [
      "3\n",
      "2\n"
     ]
    }
   ],
   "source": [
    "!python mymain.py"
   ]
  },
  {
   "cell_type": "code",
   "execution_count": null,
   "metadata": {},
   "outputs": [],
   "source": []
  }
 ],
 "metadata": {
  "kernelspec": {
   "display_name": "Python 3.6.8 64-bit",
   "language": "python",
   "name": "python36864bit0bb2cdeb78b44abd9fa18505d1ae7c27"
  },
  "language_info": {
   "codemirror_mode": {
    "name": "ipython",
    "version": 3
   },
   "file_extension": ".py",
   "mimetype": "text/x-python",
   "name": "python",
   "nbconvert_exporter": "python",
   "pygments_lexer": "ipython3",
   "version": "3.6.8"
  }
 },
 "nbformat": 4,
 "nbformat_minor": 4
}
