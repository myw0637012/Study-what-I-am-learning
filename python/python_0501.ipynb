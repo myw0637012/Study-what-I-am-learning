{
 "cells": [
  {
   "cell_type": "code",
   "execution_count": 8,
   "metadata": {},
   "outputs": [],
   "source": [
    "from tkinter import *\n",
    "window = Tk()\n",
    "window.title('처음만든 앱')\n",
    "label = Label(window, text = \"Hello APP\")\n",
    "label.pack(padx = 200, pady = 50)\n",
    "window.mainloop()"
   ]
  },
  {
   "cell_type": "code",
   "execution_count": null,
   "metadata": {},
   "outputs": [],
   "source": [
    "from tkinter import *\n",
    "window = Tk()\n",
    "window.title('처음만든 앱')\n",
    "btn_end = Button(window, text = 'close', command = exit)\n",
    "def tog():\n",
    "    if window.cget('bg') == 'yellow':\n",
    "        window.configure(bg = 'gray')\n",
    "    else :\n",
    "        window.configure(bg = 'yellow')\n",
    "\n",
    "btn_tog = Button(window, text = 'Switch', command = tog)\n",
    "btn_end.pack(padx = 150, pady = 20)\n",
    "btn_tog.pack(padx = 150, pady = 20)\n",
    "window.mainloop()"
   ]
  },
  {
   "cell_type": "code",
   "execution_count": 10,
   "metadata": {},
   "outputs": [],
   "source": [
    "from tkinter import *\n",
    "import tkinter.messagebox as box\n",
    "window = Tk()\n",
    "window.title('처음만든 앱')\n",
    "\n",
    "def dialog():\n",
    "    var = box.askyesno('Message Box')\n",
    "    if var == 1:\n",
    "        box.showinfo('Yes box', '진행')\n",
    "    else :\n",
    "        box.showwarning('No box', '중단')\n",
    "        \n",
    "btn = Button(window, text = 'Click', command = dialog)\n",
    "btn.pack(padx = 150, pady = 50)\n",
    "window.mainloop()"
   ]
  },
  {
   "cell_type": "code",
   "execution_count": 2,
   "metadata": {},
   "outputs": [],
   "source": [
    "from tkinter import *\n",
    "import tkinter.messagebox as box\n",
    "window = Tk()\n",
    "window.title('처음만든 앱')\n",
    "\n",
    "frame = Frame(window)\n",
    "entry = Entry(frame)\n",
    "\n",
    "def dialog():\n",
    "    box.showinfo('만족', '어서오세요' + entry.get())\n",
    "\n",
    "btn=Button(frame, text = 'Enter name', command = dialog)\n",
    "\n",
    "btn.pack(side = RIGHT, padx = 5)\n",
    "entry.pack(side = LEFT)\n",
    "frame.pack(padx = 20, pady = 20)\n",
    "window.mainloop()"
   ]
  },
  {
   "cell_type": "code",
   "execution_count": 19,
   "metadata": {},
   "outputs": [],
   "source": [
    "from tkinter import *\n",
    "import tkinter.messagebox as box\n",
    "window = Tk()\n",
    "window.title('처음만든 앱')\n",
    "\n",
    "frame = Frame(window)\n",
    "listbox = Listbox(frame)\n",
    "listbox.insert(1, \"a\")\n",
    "listbox.insert(2, \"b\")\n",
    "\n",
    "def dialog():\n",
    "    box.showinfo('선택', listbox.get(listbox.curselection()))\n",
    "    \n",
    "btn = Button(frame, text = '초이스', command = dialog)\n",
    "btn.pack(side = RIGHT, padx = 5)\n",
    "listbox.pack(side = LEFT)\n",
    "frame.pack(padx = 30, pady = 30)\n",
    "window.mainloop()"
   ]
  },
  {
   "cell_type": "code",
   "execution_count": 5,
   "metadata": {},
   "outputs": [],
   "source": [
    "from tkinter import *\n",
    "import tkinter.messagebox as box\n",
    "window = Tk()\n",
    "window.title('처음만든 앱')\n",
    "\n",
    "frame = Frame(window)\n",
    "book = StringVar()\n",
    "radio_1 = Radiobutton(frame, text = 'a', var = book, value = 'aaa')\n",
    "radio_2 = Radiobutton(frame, text = 'b', var = book, value = 'bbb')\n",
    "radio_3 = Radiobutton(frame, text = 'c', var = book, value = 'ccc')\n",
    "radio_1.select()\n",
    "def dialog():\n",
    "    box.showinfo('선택', '초이스' + book.get())\n",
    "\n",
    "btn = Button(frame, text = '초이스', command = dialog)\n",
    "\n",
    "btn.pack(side = RIGHT, padx = 5)\n",
    "radio_1.pack(side = LEFT)\n",
    "radio_2.pack(side = LEFT)\n",
    "radio_3.pack(side = LEFT)\n",
    "frame.pack(padx = 30, pady = 30)\n",
    "window.mainloop()"
   ]
  },
  {
   "cell_type": "code",
   "execution_count": 11,
   "metadata": {},
   "outputs": [],
   "source": [
    "from tkinter import *\n",
    "import tkinter.messagebox as box\n",
    "window = Tk()\n",
    "window.title('처음만든 앱')\n",
    "frame = Frame(window)\n",
    "\n",
    "var_1 = IntVar()\n",
    "var_2 = IntVar()\n",
    "var_3 = IntVar()\n",
    "\n",
    "book_1 = Checkbutton(frame, text = 'a', var = var_1, onvalue = 1, offvalue = 0)\n",
    "book_2 = Checkbutton(frame, text = 'b', var = var_2, onvalue = 1, offvalue = 0)\n",
    "book_3 = Checkbutton(frame, text = 'c', var = var_3, onvalue = 1, offvalue = 0)\n",
    "def dialog() :\n",
    "    str = '초이스'\n",
    "    if var_1.get() == 1 : str += 'a'\n",
    "    if var_2.get() == 1 : str += 'b'\n",
    "    if var_3.get() == 1 : str += 'c'\n",
    "    box.showinfo('선택',str)\n",
    "btn = Button(frame, text = '초이스',command = dialog)\n",
    "btn.pack(side = RIGHT, padx = 5)\n",
    "book_1.pack(side=LEFT)\n",
    "book_2.pack(side=LEFT)\n",
    "book_3.pack(side=LEFT)\n",
    "frame.pack(padx = 30, pady = 30)\n",
    "window.mainloop()"
   ]
  }
 ],
 "metadata": {
  "kernelspec": {
   "display_name": "Python 3",
   "language": "python",
   "name": "python3"
  },
  "language_info": {
   "codemirror_mode": {
    "name": "ipython",
    "version": 3
   },
   "file_extension": ".py",
   "mimetype": "text/x-python",
   "name": "python",
   "nbconvert_exporter": "python",
   "pygments_lexer": "ipython3",
   "version": "3.7.6"
  }
 },
 "nbformat": 4,
 "nbformat_minor": 4
}
