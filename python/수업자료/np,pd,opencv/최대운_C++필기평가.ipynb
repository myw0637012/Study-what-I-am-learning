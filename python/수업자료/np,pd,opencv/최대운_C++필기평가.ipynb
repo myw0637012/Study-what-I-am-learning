{
 "cells": [
  {
   "cell_type": "markdown",
   "metadata": {},
   "source": [
    "# 최대운"
   ]
  },
  {
   "cell_type": "markdown",
   "metadata": {},
   "source": [
    "문제1"
   ]
  },
  {
   "cell_type": "code",
   "execution_count": null,
   "metadata": {},
   "outputs": [],
   "source": [
    "#include <iostream>\n",
    "\n",
    "using namespace std;\n",
    "\n",
    "int main() {\n",
    "\n",
    "    int number = 13;\n",
    "\n",
    "    if (number % 2 == 0) {\n",
    "        cout << \"짝수입니다.\" << endl;\n",
    "    }\n",
    "    else {\n",
    "        cout << \"홀수입니다.\" << '\\n';\n",
    "    }\n",
    "    return 0;\n",
    "}"
   ]
  },
  {
   "cell_type": "code",
   "execution_count": null,
   "metadata": {},
   "outputs": [],
   "source": []
  },
  {
   "cell_type": "markdown",
   "metadata": {},
   "source": [
    "문제2"
   ]
  },
  {
   "cell_type": "code",
   "execution_count": null,
   "metadata": {},
   "outputs": [],
   "source": [
    "#include <iostream>\n",
    "\n",
    "using namespace std;\n",
    "\n",
    "int main() {\n",
    "    int score[10] = {70,60,55,75,95,90,80,80,85,100 };\n",
    "\n",
    "    double avg = 0;\n",
    "    int sum = 0;\n",
    "\n",
    "    for (int i = 0; i < sizeof(score) / sizeof(int); i++) {\n",
    "        sum = sum + score[i];\n",
    "    }\n",
    "\n",
    "    avg = (double)sum / (sizeof(score) / sizeof(int));\n",
    "\n",
    "    cout << \"평균은 \" << avg << endl;\n",
    "\n",
    "    return 0;\n",
    "}"
   ]
  },
  {
   "cell_type": "code",
   "execution_count": null,
   "metadata": {},
   "outputs": [],
   "source": []
  },
  {
   "cell_type": "markdown",
   "metadata": {},
   "source": [
    "문제3"
   ]
  },
  {
   "cell_type": "code",
   "execution_count": null,
   "metadata": {},
   "outputs": [],
   "source": [
    "#include <iostream>\n",
    "#include <array>\n",
    "#include <algorithm>\n",
    "#include <vector>\n",
    "#include <numeric> \n",
    "using namespace std;\n",
    "\n",
    "int main() {\n",
    "    vector <int> nums{ 1,-2,3,-5,8,-3 };\n",
    "    vector <int> filter_example;\n",
    "    copy_if(nums.begin(), nums.end(), back_inserter(filter_example), [](const auto& x) {return x > 0; });\n",
    "\n",
    "    for (auto& i : filter_example)\n",
    "    {\n",
    "        cout << i << \"\\t\";\n",
    "    }\n",
    "    cout << endl;\n",
    "    return 0;\n",
    "}"
   ]
  },
  {
   "cell_type": "code",
   "execution_count": null,
   "metadata": {},
   "outputs": [],
   "source": []
  },
  {
   "cell_type": "markdown",
   "metadata": {},
   "source": [
    "문제4"
   ]
  },
  {
   "cell_type": "code",
   "execution_count": null,
   "metadata": {},
   "outputs": [],
   "source": [
    "#include <iostream>\n",
    "#include <array>\n",
    "#include <algorithm>\n",
    "#include <vector>\n",
    "#include <numeric> \n",
    "using namespace std;\n",
    "\n",
    "int main() {\n",
    "    vector <int> nums{ 1, 2, 3, 4 };\n",
    "    vector <int> map_example;\n",
    "    transform(nums.begin(), nums.end(), back_inserter(map_example), [](const auto& x) {return x * 3; });\n",
    "\n",
    "    for (auto& i : map_example) {\n",
    "        cout << i << \"\\t\";\n",
    "    }\n",
    "    cout << endl;\n",
    "\n",
    "    return 0;\n",
    "}"
   ]
  },
  {
   "cell_type": "code",
   "execution_count": null,
   "metadata": {},
   "outputs": [],
   "source": []
  },
  {
   "cell_type": "markdown",
   "metadata": {},
   "source": [
    "문제5"
   ]
  },
  {
   "cell_type": "code",
   "execution_count": null,
   "metadata": {},
   "outputs": [],
   "source": [
    "#include <iostream>\n",
    "\n",
    "using namespace std;\n",
    "\n",
    "int main() {\n",
    "\n",
    "    for (int i = 1; i <= 100; i++) {\n",
    "        cout << i << \" \";\n",
    "    }\n",
    "\n",
    "    return 0;\n",
    "}"
   ]
  }
 ],
 "metadata": {
  "kernelspec": {
   "display_name": "Python 3.6.8 64-bit",
   "language": "python",
   "name": "python36864bit0bb2cdeb78b44abd9fa18505d1ae7c27"
  },
  "language_info": {
   "codemirror_mode": {
    "name": "ipython",
    "version": 3
   },
   "file_extension": ".py",
   "mimetype": "text/x-python",
   "name": "python",
   "nbconvert_exporter": "python",
   "pygments_lexer": "ipython3",
   "version": "3.6.8"
  }
 },
 "nbformat": 4,
 "nbformat_minor": 4
}
