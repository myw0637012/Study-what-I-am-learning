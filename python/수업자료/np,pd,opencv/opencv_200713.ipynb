{
 "cells": [
  {
   "cell_type": "code",
   "execution_count": 1,
   "metadata": {},
   "outputs": [],
   "source": [
    "import numpy as np\n",
    "import cv2"
   ]
  },
  {
   "cell_type": "code",
   "execution_count": 19,
   "metadata": {},
   "outputs": [],
   "source": [
    "img_color = cv2.imread('images/zebra.jpg')"
   ]
  },
  {
   "cell_type": "code",
   "execution_count": 28,
   "metadata": {},
   "outputs": [],
   "source": [
    "img_pydown = cv2.pyrDown(cv2.pyrDown(img_color))\n",
    "kernel = cv2.getStructuringElement(cv2.MORPH_ELLIPSE, (9, 9))\n",
    "img_dilate = cv2.dilate(img_pydown,kernel,anchor=(-1,-1),iterations=3)\n",
    "img_erode =cv2.erode(img_pydown,kernel,anchor=(-1,-1),iterations=3)\n",
    "img_out = np.concatenate((img_pydown,img_dilate,img_erode),axis=0)"
   ]
  },
  {
   "cell_type": "markdown",
   "metadata": {},
   "source": [
    "#### 오픈(Open) = dilate(erode(원본))\n",
    "- cv2.morphologyEx(원본,**cv2.MORPH_OPEN**,kernel,iterations=5)\n",
    "\n",
    "#### 클로즈(Close) = erode(dilate(원본))\n",
    "- cv2.morphologyEx(원본,**cv2.MORPH_CLOSE**,kernel,iterations=5)"
   ]
  },
  {
   "cell_type": "code",
   "execution_count": 47,
   "metadata": {},
   "outputs": [],
   "source": [
    "img_pydown = cv2.pyrDown(cv2.pyrDown(img_color))\n",
    "kernel = cv2.getStructuringElement(cv2.MORPH_RECT, (3, 3))\n",
    "img_open = cv2.morphologyEx(img_pydown,cv2.MORPH_OPEN,kernel,iterations=5)\n",
    "img_out = np.concatenate((img_pydown,img_open),axis=1)"
   ]
  },
  {
   "cell_type": "code",
   "execution_count": 48,
   "metadata": {},
   "outputs": [],
   "source": [
    "cv2.imshow('color', img_out)\n",
    "cv2.waitKey(0)\n",
    "cv2.destroyAllWindows()"
   ]
  },
  {
   "cell_type": "markdown",
   "metadata": {},
   "source": [
    "#### 그레이디언트(Gradient) = dilate(원본) - erode(원본)"
   ]
  },
  {
   "cell_type": "code",
   "execution_count": 51,
   "metadata": {},
   "outputs": [],
   "source": [
    "img_pydown = cv2.pyrDown(cv2.pyrDown(img_color))\n",
    "kernel = cv2.getStructuringElement(cv2.MORPH_RECT, (3, 3))\n",
    "img_grad = cv2.morphologyEx(img_pydown,cv2.MORPH_GRADIENT,kernel,iterations=5)\n",
    "img_out = np.concatenate((img_pydown,img_grad),axis=1)"
   ]
  },
  {
   "cell_type": "code",
   "execution_count": 50,
   "metadata": {},
   "outputs": [],
   "source": [
    "cv2.imshow('color', img_out)\n",
    "cv2.waitKey(0)\n",
    "cv2.destroyAllWindows()"
   ]
  },
  {
   "cell_type": "markdown",
   "metadata": {},
   "source": [
    "#### 탑햇(TopHat) = 원본 - open(원본)"
   ]
  },
  {
   "cell_type": "code",
   "execution_count": 56,
   "metadata": {},
   "outputs": [],
   "source": [
    "img_pydown = cv2.pyrDown(cv2.pyrDown(img_color))\n",
    "kernel = cv2.getStructuringElement(cv2.MORPH_RECT, (3, 3))\n",
    "img_grad = cv2.morphologyEx(img_pydown,cv2.MORPH_TOPHAT,kernel,iterations=2)\n",
    "img_out = np.concatenate((img_pydown,img_grad),axis=1)"
   ]
  },
  {
   "cell_type": "code",
   "execution_count": 57,
   "metadata": {},
   "outputs": [],
   "source": [
    "cv2.imshow('color', img_out)\n",
    "cv2.waitKey(0)\n",
    "cv2.destroyAllWindows()"
   ]
  },
  {
   "cell_type": "markdown",
   "metadata": {},
   "source": [
    "#### 블랙햇(BlackHat) = close(원본) - 원본"
   ]
  },
  {
   "cell_type": "code",
   "execution_count": 58,
   "metadata": {},
   "outputs": [],
   "source": [
    "img_pydown = cv2.pyrDown(cv2.pyrDown(img_color))\n",
    "kernel = cv2.getStructuringElement(cv2.MORPH_RECT, (3, 3))\n",
    "img_grad = cv2.morphologyEx(img_pydown,cv2.MORPH_BLACKHAT,kernel,iterations=2)\n",
    "img_out = np.concatenate((img_pydown,img_grad),axis=1)"
   ]
  },
  {
   "cell_type": "code",
   "execution_count": 59,
   "metadata": {},
   "outputs": [],
   "source": [
    "cv2.imshow('color', img_out)\n",
    "cv2.waitKey(0)\n",
    "cv2.destroyAllWindows()"
   ]
  },
  {
   "cell_type": "code",
   "execution_count": null,
   "metadata": {},
   "outputs": [],
   "source": []
  }
 ],
 "metadata": {
  "kernelspec": {
   "display_name": "Python 3",
   "language": "python",
   "name": "python3"
  },
  "language_info": {
   "codemirror_mode": {
    "name": "ipython",
    "version": 3
   },
   "file_extension": ".py",
   "mimetype": "text/x-python",
   "name": "python",
   "nbconvert_exporter": "python",
   "pygments_lexer": "ipython3",
   "version": "3.7.6"
  }
 },
 "nbformat": 4,
 "nbformat_minor": 4
}
