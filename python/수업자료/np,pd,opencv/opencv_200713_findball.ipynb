{
 "cells": [
  {
   "cell_type": "code",
   "execution_count": 1,
   "metadata": {},
   "outputs": [],
   "source": [
    "import numpy as np\n",
    "import cv2"
   ]
  },
  {
   "cell_type": "code",
   "execution_count": 60,
   "metadata": {},
   "outputs": [],
   "source": [
    "img_color = cv2.imread('images/colorballs.jpg')"
   ]
  },
  {
   "cell_type": "code",
   "execution_count": 135,
   "metadata": {},
   "outputs": [],
   "source": [
    "img_out = img_color.copy()\n",
    "# img_out = cv2.pyrDown(img_out)\n",
    "img_gray = cv2.cvtColor(img_color, cv2.COLOR_BGR2GRAY)\n",
    "# img_gray = cv2.pyrDown(img_gray)"
   ]
  },
  {
   "cell_type": "markdown",
   "metadata": {},
   "source": [
    "원 찾기"
   ]
  },
  {
   "cell_type": "code",
   "execution_count": 136,
   "metadata": {},
   "outputs": [],
   "source": [
    "circles = cv2.HoughCircles(img_gray, cv2.HOUGH_GRADIENT, 1, 100, \\\n",
    "              param1=250, param2 =10, minRadius=80, maxRadius =100)\n",
    "\n",
    "for i in circles[0]:\n",
    "    cv2.circle(img_out, (i[0],i[1]), i[2], (0,0,255),2)"
   ]
  },
  {
   "cell_type": "code",
   "execution_count": 137,
   "metadata": {},
   "outputs": [],
   "source": [
    "cv2.imshow('color', img_out)\n",
    "cv2.waitKey(0)\n",
    "cv2.destroyAllWindows()"
   ]
  },
  {
   "cell_type": "markdown",
   "metadata": {},
   "source": [
    "원 찾기 (pyrDown)"
   ]
  },
  {
   "cell_type": "code",
   "execution_count": 145,
   "metadata": {},
   "outputs": [],
   "source": [
    "img_out = img_color.copy()\n",
    "img_out = cv2.pyrDown(img_out)\n",
    "img_gray = cv2.cvtColor(img_color, cv2.COLOR_BGR2GRAY)\n",
    "img_gray = cv2.pyrDown(img_gray)"
   ]
  },
  {
   "cell_type": "code",
   "execution_count": 146,
   "metadata": {},
   "outputs": [],
   "source": [
    "circles = cv2.HoughCircles(img_gray, cv2.HOUGH_GRADIENT, 1, 70, \\\n",
    "              param1=180, param2 =15, minRadius=30, maxRadius =55)\n",
    "\n",
    "for i in circles[0]:\n",
    "    cv2.circle(img_out, (i[0],i[1]), i[2], (0,0,255),2)"
   ]
  },
  {
   "cell_type": "code",
   "execution_count": 147,
   "metadata": {},
   "outputs": [],
   "source": [
    "cv2.imshow('color', img_out)\n",
    "cv2.waitKey(0)\n",
    "cv2.destroyAllWindows()"
   ]
  },
  {
   "cell_type": "markdown",
   "metadata": {},
   "source": [
    "골프공처리"
   ]
  },
  {
   "cell_type": "code",
   "execution_count": 317,
   "metadata": {},
   "outputs": [],
   "source": [
    "img_color = cv2.imread('images/golfballs.jpg')"
   ]
  },
  {
   "cell_type": "code",
   "execution_count": 318,
   "metadata": {},
   "outputs": [],
   "source": [
    "img_out = img_color.copy()\n",
    "img_gray = cv2.cvtColor(img_color, cv2.COLOR_BGR2GRAY)\n",
    "ret,img_gray = cv2.threshold(img_gray,190,255,cv2.THRESH_OTSU)\n",
    "# cv2.imshow('img_gray', img_gray)\n",
    "# cv2.waitKey(0)\n",
    "# cv2.destroyAllWindows()"
   ]
  },
  {
   "cell_type": "code",
   "execution_count": 319,
   "metadata": {},
   "outputs": [],
   "source": [
    "kernel = cv2.getStructuringElement(cv2.MORPH_RECT, (3, 3))\n",
    "img_gray = cv2.morphologyEx(img_gray,cv2.MORPH_OPEN,kernel,iterations=1)\n",
    "# cv2.imshow('img_gray', img_gray)\n",
    "# cv2.waitKey(0)\n",
    "# cv2.destroyAllWindows()"
   ]
  },
  {
   "cell_type": "code",
   "execution_count": 320,
   "metadata": {},
   "outputs": [],
   "source": [
    "circles = cv2.HoughCircles(img_gray, cv2.HOUGH_GRADIENT, 1, 95, \\\n",
    "              param1=100, param2 =16, minRadius=51, maxRadius =95)\n",
    "\n",
    "for i in circles[0]:\n",
    "    cv2.circle(img_out, (i[0],i[1]), i[2], (0,0,255),2)"
   ]
  },
  {
   "cell_type": "code",
   "execution_count": 321,
   "metadata": {},
   "outputs": [],
   "source": [
    "cv2.imshow('color', img_out)\n",
    "cv2.waitKey(0)\n",
    "cv2.destroyAllWindows()"
   ]
  },
  {
   "cell_type": "code",
   "execution_count": 327,
   "metadata": {},
   "outputs": [],
   "source": [
    "import numpy as np\n",
    "import cv2\n",
    "\n",
    "img_color = cv2.imread('images/golfballs.jpg')\n",
    "\n",
    "img_out = img_color.copy()\n",
    "img_gray = cv2.cvtColor(img_color, cv2.COLOR_BGR2GRAY)\n",
    "ret, img_gray = cv2.threshold(img_gray, 200, 255, cv2.THRESH_OTSU)\n",
    "\n",
    "kernel = cv2.getStructuringElement(cv2.MORPH_RECT, (3,3))\n",
    "img_gray = cv2.morphologyEx(img_gray, cv2.MORPH_OPEN, kernel, \n",
    "                                                       iterations=1)\n",
    "\n",
    "circles = cv2.HoughCircles(img_gray, cv2.HOUGH_GRADIENT, 1, 100, \n",
    "               param1=180, param2 =20, minRadius=50, maxRadius=95)\n",
    "\n",
    "for i in circles[0]:\n",
    "    cv2.circle(img_out, (i[0],i[1]), i[2], (0,0,255),2)\n",
    "\n",
    "cv2.imshow('color', img_out)\n",
    "cv2.waitKey(0)\n",
    "cv2.destroyAllWindows()"
   ]
  },
  {
   "cell_type": "code",
   "execution_count": 358,
   "metadata": {},
   "outputs": [],
   "source": [
    "img_color = cv2.imread('images/colorballs.jpg')"
   ]
  },
  {
   "cell_type": "code",
   "execution_count": 359,
   "metadata": {},
   "outputs": [],
   "source": [
    "number1 = np.ones_like(img_color) * 127\n",
    "number2 = np.ones_like(img_color) * 2"
   ]
  },
  {
   "cell_type": "code",
   "execution_count": 348,
   "metadata": {},
   "outputs": [
    {
     "name": "stdout",
     "output_type": "stream",
     "text": [
      "[15 12  8]\n",
      "[255 255 255]\n",
      "[9 6 2]\n"
     ]
    }
   ],
   "source": [
    "img_add1 = cv2.add(img_color,number1)\n",
    "img_out = img_add1\n",
    "img_add2 = img_color+127\n",
    "print(img_color[0][0])\n",
    "print(img_add1[0][0])\n",
    "print(img_add2[0][0])"
   ]
  },
  {
   "cell_type": "code",
   "execution_count": 335,
   "metadata": {},
   "outputs": [],
   "source": [
    "img_sub = cv2.subtract(img_color,number1)\n",
    "img_out = img_sub"
   ]
  },
  {
   "cell_type": "code",
   "execution_count": 349,
   "metadata": {},
   "outputs": [],
   "source": [
    "img_mul = cv2.multiply(img_color,number2)\n",
    "img_out = img_mul"
   ]
  },
  {
   "cell_type": "code",
   "execution_count": 351,
   "metadata": {},
   "outputs": [],
   "source": [
    "img_div = cv2.divide(img_color,number2)\n",
    "img_out = img_div"
   ]
  },
  {
   "cell_type": "code",
   "execution_count": 353,
   "metadata": {},
   "outputs": [],
   "source": [
    "cv2.imshow('color', img_out)\n",
    "cv2.waitKey(0)\n",
    "cv2.destroyAllWindows()"
   ]
  },
  {
   "cell_type": "code",
   "execution_count": 360,
   "metadata": {},
   "outputs": [],
   "source": [
    "img_max = cv2.max(img_color, number1)\n",
    "img_out = img_max"
   ]
  },
  {
   "cell_type": "code",
   "execution_count": 362,
   "metadata": {},
   "outputs": [],
   "source": [
    "img_min = cv2.min(img_color, number1)\n",
    "img_out = img_min"
   ]
  },
  {
   "cell_type": "code",
   "execution_count": 364,
   "metadata": {},
   "outputs": [],
   "source": [
    "img_abs = cv2.absdiff(img_color, number1)\n",
    "img_out = img_abs"
   ]
  },
  {
   "cell_type": "code",
   "execution_count": 377,
   "metadata": {},
   "outputs": [],
   "source": [
    "img_comp = cv2.compare(img_color,number1, cv2.CMP_GT)\n",
    "img_out = img_comp"
   ]
  },
  {
   "cell_type": "code",
   "execution_count": 378,
   "metadata": {},
   "outputs": [],
   "source": [
    "cv2.imshow('color', img_out)\n",
    "cv2.waitKey(0)\n",
    "cv2.destroyAllWindows()"
   ]
  },
  {
   "cell_type": "code",
   "execution_count": null,
   "metadata": {},
   "outputs": [],
   "source": []
  }
 ],
 "metadata": {
  "kernelspec": {
   "display_name": "Python 3",
   "language": "python",
   "name": "python3"
  },
  "language_info": {
   "codemirror_mode": {
    "name": "ipython",
    "version": 3
   },
   "file_extension": ".py",
   "mimetype": "text/x-python",
   "name": "python",
   "nbconvert_exporter": "python",
   "pygments_lexer": "ipython3",
   "version": "3.7.6"
  }
 },
 "nbformat": 4,
 "nbformat_minor": 4
}
