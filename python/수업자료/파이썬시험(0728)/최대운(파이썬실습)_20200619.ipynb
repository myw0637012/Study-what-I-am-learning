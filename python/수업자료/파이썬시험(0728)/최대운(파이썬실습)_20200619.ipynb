{
 "cells": [
  {
   "cell_type": "markdown",
   "metadata": {},
   "source": [
    "---\n",
    "<h1> <center> 파이썬 실습시험 </center> </h1>\n",
    "<h2><center>2020.06.19</center>\n",
    "<br>\n",
    "<center>최 대 운</center> </h2>\n",
    "\n",
    "---"
   ]
  },
  {
   "cell_type": "code",
   "execution_count": 14,
   "metadata": {},
   "outputs": [
    {
     "name": "stdout",
     "output_type": "stream",
     "text": [
      "file_list: ['diet_output.csv']\n"
     ]
    }
   ],
   "source": [
    "#1번\n",
    "import csv\n",
    "import os\n",
    "\n",
    "input_file = './diet.csv'\n",
    "output_file = './data/output.csv'\n",
    "\n",
    "\n",
    "path = \"./data\"\n",
    "\n",
    "if not os.path.isdir(path):\n",
    "    os.mkdir(path)\n",
    "\n",
    "with open(input_file, 'r', newline='') as csv_in_file:\n",
    "   with open(output_file, 'w', newline='') as csv_out_file:\n",
    "      filereader = csv.reader(csv_in_file, delimiter=',')\n",
    "      filewriter = csv.writer(csv_out_file, delimiter=',')\n",
    "      for row_list in filereader:\n",
    "         filewriter.writerow(row_list)\n",
    "\n",
    "os.rename(\"./data/output.csv\",\"./data/diet_output.csv\" )\n",
    "        \n",
    "file_list = os.listdir(path)\n",
    "print(\"file_list: {}\".format(file_list))"
   ]
  },
  {
   "cell_type": "code",
   "execution_count": 15,
   "metadata": {},
   "outputs": [
    {
     "name": "stdout",
     "output_type": "stream",
     "text": [
      "data :25, ,41,171,60,2,60\n",
      "\n",
      "data :1,0,22,159,58,1,54.2\n",
      "\n",
      "data :3,0,55,170,64,1,63.3\n",
      "\n",
      "data :5,0,50,170,65,1,62.2\n",
      "\n",
      "data :7,0,37,174,67,1,65\n",
      "\n",
      "data :9,0,28,165,70,1,68.1\n",
      "\n",
      "data :11,0,60,173,72,1,70.5\n",
      "\n",
      "data :13,0,41,163,72,1,68.4\n",
      "\n",
      "data :27,0,44,174,58,2,60.1\n",
      "\n",
      "data :29,0,41,165,59,2,57.3\n",
      "\n",
      "data :31,0,20,169,62,2,55\n",
      "\n",
      "data :33,0,31,163,63,2,60.3\n",
      "\n",
      "data :35,0,50,166,65,2,62\n",
      "\n",
      "data :37,0,16,165,68,2,63.8\n",
      "\n",
      "data :39,0,30,161,76,2,72.7\n",
      "\n",
      "data :52,0,51,165,60,3,53\n",
      "\n",
      "data :54,0,21,159,64,3,60.6\n",
      "\n",
      "data :56,0,36,160,66,3,58.2\n",
      "\n",
      "data :58,0,35,163,67,3,60.2\n",
      "\n",
      "data :60,0,58,141,70,3,63\n",
      "\n",
      "data :62,0,31,170,72,3,71.1\n",
      "\n",
      "data :64,0,56,171,73,3,68.9\n",
      "\n",
      "data :66,0,41,157,76,3,71\n",
      "\n",
      "data :16,1,31,158,72,1,70.9\n",
      "\n",
      "data :18,1,50,160,78,1,73.9\n",
      "\n",
      "data :20,1,25,165,80,1,77.6\n",
      "\n",
      "data :22,1,42,166,85,1,81.5\n",
      "\n",
      "data :24,1,40,190,88,1,84.5\n",
      "\n",
      "data :42,1,38,199,75,2,72.6\n",
      "\n",
      "data :44,1,33,190,76,2,72.5\n",
      "\n",
      "data :46,1,37,194,78,2,76.3\n",
      "\n",
      "data :48,1,40,171,79,2,72.9\n",
      "\n",
      "data :50,1,39,180,80,2,81.4\n",
      "\n",
      "data :67,1,36,155,71,3,68.5\n",
      "\n",
      "data :69,1,29,166,76,3,72.5\n",
      "\n",
      "data :71,1,31,177,78,3,75.2\n",
      "\n",
      "data :73,1,40,179,79,3,74.5\n",
      "\n",
      "data :75,1,49,177,84,3,79.9\n",
      "\n",
      "data :77,1,40,167,87,3,77.8\n",
      "\n",
      "data :\n"
     ]
    }
   ],
   "source": [
    "#2번\n",
    "import csv\n",
    "import os\n",
    "\n",
    "f = open(\"diet.csv\")\n",
    "reader = csv.reader(f)\n",
    "\n",
    "line_counter = 0\n",
    "header = []\n",
    "flist = []\n",
    "\n",
    "for row in reader :\n",
    "    data = f.readline()\n",
    "    print(\"data :\" + data) # data에 파일을 한 줄씩 불러옴\n",
    "\n",
    "f.close()"
   ]
  },
  {
   "cell_type": "code",
   "execution_count": 16,
   "metadata": {},
   "outputs": [
    {
     "name": "stdout",
     "output_type": "stream",
     "text": [
      "현재 시간은 2020-07-28 10:59:24\n",
      "크리스마스까지 남은 일자 :  149 일\n"
     ]
    }
   ],
   "source": [
    "#3번\n",
    "import time\n",
    "from datetime import datetime, timedelta\n",
    "\n",
    "print(\"현재 시간은\" , time.strftime('%Y-%m-%d %H:%M:%S', time.localtime(time.time())))\n",
    "\n",
    "chrithmas = datetime(2020, 12, 25)\n",
    "now = datetime.now()\n",
    "\n",
    "print('크리스마스까지 남은 일자 : ' , (chrithmas-now).days, '일')"
   ]
  },
  {
   "cell_type": "code",
   "execution_count": 17,
   "metadata": {},
   "outputs": [
    {
     "name": "stdout",
     "output_type": "stream",
     "text": [
      "추첨횟수를 입력하세요 : 6\n",
      "[1, 6, 9, 13, 17, 28]\n",
      "[1, 14, 22, 23, 28, 42]\n",
      "[2, 8, 12, 14, 32, 44]\n",
      "[1, 7, 16, 22, 38, 40]\n",
      "[1, 2, 9, 31, 37, 45]\n",
      "[2, 9, 14, 15, 29, 35]\n"
     ]
    }
   ],
   "source": [
    "#4번\n",
    "import random\n",
    "\n",
    "num = int(input(\"추첨횟수를 입력하세요 : \"))\n",
    "\n",
    "for i in range(0,num):\n",
    "    lotto = random.sample(range(1,46),6)\n",
    "    lotto.sort()\n",
    "    print(lotto)\n"
   ]
  },
  {
   "cell_type": "code",
   "execution_count": null,
   "metadata": {},
   "outputs": [],
   "source": []
  }
 ],
 "metadata": {
  "kernelspec": {
   "display_name": "Python 3",
   "language": "python",
   "name": "python3"
  }
 },
 "nbformat": 4,
 "nbformat_minor": 2
}
