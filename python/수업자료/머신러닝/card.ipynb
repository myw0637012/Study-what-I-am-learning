{
 "cells": [
  {
   "cell_type": "code",
   "execution_count": null,
   "metadata": {
    "colab": {
     "base_uri": "https://localhost:8080/",
     "height": 127
    },
    "colab_type": "code",
    "executionInfo": {
     "elapsed": 29364,
     "status": "ok",
     "timestamp": 1594947939706,
     "user": {
      "displayName": "최대운",
      "photoUrl": "",
      "userId": "02401015039773559263"
     },
     "user_tz": -540
    },
    "id": "exOOFyAugZqw",
    "outputId": "b168b0fa-88cd-4d28-c822-94c3ac6cc2de"
   },
   "outputs": [
    {
     "name": "stdout",
     "output_type": "stream",
     "text": [
      "Go to this URL in a browser: https://accounts.google.com/o/oauth2/auth?client_id=947318989803-6bn6qk8qdgf4n4g3pfee6491hc0brc4i.apps.googleusercontent.com&redirect_uri=urn%3aietf%3awg%3aoauth%3a2.0%3aoob&response_type=code&scope=email%20https%3a%2f%2fwww.googleapis.com%2fauth%2fdocs.test%20https%3a%2f%2fwww.googleapis.com%2fauth%2fdrive%20https%3a%2f%2fwww.googleapis.com%2fauth%2fdrive.photos.readonly%20https%3a%2f%2fwww.googleapis.com%2fauth%2fpeopleapi.readonly\n",
      "\n",
      "Enter your authorization code:\n",
      "··········\n",
      "Mounted at /content/drive\n"
     ]
    }
   ],
   "source": [
    "# Google Drive와 마운트\n",
    "from google.colab import drive\n",
    "ROOT = '/content/drive'\n",
    "drive.mount(ROOT)"
   ]
  },
  {
   "cell_type": "code",
   "execution_count": null,
   "metadata": {
    "colab": {
     "base_uri": "https://localhost:8080/",
     "height": 35
    },
    "colab_type": "code",
    "executionInfo": {
     "elapsed": 729,
     "status": "ok",
     "timestamp": 1594947943104,
     "user": {
      "displayName": "최대운",
      "photoUrl": "",
      "userId": "02401015039773559263"
     },
     "user_tz": -540
    },
    "id": "N86nqYoDuwJQ",
    "outputId": "92bd557c-51ae-4c87-ba0d-c36ecbb2bb41"
   },
   "outputs": [
    {
     "name": "stdout",
     "output_type": "stream",
     "text": [
      "/content/drive/My Drive/Colab Notebooks/hkit301/data\n"
     ]
    }
   ],
   "source": [
    "# Project Folder 연결\n",
    "from os.path import join  \n",
    "\n",
    "MY_GOOGLE_DRIVE_PATH = 'My Drive/Colab Notebooks/hkit301/data'\n",
    "PROJECT_PATH = join(ROOT, MY_GOOGLE_DRIVE_PATH)\n",
    "print(PROJECT_PATH)"
   ]
  },
  {
   "cell_type": "markdown",
   "metadata": {
    "colab_type": "text",
    "id": "MJdfs6OEtLW5"
   },
   "source": [
    "## 프로젝트 경로 재확인"
   ]
  },
  {
   "cell_type": "code",
   "execution_count": null,
   "metadata": {
    "colab": {
     "base_uri": "https://localhost:8080/",
     "height": 35
    },
    "colab_type": "code",
    "executionInfo": {
     "elapsed": 695,
     "status": "ok",
     "timestamp": 1594947945704,
     "user": {
      "displayName": "최대운",
      "photoUrl": "",
      "userId": "02401015039773559263"
     },
     "user_tz": -540
    },
    "id": "NZdu7E-SviMq",
    "outputId": "9c0cc7ff-894f-49de-b525-f842bb399281"
   },
   "outputs": [
    {
     "name": "stdout",
     "output_type": "stream",
     "text": [
      "/content/drive/My Drive/Colab Notebooks/hkit301/data\n"
     ]
    }
   ],
   "source": [
    "%cd \"{PROJECT_PATH}\""
   ]
  },
  {
   "cell_type": "markdown",
   "metadata": {
    "colab_type": "text",
    "id": "kNbENxd5tThu"
   },
   "source": [
    "##### 구글드라이브 및 빅쿼리 프로젝트에 있는 csv파일에서 pandas로 데이터 불러들이기(시간 좀 걸림)"
   ]
  },
  {
   "cell_type": "code",
   "execution_count": null,
   "metadata": {
    "colab": {
     "base_uri": "https://localhost:8080/",
     "height": 53
    },
    "colab_type": "code",
    "executionInfo": {
     "elapsed": 592692,
     "status": "ok",
     "timestamp": 1594948540256,
     "user": {
      "displayName": "최대운",
      "photoUrl": "",
      "userId": "02401015039773559263"
     },
     "user_tz": -540
    },
    "id": "pw3LapgWv1hY",
    "outputId": "6b064814-5c10-4346-9eb8-5716513492a9"
   },
   "outputs": [
    {
     "name": "stderr",
     "output_type": "stream",
     "text": [
      "1it [00:03,  3.13s/it]\n",
      "1it [08:52, 532.02s/it]\n"
     ]
    }
   ],
   "source": [
    "import pandas as pd\n",
    "from pandas.io import gbq\n",
    "\n",
    "# import submission file in Google Drive\n",
    "submission = pd.read_csv('submission.csv')\n",
    "\n",
    "# Connect to Google Cloud API and Upload DataFrame\n",
    "submission.to_gbq(destination_table='jeju_data_ver1.submission', \n",
    "                  project_id='cardproject-283503', \n",
    "                  if_exists='replace')\n",
    "\n",
    "# import submission file in Google Drive\n",
    "train = pd.read_csv('201901-202003.csv')\n",
    "\n",
    "# Connect to Google Cloud API and Upload DataFrame\n",
    "train.to_gbq(destination_table='jeju_data_ver1.201901_202003_train', \n",
    "                  project_id='cardproject-283503', \n",
    "                  if_exists='replace')"
   ]
  },
  {
   "cell_type": "markdown",
   "metadata": {
    "colab_type": "text",
    "id": "_Tn7wILhtuCc"
   },
   "source": [
    "먼저 구글 코랩 내에서 pandas_profiling을 확인하기 위해 master.zip을 설치한다.\n",
    "- ref. https://github.com/pandas-profiling/pandas-profiling\n",
    "- 설치가 끝나면 구글코랩에서 런타임 다시 시작 한다."
   ]
  },
  {
   "cell_type": "code",
   "execution_count": null,
   "metadata": {
    "colab": {
     "base_uri": "https://localhost:8080/",
     "height": 1000
    },
    "colab_type": "code",
    "executionInfo": {
     "elapsed": 7653,
     "status": "ok",
     "timestamp": 1594953428519,
     "user": {
      "displayName": "최대운",
      "photoUrl": "",
      "userId": "02401015039773559263"
     },
     "user_tz": -540
    },
    "id": "vsjh3Hb0mC8Z",
    "outputId": "2d474272-1eb9-45ae-d439-8c7f90f031ef"
   },
   "outputs": [
    {
     "name": "stdout",
     "output_type": "stream",
     "text": [
      "Collecting https://github.com/pandas-profiling/pandas-profiling/archive/master.zip\n",
      "  Using cached https://github.com/pandas-profiling/pandas-profiling/archive/master.zip\n",
      "Requirement already satisfied (use --upgrade to upgrade): pandas-profiling==2.9.0rc1 from https://github.com/pandas-profiling/pandas-profiling/archive/master.zip in /usr/local/lib/python3.6/dist-packages\n",
      "Requirement already satisfied: joblib in /usr/local/lib/python3.6/dist-packages (from pandas-profiling==2.9.0rc1) (0.16.0)\n",
      "Requirement already satisfied: scipy>=1.4.1 in /usr/local/lib/python3.6/dist-packages (from pandas-profiling==2.9.0rc1) (1.4.1)\n",
      "Requirement already satisfied: pandas!=1.0.0,!=1.0.1,!=1.0.2,>=0.25.3 in /usr/local/lib/python3.6/dist-packages (from pandas-profiling==2.9.0rc1) (1.0.5)\n",
      "Requirement already satisfied: matplotlib>=3.2.0 in /usr/local/lib/python3.6/dist-packages (from pandas-profiling==2.9.0rc1) (3.2.2)\n",
      "Requirement already satisfied: confuse>=1.0.0 in /usr/local/lib/python3.6/dist-packages (from pandas-profiling==2.9.0rc1) (1.3.0)\n",
      "Requirement already satisfied: jinja2>=2.11.1 in /usr/local/lib/python3.6/dist-packages (from pandas-profiling==2.9.0rc1) (2.11.2)\n",
      "Requirement already satisfied: visions[type_image_path]==0.4.4 in /usr/local/lib/python3.6/dist-packages (from pandas-profiling==2.9.0rc1) (0.4.4)\n",
      "Requirement already satisfied: numpy>=1.16.0 in /usr/local/lib/python3.6/dist-packages (from pandas-profiling==2.9.0rc1) (1.18.5)\n",
      "Requirement already satisfied: attrs>=19.3.0 in /usr/local/lib/python3.6/dist-packages (from pandas-profiling==2.9.0rc1) (19.3.0)\n",
      "Requirement already satisfied: htmlmin>=0.1.12 in /usr/local/lib/python3.6/dist-packages (from pandas-profiling==2.9.0rc1) (0.1.12)\n",
      "Requirement already satisfied: missingno>=0.4.2 in /usr/local/lib/python3.6/dist-packages (from pandas-profiling==2.9.0rc1) (0.4.2)\n",
      "Requirement already satisfied: phik>=0.9.10 in /usr/local/lib/python3.6/dist-packages (from pandas-profiling==2.9.0rc1) (0.10.0)\n",
      "Requirement already satisfied: tangled-up-in-unicode>=0.0.6 in /usr/local/lib/python3.6/dist-packages (from pandas-profiling==2.9.0rc1) (0.0.6)\n",
      "Requirement already satisfied: requests>=2.23.0 in /usr/local/lib/python3.6/dist-packages (from pandas-profiling==2.9.0rc1) (2.23.0)\n",
      "Requirement already satisfied: tqdm>=4.43.0 in /usr/local/lib/python3.6/dist-packages (from pandas-profiling==2.9.0rc1) (4.48.0)\n",
      "Requirement already satisfied: ipywidgets>=7.5.1 in /usr/local/lib/python3.6/dist-packages (from pandas-profiling==2.9.0rc1) (7.5.1)\n",
      "Requirement already satisfied: seaborn>=0.10.1 in /usr/local/lib/python3.6/dist-packages (from pandas-profiling==2.9.0rc1) (0.10.1)\n",
      "Requirement already satisfied: python-dateutil>=2.6.1 in /usr/local/lib/python3.6/dist-packages (from pandas!=1.0.0,!=1.0.1,!=1.0.2,>=0.25.3->pandas-profiling==2.9.0rc1) (2.8.1)\n",
      "Requirement already satisfied: pytz>=2017.2 in /usr/local/lib/python3.6/dist-packages (from pandas!=1.0.0,!=1.0.1,!=1.0.2,>=0.25.3->pandas-profiling==2.9.0rc1) (2018.9)\n",
      "Requirement already satisfied: pyparsing!=2.0.4,!=2.1.2,!=2.1.6,>=2.0.1 in /usr/local/lib/python3.6/dist-packages (from matplotlib>=3.2.0->pandas-profiling==2.9.0rc1) (2.4.7)\n",
      "Requirement already satisfied: cycler>=0.10 in /usr/local/lib/python3.6/dist-packages (from matplotlib>=3.2.0->pandas-profiling==2.9.0rc1) (0.10.0)\n",
      "Requirement already satisfied: kiwisolver>=1.0.1 in /usr/local/lib/python3.6/dist-packages (from matplotlib>=3.2.0->pandas-profiling==2.9.0rc1) (1.2.0)\n",
      "Requirement already satisfied: pyyaml in /usr/local/lib/python3.6/dist-packages (from confuse>=1.0.0->pandas-profiling==2.9.0rc1) (3.13)\n",
      "Requirement already satisfied: MarkupSafe>=0.23 in /usr/local/lib/python3.6/dist-packages (from jinja2>=2.11.1->pandas-profiling==2.9.0rc1) (1.1.1)\n",
      "Requirement already satisfied: networkx>=2.4 in /usr/local/lib/python3.6/dist-packages (from visions[type_image_path]==0.4.4->pandas-profiling==2.9.0rc1) (2.4)\n",
      "Requirement already satisfied: imagehash; extra == \"type_image_path\" in /usr/local/lib/python3.6/dist-packages (from visions[type_image_path]==0.4.4->pandas-profiling==2.9.0rc1) (4.1.0)\n",
      "Requirement already satisfied: Pillow; extra == \"type_image_path\" in /usr/local/lib/python3.6/dist-packages (from visions[type_image_path]==0.4.4->pandas-profiling==2.9.0rc1) (7.0.0)\n",
      "Requirement already satisfied: numba>=0.38.1 in /usr/local/lib/python3.6/dist-packages (from phik>=0.9.10->pandas-profiling==2.9.0rc1) (0.48.0)\n",
      "Requirement already satisfied: certifi>=2017.4.17 in /usr/local/lib/python3.6/dist-packages (from requests>=2.23.0->pandas-profiling==2.9.0rc1) (2020.6.20)\n",
      "Requirement already satisfied: urllib3!=1.25.0,!=1.25.1,<1.26,>=1.21.1 in /usr/local/lib/python3.6/dist-packages (from requests>=2.23.0->pandas-profiling==2.9.0rc1) (1.24.3)\n",
      "Requirement already satisfied: idna<3,>=2.5 in /usr/local/lib/python3.6/dist-packages (from requests>=2.23.0->pandas-profiling==2.9.0rc1) (2.10)\n",
      "Requirement already satisfied: chardet<4,>=3.0.2 in /usr/local/lib/python3.6/dist-packages (from requests>=2.23.0->pandas-profiling==2.9.0rc1) (3.0.4)\n",
      "Requirement already satisfied: ipykernel>=4.5.1 in /usr/local/lib/python3.6/dist-packages (from ipywidgets>=7.5.1->pandas-profiling==2.9.0rc1) (4.10.1)\n",
      "Requirement already satisfied: ipython>=4.0.0; python_version >= \"3.3\" in /usr/local/lib/python3.6/dist-packages (from ipywidgets>=7.5.1->pandas-profiling==2.9.0rc1) (5.5.0)\n",
      "Requirement already satisfied: nbformat>=4.2.0 in /usr/local/lib/python3.6/dist-packages (from ipywidgets>=7.5.1->pandas-profiling==2.9.0rc1) (5.0.7)\n",
      "Requirement already satisfied: widgetsnbextension~=3.5.0 in /usr/local/lib/python3.6/dist-packages (from ipywidgets>=7.5.1->pandas-profiling==2.9.0rc1) (3.5.1)\n",
      "Requirement already satisfied: traitlets>=4.3.1 in /usr/local/lib/python3.6/dist-packages (from ipywidgets>=7.5.1->pandas-profiling==2.9.0rc1) (4.3.3)\n",
      "Requirement already satisfied: six>=1.5 in /usr/local/lib/python3.6/dist-packages (from python-dateutil>=2.6.1->pandas!=1.0.0,!=1.0.1,!=1.0.2,>=0.25.3->pandas-profiling==2.9.0rc1) (1.12.0)\n",
      "Requirement already satisfied: decorator>=4.3.0 in /usr/local/lib/python3.6/dist-packages (from networkx>=2.4->visions[type_image_path]==0.4.4->pandas-profiling==2.9.0rc1) (4.4.2)\n",
      "Requirement already satisfied: PyWavelets in /usr/local/lib/python3.6/dist-packages (from imagehash; extra == \"type_image_path\"->visions[type_image_path]==0.4.4->pandas-profiling==2.9.0rc1) (1.1.1)\n",
      "Requirement already satisfied: setuptools in /usr/local/lib/python3.6/dist-packages (from numba>=0.38.1->phik>=0.9.10->pandas-profiling==2.9.0rc1) (49.1.0)\n",
      "Requirement already satisfied: llvmlite<0.32.0,>=0.31.0dev0 in /usr/local/lib/python3.6/dist-packages (from numba>=0.38.1->phik>=0.9.10->pandas-profiling==2.9.0rc1) (0.31.0)\n",
      "Requirement already satisfied: tornado>=4.0 in /usr/local/lib/python3.6/dist-packages (from ipykernel>=4.5.1->ipywidgets>=7.5.1->pandas-profiling==2.9.0rc1) (4.5.3)\n",
      "Requirement already satisfied: jupyter-client in /usr/local/lib/python3.6/dist-packages (from ipykernel>=4.5.1->ipywidgets>=7.5.1->pandas-profiling==2.9.0rc1) (5.3.5)\n",
      "Requirement already satisfied: pickleshare in /usr/local/lib/python3.6/dist-packages (from ipython>=4.0.0; python_version >= \"3.3\"->ipywidgets>=7.5.1->pandas-profiling==2.9.0rc1) (0.7.5)\n",
      "Requirement already satisfied: prompt-toolkit<2.0.0,>=1.0.4 in /usr/local/lib/python3.6/dist-packages (from ipython>=4.0.0; python_version >= \"3.3\"->ipywidgets>=7.5.1->pandas-profiling==2.9.0rc1) (1.0.18)\n",
      "Requirement already satisfied: pygments in /usr/local/lib/python3.6/dist-packages (from ipython>=4.0.0; python_version >= \"3.3\"->ipywidgets>=7.5.1->pandas-profiling==2.9.0rc1) (2.1.3)\n",
      "Requirement already satisfied: pexpect; sys_platform != \"win32\" in /usr/local/lib/python3.6/dist-packages (from ipython>=4.0.0; python_version >= \"3.3\"->ipywidgets>=7.5.1->pandas-profiling==2.9.0rc1) (4.8.0)\n",
      "Requirement already satisfied: simplegeneric>0.8 in /usr/local/lib/python3.6/dist-packages (from ipython>=4.0.0; python_version >= \"3.3\"->ipywidgets>=7.5.1->pandas-profiling==2.9.0rc1) (0.8.1)\n",
      "Requirement already satisfied: jsonschema!=2.5.0,>=2.4 in /usr/local/lib/python3.6/dist-packages (from nbformat>=4.2.0->ipywidgets>=7.5.1->pandas-profiling==2.9.0rc1) (2.6.0)\n",
      "Requirement already satisfied: ipython-genutils in /usr/local/lib/python3.6/dist-packages (from nbformat>=4.2.0->ipywidgets>=7.5.1->pandas-profiling==2.9.0rc1) (0.2.0)\n",
      "Requirement already satisfied: jupyter-core in /usr/local/lib/python3.6/dist-packages (from nbformat>=4.2.0->ipywidgets>=7.5.1->pandas-profiling==2.9.0rc1) (4.6.3)\n",
      "Requirement already satisfied: notebook>=4.4.1 in /usr/local/lib/python3.6/dist-packages (from widgetsnbextension~=3.5.0->ipywidgets>=7.5.1->pandas-profiling==2.9.0rc1) (5.2.2)\n",
      "Requirement already satisfied: pyzmq>=13 in /usr/local/lib/python3.6/dist-packages (from jupyter-client->ipykernel>=4.5.1->ipywidgets>=7.5.1->pandas-profiling==2.9.0rc1) (19.0.1)\n",
      "Requirement already satisfied: wcwidth in /usr/local/lib/python3.6/dist-packages (from prompt-toolkit<2.0.0,>=1.0.4->ipython>=4.0.0; python_version >= \"3.3\"->ipywidgets>=7.5.1->pandas-profiling==2.9.0rc1) (0.2.5)\n",
      "Requirement already satisfied: ptyprocess>=0.5 in /usr/local/lib/python3.6/dist-packages (from pexpect; sys_platform != \"win32\"->ipython>=4.0.0; python_version >= \"3.3\"->ipywidgets>=7.5.1->pandas-profiling==2.9.0rc1) (0.6.0)\n",
      "Requirement already satisfied: terminado>=0.3.3; sys_platform != \"win32\" in /usr/local/lib/python3.6/dist-packages (from notebook>=4.4.1->widgetsnbextension~=3.5.0->ipywidgets>=7.5.1->pandas-profiling==2.9.0rc1) (0.8.3)\n",
      "Requirement already satisfied: nbconvert in /usr/local/lib/python3.6/dist-packages (from notebook>=4.4.1->widgetsnbextension~=3.5.0->ipywidgets>=7.5.1->pandas-profiling==2.9.0rc1) (5.6.1)\n",
      "Requirement already satisfied: bleach in /usr/local/lib/python3.6/dist-packages (from nbconvert->notebook>=4.4.1->widgetsnbextension~=3.5.0->ipywidgets>=7.5.1->pandas-profiling==2.9.0rc1) (3.1.5)\n",
      "Requirement already satisfied: defusedxml in /usr/local/lib/python3.6/dist-packages (from nbconvert->notebook>=4.4.1->widgetsnbextension~=3.5.0->ipywidgets>=7.5.1->pandas-profiling==2.9.0rc1) (0.6.0)\n",
      "Requirement already satisfied: mistune<2,>=0.8.1 in /usr/local/lib/python3.6/dist-packages (from nbconvert->notebook>=4.4.1->widgetsnbextension~=3.5.0->ipywidgets>=7.5.1->pandas-profiling==2.9.0rc1) (0.8.4)\n",
      "Requirement already satisfied: testpath in /usr/local/lib/python3.6/dist-packages (from nbconvert->notebook>=4.4.1->widgetsnbextension~=3.5.0->ipywidgets>=7.5.1->pandas-profiling==2.9.0rc1) (0.4.4)\n",
      "Requirement already satisfied: entrypoints>=0.2.2 in /usr/local/lib/python3.6/dist-packages (from nbconvert->notebook>=4.4.1->widgetsnbextension~=3.5.0->ipywidgets>=7.5.1->pandas-profiling==2.9.0rc1) (0.3)\n",
      "Requirement already satisfied: pandocfilters>=1.4.1 in /usr/local/lib/python3.6/dist-packages (from nbconvert->notebook>=4.4.1->widgetsnbextension~=3.5.0->ipywidgets>=7.5.1->pandas-profiling==2.9.0rc1) (1.4.2)\n",
      "Requirement already satisfied: packaging in /usr/local/lib/python3.6/dist-packages (from bleach->nbconvert->notebook>=4.4.1->widgetsnbextension~=3.5.0->ipywidgets>=7.5.1->pandas-profiling==2.9.0rc1) (20.4)\n",
      "Requirement already satisfied: webencodings in /usr/local/lib/python3.6/dist-packages (from bleach->nbconvert->notebook>=4.4.1->widgetsnbextension~=3.5.0->ipywidgets>=7.5.1->pandas-profiling==2.9.0rc1) (0.5.1)\n",
      "Building wheels for collected packages: pandas-profiling\n",
      "  Building wheel for pandas-profiling (setup.py) ... \u001b[?25l\u001b[?25hdone\n",
      "  Created wheel for pandas-profiling: filename=pandas_profiling-2.9.0rc1-py2.py3-none-any.whl size=258106 sha256=6aed075cd3d55b71d2b6c726751038978744f0d9969767f22675f35c9e446305\n",
      "  Stored in directory: /tmp/pip-ephem-wheel-cache-dzb6_w9w/wheels/56/c2/dd/8d945b0443c35df7d5f62fa9e9ae105a2d8b286302b92e0109\n",
      "Successfully built pandas-profiling\n"
     ]
    }
   ],
   "source": [
    "!pip install https://github.com/pandas-profiling/pandas-profiling/archive/master.zip"
   ]
  },
  {
   "cell_type": "markdown",
   "metadata": {
    "colab_type": "text",
    "id": "pB9TMvlpu_-L"
   },
   "source": [
    "## (1) XGboost 개요\n",
    "- 트리기반의 앙상블 학습 알고리즘\n",
    "- 논문: XGBoost: A Scalable Tree Boosting System\n",
    "- 가장 좋은 공부는 논문을 빠르게 리뷰하는 것이다.\n",
    "- Xgboost는 GBM에 기반하고 있지만, 기존의 GBM의 단점을 보완하였다.\n",
    "- 또하나는 기존 알고리즘의 단점인 과적합 규제(Regularization) 부재 등의 문제를 해결하였다.\n",
    "- 또다른 장점은, CPU환경에서 병렬학습이 가능해서 기존 GBM보다 학습이 빠르다.\n",
    "- 속도를 측정하는 방법은 추후 기회가 되면 포스팅을 진행한다.\n",
    "- 나무 가지치기(Tree Pruning): 쓸모없는 가지는 불필요햔 영양분만 가져간다, 이런 경우에는 가지를 쳐서 영양분이 좋은 곳에 갈 수 있도록 유도한다.\n",
    "- 마찬가지로, 긍정 이득이 없는 분할을 가지치기 해서 분할 수를 더 줄이는 추가적인 장점이 있다.\n",
    "- 결손값 자체 처리: XGBoost는 결손값을 자체 처리할 수 있는 기능을 가진다."
   ]
  },
  {
   "cell_type": "markdown",
   "metadata": {
    "colab_type": "text",
    "id": "_P1e8dghuBFs"
   },
   "source": [
    "## (2) XGboost 설치\n",
    "- 설치방법은 여러가지가 있다. (Conda, Pypl)\n",
    "- 자세한 내용은 설치가이드를 참조하기를 바란다.\n",
    "- 다행히, Google Colab에서는 자유롭게 사용할 수 있다."
   ]
  },
  {
   "cell_type": "code",
   "execution_count": null,
   "metadata": {
    "colab": {
     "base_uri": "https://localhost:8080/",
     "height": 35
    },
    "colab_type": "code",
    "executionInfo": {
     "elapsed": 982,
     "status": "ok",
     "timestamp": 1594953440767,
     "user": {
      "displayName": "최대운",
      "photoUrl": "",
      "userId": "02401015039773559263"
     },
     "user_tz": -540
    },
    "id": "WlY0YTwYoaKH",
    "outputId": "f30dafcb-40e7-4f70-f143-bb8536fc6b89"
   },
   "outputs": [
    {
     "name": "stdout",
     "output_type": "stream",
     "text": [
      "0.90\n"
     ]
    }
   ],
   "source": [
    "from xgboost import XGBRegressor\n",
    "import xgboost\n",
    "print(xgboost.__version__)"
   ]
  },
  {
   "cell_type": "markdown",
   "metadata": {
    "colab_type": "text",
    "id": "6kzEdpkauvEG"
   },
   "source": [
    "## (3) XGboost 기본 실습\n",
    "- 본 데이터에서 적용하기 전, 간단하게 회귀모형을 만들고 예측하는 코드를 작성한다."
   ]
  },
  {
   "cell_type": "code",
   "execution_count": null,
   "metadata": {
    "colab": {
     "base_uri": "https://localhost:8080/",
     "height": 179
    },
    "colab_type": "code",
    "executionInfo": {
     "elapsed": 716,
     "status": "ok",
     "timestamp": 1594953452869,
     "user": {
      "displayName": "최대운",
      "photoUrl": "",
      "userId": "02401015039773559263"
     },
     "user_tz": -540
    },
    "id": "skdk3TR-ohoG",
    "outputId": "2c091ac7-4d27-4a8f-c7df-17fc0c7f4eab"
   },
   "outputs": [
    {
     "name": "stdout",
     "output_type": "stream",
     "text": [
      "XGBRegressor(base_score=0.5, booster='gbtree', colsample_bylevel=1,\n",
      "             colsample_bynode=1, colsample_bytree=1, gamma=0,\n",
      "             importance_type='gain', learning_rate=0.1, max_delta_step=0,\n",
      "             max_depth=3, min_child_weight=1, missing=None, n_estimators=100,\n",
      "             n_jobs=1, nthread=None, objective='reg:linear', random_state=0,\n",
      "             reg_alpha=0, reg_lambda=1, scale_pos_weight=1, seed=None,\n",
      "             silent=None, subsample=1, verbosity=0)\n",
      "Training score:  0.9749120480780799\n",
      "MSE: 7.22\n"
     ]
    }
   ],
   "source": [
    "# 데이터셋 분리\n",
    "from sklearn.model_selection import train_test_split\n",
    "\n",
    "# 데이터 수집\n",
    "from sklearn.datasets import load_boston\n",
    "\n",
    "# 평가 메트릭\n",
    "from sklearn.metrics import mean_squared_error, mean_absolute_error\n",
    "\n",
    "# 데이터 수집\n",
    "boston = load_boston()\n",
    "x, y = boston.data, boston.target\n",
    "\n",
    "# 데이터 분리\n",
    "X_train, X_test, y_train, y_test=train_test_split(x, y, test_size=0.15, random_state = 1)\n",
    "\n",
    "xgb_reg = XGBRegressor(verbosity=0) \n",
    "print(xgb_reg)\n",
    "\n",
    "xgb_reg.fit(X_train, y_train)\n",
    "score = xgb_reg.score(X_train, y_train)  \n",
    "print(\"Training score: \", score)\n",
    "\n",
    "y_pred = xgb_reg.predict(X_test)\n",
    "mse = mean_squared_error(y_test, y_pred)\n",
    "print(\"MSE: %.2f\" % mse)"
   ]
  },
  {
   "cell_type": "markdown",
   "metadata": {
    "colab_type": "text",
    "id": "bKecy8kuu4rC"
   },
   "source": [
    "## (4) LightGBM 개요\n",
    "- LightGBM과 XGBoost의 가장 큰 차이점은 연산속도이다.\n",
    "- 기존의 GBM계열은 균형 트리 분할 방법(Level Wise)을 사용한다.\n",
    "- 기존 방식에서는 보통 균형 잡힌 트리(Level Wise)를 채택하는데, 그 이유는 오버피팅에 보다 더 강한 구조를 가질 수 있다고 알려져 있기 때문이다.\n",
    "- 그러나, 이는 시간이 더 많이 필요하다는 단점이 있다.\n",
    "- LightGBM은 Leaf 중심 트리 분할 방식을 사용한다.\n",
    "- 트리의 균형을 맞추지 않고, 최대 손실 값(max delta loss)을 가지는 리프 노드를 지속적으로 분할한다.\n",
    "- 최대 손실값을 찾아서 리프 노드를 지속적으로 분할해 생성된 규칙 드리를 학습할수록 결국은 균형 트리 분할 방식보다 예측 오류 손실을 최소화 할 수 있다.\n",
    "- 또 다른 특징은, GPU를 지원하고 있고, 병렬 컴퓨팅 기능을 제공하고 있다.\n",
    "- 이는 대용량 데이터를 학습할 때, 보다 빠르게 학습시킬 수 있음을 의미한다."
   ]
  },
  {
   "cell_type": "markdown",
   "metadata": {
    "colab_type": "text",
    "id": "g6W4r2HawBwq"
   },
   "source": [
    "## (5) LightGBM 설치\n",
    "- 설치방법은 OS마다 다르기 때문에 공식 설치 문서를 참조한다.\n",
    "- 다행히 구글 Colab에서도 lightgbm을 사용할 수 있다."
   ]
  },
  {
   "cell_type": "code",
   "execution_count": null,
   "metadata": {
    "colab": {
     "base_uri": "https://localhost:8080/",
     "height": 35
    },
    "colab_type": "code",
    "executionInfo": {
     "elapsed": 681,
     "status": "ok",
     "timestamp": 1594953462927,
     "user": {
      "displayName": "최대운",
      "photoUrl": "",
      "userId": "02401015039773559263"
     },
     "user_tz": -540
    },
    "id": "CTOCLpcdokpO",
    "outputId": "8d9ad994-e7fb-4e8d-8184-7393abe79911"
   },
   "outputs": [
    {
     "name": "stdout",
     "output_type": "stream",
     "text": [
      "2.2.3\n"
     ]
    }
   ],
   "source": [
    "import lightgbm\n",
    "from lightgbm import LGBMRegressor\n",
    "print(lightgbm.__version__)"
   ]
  },
  {
   "cell_type": "markdown",
   "metadata": {
    "colab_type": "text",
    "id": "nmSvN7AJwIST"
   },
   "source": [
    "## (6) LightGBM 실습\n",
    "- 본 데이터에서 적용하기 전, 간단하게 회귀모형을 만들고 예측하는 코드를 작성한다."
   ]
  },
  {
   "cell_type": "code",
   "execution_count": null,
   "metadata": {
    "colab": {
     "base_uri": "https://localhost:8080/",
     "height": 179
    },
    "colab_type": "code",
    "executionInfo": {
     "elapsed": 719,
     "status": "ok",
     "timestamp": 1594953474800,
     "user": {
      "displayName": "최대운",
      "photoUrl": "",
      "userId": "02401015039773559263"
     },
     "user_tz": -540
    },
    "id": "F5tBgacronG-",
    "outputId": "c0647929-49cf-406d-f474-8588c18b8582"
   },
   "outputs": [
    {
     "name": "stdout",
     "output_type": "stream",
     "text": [
      "LGBMRegressor(boosting_type='gbdt', class_weight=None, colsample_bytree=1.0,\n",
      "              importance_type='split', learning_rate=0.1, max_depth=-1,\n",
      "              min_child_samples=20, min_child_weight=0.001, min_split_gain=0.0,\n",
      "              n_estimators=100, n_jobs=-1, num_leaves=31, objective=None,\n",
      "              random_state=None, reg_alpha=0.0, reg_lambda=0.0, silent=True,\n",
      "              subsample=1.0, subsample_for_bin=200000, subsample_freq=0,\n",
      "              verbosity=0)\n",
      "Training score:  0.9799082762820248\n",
      "MSE: 9.44\n"
     ]
    }
   ],
   "source": [
    "# 데이터셋 분리\n",
    "from sklearn.model_selection import train_test_split\n",
    "\n",
    "# 데이터 수집\n",
    "from sklearn.datasets import load_boston\n",
    "\n",
    "# 평가 메트릭\n",
    "from sklearn.metrics import mean_squared_error, mean_absolute_error\n",
    "\n",
    "# 데이터 수집\n",
    "boston = load_boston()\n",
    "x, y = boston.data, boston.target\n",
    "\n",
    "# 데이터 분리\n",
    "X_training, X_testing, y_training, y_testing = train_test_split(x, y, test_size=0.15, random_state = 1)\n",
    "\n",
    "lgb_reg = LGBMRegressor(verbosity=0) \n",
    "print(lgb_reg)\n",
    "\n",
    "lgb_reg.fit(X_training, y_training)\n",
    "score = lgb_reg.score(X_training, y_training)  \n",
    "print(\"Training score: \", score)\n",
    "\n",
    "y_pred = lgb_reg.predict(X_testing)\n",
    "mse = mean_squared_error(y_testing, y_pred)\n",
    "print(\"MSE: %.2f\" % mse)"
   ]
  },
  {
   "cell_type": "markdown",
   "metadata": {
    "colab_type": "text",
    "id": "-fyY7s9Ywt6V"
   },
   "source": [
    "# II. 스태킹(Stacking) 알고리즘\n",
    "- D. H. Wolpert(1992)가 Stacked Generalization이름으로 처음 제안함\n",
    "\n",
    "- 그후 2015년에 Kaggle 대회에서 소개되면서 퍼지기 시작함\n",
    "- ref. https://wolpert.readthedocs.io/en/latest/user_guide/intro.html\n",
    "- 개별적인 여러 알고리즘을 서로 결합해 예측 결과를 도출한다.\n",
    "\n",
    "- 개별 알고리즘으로 예측한 데이터를 기반으로 다시 예측을 수행함"
   ]
  },
  {
   "cell_type": "markdown",
   "metadata": {
    "colab_type": "text",
    "id": "FB6_Zl0Pw1RI"
   },
   "source": [
    "- 스태킹은 크게 두 종류의 모델이 필요함\n",
    "\n",
    "- 개별적인 기반 모델 (SVM, Randomforest, etc)\n",
    "- 개별 기반 모델의 예측 데이터를 학습 데이터로 만들어서 학습하는 최종 메타 모델\n",
    "- 스테킹 모델의 핵심은 여러 개별 모델의 예측 데이터를 각각 스태킹 형태로 결합 최종 메티 모델의 학습용 피처 데이터 세트와 테스트용 피처 데이터 세트를 만드는 것.\n",
    "- 단, 현실 모델에 적용하는 많지 않으나, 캐글과 같은 대회에서는 자주 사용된다고 함.\n",
    "\n",
    "- 성능 수치를 올리는 것이 중요함\n",
    "# (1) 스태킹 알고리즘 개념 예제\n",
    "- 간단한 예제를 통해 원리를 확인한다.\n",
    "- 소스코드 참조: 파이썬 머신러닝 가이드 (p.280)"
   ]
  },
  {
   "cell_type": "code",
   "execution_count": null,
   "metadata": {
    "colab": {
     "base_uri": "https://localhost:8080/",
     "height": 89
    },
    "colab_type": "code",
    "executionInfo": {
     "elapsed": 1028,
     "status": "ok",
     "timestamp": 1594953490865,
     "user": {
      "displayName": "최대운",
      "photoUrl": "",
      "userId": "02401015039773559263"
     },
     "user_tz": -540
    },
    "id": "qdgdCDgrop_2",
    "outputId": "779b5f62-d4d2-42a2-cbf4-6a776eb7340a"
   },
   "outputs": [
    {
     "name": "stdout",
     "output_type": "stream",
     "text": [
      "KNN 정확도: 0.9211\n",
      "랜덤 포레스트 정확도: 0.9649\n",
      "결정 트리 정확도: 0.9123\n",
      "에이다부스트 정확도: 0.9561 :\n"
     ]
    }
   ],
   "source": [
    "import numpy as np\n",
    "\n",
    "from sklearn.neighbors import KNeighborsClassifier\n",
    "from sklearn.ensemble import RandomForestClassifier\n",
    "from sklearn.ensemble import AdaBoostClassifier\n",
    "from sklearn.tree import DecisionTreeClassifier\n",
    "from sklearn.linear_model import LogisticRegression\n",
    "\n",
    "from sklearn.datasets import load_breast_cancer\n",
    "from sklearn.model_selection import train_test_split\n",
    "from sklearn.metrics import accuracy_score\n",
    "\n",
    "cancer_data = load_breast_cancer()\n",
    "\n",
    "X_data = cancer_data.data\n",
    "y_label = cancer_data.target\n",
    "\n",
    "X_training , X_testing , y_training , y_testing = train_test_split(X_data , y_label , test_size=0.2 , random_state=0)\n",
    "\n",
    "# 개별 ML 모델을 위한 Classifier 생성.\n",
    "knn_clf  = KNeighborsClassifier(n_neighbors=4)\n",
    "rf_clf = RandomForestClassifier(n_estimators=100, random_state=0)\n",
    "dt_clf = DecisionTreeClassifier()\n",
    "ada_clf = AdaBoostClassifier(n_estimators=100)\n",
    "\n",
    "# 최종 Stacking 모델을 위한 Classifier생성. \n",
    "lr_final = LogisticRegression(C=10)\n",
    "\n",
    "# 개별 모델들을 학습. \n",
    "knn_clf.fit(X_training, y_training)\n",
    "rf_clf.fit(X_training , y_training)\n",
    "dt_clf.fit(X_training , y_training)\n",
    "ada_clf.fit(X_training, y_training)\n",
    "\n",
    "# 학습된 개별 모델들이 각자 반환하는 예측 데이터 셋을 생성하고 개별 모델의 정확도 측정. \n",
    "knn_pred = knn_clf.predict(X_testing)\n",
    "rf_pred = rf_clf.predict(X_testing)\n",
    "dt_pred = dt_clf.predict(X_testing)\n",
    "ada_pred = ada_clf.predict(X_testing)\n",
    "\n",
    "print('KNN 정확도: {0:.4f}'.format(accuracy_score(y_testing, knn_pred)))\n",
    "print('랜덤 포레스트 정확도: {0:.4f}'.format(accuracy_score(y_testing, rf_pred)))\n",
    "print('결정 트리 정확도: {0:.4f}'.format(accuracy_score(y_testing, dt_pred)))\n",
    "print('에이다부스트 정확도: {0:.4f} :'.format(accuracy_score(y_testing, ada_pred)))"
   ]
  },
  {
   "cell_type": "code",
   "execution_count": null,
   "metadata": {
    "colab": {
     "base_uri": "https://localhost:8080/",
     "height": 71
    },
    "colab_type": "code",
    "executionInfo": {
     "elapsed": 710,
     "status": "ok",
     "timestamp": 1594953508268,
     "user": {
      "displayName": "최대운",
      "photoUrl": "",
      "userId": "02401015039773559263"
     },
     "user_tz": -540
    },
    "id": "yt8heouNot2G",
    "outputId": "87efca66-04ee-4ab1-fdd6-d22cc17266da"
   },
   "outputs": [
    {
     "name": "stdout",
     "output_type": "stream",
     "text": [
      "(4, 114)\n",
      "(114, 4)\n",
      "최종 메타 모델의 예측 정확도: 0.9737\n"
     ]
    }
   ],
   "source": [
    "pred = np.array([knn_pred, rf_pred, dt_pred, ada_pred])\n",
    "print(pred.shape)\n",
    "\n",
    "# transpose를 이용해 행과 열의 위치 교환. 컬럼 레벨로 각 알고리즘의 예측 결과를 피처로 만듦. \n",
    "pred = np.transpose(pred)\n",
    "print(pred.shape)\n",
    "\n",
    "lr_final.fit(pred, y_testing)\n",
    "final = lr_final.predict(pred)\n",
    "\n",
    "print('최종 메타 모델의 예측 정확도: {0:.4f}'.format(accuracy_score(y_testing , final)))"
   ]
  },
  {
   "cell_type": "markdown",
   "metadata": {
    "colab_type": "text",
    "id": "orvhPmJBnYjb"
   },
   "source": [
    "- 분류 모형이지만, 최종 메타 모델의 예측 정확도가 보다 향상 된 것을 확인할 수 있다.\n",
    "- 또 다른 예제는 Ensemble Prediction이라고 한다."
   ]
  },
  {
   "cell_type": "markdown",
   "metadata": {
    "colab_type": "text",
    "id": "DDUqs-aHnd3T"
   },
   "source": [
    "## III. 빅쿼리 연동\n",
    "- 지난 시간에 데이콘에서 내려받은 데이터를 빅쿼리에 넣는 작업을 진행하였다.\n",
    "- 빅쿼리에 저장된 데이터를 구글 코랩으로 불러오려면 다음과 같이 진행한다.\n",
    "### (1) 사용자 계정 인증\n",
    "- 구글 코랩을 사용해서 인증 절차를 밟도록 한다. 아래 소스코드는 변경시키지 않는다. 아래 절차대로 진행하면 된다. Gmail 인증 절차와 비슷하다."
   ]
  },
  {
   "cell_type": "code",
   "execution_count": null,
   "metadata": {
    "colab": {
     "base_uri": "https://localhost:8080/",
     "height": 35
    },
    "colab_type": "code",
    "executionInfo": {
     "elapsed": 832,
     "status": "ok",
     "timestamp": 1594953516849,
     "user": {
      "displayName": "최대운",
      "photoUrl": "",
      "userId": "02401015039773559263"
     },
     "user_tz": -540
    },
    "id": "pw7Kgo9YoyK-",
    "outputId": "fe37c0f5-f773-451d-c283-b2b75756b9bf"
   },
   "outputs": [
    {
     "name": "stdout",
     "output_type": "stream",
     "text": [
      "Authenticated\n"
     ]
    }
   ],
   "source": [
    "from google.colab import auth\n",
    "auth.authenticate_user()\n",
    "print('Authenticated')"
   ]
  },
  {
   "cell_type": "markdown",
   "metadata": {
    "colab_type": "text",
    "id": "J6Mff5kxnmvG"
   },
   "source": [
    "## (2) 데이터 불러오기\n",
    "- 이번에는 빅쿼리에서 Random Sampling을 활용하여 데이터를 가져온다.\n",
    "- 층화추출도 할 수 있는데, 쿼리상 조금 복잡할 수 있어서, 이부분은 추후 포스팅 하는 것으로 남겨둔다.\n",
    "  + Stratified random sampling with BigQuery?\n",
    "- 이번에는 데이터 갯수를 기존 100000개 $\\rightarrow$ 10000개로 축소해서 추출한다.\n",
    "  + 축소한 이유 1. 데이터가 많다고 해서 모형 성능의 결과가 좋은 건 아니다.\n",
    "  + 축소한 이유 2. 두개의 모형에 교차검증까지 진행 시, 시간이 두배로 걸린다."
   ]
  },
  {
   "cell_type": "code",
   "execution_count": null,
   "metadata": {
    "colab": {
     "base_uri": "https://localhost:8080/",
     "height": 35
    },
    "colab_type": "code",
    "executionInfo": {
     "elapsed": 5742,
     "status": "ok",
     "timestamp": 1594953581575,
     "user": {
      "displayName": "최대운",
      "photoUrl": "",
      "userId": "02401015039773559263"
     },
     "user_tz": -540
    },
    "id": "lA4LjP8po0PO",
    "outputId": "80f11d4b-74ad-4981-d1cb-fb686477f3c4"
   },
   "outputs": [
    {
     "name": "stderr",
     "output_type": "stream",
     "text": [
      "WARNING:google.auth._default:No project ID could be determined. Consider running `gcloud config set project` or setting the GOOGLE_CLOUD_PROJECT environment variable\n"
     ]
    }
   ],
   "source": [
    "from google.cloud import bigquery\n",
    "from tabulate import tabulate\n",
    "import pandas as pd\n",
    "\n",
    "project_id = 'cardproject-283503'\n",
    "client = bigquery.Client(project=project_id)\n",
    "\n",
    "train = client.query('''\n",
    "  SELECT \n",
    "      * \n",
    "  FROM `cardproject-283503.jeju_data_ver1.201901_202003_train` \n",
    "  WHERE RAND() < 10000 / (SELECT COUNT(*) FROM `cardproject-283503.jeju_data_ver1.201901_202003_train`)\n",
    "  ''').to_dataframe()"
   ]
  },
  {
   "cell_type": "markdown",
   "metadata": {
    "colab_type": "text",
    "id": "0QdhflgqnwK9"
   },
   "source": [
    "# IV. 데이터 사전 준비\n",
    "- 모형을 학습하기 전, 사전 준비 작업에 해당한다.\n",
    "- 도메인 + 통계 + 프로그래밍 3가지 기술이 모두 요구되는 지점이기도 하다.\n",
    "- 우선은 간단하게 처리만 하였다.\n",
    "## (1) 머신러닝 & 시각화 & 통계 패키지 Loading\n",
    "- 종속변수와 독립변수로 구분할 필요가 있다."
   ]
  },
  {
   "cell_type": "code",
   "execution_count": null,
   "metadata": {
    "colab": {},
    "colab_type": "code",
    "id": "9nnL1YRpo3v2"
   },
   "outputs": [],
   "source": [
    "import pandas as pd\n",
    "import numpy as np\n",
    "import sklearn\n",
    "from sklearn.ensemble import GradientBoostingRegressor\n",
    "from sklearn.preprocessing import LabelEncoder\n",
    "\n",
    "# 03 Chapter에서 추가\n",
    "# 평가 메트릭\n",
    "from sklearn.metrics import mean_squared_error, mean_absolute_error\n",
    "\n",
    "# 시각화\n",
    "import seaborn as sns\n",
    "color = sns.color_palette()\n",
    "sns.set_style('darkgrid')\n",
    "%matplotlib inline\n",
    "import matplotlib\n",
    "import matplotlib.pyplot as plt  # Matlab-style plotting\n",
    "\n",
    "# 통계\n",
    "from scipy import stats\n",
    "from scipy.stats import norm, skew #for some statistics\n",
    "\n",
    "# 06 Chapter 추가\n",
    "from sklearn.base import BaseEstimator, TransformerMixin, RegressorMixin, clone\n",
    "from sklearn.model_selection import KFold, cross_val_score, train_test_split, GridSearchCV\n",
    "from sklearn.metrics import mean_squared_error"
   ]
  },
  {
   "cell_type": "code",
   "execution_count": null,
   "metadata": {
    "colab": {
     "base_uri": "https://localhost:8080/",
     "height": 125
    },
    "colab_type": "code",
    "executionInfo": {
     "elapsed": 2279,
     "status": "ok",
     "timestamp": 1594953613269,
     "user": {
      "displayName": "최대운",
      "photoUrl": "",
      "userId": "02401015039773559263"
     },
     "user_tz": -540
    },
    "id": "4mMnZCNUpJOu",
    "outputId": "33e7fbbd-083a-4793-91c0-d2c656a9f1a9"
   },
   "outputs": [
    {
     "name": "stdout",
     "output_type": "stream",
     "text": [
      "Pandas : 1.0.5\n",
      "Numpy : 1.18.5\n",
      "Scikit-Learn : 0.22.2.post1\n",
      "seaborn : 0.10.1\n",
      "matplotlib : 3.2.2\n",
      "Python 3.6.9\n"
     ]
    }
   ],
   "source": [
    "print('Pandas : %s'%(pd.__version__))\n",
    "print('Numpy : %s'%(np.__version__))\n",
    "print('Scikit-Learn : %s'%(sklearn.__version__))\n",
    "print('seaborn : %s'%(sns.__version__))\n",
    "print('matplotlib : %s'%(matplotlib.__version__))\n",
    "!python --version"
   ]
  },
  {
   "cell_type": "markdown",
   "metadata": {
    "colab_type": "text",
    "id": "ZwK2Ml7wn-0x"
   },
   "source": [
    "## (2) 날짜 데이터 전처리\n",
    "- 데이터 전처리 기본함수 작성\n",
    "- 우선 날짜 처리 진행\n",
    "  - year & month로 구분한다."
   ]
  },
  {
   "cell_type": "code",
   "execution_count": null,
   "metadata": {
    "colab": {},
    "colab_type": "code",
    "id": "U84aG8ldpLbO"
   },
   "outputs": [],
   "source": [
    "def grap_year(data):\n",
    "    data = str(data)\n",
    "    return int(data[:4])\n",
    "\n",
    "def grap_month(data):\n",
    "    data = str(data)\n",
    "    return int(data[4:])"
   ]
  },
  {
   "cell_type": "code",
   "execution_count": null,
   "metadata": {
    "colab": {
     "base_uri": "https://localhost:8080/",
     "height": 125
    },
    "colab_type": "code",
    "executionInfo": {
     "elapsed": 688,
     "status": "ok",
     "timestamp": 1594953627882,
     "user": {
      "displayName": "최대운",
      "photoUrl": "",
      "userId": "02401015039773559263"
     },
     "user_tz": -540
    },
    "id": "o3gvTrrwpNl2",
    "outputId": "30ed17bc-6b0c-47d5-f2fb-5e7646c46f4e"
   },
   "outputs": [
    {
     "name": "stdout",
     "output_type": "stream",
     "text": [
      "0    201907\n",
      "1    201911\n",
      "2    201901\n",
      "3    201910\n",
      "4    201910\n",
      "Name: REG_YYMM, dtype: int64\n"
     ]
    }
   ],
   "source": [
    "# 날짜 처리\n",
    "data = train.copy()\n",
    "data = data.fillna('')\n",
    "print(data['REG_YYMM'].head())"
   ]
  },
  {
   "cell_type": "code",
   "execution_count": null,
   "metadata": {
    "colab": {
     "base_uri": "https://localhost:8080/",
     "height": 204
    },
    "colab_type": "code",
    "executionInfo": {
     "elapsed": 693,
     "status": "ok",
     "timestamp": 1594953635810,
     "user": {
      "displayName": "최대운",
      "photoUrl": "",
      "userId": "02401015039773559263"
     },
     "user_tz": -540
    },
    "id": "Vq1YYr5TpPYW",
    "outputId": "49a20fd3-ae2b-450b-da89-c2c8f6cdddfa"
   },
   "outputs": [
    {
     "data": {
      "text/html": [
       "<div>\n",
       "<style scoped>\n",
       "    .dataframe tbody tr th:only-of-type {\n",
       "        vertical-align: middle;\n",
       "    }\n",
       "\n",
       "    .dataframe tbody tr th {\n",
       "        vertical-align: top;\n",
       "    }\n",
       "\n",
       "    .dataframe thead th {\n",
       "        text-align: right;\n",
       "    }\n",
       "</style>\n",
       "<table border=\"1\" class=\"dataframe\">\n",
       "  <thead>\n",
       "    <tr style=\"text-align: right;\">\n",
       "      <th></th>\n",
       "      <th>CARD_SIDO_NM</th>\n",
       "      <th>CARD_CCG_NM</th>\n",
       "      <th>STD_CLSS_NM</th>\n",
       "      <th>HOM_SIDO_NM</th>\n",
       "      <th>HOM_CCG_NM</th>\n",
       "      <th>AGE</th>\n",
       "      <th>SEX_CTGO_CD</th>\n",
       "      <th>FLC</th>\n",
       "      <th>CSTMR_CNT</th>\n",
       "      <th>AMT</th>\n",
       "      <th>CNT</th>\n",
       "      <th>year</th>\n",
       "      <th>month</th>\n",
       "    </tr>\n",
       "  </thead>\n",
       "  <tbody>\n",
       "    <tr>\n",
       "      <th>0</th>\n",
       "      <td>부산</td>\n",
       "      <td>연제구</td>\n",
       "      <td>중식 음식점업</td>\n",
       "      <td>부산</td>\n",
       "      <td>부산진구</td>\n",
       "      <td>10s</td>\n",
       "      <td>1</td>\n",
       "      <td>1</td>\n",
       "      <td>3</td>\n",
       "      <td>28000</td>\n",
       "      <td>3</td>\n",
       "      <td>2019</td>\n",
       "      <td>7</td>\n",
       "    </tr>\n",
       "    <tr>\n",
       "      <th>1</th>\n",
       "      <td>경기</td>\n",
       "      <td>안양시 동안구</td>\n",
       "      <td>서양식 음식점업</td>\n",
       "      <td>경기</td>\n",
       "      <td>안양시 동안구</td>\n",
       "      <td>10s</td>\n",
       "      <td>1</td>\n",
       "      <td>1</td>\n",
       "      <td>178</td>\n",
       "      <td>1770250</td>\n",
       "      <td>296</td>\n",
       "      <td>2019</td>\n",
       "      <td>11</td>\n",
       "    </tr>\n",
       "    <tr>\n",
       "      <th>2</th>\n",
       "      <td>부산</td>\n",
       "      <td>영도구</td>\n",
       "      <td>체인화 편의점</td>\n",
       "      <td>부산</td>\n",
       "      <td>남구</td>\n",
       "      <td>10s</td>\n",
       "      <td>1</td>\n",
       "      <td>1</td>\n",
       "      <td>4</td>\n",
       "      <td>25200</td>\n",
       "      <td>6</td>\n",
       "      <td>2019</td>\n",
       "      <td>1</td>\n",
       "    </tr>\n",
       "    <tr>\n",
       "      <th>3</th>\n",
       "      <td>서울</td>\n",
       "      <td>강서구</td>\n",
       "      <td>체인화 편의점</td>\n",
       "      <td>제주</td>\n",
       "      <td>제주시</td>\n",
       "      <td>10s</td>\n",
       "      <td>1</td>\n",
       "      <td>1</td>\n",
       "      <td>20</td>\n",
       "      <td>61700</td>\n",
       "      <td>22</td>\n",
       "      <td>2019</td>\n",
       "      <td>10</td>\n",
       "    </tr>\n",
       "    <tr>\n",
       "      <th>4</th>\n",
       "      <td>경북</td>\n",
       "      <td>경산시</td>\n",
       "      <td>체인화 편의점</td>\n",
       "      <td>경북</td>\n",
       "      <td>영천시</td>\n",
       "      <td>10s</td>\n",
       "      <td>1</td>\n",
       "      <td>1</td>\n",
       "      <td>10</td>\n",
       "      <td>45350</td>\n",
       "      <td>17</td>\n",
       "      <td>2019</td>\n",
       "      <td>10</td>\n",
       "    </tr>\n",
       "  </tbody>\n",
       "</table>\n",
       "</div>"
      ],
      "text/plain": [
       "  CARD_SIDO_NM CARD_CCG_NM STD_CLSS_NM HOM_SIDO_NM  ...      AMT  CNT  year  month\n",
       "0           부산         연제구     중식 음식점업          부산  ...    28000    3  2019      7\n",
       "1           경기     안양시 동안구    서양식 음식점업          경기  ...  1770250  296  2019     11\n",
       "2           부산         영도구     체인화 편의점          부산  ...    25200    6  2019      1\n",
       "3           서울         강서구     체인화 편의점          제주  ...    61700   22  2019     10\n",
       "4           경북         경산시     체인화 편의점          경북  ...    45350   17  2019     10\n",
       "\n",
       "[5 rows x 13 columns]"
      ]
     },
     "execution_count": 111,
     "metadata": {
      "tags": []
     },
     "output_type": "execute_result"
    }
   ],
   "source": [
    "data['year'] = data['REG_YYMM'].apply(lambda x: grap_year(x))\n",
    "data['month'] = data['REG_YYMM'].apply(lambda x: grap_month(x))\n",
    "data = data.drop(['REG_YYMM'], axis=1)\n",
    "data.head()"
   ]
  },
  {
   "cell_type": "markdown",
   "metadata": {
    "colab_type": "text",
    "id": "KNGVMg3ooIDk"
   },
   "source": [
    "## (3) 시군구 컬럼 제거\n",
    "- submission 제출 파일 목록에서 시/도는 해당되나, 시군구 항목은 해당되지 않는다.\n",
    "- 따라서, 해당 컬럼은 삭제한다."
   ]
  },
  {
   "cell_type": "code",
   "execution_count": null,
   "metadata": {
    "colab": {},
    "colab_type": "code",
    "id": "uv-LUi4spRUO"
   },
   "outputs": [],
   "source": [
    "# 데이터 정제\n",
    "df = data.drop(['CARD_CCG_NM', 'HOM_CCG_NM'], axis=1)\n",
    "columns = ['CARD_SIDO_NM', 'STD_CLSS_NM', 'HOM_SIDO_NM', 'AGE', 'SEX_CTGO_CD', 'FLC', 'year', 'month']\n",
    "df = df.groupby(columns).sum().reset_index(drop=False)"
   ]
  },
  {
   "cell_type": "markdown",
   "metadata": {
    "colab_type": "text",
    "id": "_ZEPIPwuoMxI"
   },
   "source": [
    "## (4) 라벨 인코딩\n",
    "- 사이킷런의 ML알고리즘은 결측치가 허용되지 않는다.\n",
    "- 사이킷런의 머신러닝 알고리즘은 문자열 값을 입력 값으로 허용하지 않는다.\n",
    "  + 따라서, 이를 숫자형으로 변환해야 한다.\n",
    "  + 이를 데이터 인코딩이라 부른다.\n",
    "- 데이터 인코딩에는 크게 두가지 있다.\n",
    "  + 레이블 인코딩 VS. 원-핫 인코딩\n",
    "- 레이블 인코딩은 카테고리 피처를 코드형 숫자 값으로 변환한다.\n",
    "  + 이 때, 일괄적으로 숫자로 변환이 되면 선형회귀와 같은 ML 알고리즘에는 적용하지 않는다. 이유는 숫자 값의 경우 크고 작음에 대한 특성이 작용한다.\n",
    "  + 그러나, 본 예제에서는 주로 트리 계열을 알고리즘을 사용할 것이기 때문에 크게 상관은 없다.\n",
    "- 원핫 인코딩은 피처 값의 유형에 따라 새로운 피처를 추가해 고유 값에 해당하는 칼럼에만 1을 표시하고 나머지 칼럼에는 0을 표시한다.\n",
    "- 본 실습에서는 주로 라벨 인코딩만 사용하고 진행해본다."
   ]
  },
  {
   "cell_type": "code",
   "execution_count": null,
   "metadata": {
    "colab": {},
    "colab_type": "code",
    "id": "tR5svtnhpUTW"
   },
   "outputs": [],
   "source": [
    "# 인코딩\n",
    "dtypes = df.dtypes\n",
    "encoders = {}\n",
    "for column in df.columns:\n",
    "    if str(dtypes[column]) == 'object':\n",
    "        encoder = LabelEncoder()\n",
    "        encoder.fit(df[column])\n",
    "        encoders[column] = encoder\n",
    "        \n",
    "df_num = df.copy()        \n",
    "for column in encoders.keys():\n",
    "    encoder = encoders[column]\n",
    "    df_num[column] = encoder.transform(df[column])"
   ]
  },
  {
   "cell_type": "markdown",
   "metadata": {
    "colab_type": "text",
    "id": "3mnYA54WokXJ"
   },
   "source": [
    "## (5) 데이터셋 분리\n",
    "- Train 데이터를 분리해서 Validate 데이터셋을 생성한다."
   ]
  },
  {
   "cell_type": "code",
   "execution_count": null,
   "metadata": {
    "colab": {
     "base_uri": "https://localhost:8080/",
     "height": 35
    },
    "colab_type": "code",
    "executionInfo": {
     "elapsed": 751,
     "status": "ok",
     "timestamp": 1594953664971,
     "user": {
      "displayName": "최대운",
      "photoUrl": "",
      "userId": "02401015039773559263"
     },
     "user_tz": -540
    },
    "id": "-EZayMwopWg-",
    "outputId": "29365b3e-a451-4d68-bced-245e90a145f0"
   },
   "outputs": [
    {
     "data": {
      "text/plain": [
       "((6679, 8), (6679,), (2863, 8), (2863,))"
      ]
     },
     "execution_count": 114,
     "metadata": {
      "tags": []
     },
     "output_type": "execute_result"
    }
   ],
   "source": [
    "from sklearn.model_selection import train_test_split\n",
    "\n",
    "X_data, y_data = df_num.loc[:, df_num.columns != 'AMT'], df.loc[:, df_num.columns == 'AMT']\n",
    "y_target = y_data['AMT']\n",
    "X_data = X_data.drop(['CSTMR_CNT', 'CNT'], axis=1)\n",
    "X_train, X_test, y_train, y_test = train_test_split(X_data, y_target, test_size=0.3, random_state=126, shuffle=True)\n",
    "X_train.shape, y_train.shape, X_test.shape, y_test.shape"
   ]
  },
  {
   "cell_type": "markdown",
   "metadata": {
    "colab_type": "text",
    "id": "3F1Evr92ophE"
   },
   "source": [
    "- test_size: 훈련데이터와 테스트 데이터로 나누는 비율이다. 디폴트는 0.25이며, 이는 25%에 해당한다.\n",
    "- random_state: 동일한 학습/테스트용 데이터 세트를 생성하기 위해 주어지는 난수 값. (실험의 재현성)\n",
    "- shuffle: 데이터 분리 전 데이터를 섞을지 결정함. 디폴트는 True이며, 데이터를 분산시켜서 좀 더 효율적인 학습 및 테스트 데이터 세트를 만드는 데 사용함.\n"
   ]
  },
  {
   "cell_type": "markdown",
   "metadata": {
    "colab_type": "text",
    "id": "k6FIcieXouhZ"
   },
   "source": [
    "## (6) 종속 변수 확인\n",
    "- 라벨 인코딩을 진행하기 전에 타겟변수(=종속변수)의 모양을 확인한다.\n",
    "- Target값의 분포가 왜곡되면, 예측 성능이 저하되는 경우가 발생한다.\n",
    "- 빠르게 시각화를 진행해서 확인해보자."
   ]
  },
  {
   "cell_type": "code",
   "execution_count": null,
   "metadata": {
    "colab": {
     "base_uri": "https://localhost:8080/",
     "height": 627
    },
    "colab_type": "code",
    "executionInfo": {
     "elapsed": 1468,
     "status": "ok",
     "timestamp": 1594953678122,
     "user": {
      "displayName": "최대운",
      "photoUrl": "",
      "userId": "02401015039773559263"
     },
     "user_tz": -540
    },
    "id": "C5iO_l_VpYa2",
    "outputId": "d2ee87b1-5476-4e35-c31c-79da94e09f14"
   },
   "outputs": [
    {
     "name": "stdout",
     "output_type": "stream",
     "text": [
      "\n",
      " mu = 3147034.81 and sigma = 24563542.55\n",
      "\n"
     ]
    },
    {
     "data": {
      "image/png": "[encoded data removed]",
      "text/plain": [
       "<Figure size 432x288 with 1 Axes>"
      ]
     },
     "metadata": {
      "needs_background": "light",
      "tags": []
     },
     "output_type": "display_data"
    },
    {
     "data": {
      "image/png": "[encoded data removed]",
      "text/plain": [
       "<Figure size 432x288 with 1 Axes>"
      ]
     },
     "metadata": {
      "needs_background": "light",
      "tags": []
     },
     "output_type": "display_data"
    }
   ],
   "source": [
    "sns.distplot(y_train , fit=norm);\n",
    "(mu, sigma) = norm.fit(y_train)\n",
    "print( '\\n mu = {:.2f} and sigma = {:.2f}\\n'.format(mu, sigma))\n",
    "plt.legend(['Normal dist. ($\\mu=$ {:.2f} and $\\sigma=$ {:.2f} )'.format(mu, sigma)],\n",
    "            loc='best')\n",
    "plt.ylabel('Frequency')\n",
    "plt.title('AMT distribution')\n",
    "\n",
    "fig = plt.figure()\n",
    "res = stats.probplot(y_train, plot=plt)\n",
    "plt.show()"
   ]
  },
  {
   "cell_type": "markdown",
   "metadata": {
    "colab_type": "text",
    "id": "QeEItSLRo03R"
   },
   "source": [
    "- 위 결과가 말해주듯이 타겟변수를 정규화 하는 작업이 필요합니다.\n",
    "- 정규화 작업은 1줄이면 가능합니다."
   ]
  },
  {
   "cell_type": "code",
   "execution_count": null,
   "metadata": {
    "colab": {
     "base_uri": "https://localhost:8080/",
     "height": 627
    },
    "colab_type": "code",
    "executionInfo": {
     "elapsed": 1426,
     "status": "ok",
     "timestamp": 1594953693495,
     "user": {
      "displayName": "최대운",
      "photoUrl": "",
      "userId": "02401015039773559263"
     },
     "user_tz": -540
    },
    "id": "3osa3tS3pbdP",
    "outputId": "da04717a-0b47-4506-c188-512fa1921d08"
   },
   "outputs": [
    {
     "name": "stdout",
     "output_type": "stream",
     "text": [
      "\n",
      " mu = 12.71 and sigma = 1.75\n",
      "\n"
     ]
    },
    {
     "data": {
      "image/png": "[encoded data removed]",
      "text/plain": [
       "<Figure size 432x288 with 1 Axes>"
      ]
     },
     "metadata": {
      "needs_background": "light",
      "tags": []
     },
     "output_type": "display_data"
    },
    {
     "data": {
      "image/png": "[encoded data removed]",
      "text/plain": [
       "<Figure size 432x288 with 1 Axes>"
      ]
     },
     "metadata": {
      "needs_background": "light",
      "tags": []
     },
     "output_type": "display_data"
    }
   ],
   "source": [
    "y_train = np.log1p(y_train)\n",
    "\n",
    "sns.distplot(y_train , fit=norm);\n",
    "(mu, sigma) = norm.fit(y_train)\n",
    "print( '\\n mu = {:.2f} and sigma = {:.2f}\\n'.format(mu, sigma))\n",
    "plt.legend(['Normal dist. ($\\mu=$ {:.2f} and $\\sigma=$ {:.2f} )'.format(mu, sigma)],\n",
    "            loc='best')\n",
    "plt.ylabel('Frequency')\n",
    "plt.title('AMT distribution')\n",
    "\n",
    "fig = plt.figure()\n",
    "res = stats.probplot(y_train, plot=plt)\n",
    "plt.show()"
   ]
  },
  {
   "cell_type": "markdown",
   "metadata": {
    "colab_type": "text",
    "id": "FKYdiaOXo4j_"
   },
   "source": [
    "- 로그를 Target값을 변환한 후에 정규분포를 이루는 것을 확인하였습니다."
   ]
  },
  {
   "cell_type": "markdown",
   "metadata": {
    "colab_type": "text",
    "id": "vaAuB7fJo9uU"
   },
   "source": [
    "# V. 교차검증 및 하이퍼 파라미터 튜닝\n",
    "- 본 장에서는 교차검증을 실시하는 목적과 파라미터 튜닝에 대해 배울 것이다.\n",
    "## (1) 교차검증의 목적\n",
    "- 가장 중요한 목적은 과적합(Overfitting)을 방지하기 위해서다.\n",
    "- 과적합은 무엇인가?\n",
    "  + 가령, 교고서 범위 내의 있는 문제는 잘 풀지만, 모의고사 또는 수능처럼 약간 응용된 문제가 나오면 잘 풀지 못하는 것과 유사하다.\n",
    " + 즉, 고정된 학습데이터와 테스트 데이터로 평가 하다 보니, 테스트 데이터에만 최적의 성능을 발휘할 수 있도록 편향되게 모델이 학습하게 되는 현상을 말한다.\n",
    "  + 이러한 문제점을 개선하기 위해 교차 검증을 이용해 더 다양한 학습과 평가를 한다.\n",
    "  + 즉, 본 게임에 앞서서 여러번의 사전 모의평가를 진행하는 것과 유사하다.\n",
    "\n",
    "## (2) K폴드 교차 검증\n",
    "- K개의 데이터 세트를 만들고, 검증 평가를 반복적으로 수행하는 방법이다.\n",
    "- 이 때, 5개의 평가를 평균한 결과를 가지고 예측 성능을 평가한다.\n",
    "\n",
    "- 기존 처럼, 훈련/테스트 데이터로 분리 한다.\n",
    "- 그리고, 해당 모델을 처음에 분할하였던 Test Set을 활용하여 평가 한다.\n",
    "- 층화추출 K폴드도 있다. 데이터의 분포가 불균형을 이룰 때 적용하면 모형의 예측 성능보다는 보다 안정성 있게 모델이 만들어질 수 있다.\n",
    "  + 참조: Stratified Sampling\n",
    "\n",
    "## (3) RMSLE 성능 평가 방법\n",
    "- 회귀 모형의 대표적인 평가 지표이다.\n",
    "  + RMSLE: Root Mean Square Log Error는 기존 RMSE에 로그를 적용해준 지표다.\n",
    "- 아쉽게도 sklearn에는 해당 옵션이 제공되지 않기 때문에 RMSLE를 수행하는 성능 평가 함수를 직접 만들어 본다.\n",
    "- log값 변환 시 NaN등의 이슈로 log가 아닌 log1p()를 이용해 계산한다.\n",
    "- 이 때, log1p()로 변환된 값은 np.expm1() 함수로 쉽게 원래의 스케일로 복원될 수 있다."
   ]
  },
  {
   "cell_type": "code",
   "execution_count": null,
   "metadata": {
    "colab": {},
    "colab_type": "code",
    "id": "2E_qpuwCpfN-"
   },
   "outputs": [],
   "source": [
    "def rmsle(y, pred): \n",
    "  log_y = np.log1p(y)\n",
    "  log_pred = np.log1p(pred)\n",
    "  squared_error = (log_y - log_pred)**2\n",
    "  rmsle = np.sqrt(np.mean(squared_error))\n",
    "  return print('Test Data RMSLE: {0:.3f}'.format(rmsle))"
   ]
  },
  {
   "cell_type": "markdown",
   "metadata": {
    "colab_type": "text",
    "id": "Rdkr3yCVpezt"
   },
   "source": [
    "## (4) 하이퍼 파라미터 및 튜닝\n",
    "- 1차적으로 모형은 GBM만 사용한다.\n",
    "\n",
    "- 이 때, 보통 모형 알고리즘에 대한 하이퍼 파라미터 튜닝도 같이 진행하게 된다.\n",
    "\n",
    "  + n_estimators: weak learner가 순차적으로 오류를 보정함. 개수가 많아지면 성능이 좋아지지만, 수행시간이 오래 발생될 수 있음.\n",
    "  + learning_rate: 오차를 얼마나 강하게 보정할 것인지 제어\n",
    "  + max_depth: 복잡도를 너무 높이지 말고 트리의 깊이가 정해진 숫자보다 깊어지지 않게 함.\n",
    "  + min_samples_leaf: Leaf Node가 되기 위한 최소 샘플 개수\n",
    "  + loss: huber, 이상치에 민감하지 않도록 보정해주는 함수.\n",
    "  + max_features: 다차원 독립 변수 중 선택할 차원의 수를 의미함\n",
    "- 이 때, 보통 최적의 하이퍼 파라미터 튜닝을 위해 값을 조정해서 알고리즘의 예측 성능을 개선한다고 했다.\n",
    "\n",
    "- GridSearchCV와 RandomizedSearchCV로 구분되는데, 이 부분에 대한 설명은 다음 Chapter에서 진행하도록 한다.\n",
    "\n",
    "  + 간단하게 설명하면, 파라미터를 순차적으로 변경하면서 최고의 성능을 가지는 파라미터 조합을 찾는 과정이다.\n",
    "\n",
    "## (5) 세 모델 교차검증\n",
    "- 지금까지 설명한 내용을 코드로 작성한다.\n",
    "- 이 때, 최적의 파라미터를 찾기 위한 과정도 추가했다.\n",
    "- 이제 두개의 모형을 만들어야 한다.\n",
    "  + 이런 경우에는 모형 선언, 파라미터 지정, 교차검증 수행, 모형 평가 등을 모두 담을 수 있도록 함수화 해야 하는 코드를 작성한다.\n",
    "\n",
    "##(6) 모형 선언 및 학습"
   ]
  },
  {
   "cell_type": "code",
   "execution_count": null,
   "metadata": {
    "colab": {},
    "colab_type": "code",
    "id": "qQbvwkFGphoW"
   },
   "outputs": [],
   "source": [
    "# 교차검증 수행\n",
    "def get_best_params_model(model, params):\n",
    "  cv_model = GridSearchCV(model, param_grid=params, scoring=\"neg_mean_squared_error\", cv = 5)\n",
    "  cv_model.fit(X_train, y_train)\n",
    "  print(\"----\", model.__class__.__name__, \"----\")\n",
    "  print(\"GridSearchCV 최적 하이퍼 파라미터 :\", cv_model.best_params_)\n",
    "\n",
    "  rmse = np.sqrt(-1*cv_model.best_score_)\n",
    "  print(\"GridSearchCV 최적 평균 RMSE값 :\", np.round(rmse, 3))\n",
    "\n",
    "  eval_pred = cv_model.predict(X_test)\n",
    "  eval_pred = np.expm1(eval_pred)\n",
    "  rmsle(y_test, eval_pred)\n",
    "  \n",
    "  return cv_model.best_estimator_"
   ]
  },
  {
   "cell_type": "code",
   "execution_count": null,
   "metadata": {
    "colab": {
     "base_uri": "https://localhost:8080/",
     "height": 431
    },
    "colab_type": "code",
    "executionInfo": {
     "elapsed": 104417,
     "status": "ok",
     "timestamp": 1594953824167,
     "user": {
      "displayName": "최대운",
      "photoUrl": "",
      "userId": "02401015039773559263"
     },
     "user_tz": -540
    },
    "id": "yD0wSSfDpjp2",
    "outputId": "1b1d8fa5-cf83-49e7-fb65-b536a6528dd5"
   },
   "outputs": [
    {
     "name": "stdout",
     "output_type": "stream",
     "text": [
      "[02:42:00] WARNING: /workspace/src/objective/regression_obj.cu:152: reg:linear is now deprecated in favor of reg:squarederror.\n",
      "[02:42:02] WARNING: /workspace/src/objective/regression_obj.cu:152: reg:linear is now deprecated in favor of reg:squarederror.\n",
      "[02:42:04] WARNING: /workspace/src/objective/regression_obj.cu:152: reg:linear is now deprecated in favor of reg:squarederror.\n",
      "[02:42:06] WARNING: /workspace/src/objective/regression_obj.cu:152: reg:linear is now deprecated in favor of reg:squarederror.\n",
      "[02:42:08] WARNING: /workspace/src/objective/regression_obj.cu:152: reg:linear is now deprecated in favor of reg:squarederror.\n",
      "[02:42:10] WARNING: /workspace/src/objective/regression_obj.cu:152: reg:linear is now deprecated in favor of reg:squarederror.\n",
      "[02:42:14] WARNING: /workspace/src/objective/regression_obj.cu:152: reg:linear is now deprecated in favor of reg:squarederror.\n",
      "[02:42:18] WARNING: /workspace/src/objective/regression_obj.cu:152: reg:linear is now deprecated in favor of reg:squarederror.\n",
      "[02:42:22] WARNING: /workspace/src/objective/regression_obj.cu:152: reg:linear is now deprecated in favor of reg:squarederror.\n",
      "[02:42:26] WARNING: /workspace/src/objective/regression_obj.cu:152: reg:linear is now deprecated in favor of reg:squarederror.\n",
      "[02:42:30] WARNING: /workspace/src/objective/regression_obj.cu:152: reg:linear is now deprecated in favor of reg:squarederror.\n",
      "---- XGBRegressor ----\n",
      "GridSearchCV 최적 하이퍼 파라미터 : {'n_estimators': 1000}\n",
      "GridSearchCV 최적 평균 RMSE값 : 1.53\n",
      "Test Data RMSLE: 1.552\n",
      "---- GradientBoostingRegressor ----\n",
      "GridSearchCV 최적 하이퍼 파라미터 : {'n_estimators': 1000}\n",
      "GridSearchCV 최적 평균 RMSE값 : 1.531\n",
      "Test Data RMSLE: 1.557\n",
      "---- LGBMRegressor ----\n",
      "GridSearchCV 최적 하이퍼 파라미터 : {'n_estimators': 1000}\n",
      "GridSearchCV 최적 평균 RMSE값 : 1.627\n",
      "Test Data RMSLE: 1.639\n"
     ]
    }
   ],
   "source": [
    "from sklearn.linear_model import LinearRegression\n",
    "\n",
    "# 4개의 모델 선언\n",
    "xgb = XGBRegressor(random_state=0)\n",
    "gbm = GradientBoostingRegressor(random_state=0)\n",
    "lgb = LGBMRegressor(random_state=0)  \n",
    "\n",
    "params = {'n_estimators': [1000, 2000]}\n",
    "\n",
    "models = [xgb, gbm, lgb] # 모형 하나 추가 함\n",
    "best_models = []\n",
    "for model in models:\n",
    "  new_model = get_best_params_model(model=model, params=params)\n",
    "  best_models.append(new_model)"
   ]
  },
  {
   "cell_type": "markdown",
   "metadata": {
    "colab_type": "text",
    "id": "O6tioVkep2xn"
   },
   "source": [
    "- 실제 테스트 데이터 셋 모형을 평가한 결과 세 모형을 비교한 결과 각각 []의 값이 나왔다.\n",
    "- 그러나, 위 평가모형 결과가 실제와 똑같을 거라 생각하면 안된다.\n",
    "- 다만, 최종 제출폼을 작성하기에 앞서서, 중간에 평가 측정표를 검증하여 마지막 모형을 선정하는 중간 지표로 삼기에는 적절하다.\n",
    "- 이번에는 stacking model을 사용해야 하기 때문에, 관련 코드를 추가로 작성한다.\n",
    "\n",
    "## (7) 스태킹 알고리즘 테스트\n",
    "- 실제 스태킹 알고리즘 테스트를 진행해서, 성능의 차이를 확인해본다."
   ]
  },
  {
   "cell_type": "code",
   "execution_count": null,
   "metadata": {
    "colab": {
     "base_uri": "https://localhost:8080/",
     "height": 53
    },
    "colab_type": "code",
    "executionInfo": {
     "elapsed": 1046,
     "status": "ok",
     "timestamp": 1594953871424,
     "user": {
      "displayName": "최대운",
      "photoUrl": "",
      "userId": "02401015039773559263"
     },
     "user_tz": -540
    },
    "id": "NchgKF_Jpl-m",
    "outputId": "3118012f-eef5-4982-d417-adc5c3059cfa"
   },
   "outputs": [
    {
     "name": "stdout",
     "output_type": "stream",
     "text": [
      "(3, 2863)\n",
      "(2863, 3)\n"
     ]
    }
   ],
   "source": [
    "# 모형 불러오기\n",
    "xgb_reg = best_models[0]\n",
    "gbm_reg = best_models[1]\n",
    "lgb_reg = best_models[2]\n",
    "\n",
    "# 예측 데이터 세트\n",
    "xgb_pred = xgb_reg.predict(X_test)\n",
    "xgb_pred = np.expm1(xgb_pred)\n",
    "\n",
    "gbm_pred = gbm_reg.predict(X_test)\n",
    "gbm_pred = np.expm1(gbm_pred)\n",
    "\n",
    "lgb_pred = lgb_reg.predict(X_test)\n",
    "lgb_pred = np.expm1(lgb_pred)\n",
    "\n",
    "pred = np.array([xgb_pred, gbm_pred, lgb_pred])\n",
    "print(pred.shape)\n",
    "\n",
    "# transpose를 이용해 행과 열의 위치 교환\n",
    "pred = np.transpose(pred)\n",
    "print(pred.shape)"
   ]
  },
  {
   "cell_type": "markdown",
   "metadata": {
    "colab_type": "text",
    "id": "m5cpiaaFp-cX"
   },
   "source": [
    "- 이렇게 예측 데이터로 생성된 데이터 세트를 기반으로 최종 메타 모델을 만든다."
   ]
  },
  {
   "cell_type": "code",
   "execution_count": null,
   "metadata": {
    "colab": {
     "base_uri": "https://localhost:8080/",
     "height": 35
    },
    "colab_type": "code",
    "executionInfo": {
     "elapsed": 682,
     "status": "ok",
     "timestamp": 1594953880631,
     "user": {
      "displayName": "최대운",
      "photoUrl": "",
      "userId": "02401015039773559263"
     },
     "user_tz": -540
    },
    "id": "NI-UBU_FqKwF",
    "outputId": "5bfa7fe8-b14f-4ebf-cb87-888a30249613"
   },
   "outputs": [
    {
     "name": "stdout",
     "output_type": "stream",
     "text": [
      "Test Data RMSLE: 1.552\n"
     ]
    }
   ],
   "source": [
    "final = xgb_pred*0.40 + gbm_pred*0.40 + lgb_pred*0.20\n",
    "rmsle(y_test, final)"
   ]
  },
  {
   "cell_type": "markdown",
   "metadata": {
    "colab_type": "text",
    "id": "ywAiKUrlqBrU"
   },
   "source": [
    "- 위 기준으로 봤을 때는 기존 성능보다 RMSLE기준 보다 성능이 조금 향상되는 것을 확인 할 수 있었다.\n",
    "- 그러나, 실제로는 어떻게 될지 모르기에 위 코드를 다시한번 적용해보는 코드를 구성해본다.\n",
    "- 위 작성된 코드를 그대로 사용할 것이다.\n",
    "\n",
    "## (8) 예측 템플릿 작성\n",
    "- 예측 템플릿을 작성한다."
   ]
  },
  {
   "cell_type": "code",
   "execution_count": null,
   "metadata": {
    "colab": {},
    "colab_type": "code",
    "id": "-eVbMiCTqNFt"
   },
   "outputs": [],
   "source": [
    "from itertools import product\n",
    "\n",
    "# 예측 템플릿 만들기\n",
    "CARD_SIDO_NMs = df_num['CARD_SIDO_NM'].unique()\n",
    "STD_CLSS_NMs  = df_num['STD_CLSS_NM'].unique()\n",
    "HOM_SIDO_NMs  = df_num['HOM_SIDO_NM'].unique()\n",
    "AGEs          = df_num['AGE'].unique()\n",
    "SEX_CTGO_CDs  = df_num['SEX_CTGO_CD'].unique()\n",
    "FLCs          = df_num['FLC'].unique()\n",
    "years         = [2020]\n",
    "months        = [4, 7]\n",
    "\n",
    "comb_list = [CARD_SIDO_NMs, STD_CLSS_NMs,HOM_SIDO_NMs, AGEs, SEX_CTGO_CDs, FLCs, years, months]\n",
    "temp = np.array(list(product(*comb_list)))\n",
    "\n",
    "train_features = df_num.drop(['CSTMR_CNT', 'AMT', 'CNT'], axis=1)\n",
    "temp = pd.DataFrame(data=temp, columns=train_features.columns)"
   ]
  },
  {
   "cell_type": "code",
   "execution_count": null,
   "metadata": {
    "colab": {},
    "colab_type": "code",
    "id": "0Bsh1qI3qP49"
   },
   "outputs": [],
   "source": [
    "# 예측 데이터 세트\n",
    "xgb_pred = xgb_reg.predict(temp)\n",
    "xgb_pred = np.expm1(xgb_pred)\n",
    "\n",
    "gbm_pred = gbm_reg.predict(temp)\n",
    "gbm_pred = np.expm1(gbm_pred)\n",
    "\n",
    "lgb_pred = lgb_reg.predict(temp)\n",
    "lgb_pred = np.expm1(lgb_pred)"
   ]
  },
  {
   "cell_type": "code",
   "execution_count": null,
   "metadata": {
    "colab": {},
    "colab_type": "code",
    "id": "wvtJ_SudqSnt"
   },
   "outputs": [],
   "source": [
    "final = xgb_pred*0.40 + gbm_pred*0.40 + lgb_pred*0.20\n",
    "\n",
    "temp['AMT'] = np.round(final, 0)\n",
    "temp['REG_YYMM'] = temp['year']*100 + temp['month']\n",
    "temp = temp[['REG_YYMM', 'CARD_SIDO_NM', 'STD_CLSS_NM', 'AMT']]\n",
    "temp = temp.groupby(['REG_YYMM', 'CARD_SIDO_NM', 'STD_CLSS_NM']).sum().reset_index(drop=False)"
   ]
  },
  {
   "cell_type": "markdown",
   "metadata": {
    "colab_type": "text",
    "id": "mHB54epHqH5Q"
   },
   "source": [
    "- 라벨 인코딩 했던 부분을 제출을 위해 다시 디코딩하는 작업을 진행한다."
   ]
  },
  {
   "cell_type": "code",
   "execution_count": null,
   "metadata": {
    "colab": {},
    "colab_type": "code",
    "id": "2WiM-NAfrBmO"
   },
   "outputs": [],
   "source": [
    "# 디코딩 \n",
    "temp['CARD_SIDO_NM'] = encoders['CARD_SIDO_NM'].inverse_transform(temp['CARD_SIDO_NM'])\n",
    "temp['STD_CLSS_NM'] = encoders['STD_CLSS_NM'].inverse_transform(temp['STD_CLSS_NM'])"
   ]
  },
  {
   "cell_type": "code",
   "execution_count": null,
   "metadata": {
    "colab": {
     "base_uri": "https://localhost:8080/",
     "height": 125
    },
    "colab_type": "code",
    "executionInfo": {
     "elapsed": 702,
     "status": "ok",
     "timestamp": 1594954113625,
     "user": {
      "displayName": "최대운",
      "photoUrl": "",
      "userId": "02401015039773559263"
     },
     "user_tz": -540
    },
    "id": "JX1rPFDQrET-",
    "outputId": "b93ccba8-c003-473f-a3c0-2774b22db0e4"
   },
   "outputs": [
    {
     "name": "stdout",
     "output_type": "stream",
     "text": [
      "   REG_YYMM CARD_SIDO_NM        STD_CLSS_NM           AMT\n",
      "0    202004           강원         건강보조식품 소매업  8.808981e+08\n",
      "1    202004           강원            골프장 운영업  1.335067e+09\n",
      "2    202004           강원        과실 및 채소 소매업  1.741949e+08\n",
      "3    202004           강원  관광 민예품 및 선물용품 소매업  5.266848e+07\n",
      "4    202004           강원    그외 기타 스포츠시설 운영업  1.458093e+08\n"
     ]
    }
   ],
   "source": [
    "print(temp.head())"
   ]
  },
  {
   "cell_type": "markdown",
   "metadata": {
    "colab_type": "text",
    "id": "Np7xbB1TqMY7"
   },
   "source": [
    "##(9) Submission 파일 작업 및 내보내기"
   ]
  },
  {
   "cell_type": "code",
   "execution_count": null,
   "metadata": {
    "colab": {},
    "colab_type": "code",
    "id": "s3BBpnJ2rF92"
   },
   "outputs": [],
   "source": [
    "submission = client.query('''\n",
    "  SELECT \n",
    "    * \n",
    "  FROM `cardproject-283503.jeju_data_ver1.submission` \n",
    "  ''').to_dataframe()"
   ]
  },
  {
   "cell_type": "code",
   "execution_count": null,
   "metadata": {
    "colab": {
     "base_uri": "https://localhost:8080/",
     "height": 125
    },
    "colab_type": "code",
    "executionInfo": {
     "elapsed": 728,
     "status": "ok",
     "timestamp": 1594954165713,
     "user": {
      "displayName": "최대운",
      "photoUrl": "",
      "userId": "02401015039773559263"
     },
     "user_tz": -540
    },
    "id": "CsUMXnjIrPrt",
    "outputId": "7aed49ea-9c00-4c36-db0c-e03da3277da2"
   },
   "outputs": [
    {
     "name": "stdout",
     "output_type": "stream",
     "text": [
      "   id  REG_YYMM CARD_SIDO_NM           STD_CLSS_NM           AMT\n",
      "0   0    202004           강원            건강보조식품 소매업  8.808981e+08\n",
      "1   1    202004           강원               골프장 운영업  1.335067e+09\n",
      "2   2    202004           강원           과실 및 채소 소매업  1.741949e+08\n",
      "3   3    202004           강원     관광 민예품 및 선물용품 소매업  5.266848e+07\n",
      "4   4    202004           강원  그외 기타 분류안된 오락관련 서비스업  0.000000e+00\n"
     ]
    }
   ],
   "source": [
    "submission = submission.drop(['AMT'], axis=1)\n",
    "submission = submission.merge(temp, left_on=['REG_YYMM', 'CARD_SIDO_NM', 'STD_CLSS_NM'], right_on=['REG_YYMM', 'CARD_SIDO_NM', 'STD_CLSS_NM'], how='left')\n",
    "submission['AMT'] = submission['AMT'].fillna(0)\n",
    "print(submission.head())"
   ]
  },
  {
   "cell_type": "code",
   "execution_count": null,
   "metadata": {
    "colab": {},
    "colab_type": "code",
    "id": "1l3u1m38rSrG"
   },
   "outputs": [],
   "source": [
    "submission.to_csv('submission.csv', encoding='utf-8-sig', index=False)"
   ]
  }
 ],
 "metadata": {
  "colab": {
   "authorship_tag": "ABX9TyOV03OH7gXTRvZqv+BKruYx",
   "collapsed_sections": [],
   "name": "card.ipynb",
   "provenance": []
  },
  "kernelspec": {
   "display_name": "Python 3",
   "language": "python",
   "name": "python3"
  },
  "language_info": {
   "codemirror_mode": {
    "name": "ipython",
    "version": 3
   },
   "file_extension": ".py",
   "mimetype": "text/x-python",
   "name": "python",
   "nbconvert_exporter": "python",
   "pygments_lexer": "ipython3",
   "version": "3.7.6"
  }
 },
 "nbformat": 4,
 "nbformat_minor": 1
}
