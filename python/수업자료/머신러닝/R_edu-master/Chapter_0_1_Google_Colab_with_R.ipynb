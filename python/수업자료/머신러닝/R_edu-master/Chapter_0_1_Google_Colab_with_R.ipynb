{
  "nbformat": 4,
  "nbformat_minor": 0,
  "metadata": {
    "colab": {
      "name": "Chapter_0_1_Google_Colab_with_R.ipynb",
      "provenance": [],
      "collapsed_sections": [],
      "toc_visible": true,
      "include_colab_link": true
    },
    "kernelspec": {
      "name": "python3",
      "display_name": "Python 3"
    }
  },
  "cells": [
    {
      "cell_type": "markdown",
      "metadata": {
        "id": "view-in-github",
        "colab_type": "text"
      },
      "source": [
        "<a href=\"https://colab.research.google.com/github/chloevan/R_edu/blob/master/Chapter_0_1_Google_Colab_with_R.ipynb\" target=\"_parent\"><img src=\"https://colab.research.google.com/assets/colab-badge.svg\" alt=\"Open In Colab\"/></a>"
      ]
    },
    {
      "cell_type": "markdown",
      "metadata": {
        "id": "9TZEvD1KXz5v",
        "colab_type": "text"
      },
      "source": [
        "---\n",
        "title: \"Google Colab with R\"\n",
        "date: 2020-06-05T12:20:30+09:00\n",
        "tags:\n",
        "  - \"Google Colab\"\n",
        "  - \"R\"\n",
        "  - \"Development Settings\"\n",
        "categories:\n",
        "  - \"Google Colab\"\n",
        "  - \"R\"\n",
        "  - \"Development Settings\"\n",
        "menu: \n",
        "  python:\n",
        "    name: Google Colab with R\n",
        "---\n"
      ]
    },
    {
      "cell_type": "markdown",
      "metadata": {
        "id": "K-bbKzJvOEnK",
        "colab_type": "text"
      },
      "source": [
        "## I. 들어가며\n",
        "- 빅데이터 시대에 맞춰서 다양한 툴이 나오는 가운데, Google Colab은 가히 혁명적이라 할 수 있다. \n",
        "- 과거 높은 사양의 컴퓨터에서만 수행할 수 있었던 머신러닝과 딥러닝을 구글 코랩의 환경에서 무료로 배울 수 있는 기회를 구글이 제공하기 시작했다. \n",
        "- 간단하게 아래 소스코드를 실행하여 CPU와 GPU의 연산속도를 비교 해보자. \n",
        "  + [GPU를 사용한 TensorFlow](https://colab.research.google.com/notebooks/gpu.ipynb)\n",
        "\n"
      ]
    },
    {
      "cell_type": "markdown",
      "metadata": {
        "id": "JmC1-NKrPzIp",
        "colab_type": "text"
      },
      "source": [
        "## II. Google Colab with R\n",
        "- Google Colab은 매우 편리하다. 실제 강의를 시작하면서 `파이썬` 관련 모든 강의안은 Google Colab으로 제작중이다. \n",
        "- 문제는 현재로써는 `Google Colab`만 지원한다는 점이다. \n",
        "- `RStudio`가 개발용으로 매우 훌륭한 도구이지만, 교육 목적으로는 조금 부족한 감이 있다. \n",
        "- 일단 환경이 다르면 강의하는 입장에서는 여러가지로 어렵다. \n",
        "- 그래서 이번에 온라인 `Tutorial`을 제작하면서, `Google Colab`에서 `R`을 실행하고 또한 이를 바탕으로 강의를 제작하기로 했다. \n",
        " "
      ]
    },
    {
      "cell_type": "markdown",
      "metadata": {
        "id": "pxt-gGNgZfua",
        "colab_type": "text"
      },
      "source": [
        "## III. Set up\n",
        "- 다음 소스코드를 그대로 실행한다."
      ]
    },
    {
      "cell_type": "code",
      "metadata": {
        "id": "nS09GmycZlJw",
        "colab_type": "code",
        "outputId": "04ada488-1b44-4ba6-cb33-70b41e1c6998",
        "colab": {
          "base_uri": "https://localhost:8080/",
          "height": 51
        }
      },
      "source": [
        "%load_ext rpy2.ipython"
      ],
      "execution_count": 2,
      "outputs": [
        {
          "output_type": "stream",
          "text": [
            "The rpy2.ipython extension is already loaded. To reload it, use:\n",
            "  %reload_ext rpy2.ipython\n"
          ],
          "name": "stdout"
        }
      ]
    },
    {
      "cell_type": "markdown",
      "metadata": {
        "id": "FwDogW3Vi9PW",
        "colab_type": "text"
      },
      "source": [
        "- 간단한 `EDA`는 `Jupyter`에서 실행할 수 있다. "
      ]
    },
    {
      "cell_type": "markdown",
      "metadata": {
        "id": "9wxMPUeTbPtp",
        "colab_type": "text"
      },
      "source": [
        "## IV. R 소스코드 실행\n",
        "- 이제 간단하게 R 소스코드를 실행해보자. \n",
        "- 이 때, 임시적으로 `%%R` 매직 command를 활용한다. "
      ]
    },
    {
      "cell_type": "markdown",
      "metadata": {
        "id": "C9nWDukckWCL",
        "colab_type": "text"
      },
      "source": [
        "### (1) 패키지 설치\n",
        "- R에서 필요한 필수 패키지를 설치한다. \n",
        "- `EDA`를 위한 `tidyverse` 패키지와 머신러닝을 위한 `caret`패키지를 설치한다. "
      ]
    },
    {
      "cell_type": "code",
      "metadata": {
        "id": "9EWVMfpJeqWh",
        "colab_type": "code",
        "outputId": "eedd7a4f-87fa-4f9b-88aa-3d6d44066a43",
        "colab": {
          "base_uri": "https://localhost:8080/"
        }
      },
      "source": [
        "%%R\n",
        "# 1. 패키지가 설치 function\n",
        "install_pkgs <- function(pkg){\n",
        "  new.pkg <- pkg[!(pkg %in% installed.packages()[, \"Package\"])]\n",
        "  if (length(new.pkg)) \n",
        "    install.packages(new.pkg, dependencies = TRUE)\n",
        "  sapply(pkg, require, character.only = TRUE)\n",
        "}\n",
        "\n",
        "pkgs <- c(\"tidyverse\", \"nycflights13\", \"mlbench\")\n",
        "install_pkgs(pkgs)"
      ],
      "execution_count": 3,
      "outputs": [
        {
          "output_type": "stream",
          "text": [
            "R[write to console]: Installing packages into ‘/usr/local/lib/R/site-library’\n",
            "(as ‘lib’ is unspecified)\n",
            "\n",
            "R[write to console]: trying URL 'https://cran.rstudio.com/src/contrib/nycflights13_1.0.1.tar.gz'\n",
            "\n",
            "R[write to console]: Content type 'application/x-gzip'\n",
            "R[write to console]:  length 4504590 bytes (4.3 MB)\n",
            "\n",
            "R[write to console]: =\n",
            "R[write to console]: =\n",
            "R[write to console]: =\n",
            "R[write to console]: =\n",
            "R[write to console]: =\n",
            "R[write to console]: =\n",
            "R[write to console]: =\n",
            "R[write to console]: =\n",
            "R[write to console]: =\n",
            "R[write to console]: =\n",
            "R[write to console]: =\n",
            "R[write to console]: =\n",
            "R[write to console]: =\n",
            "R[write to console]: =\n",
            "R[write to console]: =\n",
            "R[write to console]: =\n",
            "R[write to console]: =\n",
            "R[write to console]: =\n",
            "R[write to console]: =\n",
            "R[write to console]: =\n",
            "R[write to console]: =\n",
            "R[write to console]: =\n",
            "R[write to console]: =\n",
            "R[write to console]: =\n",
            "R[write to console]: =\n",
            "R[write to console]: =\n",
            "R[write to console]: =\n",
            "R[write to console]: =\n",
            "R[write to console]: =\n",
            "R[write to console]: =\n",
            "R[write to console]: =\n",
            "R[write to console]: =\n",
            "R[write to console]: =\n",
            "R[write to console]: =\n",
            "R[write to console]: =\n",
            "R[write to console]: =\n",
            "R[write to console]: =\n",
            "R[write to console]: =\n",
            "R[write to console]: =\n",
            "R[write to console]: =\n",
            "R[write to console]: =\n",
            "R[write to console]: =\n",
            "R[write to console]: =\n",
            "R[write to console]: =\n",
            "R[write to console]: =\n",
            "R[write to console]: =\n",
            "R[write to console]: =\n",
            "R[write to console]: =\n",
            "R[write to console]: =\n",
            "R[write to console]: =\n",
            "R[write to console]: \n",
            "\n",
            "R[write to console]: downloaded 4.3 MB\n",
            "\n",
            "\n",
            "R[write to console]: trying URL 'https://cran.rstudio.com/src/contrib/mlbench_2.1-1.tar.gz'\n",
            "\n",
            "R[write to console]: Content type 'application/x-gzip'\n",
            "R[write to console]:  length 920768 bytes (899 KB)\n",
            "\n",
            "R[write to console]: =\n",
            "R[write to console]: =\n",
            "R[write to console]: =\n",
            "R[write to console]: =\n",
            "R[write to console]: =\n",
            "R[write to console]: =\n",
            "R[write to console]: =\n",
            "R[write to console]: =\n",
            "R[write to console]: =\n",
            "R[write to console]: =\n",
            "R[write to console]: =\n",
            "R[write to console]: =\n",
            "R[write to console]: =\n",
            "R[write to console]: =\n",
            "R[write to console]: =\n",
            "R[write to console]: =\n",
            "R[write to console]: =\n",
            "R[write to console]: =\n",
            "R[write to console]: =\n",
            "R[write to console]: =\n",
            "R[write to console]: =\n",
            "R[write to console]: =\n",
            "R[write to console]: =\n",
            "R[write to console]: =\n",
            "R[write to console]: =\n",
            "R[write to console]: =\n",
            "R[write to console]: =\n",
            "R[write to console]: =\n",
            "R[write to console]: =\n",
            "R[write to console]: =\n",
            "R[write to console]: =\n",
            "R[write to console]: =\n",
            "R[write to console]: =\n",
            "R[write to console]: =\n",
            "R[write to console]: =\n",
            "R[write to console]: =\n",
            "R[write to console]: =\n",
            "R[write to console]: =\n",
            "R[write to console]: =\n",
            "R[write to console]: =\n",
            "R[write to console]: =\n",
            "R[write to console]: =\n",
            "R[write to console]: =\n",
            "R[write to console]: =\n",
            "R[write to console]: =\n",
            "R[write to console]: =\n",
            "R[write to console]: =\n",
            "R[write to console]: =\n",
            "R[write to console]: =\n",
            "R[write to console]: =\n",
            "R[write to console]: \n",
            "\n",
            "R[write to console]: downloaded 899 KB\n",
            "\n",
            "\n",
            "R[write to console]: \n",
            "\n",
            "R[write to console]: \n",
            "R[write to console]: The downloaded source packages are in\n",
            "\t‘/tmp/Rtmp3PCaAn/downloaded_packages’\n",
            "R[write to console]: \n",
            "R[write to console]: \n",
            "\n",
            "R[write to console]: Loading required package: tidyverse\n",
            "\n",
            "R[write to console]: ── Attaching packages ─────────────────────────────────────── tidyverse 1.3.0 ──\n",
            "\n",
            "R[write to console]: ✔ ggplot2 3.3.0     ✔ purrr   0.3.4\n",
            "✔ tibble  3.0.1     ✔ dplyr   0.8.5\n",
            "✔ tidyr   1.1.0     ✔ stringr 1.4.0\n",
            "✔ readr   1.3.1     ✔ forcats 0.5.0\n",
            "\n",
            "R[write to console]: ── Conflicts ────────────────────────────────────────── tidyverse_conflicts() ──\n",
            "✖ dplyr::filter() masks stats::filter()\n",
            "✖ dplyr::lag()    masks stats::lag()\n",
            "\n",
            "R[write to console]: Loading required package: nycflights13\n",
            "\n",
            "R[write to console]: Loading required package: mlbench\n",
            "\n"
          ],
          "name": "stderr"
        },
        {
          "output_type": "stream",
          "text": [
            "   tidyverse nycflights13      mlbench \n",
            "        TRUE         TRUE         TRUE \n"
          ],
          "name": "stdout"
        }
      ]
    },
    {
      "cell_type": "markdown",
      "metadata": {
        "id": "6pTUqe2zjPsJ",
        "colab_type": "text"
      },
      "source": [
        "### (2) EDA with tidyverse\n",
        "- `tidyverse` 패키지를 활용하여 간단한 `EDA`를 작업해보자. "
      ]
    },
    {
      "cell_type": "code",
      "metadata": {
        "id": "koYVIHfKiRD-",
        "colab_type": "code",
        "outputId": "239f54f8-2556-411b-9d4b-6ee3a6f5db97",
        "colab": {
          "base_uri": "https://localhost:8080/",
          "height": 497
        }
      },
      "source": [
        "%%R\n",
        "nycflights13::flights %>% \n",
        "  mutate(\n",
        "    cancelled = is.na(dep_time),\n",
        "    sched_hour = sched_dep_time %/% 100,\n",
        "    sched_min = sched_dep_time %% 100,\n",
        "    sched_dep_time = sched_hour + sched_min / 60\n",
        "  ) %>% \n",
        "  ggplot(mapping = aes(sched_dep_time)) + \n",
        "    geom_freqpoly(mapping = aes(colour = cancelled), binwidth = 1/4)"
      ],
      "execution_count": 4,
      "outputs": [
        {
          "output_type": "display_data",
          "data": {
            "image/png": "[encoded data removed]"
          },
          "metadata": {
            "tags": []
          }
        }
      ]
    },
    {
      "cell_type": "markdown",
      "metadata": {
        "id": "hSKGOX4oXCcH",
        "colab_type": "text"
      },
      "source": [
        "## V. 결론\n",
        "- 막상 설치를 해보면서 느낀 것이 있다면, 이렇게 `rp2`를 활용하여 `R`을 작업하는 것이 현명한 것 같지는 않아 보인다.\n",
        "  + `%%` 매직 명령어를 쓰는게 불편했다. \n",
        "  + 패키지 관리가 파이썬에 비해서 쉽지 않을 것 같다는 생각이 든다. \n",
        "  + 머신러닝 패키지를 설치하는데, 꽤나 많은 시간이 소요 되었다. \n",
        "- `Stackoverflow`에 링크된 모든 문서를 테스트해본 결과 아직까지는 환경설정이 불안정한 것 같다. \n",
        "- 만약에, Google Colab에서 R을 꼭 사용하고 싶다면 아래 노트북을 복사해서 계속 사용하는 방안을 추천한다. \n",
        "  + https://colab.research.google.com/#create=true&language=r\n",
        "  + EDA 뿐만 아니라 머신러닝 패키지도 제법 잘 돌아간다. \n",
        "- 패키지 관리가 문제인데, 현재로써는 `system()`를 사용하는 방법이 유력해 보이지만, 초보자분들 대상으로 강의시에는 적합하지 않은 것 같다. \n",
        "- 강의용으로는 적합하지만, 강의용을 `.RMD`파일로 변환해서 수강생이 직접 `.RMD` 파일로 받도록 하는 것이 가장 좋을 것 같다는 생각을 해본다. \n",
        "\n",
        "  "
      ]
    },
    {
      "cell_type": "markdown",
      "metadata": {
        "id": "CFcfuS-6qFnY",
        "colab_type": "text"
      },
      "source": [
        "## VI. Reference\n",
        "Stackoverflow. How to use R with Google Colaboratory? Retrieved from https://stackoverflow.com/questions/54595285/how-to-use-r-with-google-colaboratory"
      ]
    }
  ]
}