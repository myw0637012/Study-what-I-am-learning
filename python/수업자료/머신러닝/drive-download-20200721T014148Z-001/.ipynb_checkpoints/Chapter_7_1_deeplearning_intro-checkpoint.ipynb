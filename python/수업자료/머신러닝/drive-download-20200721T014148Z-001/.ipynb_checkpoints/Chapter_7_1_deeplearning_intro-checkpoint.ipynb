{
 "cells": [
  {
   "cell_type": "markdown",
   "metadata": {
    "colab_type": "text",
    "id": "Gc8a9DM17eRG"
   },
   "source": [
    "---\n",
    "title: \"딥러닝 소개 - 인공 신경망 소개\"\n",
    "date: 2020-07-15T10:00:47+09:00\n",
    "tags:\n",
    "  - \"Basic Data Structures\"\n",
    "  - \"Python Basic\"\n",
    "  - \"Python\"\n",
    "  - \"iteration\"\n",
    "categories:\n",
    "  - \"function\"\n",
    "  - \"Python\"\n",
    "  - \"Python Basic\"\n",
    "menu: \n",
    "  kaggle:\n",
    "    name: 딥러닝 소개 - 인공 신경망 소개\n",
    "---\n"
   ]
  },
  {
   "cell_type": "markdown",
   "metadata": {
    "colab_type": "text",
    "id": "CCF1fe0LYy4r"
   },
   "source": [
    "## 공지 \n",
    "- 본 Tutorial은 교재 `핸즈온 머신러닝 2판`를 활용하여 본 강사로부터 국비교육 강의를 듣는 사람들에게 자료 제공을 목적으로 제작하였습니다.\n",
    "\n",
    "- 강사의 주관적인 판단으로 압축해서 자료를 정리하였기 때문에, 자세하게 공부를 하고 싶은 분은 반드시 교재를 구매하실 것을 권해드립니다. \n",
    "> 책 정말 좋습니다! 꼭 구매하세요!\n"
   ]
  },
  {
   "cell_type": "markdown",
   "metadata": {
    "colab_type": "text",
    "id": "Rd7OM2we7uKo"
   },
   "source": [
    "## 개요\n",
    "- 인경 신경망은(`Artificial Neural Network`)을 촉발시킨 근원임\n",
    "  + 뇌에 있는 생물학적 뉴런의 네트워크에서 영감을 받은 머신러닝 모델\n",
    "- 활용예제\n",
    "  + 수백만개의 이미지 분류\n",
    "  + 수백만개의 비디어 추천\n",
    "  + 매우 복잡한 문제를 풀 때 유용한 머신러닝 모델\n",
    "- Keras API\n",
    "  + 케라스는 신경망 구축, 훈련, 평가, 실행을 목적으로 설계된 API이자, 프레임워크\n"
   ]
  },
  {
   "cell_type": "markdown",
   "metadata": {
    "colab_type": "text",
    "id": "W7pn8A-kH0WO"
   },
   "source": [
    "### (1) 주요 환경 설정\n",
    "- 주요 환경 설정은 아래와 같이 정의합니다. "
   ]
  },
  {
   "cell_type": "code",
   "execution_count": 38,
   "metadata": {
    "colab": {},
    "colab_type": "code",
    "executionInfo": {
     "elapsed": 1749,
     "status": "ok",
     "timestamp": 1594788223975,
     "user": {
      "displayName": "ji-hoon Jung",
      "photoUrl": "https://lh3.googleusercontent.com/a-/AOh14GgEP4yfwhnQ1TZPZlHUU6YbHyd-BvHkAnUrwdBWex0=s64",
      "userId": "03007390404369457996"
     },
     "user_tz": -540
    },
    "id": "cG8ZgZIZH5yt"
   },
   "outputs": [],
   "source": [
    "# 파이썬 ≥3.5 필수\n",
    "import sys\n",
    "assert sys.version_info >= (3, 5)\n",
    "\n",
    "# 사이킷런 ≥0.20 필수\n",
    "import sklearn\n",
    "assert sklearn.__version__ >= \"0.20\"\n",
    "\n",
    "# 텐서플로 ≥2.0 필수\n",
    "import tensorflow as tf\n",
    "assert tf.__version__ >= \"2.0\"\n",
    "from tensorflow import keras\n",
    "\n",
    "# 공통 모듈 임포트\n",
    "import numpy as np\n",
    "import pandas as pd\n",
    "import os\n",
    "\n",
    "# 노트북 실행 결과를 동일하게 유지하기 위해\n",
    "np.random.seed(42)\n",
    "\n",
    "# 깔끔한 그래프 출력을 위해\n",
    "%matplotlib inline\n",
    "import matplotlib as mpl\n",
    "import matplotlib.pyplot as plt\n",
    "mpl.rc('axes', labelsize=14)\n",
    "mpl.rc('xtick', labelsize=12)\n",
    "mpl.rc('ytick', labelsize=12)\n",
    "\n",
    "# 그림을 저장할 위치\n",
    "PROJECT_ROOT_DIR = \".\"\n",
    "CHAPTER_ID = \"ann\"\n",
    "IMAGES_PATH = os.path.join(PROJECT_ROOT_DIR, \"images\", CHAPTER_ID)\n",
    "os.makedirs(IMAGES_PATH, exist_ok=True)\n",
    "\n",
    "def save_fig(fig_id, tight_layout=True, fig_extension=\"png\", resolution=300):\n",
    "    path = os.path.join(IMAGES_PATH, fig_id + \".\" + fig_extension)\n",
    "    print(\"그림 저장:\", fig_id)\n",
    "    if tight_layout:\n",
    "        plt.tight_layout()\n",
    "    plt.savefig(path, format=fig_extension, dpi=resolution)\n",
    "\n",
    "# 불필요한 경고를 무시합니다 (사이파이 이슈 #5998 참조)\n",
    "import warnings\n",
    "warnings.filterwarnings(action=\"ignore\", message=\"^internal gelsd\")"
   ]
  },
  {
   "cell_type": "markdown",
   "metadata": {
    "colab_type": "text",
    "id": "4rs4suwbDSXr"
   },
   "source": [
    "## I. 퍼셉트론\n",
    "  - 1957년, 프랑크 로젠플라트가 제안\n",
    "  - 헤비사이드 계단 함수 (교재, P. 357)\n",
    "    + 입력의 선형 조합을 계산해 임계값을 기준으로 이진분류 (양성, 음성)\n",
    "  - 퍼셉트론은 층이 하나뿐인 `TLU(Threshold Logic Unit)`로 구성됨\n",
    "    + 모든 뉴런이 이전 층의 모든 뉴런과 연결되어 있을 때 `완전 연결 층(Fully Connected Layer)` 또는 `밀집 층(Dense Layer)`라고 부름\n",
    "\n"
   ]
  },
  {
   "cell_type": "markdown",
   "metadata": {
    "colab_type": "text",
    "id": "Qq0j1WZlF8p3"
   },
   "source": [
    "### (1) 사이킷런 예제\n",
    "- `Perceptron` 클래스 제공\n",
    "- 교재 360페이지에 있는 소스 코드보다 아래 소스 코드를 참고\n",
    "- 사이킷런 향후 버전에서 `max_iter`와 `tol` 매개변수의 기본값이 바뀌기 때문에 경고를 피하기 위해 명시적으로 지정"
   ]
  },
  {
   "cell_type": "code",
   "execution_count": 39,
   "metadata": {
    "colab": {},
    "colab_type": "code",
    "executionInfo": {
     "elapsed": 1732,
     "status": "ok",
     "timestamp": 1594788223976,
     "user": {
      "displayName": "ji-hoon Jung",
      "photoUrl": "https://lh3.googleusercontent.com/a-/AOh14GgEP4yfwhnQ1TZPZlHUU6YbHyd-BvHkAnUrwdBWex0=s64",
      "userId": "03007390404369457996"
     },
     "user_tz": -540
    },
    "id": "7em6lJOvGDzq"
   },
   "outputs": [],
   "source": [
    "import numpy as np\n",
    "from sklearn.datasets import load_iris\n",
    "from sklearn.linear_model import Perceptron\n",
    "\n",
    "iris = load_iris()\n",
    "X = iris.data[:, (2, 3)]  # 꽃잎 길이, 꽃잎 너비\n",
    "y = (iris.target == 0).astype(np.int)\n",
    "\n",
    "per_clf = Perceptron(max_iter=1000, tol=1e-3, random_state=42)\n",
    "per_clf.fit(X, y)\n",
    "\n",
    "y_pred = per_clf.predict([[2, 0.5]])"
   ]
  },
  {
   "cell_type": "code",
   "execution_count": 40,
   "metadata": {
    "colab": {
     "base_uri": "https://localhost:8080/",
     "height": 34
    },
    "colab_type": "code",
    "executionInfo": {
     "elapsed": 1722,
     "status": "ok",
     "timestamp": 1594788223977,
     "user": {
      "displayName": "ji-hoon Jung",
      "photoUrl": "https://lh3.googleusercontent.com/a-/AOh14GgEP4yfwhnQ1TZPZlHUU6YbHyd-BvHkAnUrwdBWex0=s64",
      "userId": "03007390404369457996"
     },
     "user_tz": -540
    },
    "id": "PBuZCclAIUv1",
    "outputId": "0d1a921d-c7a7-49f2-8b9c-12075b8be83e"
   },
   "outputs": [
    {
     "data": {
      "text/plain": [
       "array([1])"
      ]
     },
     "execution_count": 40,
     "metadata": {
      "tags": []
     },
     "output_type": "execute_result"
    }
   ],
   "source": [
    "y_pred"
   ]
  },
  {
   "cell_type": "markdown",
   "metadata": {
    "colab_type": "text",
    "id": "qcMCTlCrI2Kq"
   },
   "source": [
    "### (2) 다층 퍼셉트론\n",
    "- (1969년) 마빈 민스키와 시모어 페퍼트는 퍼셉트론의 여러가지 심각한 약점 언급, 특히 간단한 문제도 풀 수 없음 확인\n",
    "  + 참조: [Tensorflow 2.0 Tutorial ch3.3.5 - 세번째 신경망 네트워크 - XOR](https://chloevan.github.io/python/tensorflow2.0/ch3_3_5_network_xor/)\n",
    "  + 이 때, 퍼셉트론을 여러 개 쌓아올리면 일부 제약을 줄일 수 있음. 이를 `다층 퍼셉트론(MLP)`라고 부름\n",
    "- 그러나, 다층 퍼셉트론을 훈련할 방법을 찾기 위해 노력했으나 성공하지 못함\n"
   ]
  },
  {
   "cell_type": "markdown",
   "metadata": {
    "colab_type": "text",
    "id": "fuGzAj1jMGAx"
   },
   "source": [
    "### (3) 역전파\n",
    "- 교재 361페이지 참조\n",
    "  + 다층 퍼셉트론은 크게 입력-은닉-출력층으로 구성됨\n",
    "  + 은닉층을 여러개 쌓아 올린 인공 신경망을 심층 신경망(DNN)이라고 부름\n",
    "- `딥러닝`은 여러개를 쌓아 올리는 심층 신경망을 연구하는 분야임 \n",
    "- 1986년, 역전파 훈련 알고리즘 소개하는 논문 공개(by 데이비드 루멜하트, 제프리 힌턴, 로날드 윌리엄스)\n",
    "  + 그레이디언트를 자동으로 계산(자동 미분)하는 경사 하강법\n",
    "  + 네트워크를 두번 통과함 (정방향, 역방향)\n",
    "  + 목적은 오차를 감소시키기 위해 각 연결 가중치와 편향값이 어떻게 바뀌어야 할지 알 수 있음\n",
    "  "
   ]
  },
  {
   "cell_type": "markdown",
   "metadata": {
    "colab_type": "text",
    "id": "pCNZV1tgPlfJ"
   },
   "source": [
    "### (4) 활성화 함수\n",
    "- 경사 하강법이 잘 작동할 수 있도록 다층 퍼셉트론 구조에 중요한 변화를 주는데, 이를 활성화 함수라 함\n",
    "- 활성화 함수의 주 목적은, 문제 해결을 위해 도입된 것\n",
    "  + 선형 변환을 해도 비선형 문제는 해결하지 못함, (예: 선형회귀와 로지스틱회귀의 차이점)\n",
    "  + 선형변환에 비선형을 주는 것이 활성화 함수이며, 다만 어떻게 줄 것인지에 따라 종류가 나눠짐\n",
    "  "
   ]
  },
  {
   "cell_type": "code",
   "execution_count": 41,
   "metadata": {
    "colab": {},
    "colab_type": "code",
    "executionInfo": {
     "elapsed": 1708,
     "status": "ok",
     "timestamp": 1594788223979,
     "user": {
      "displayName": "ji-hoon Jung",
      "photoUrl": "https://lh3.googleusercontent.com/a-/AOh14GgEP4yfwhnQ1TZPZlHUU6YbHyd-BvHkAnUrwdBWex0=s64",
      "userId": "03007390404369457996"
     },
     "user_tz": -540
    },
    "id": "CFNUA1eTQYy3"
   },
   "outputs": [],
   "source": [
    "def sigmoid(z):\n",
    "    return 1 / (1 + np.exp(-z))\n",
    "\n",
    "def relu(z):\n",
    "    return np.maximum(0, z)\n",
    "\n",
    "def derivative(f, z, eps=0.000001):\n",
    "    return (f(z + eps) - f(z - eps))/(2 * eps)"
   ]
  },
  {
   "cell_type": "code",
   "execution_count": 42,
   "metadata": {
    "colab": {
     "base_uri": "https://localhost:8080/",
     "height": 314
    },
    "colab_type": "code",
    "executionInfo": {
     "elapsed": 2868,
     "status": "ok",
     "timestamp": 1594788225155,
     "user": {
      "displayName": "ji-hoon Jung",
      "photoUrl": "https://lh3.googleusercontent.com/a-/AOh14GgEP4yfwhnQ1TZPZlHUU6YbHyd-BvHkAnUrwdBWex0=s64",
      "userId": "03007390404369457996"
     },
     "user_tz": -540
    },
    "id": "vsY81QiFQdj2",
    "outputId": "0c416c3b-3f85-4b93-a1e5-a2af96373e68"
   },
   "outputs": [
    {
     "name": "stdout",
     "output_type": "stream",
     "text": [
      "그림 저장: activation_functions_plot\n"
     ]
    },
    {
     "data": {
      "image/png": "[encoded data removed]",
      "text/plain": [
       "<Figure size 792x288 with 2 Axes>"
      ]
     },
     "metadata": {
      "needs_background": "light",
      "tags": []
     },
     "output_type": "display_data"
    }
   ],
   "source": [
    "z = np.linspace(-5, 5, 200)\n",
    "\n",
    "plt.figure(figsize=(11,4))\n",
    "\n",
    "plt.subplot(121)\n",
    "plt.plot(z, np.sign(z), \"r-\", linewidth=1, label=\"Step\")\n",
    "plt.plot(z, sigmoid(z), \"g--\", linewidth=2, label=\"Sigmoid\")\n",
    "plt.plot(z, np.tanh(z), \"b-\", linewidth=2, label=\"Tanh\")\n",
    "plt.plot(z, relu(z), \"m-.\", linewidth=2, label=\"ReLU\")\n",
    "plt.grid(True)\n",
    "plt.legend(loc=\"center right\", fontsize=14)\n",
    "plt.title(\"Activation functions\", fontsize=14)\n",
    "plt.axis([-5, 5, -1.2, 1.2])\n",
    "\n",
    "plt.subplot(122)\n",
    "plt.plot(z, derivative(np.sign, z), \"r-\", linewidth=1, label=\"Step\")\n",
    "plt.plot(0, 0, \"ro\", markersize=5)\n",
    "plt.plot(0, 0, \"rx\", markersize=10)\n",
    "plt.plot(z, derivative(sigmoid, z), \"g--\", linewidth=2, label=\"Sigmoid\")\n",
    "plt.plot(z, derivative(np.tanh, z), \"b-\", linewidth=2, label=\"Tanh\")\n",
    "plt.plot(z, derivative(relu, z), \"m-.\", linewidth=2, label=\"ReLU\")\n",
    "plt.grid(True)\n",
    "#plt.legend(loc=\"center right\", fontsize=14)\n",
    "plt.title(\"Derivatives\", fontsize=14)\n",
    "plt.axis([-5, 5, -0.2, 1.2])\n",
    "\n",
    "save_fig(\"activation_functions_plot\")\n",
    "plt.show()"
   ]
  },
  {
   "cell_type": "markdown",
   "metadata": {
    "colab_type": "text",
    "id": "NrvRLTl0Qj0A"
   },
   "source": [
    "- 하이퍼폴릭 탄젠트 함수: $tanh(z)=2\\sigma(2z)-1$. 로지스틱 함수와 같은 `0~1` 사이이고, 출력 범위는 `-1~1` 사이임\n",
    "- ReLU 함수: $ReLU(z)=max(0,z)$. 연속적이지만, $z=0$에서 미분 가능하지 않음. $z<0$일 경우에는 0이다. 그러나, 실제로 잘 작동하고 계산 속도가 빠르다는 장점이 있어 기본 활성화 함수가 됨.\n"
   ]
  },
  {
   "cell_type": "markdown",
   "metadata": {
    "colab_type": "text",
    "id": "ioMd8rOITEWE"
   },
   "source": [
    "## II. 회귀를 위한 다층 퍼셉트론(MLP)\n",
    "- 회귀 모형에 적용 가능, 이 때에는 출력 뉴런이 하나만 필요함\n",
    "- 뉴런의 출력값이 예측값임. \n",
    "- 회귀 MLP의 구조는 아래와 같음\n",
    "\n",
    "| 하이퍼파라미터 \t| 일반적인 값 \t|\n",
    "|:-:\t|:-:\t|\n",
    "| 입력 뉴런 수 \t| 특성마다 하나|\n",
    "| 은닉층 수 \t| 문제에 따라 다름 (1~5)|\n",
    "| 은닉층의 뉴런 수 \t| 문제에 따라 다름 (10~100)|\n",
    "| 출력 뉴런 수 \t| 예측 차원마다 하나 |\n",
    "| 은닉층의 활성화 함수 \t| 주로 ReLU |\n",
    "| 출력층의 활성화 함수 \t| 없음. 또는 출력이 양수일 때, ReLU/softplus|\n",
    "| 손실 함수 \t| MSE |\n",
    "\n"
   ]
  },
  {
   "cell_type": "code",
   "execution_count": 43,
   "metadata": {
    "colab": {},
    "colab_type": "code",
    "executionInfo": {
     "elapsed": 2855,
     "status": "ok",
     "timestamp": 1594788225156,
     "user": {
      "displayName": "ji-hoon Jung",
      "photoUrl": "https://lh3.googleusercontent.com/a-/AOh14GgEP4yfwhnQ1TZPZlHUU6YbHyd-BvHkAnUrwdBWex0=s64",
      "userId": "03007390404369457996"
     },
     "user_tz": -540
    },
    "id": "cUJV4miRWj-H"
   },
   "outputs": [],
   "source": [
    "from sklearn.datasets import fetch_california_housing\n",
    "from sklearn.model_selection import train_test_split\n",
    "from sklearn.preprocessing import StandardScaler\n",
    "\n",
    "housing = fetch_california_housing()\n",
    "\n",
    "X_train_full, X_test, y_train_full, y_test = train_test_split(housing.data, housing.target, random_state=42)\n",
    "X_train, X_valid, y_train, y_valid = train_test_split(X_train_full, y_train_full, random_state=42)\n",
    "\n",
    "scaler = StandardScaler()\n",
    "X_train = scaler.fit_transform(X_train)\n",
    "X_valid = scaler.transform(X_valid)\n",
    "X_test = scaler.transform(X_test)"
   ]
  },
  {
   "cell_type": "code",
   "execution_count": 44,
   "metadata": {
    "colab": {},
    "colab_type": "code",
    "executionInfo": {
     "elapsed": 2763,
     "status": "ok",
     "timestamp": 1594788225160,
     "user": {
      "displayName": "ji-hoon Jung",
      "photoUrl": "https://lh3.googleusercontent.com/a-/AOh14GgEP4yfwhnQ1TZPZlHUU6YbHyd-BvHkAnUrwdBWex0=s64",
      "userId": "03007390404369457996"
     },
     "user_tz": -540
    },
    "id": "Ef6K6W8bWmAy"
   },
   "outputs": [],
   "source": [
    "np.random.seed(42)\n",
    "tf.random.set_seed(42)"
   ]
  },
  {
   "cell_type": "code",
   "execution_count": 45,
   "metadata": {
    "colab": {
     "base_uri": "https://localhost:8080/",
     "height": 714
    },
    "colab_type": "code",
    "executionInfo": {
     "elapsed": 14600,
     "status": "ok",
     "timestamp": 1594788237009,
     "user": {
      "displayName": "ji-hoon Jung",
      "photoUrl": "https://lh3.googleusercontent.com/a-/AOh14GgEP4yfwhnQ1TZPZlHUU6YbHyd-BvHkAnUrwdBWex0=s64",
      "userId": "03007390404369457996"
     },
     "user_tz": -540
    },
    "id": "4XR9NJ6HWn3T",
    "outputId": "f6ebd19e-aee8-4cde-f363-6f28ee26423a"
   },
   "outputs": [
    {
     "name": "stdout",
     "output_type": "stream",
     "text": [
      "Epoch 1/20\n",
      "363/363 [==============================] - 1s 2ms/step - loss: 1.6419 - val_loss: 0.8560\n",
      "Epoch 2/20\n",
      "363/363 [==============================] - 1s 2ms/step - loss: 0.7047 - val_loss: 0.6531\n",
      "Epoch 3/20\n",
      "363/363 [==============================] - 1s 2ms/step - loss: 0.6345 - val_loss: 0.6099\n",
      "Epoch 4/20\n",
      "363/363 [==============================] - 1s 2ms/step - loss: 0.5977 - val_loss: 0.5658\n",
      "Epoch 5/20\n",
      "363/363 [==============================] - 1s 2ms/step - loss: 0.5706 - val_loss: 0.5355\n",
      "Epoch 6/20\n",
      "363/363 [==============================] - 1s 2ms/step - loss: 0.5472 - val_loss: 0.5173\n",
      "Epoch 7/20\n",
      "363/363 [==============================] - 1s 2ms/step - loss: 0.5288 - val_loss: 0.5081\n",
      "Epoch 8/20\n",
      "363/363 [==============================] - 1s 2ms/step - loss: 0.5130 - val_loss: 0.4799\n",
      "Epoch 9/20\n",
      "363/363 [==============================] - 1s 2ms/step - loss: 0.4992 - val_loss: 0.4690\n",
      "Epoch 10/20\n",
      "363/363 [==============================] - 1s 1ms/step - loss: 0.4875 - val_loss: 0.4656\n",
      "Epoch 11/20\n",
      "363/363 [==============================] - 1s 2ms/step - loss: 0.4777 - val_loss: 0.4482\n",
      "Epoch 12/20\n",
      "363/363 [==============================] - 1s 2ms/step - loss: 0.4688 - val_loss: 0.4479\n",
      "Epoch 13/20\n",
      "363/363 [==============================] - 1s 2ms/step - loss: 0.4615 - val_loss: 0.4296\n",
      "Epoch 14/20\n",
      "363/363 [==============================] - 1s 2ms/step - loss: 0.4547 - val_loss: 0.4233\n",
      "Epoch 15/20\n",
      "363/363 [==============================] - 1s 1ms/step - loss: 0.4488 - val_loss: 0.4176\n",
      "Epoch 16/20\n",
      "363/363 [==============================] - 1s 2ms/step - loss: 0.4435 - val_loss: 0.4123\n",
      "Epoch 17/20\n",
      "363/363 [==============================] - 1s 1ms/step - loss: 0.4389 - val_loss: 0.4071\n",
      "Epoch 18/20\n",
      "363/363 [==============================] - 1s 2ms/step - loss: 0.4347 - val_loss: 0.4037\n",
      "Epoch 19/20\n",
      "363/363 [==============================] - 1s 2ms/step - loss: 0.4306 - val_loss: 0.4000\n",
      "Epoch 20/20\n",
      "363/363 [==============================] - 1s 1ms/step - loss: 0.4273 - val_loss: 0.3969\n",
      "162/162 [==============================] - 0s 964us/step - loss: 0.4212\n"
     ]
    }
   ],
   "source": [
    "model = keras.models.Sequential([\n",
    "    keras.layers.Dense(30, activation=\"relu\", input_shape=X_train.shape[1:]),\n",
    "    keras.layers.Dense(1)\n",
    "])\n",
    "model.compile(loss=\"mean_squared_error\", optimizer=keras.optimizers.SGD(lr=1e-3))\n",
    "history = model.fit(X_train, y_train, epochs=20, validation_data=(X_valid, y_valid))\n",
    "mse_test = model.evaluate(X_test, y_test)\n",
    "X_new = X_test[:3]\n",
    "y_pred = model.predict(X_new)"
   ]
  },
  {
   "cell_type": "markdown",
   "metadata": {
    "colab_type": "text",
    "id": "O-gXmYR5XAMA"
   },
   "source": [
    "- 모형의 그래프를 그려본다. "
   ]
  },
  {
   "cell_type": "code",
   "execution_count": 46,
   "metadata": {
    "colab": {
     "base_uri": "https://localhost:8080/",
     "height": 273
    },
    "colab_type": "code",
    "executionInfo": {
     "elapsed": 14837,
     "status": "ok",
     "timestamp": 1594788237293,
     "user": {
      "displayName": "ji-hoon Jung",
      "photoUrl": "https://lh3.googleusercontent.com/a-/AOh14GgEP4yfwhnQ1TZPZlHUU6YbHyd-BvHkAnUrwdBWex0=s64",
      "userId": "03007390404369457996"
     },
     "user_tz": -540
    },
    "id": "-q_vhyjKXEhZ",
    "outputId": "832d3b4a-3286-4ea4-8596-48ec89280507"
   },
   "outputs": [
    {
     "data": {
      "image/png": "[encoded data removed]",
      "text/plain": [
       "<Figure size 432x288 with 1 Axes>"
      ]
     },
     "metadata": {
      "needs_background": "light",
      "tags": []
     },
     "output_type": "display_data"
    }
   ],
   "source": [
    "plt.plot(pd.DataFrame(history.history))\n",
    "plt.grid(True)\n",
    "plt.gca().set_ylim(0, 1)\n",
    "plt.show()"
   ]
  },
  {
   "cell_type": "markdown",
   "metadata": {
    "colab_type": "text",
    "id": "wale5Hv7XNVS"
   },
   "source": [
    "- 마지막으로 예측값을 적용한다."
   ]
  },
  {
   "cell_type": "code",
   "execution_count": 47,
   "metadata": {
    "colab": {
     "base_uri": "https://localhost:8080/",
     "height": 68
    },
    "colab_type": "code",
    "executionInfo": {
     "elapsed": 14800,
     "status": "ok",
     "timestamp": 1594788237294,
     "user": {
      "displayName": "ji-hoon Jung",
      "photoUrl": "https://lh3.googleusercontent.com/a-/AOh14GgEP4yfwhnQ1TZPZlHUU6YbHyd-BvHkAnUrwdBWex0=s64",
      "userId": "03007390404369457996"
     },
     "user_tz": -540
    },
    "id": "S0e_xoGzXQNw",
    "outputId": "fe9b3a07-1f4a-4be0-e238-f468da709906"
   },
   "outputs": [
    {
     "data": {
      "text/plain": [
       "array([[0.38856643],\n",
       "       [1.6792021 ],\n",
       "       [3.1022794 ]], dtype=float32)"
      ]
     },
     "execution_count": 47,
     "metadata": {
      "tags": []
     },
     "output_type": "execute_result"
    }
   ],
   "source": [
    "y_pred"
   ]
  },
  {
   "cell_type": "markdown",
   "metadata": {
    "colab_type": "text",
    "id": "1xCWXou1Z9kk"
   },
   "source": [
    "## III. 분류를 위한 다층 퍼셉트론(MLP)\n",
    "- 이진 분류 문제는 로지스틱 활성화 함수를 가진 하나의 출력 뉴런만 필요\n",
    "- 다층 퍼셉트론은 다중 레이블 이진 분류 문제를 쉽게 처리할 수 있도록 함\n",
    "  + 이 때, 두개의 출력 뉴런이 필요\n",
    "  + 만약, 다중분류이면, 다중분류의 숫자만큼 출력 뉴런이 필요함\n",
    "- 분류 MLP의 전형적인 구조는 다음과 같다. \n",
    "| 하이퍼파라미터 \t| 이진분류 \t| 다중 레이블 분류 \t| 다중 분류 \t|\n",
    "|:-:\t|:-:\t|:-:\t|:-:\t|\n",
    "| 입력층과 은닉층 \t| 회귀와 동일 | 회귀와 동일 \t| 회귀와 동일|\n",
    "| 출력 뉴런 수 \t| 1개 | 레이블마다 1개 \t| 클래스마다 1개|\n",
    "| 출력층의 활성화 함수 \t| 로지스틱 함수 | 로지스틱 함수 \t| 소프트맥스 함수|\n",
    "| 손실함수 \t| 크로스 엔트로피 | 크로스 엔트로피 \t| 크로스 엔트로피|"
   ]
  },
  {
   "cell_type": "markdown",
   "metadata": {
    "colab_type": "text",
    "id": "Q0BgM9eXby33"
   },
   "source": [
    "### (1) 모듈 불러오기\n",
    "- 모듈을 불러옵니다. "
   ]
  },
  {
   "cell_type": "code",
   "execution_count": 48,
   "metadata": {
    "colab": {
     "base_uri": "https://localhost:8080/",
     "height": 51
    },
    "colab_type": "code",
    "executionInfo": {
     "elapsed": 14771,
     "status": "ok",
     "timestamp": 1594788237295,
     "user": {
      "displayName": "ji-hoon Jung",
      "photoUrl": "https://lh3.googleusercontent.com/a-/AOh14GgEP4yfwhnQ1TZPZlHUU6YbHyd-BvHkAnUrwdBWex0=s64",
      "userId": "03007390404369457996"
     },
     "user_tz": -540
    },
    "id": "_f4pZgkyb2As",
    "outputId": "60a2b5f4-ff29-49d8-b03c-cc92c9c61a32"
   },
   "outputs": [
    {
     "name": "stdout",
     "output_type": "stream",
     "text": [
      "2.2.0\n",
      "2.3.0-tf\n"
     ]
    }
   ],
   "source": [
    "import tensorflow as tf\n",
    "from tensorflow import keras\n",
    "\n",
    "print(tf.__version__)\n",
    "print(keras.__version__)"
   ]
  },
  {
   "cell_type": "markdown",
   "metadata": {
    "colab_type": "text",
    "id": "ZYVkKp6fcADZ"
   },
   "source": [
    "### (2) 데이터 불러오기\n",
    "- `Fashion MNIST`를 불러옵니다. "
   ]
  },
  {
   "cell_type": "code",
   "execution_count": 49,
   "metadata": {
    "colab": {},
    "colab_type": "code",
    "executionInfo": {
     "elapsed": 15429,
     "status": "ok",
     "timestamp": 1594788237990,
     "user": {
      "displayName": "ji-hoon Jung",
      "photoUrl": "https://lh3.googleusercontent.com/a-/AOh14GgEP4yfwhnQ1TZPZlHUU6YbHyd-BvHkAnUrwdBWex0=s64",
      "userId": "03007390404369457996"
     },
     "user_tz": -540
    },
    "id": "LpSkNpK6cgVe"
   },
   "outputs": [],
   "source": [
    "fashion_mnist = keras.datasets.fashion_mnist\n",
    "(X_train_full, y_train_full), (X_test, y_test) = fashion_mnist.load_data()"
   ]
  },
  {
   "cell_type": "markdown",
   "metadata": {
    "colab_type": "text",
    "id": "z2MROn0xcjap"
   },
   "source": [
    "- 이미지의 크기는 `28 x 28`크기의 배열이다. \n",
    "- 또한 픽셀 강도가 실수(0.0에서 255.0까지)가 아니라 정수(0에서 255까지)로 표현되어 있다. "
   ]
  },
  {
   "cell_type": "code",
   "execution_count": 50,
   "metadata": {
    "colab": {
     "base_uri": "https://localhost:8080/",
     "height": 51
    },
    "colab_type": "code",
    "executionInfo": {
     "elapsed": 15413,
     "status": "ok",
     "timestamp": 1594788237991,
     "user": {
      "displayName": "ji-hoon Jung",
      "photoUrl": "https://lh3.googleusercontent.com/a-/AOh14GgEP4yfwhnQ1TZPZlHUU6YbHyd-BvHkAnUrwdBWex0=s64",
      "userId": "03007390404369457996"
     },
     "user_tz": -540
    },
    "id": "gf9HDqvKc0IH",
    "outputId": "5c228ce6-ed01-455a-d898-f72e4bfe8774"
   },
   "outputs": [
    {
     "name": "stdout",
     "output_type": "stream",
     "text": [
      "(60000, 28, 28)\n",
      "uint8\n"
     ]
    }
   ],
   "source": [
    "print(X_train_full.shape)\n",
    "print(X_train_full.dtype)"
   ]
  },
  {
   "cell_type": "markdown",
   "metadata": {
    "colab_type": "text",
    "id": "6ZEs-8gCdAyN"
   },
   "source": [
    "### (3) 데이터셋 분리\n",
    "- 훈련데이터와 테스트 데이터로 분리합니다. \n",
    "- 간편하게 픽셀 강도를 `255.0`으로 나누너 `0~1` 사이 범위로 조정함. "
   ]
  },
  {
   "cell_type": "code",
   "execution_count": 51,
   "metadata": {
    "colab": {},
    "colab_type": "code",
    "executionInfo": {
     "elapsed": 15390,
     "status": "ok",
     "timestamp": 1594788237991,
     "user": {
      "displayName": "ji-hoon Jung",
      "photoUrl": "https://lh3.googleusercontent.com/a-/AOh14GgEP4yfwhnQ1TZPZlHUU6YbHyd-BvHkAnUrwdBWex0=s64",
      "userId": "03007390404369457996"
     },
     "user_tz": -540
    },
    "id": "W8Djknm3dGTS"
   },
   "outputs": [],
   "source": [
    "X_valid, X_train = X_train_full[:5000] / 255., X_train_full[5000:] / 255.\n",
    "y_valid, y_train = y_train_full[:5000], y_train_full[5000:]\n",
    "X_test = X_test / 255."
   ]
  },
  {
   "cell_type": "markdown",
   "metadata": {
    "colab_type": "text",
    "id": "IlfDj8pLd3nS"
   },
   "source": [
    "- 이제 예측하려는 레이블을 확인해보자. "
   ]
  },
  {
   "cell_type": "code",
   "execution_count": 52,
   "metadata": {
    "colab": {
     "base_uri": "https://localhost:8080/",
     "height": 34
    },
    "colab_type": "code",
    "executionInfo": {
     "elapsed": 15370,
     "status": "ok",
     "timestamp": 1594788237992,
     "user": {
      "displayName": "ji-hoon Jung",
      "photoUrl": "https://lh3.googleusercontent.com/a-/AOh14GgEP4yfwhnQ1TZPZlHUU6YbHyd-BvHkAnUrwdBWex0=s64",
      "userId": "03007390404369457996"
     },
     "user_tz": -540
    },
    "id": "325266d-d5_o",
    "outputId": "8757f229-1a02-4456-af1e-c89f9ff2571e"
   },
   "outputs": [
    {
     "data": {
      "text/plain": [
       "array([4, 0, 7, ..., 3, 0, 5], dtype=uint8)"
      ]
     },
     "execution_count": 52,
     "metadata": {
      "tags": []
     },
     "output_type": "execute_result"
    }
   ],
   "source": [
    "y_train"
   ]
  },
  {
   "cell_type": "markdown",
   "metadata": {
    "colab_type": "text",
    "id": "LI5El78Sd8l1"
   },
   "source": [
    "- 각 단계별 레이블 이름을 다음과 같이 정의한다. "
   ]
  },
  {
   "cell_type": "code",
   "execution_count": 53,
   "metadata": {
    "colab": {},
    "colab_type": "code",
    "executionInfo": {
     "elapsed": 15356,
     "status": "ok",
     "timestamp": 1594788237993,
     "user": {
      "displayName": "ji-hoon Jung",
      "photoUrl": "https://lh3.googleusercontent.com/a-/AOh14GgEP4yfwhnQ1TZPZlHUU6YbHyd-BvHkAnUrwdBWex0=s64",
      "userId": "03007390404369457996"
     },
     "user_tz": -540
    },
    "id": "D-8lRoxueEx6"
   },
   "outputs": [],
   "source": [
    "class_names = [\"T-shirt/top\", \"Trouser\", \"Pullover\", \"Dress\", \"Coat\",\n",
    "               \"Sandal\", \"Shirt\", \"Sneaker\", \"Bag\", \"Ankle boot\"]"
   ]
  },
  {
   "cell_type": "markdown",
   "metadata": {
    "colab_type": "text",
    "id": "EauQHSjleHFM"
   },
   "source": [
    "- 훈련 세트에 있는 첫번째 이미지 이름은 코트이다. "
   ]
  },
  {
   "cell_type": "code",
   "execution_count": 54,
   "metadata": {
    "colab": {
     "base_uri": "https://localhost:8080/",
     "height": 35
    },
    "colab_type": "code",
    "executionInfo": {
     "elapsed": 15333,
     "status": "ok",
     "timestamp": 1594788237994,
     "user": {
      "displayName": "ji-hoon Jung",
      "photoUrl": "https://lh3.googleusercontent.com/a-/AOh14GgEP4yfwhnQ1TZPZlHUU6YbHyd-BvHkAnUrwdBWex0=s64",
      "userId": "03007390404369457996"
     },
     "user_tz": -540
    },
    "id": "8lnIsy8GeK2v",
    "outputId": "79615c22-5627-404b-b55c-3722f7d800ba"
   },
   "outputs": [
    {
     "data": {
      "application/vnd.google.colaboratory.intrinsic": {
       "type": "string"
      },
      "text/plain": [
       "'Coat'"
      ]
     },
     "execution_count": 54,
     "metadata": {
      "tags": []
     },
     "output_type": "execute_result"
    }
   ],
   "source": [
    "class_names[y_train[0]]"
   ]
  },
  {
   "cell_type": "markdown",
   "metadata": {
    "colab_type": "text",
    "id": "OpX5wFIDeOgI"
   },
   "source": [
    "- 모형 학습 전, 데이터세트의 크기가 동일한지 확인한다. "
   ]
  },
  {
   "cell_type": "code",
   "execution_count": 55,
   "metadata": {
    "colab": {
     "base_uri": "https://localhost:8080/",
     "height": 51
    },
    "colab_type": "code",
    "executionInfo": {
     "elapsed": 15321,
     "status": "ok",
     "timestamp": 1594788237995,
     "user": {
      "displayName": "ji-hoon Jung",
      "photoUrl": "https://lh3.googleusercontent.com/a-/AOh14GgEP4yfwhnQ1TZPZlHUU6YbHyd-BvHkAnUrwdBWex0=s64",
      "userId": "03007390404369457996"
     },
     "user_tz": -540
    },
    "id": "8UM4-7oseX4C",
    "outputId": "c3eec4b7-8e62-478e-c0d0-df38b88e0f66"
   },
   "outputs": [
    {
     "name": "stdout",
     "output_type": "stream",
     "text": [
      "(5000, 28, 28)\n",
      "(10000, 28, 28)\n"
     ]
    }
   ],
   "source": [
    "print(X_valid.shape)\n",
    "print(X_test.shape)"
   ]
  },
  {
   "cell_type": "markdown",
   "metadata": {
    "colab_type": "text",
    "id": "liY4pjQtedyx"
   },
   "source": [
    "- 위 `28, 28`이 다르면 모형 예측이 되지 않는다. "
   ]
  },
  {
   "cell_type": "markdown",
   "metadata": {
    "colab_type": "text",
    "id": "YclcrZ1XdseT"
   },
   "source": [
    "### (4) 데이터 시각화\n",
    "- 시각화를 통해, 실제 이미지가 어떻게 생겼는지 확인해본다. "
   ]
  },
  {
   "cell_type": "code",
   "execution_count": 56,
   "metadata": {
    "colab": {
     "base_uri": "https://localhost:8080/",
     "height": 248
    },
    "colab_type": "code",
    "executionInfo": {
     "elapsed": 15308,
     "status": "ok",
     "timestamp": 1594788237996,
     "user": {
      "displayName": "ji-hoon Jung",
      "photoUrl": "https://lh3.googleusercontent.com/a-/AOh14GgEP4yfwhnQ1TZPZlHUU6YbHyd-BvHkAnUrwdBWex0=s64",
      "userId": "03007390404369457996"
     },
     "user_tz": -540
    },
    "id": "rfAw02tfdyF7",
    "outputId": "a0a695cd-57eb-4396-eb34-5886931746ec"
   },
   "outputs": [
    {
     "data": {
      "image/png": "[encoded data removed]",
      "text/plain": [
       "<Figure size 432x288 with 1 Axes>"
      ]
     },
     "metadata": {
      "needs_background": "light",
      "tags": []
     },
     "output_type": "display_data"
    }
   ],
   "source": [
    "plt.imshow(X_train[0], cmap=\"binary\")\n",
    "plt.axis('off')\n",
    "plt.show()"
   ]
  },
  {
   "cell_type": "markdown",
   "metadata": {
    "colab_type": "text",
    "id": "PTofq1B1d118"
   },
   "source": [
    "- 조금 더 자세하게 데이터를 출력해보자. "
   ]
  },
  {
   "cell_type": "code",
   "execution_count": 57,
   "metadata": {
    "colab": {
     "base_uri": "https://localhost:8080/",
     "height": 325
    },
    "colab_type": "code",
    "executionInfo": {
     "elapsed": 18293,
     "status": "ok",
     "timestamp": 1594788240996,
     "user": {
      "displayName": "ji-hoon Jung",
      "photoUrl": "https://lh3.googleusercontent.com/a-/AOh14GgEP4yfwhnQ1TZPZlHUU6YbHyd-BvHkAnUrwdBWex0=s64",
      "userId": "03007390404369457996"
     },
     "user_tz": -540
    },
    "id": "OXzMecE_eoqa",
    "outputId": "6f15d43a-4e8c-4b26-b819-01b1221a0bf4"
   },
   "outputs": [
    {
     "name": "stdout",
     "output_type": "stream",
     "text": [
      "그림 저장: fashion_mnist_plot\n"
     ]
    },
    {
     "data": {
      "image/png": "[encoded data removed]",
      "text/plain": [
       "<Figure size 864x345.6 with 40 Axes>"
      ]
     },
     "metadata": {
      "needs_background": "light",
      "tags": []
     },
     "output_type": "display_data"
    }
   ],
   "source": [
    "n_rows = 4\n",
    "n_cols = 10\n",
    "plt.figure(figsize=(n_cols * 1.2, n_rows * 1.2))\n",
    "for row in range(n_rows):\n",
    "    for col in range(n_cols):\n",
    "        index = n_cols * row + col\n",
    "        plt.subplot(n_rows, n_cols, index + 1)\n",
    "        plt.imshow(X_train[index], cmap=\"binary\", interpolation=\"nearest\")\n",
    "        plt.axis('off')\n",
    "        plt.title(class_names[y_train[index]], fontsize=12)\n",
    "plt.subplots_adjust(wspace=0.2, hspace=0.5)\n",
    "save_fig('fashion_mnist_plot', tight_layout=False)\n",
    "plt.show()"
   ]
  },
  {
   "cell_type": "markdown",
   "metadata": {
    "colab_type": "text",
    "id": "8b7yBW0ceqUg"
   },
   "source": [
    "### (5) 모형 만들기\n",
    "- 이제 신경망 모형을 만든다. "
   ]
  },
  {
   "cell_type": "code",
   "execution_count": 58,
   "metadata": {
    "colab": {},
    "colab_type": "code",
    "executionInfo": {
     "elapsed": 18279,
     "status": "ok",
     "timestamp": 1594788240997,
     "user": {
      "displayName": "ji-hoon Jung",
      "photoUrl": "https://lh3.googleusercontent.com/a-/AOh14GgEP4yfwhnQ1TZPZlHUU6YbHyd-BvHkAnUrwdBWex0=s64",
      "userId": "03007390404369457996"
     },
     "user_tz": -540
    },
    "id": "gav-1e83ewYe"
   },
   "outputs": [],
   "source": [
    "model = keras.models.Sequential()\n",
    "model.add(keras.layers.Flatten(input_shape=[28, 28]))\n",
    "model.add(keras.layers.Dense(300, activation=\"relu\"))\n",
    "model.add(keras.layers.Dense(100, activation=\"relu\"))\n",
    "model.add(keras.layers.Dense(10, activation=\"softmax\"))"
   ]
  },
  {
   "cell_type": "markdown",
   "metadata": {
    "colab_type": "text",
    "id": "KaMaNVc7ezZM"
   },
   "source": [
    "- 위 모형에 대한 구체적인 설명은 교재 `373 페이지`를 확인한다. \n"
   ]
  },
  {
   "cell_type": "code",
   "execution_count": 59,
   "metadata": {
    "colab": {},
    "colab_type": "code",
    "executionInfo": {
     "elapsed": 18270,
     "status": "ok",
     "timestamp": 1594788241000,
     "user": {
      "displayName": "ji-hoon Jung",
      "photoUrl": "https://lh3.googleusercontent.com/a-/AOh14GgEP4yfwhnQ1TZPZlHUU6YbHyd-BvHkAnUrwdBWex0=s64",
      "userId": "03007390404369457996"
     },
     "user_tz": -540
    },
    "id": "DYfxoBjZe_he"
   },
   "outputs": [],
   "source": [
    "keras.backend.clear_session()\n",
    "np.random.seed(42)\n",
    "tf.random.set_seed(42)"
   ]
  },
  {
   "cell_type": "markdown",
   "metadata": {
    "colab_type": "text",
    "id": "RvhDyyZ1fHHg"
   },
   "source": [
    "- 코드는 일종의 실험 재현성을 위한 코드이다.  "
   ]
  },
  {
   "cell_type": "code",
   "execution_count": 60,
   "metadata": {
    "colab": {},
    "colab_type": "code",
    "executionInfo": {
     "elapsed": 18256,
     "status": "ok",
     "timestamp": 1594788241001,
     "user": {
      "displayName": "ji-hoon Jung",
      "photoUrl": "https://lh3.googleusercontent.com/a-/AOh14GgEP4yfwhnQ1TZPZlHUU6YbHyd-BvHkAnUrwdBWex0=s64",
      "userId": "03007390404369457996"
     },
     "user_tz": -540
    },
    "id": "KQoFTvDEfNam"
   },
   "outputs": [],
   "source": [
    "model = keras.models.Sequential([\n",
    "    keras.layers.Flatten(input_shape=[28, 28]),\n",
    "    keras.layers.Dense(300, activation=\"relu\"),\n",
    "    keras.layers.Dense(100, activation=\"relu\"),\n",
    "    keras.layers.Dense(10, activation=\"softmax\")\n",
    "])"
   ]
  },
  {
   "cell_type": "markdown",
   "metadata": {
    "colab_type": "text",
    "id": "eldj-PQ0fUzU"
   },
   "source": [
    "- `summary()`메서드는 모델에 있는 모든 층을 출력함"
   ]
  },
  {
   "cell_type": "code",
   "execution_count": 61,
   "metadata": {
    "colab": {
     "base_uri": "https://localhost:8080/",
     "height": 289
    },
    "colab_type": "code",
    "executionInfo": {
     "elapsed": 18242,
     "status": "ok",
     "timestamp": 1594788241002,
     "user": {
      "displayName": "ji-hoon Jung",
      "photoUrl": "https://lh3.googleusercontent.com/a-/AOh14GgEP4yfwhnQ1TZPZlHUU6YbHyd-BvHkAnUrwdBWex0=s64",
      "userId": "03007390404369457996"
     },
     "user_tz": -540
    },
    "id": "dF20AEwAfY7E",
    "outputId": "543c769c-67fd-49a4-a1cf-649596ff7895"
   },
   "outputs": [
    {
     "name": "stdout",
     "output_type": "stream",
     "text": [
      "Model: \"sequential\"\n",
      "_________________________________________________________________\n",
      "Layer (type)                 Output Shape              Param #   \n",
      "=================================================================\n",
      "flatten (Flatten)            (None, 784)               0         \n",
      "_________________________________________________________________\n",
      "dense (Dense)                (None, 300)               235500    \n",
      "_________________________________________________________________\n",
      "dense_1 (Dense)              (None, 100)               30100     \n",
      "_________________________________________________________________\n",
      "dense_2 (Dense)              (None, 10)                1010      \n",
      "=================================================================\n",
      "Total params: 266,610\n",
      "Trainable params: 266,610\n",
      "Non-trainable params: 0\n",
      "_________________________________________________________________\n"
     ]
    }
   ],
   "source": [
    "model.summary()"
   ]
  },
  {
   "cell_type": "markdown",
   "metadata": {
    "colab_type": "text",
    "id": "IIEp9tAMfakZ"
   },
   "source": [
    "- 모형이 만들어가지는 과정을 출력할 수 있다. "
   ]
  },
  {
   "cell_type": "code",
   "execution_count": 62,
   "metadata": {
    "colab": {
     "base_uri": "https://localhost:8080/",
     "height": 533
    },
    "colab_type": "code",
    "executionInfo": {
     "elapsed": 18224,
     "status": "ok",
     "timestamp": 1594788241003,
     "user": {
      "displayName": "ji-hoon Jung",
      "photoUrl": "https://lh3.googleusercontent.com/a-/AOh14GgEP4yfwhnQ1TZPZlHUU6YbHyd-BvHkAnUrwdBWex0=s64",
      "userId": "03007390404369457996"
     },
     "user_tz": -540
    },
    "id": "V7atZElYfwlu",
    "outputId": "6ccfcd4d-884e-4091-9998-dc5811834fd3"
   },
   "outputs": [
    {
     "data": {
      "image/png": "[encoded data removed]",
      "text/plain": [
       "<IPython.core.display.Image object>"
      ]
     },
     "execution_count": 62,
     "metadata": {
      "tags": []
     },
     "output_type": "execute_result"
    }
   ],
   "source": [
    "keras.utils.plot_model(model, \"my_fashion_mnist_model.png\", show_shapes=True)"
   ]
  },
  {
   "cell_type": "markdown",
   "metadata": {
    "colab_type": "text",
    "id": "bGTHCYSKfyEk"
   },
   "source": [
    "### (6) 모델 컴파일\n",
    "- 모델을 만들고 나서 `compile()` 메서드를 호출하여 사용할 손실 함수와 옵티마이저(`optimizer`)를 지정한다. "
   ]
  },
  {
   "cell_type": "code",
   "execution_count": 63,
   "metadata": {
    "colab": {},
    "colab_type": "code",
    "executionInfo": {
     "elapsed": 18209,
     "status": "ok",
     "timestamp": 1594788241003,
     "user": {
      "displayName": "ji-hoon Jung",
      "photoUrl": "https://lh3.googleusercontent.com/a-/AOh14GgEP4yfwhnQ1TZPZlHUU6YbHyd-BvHkAnUrwdBWex0=s64",
      "userId": "03007390404369457996"
     },
     "user_tz": -540
    },
    "id": "7A2GDjilgAcA"
   },
   "outputs": [],
   "source": [
    "model.compile(loss=\"sparse_categorical_crossentropy\",\n",
    "              optimizer=\"sgd\",\n",
    "              metrics=[\"accuracy\"])"
   ]
  },
  {
   "cell_type": "markdown",
   "metadata": {
    "colab_type": "text",
    "id": "3RoRNEZYgF4t"
   },
   "source": [
    "- 위 모형에 대한 구체적인 설명은 `교재 377페이지`를 참고한다. "
   ]
  },
  {
   "cell_type": "markdown",
   "metadata": {
    "colab_type": "text",
    "id": "EwPWaF__ytVO"
   },
   "source": [
    "### (7) 모델 훈련\n",
    "- 케라스는 에포크 횟수를 전달함\n",
    "- 에포크가 끝날 때 마다 검증 세트를 사용해 손실과 추가적인 측정 지표를 계산"
   ]
  },
  {
   "cell_type": "code",
   "execution_count": 64,
   "metadata": {
    "colab": {
     "base_uri": "https://localhost:8080/",
     "height": 1000
    },
    "colab_type": "code",
    "executionInfo": {
     "elapsed": 194121,
     "status": "ok",
     "timestamp": 1594788516405,
     "user": {
      "displayName": "ji-hoon Jung",
      "photoUrl": "https://lh3.googleusercontent.com/a-/AOh14GgEP4yfwhnQ1TZPZlHUU6YbHyd-BvHkAnUrwdBWex0=s64",
      "userId": "03007390404369457996"
     },
     "user_tz": -540
    },
    "id": "rqxoyAz7ypWT",
    "outputId": "320febdd-b738-4c60-8c20-60e30469f0b9"
   },
   "outputs": [
    {
     "name": "stdout",
     "output_type": "stream",
     "text": [
      "Epoch 1/30\n",
      "1719/1719 [==============================] - 7s 4ms/step - loss: 0.7237 - accuracy: 0.7643 - val_loss: 0.5213 - val_accuracy: 0.8226\n",
      "Epoch 2/30\n",
      "1719/1719 [==============================] - 8s 4ms/step - loss: 0.4842 - accuracy: 0.8318 - val_loss: 0.4353 - val_accuracy: 0.8526\n",
      "Epoch 3/30\n",
      "1719/1719 [==============================] - 8s 5ms/step - loss: 0.4391 - accuracy: 0.8458 - val_loss: 0.5304 - val_accuracy: 0.7996\n",
      "Epoch 4/30\n",
      "1719/1719 [==============================] - 8s 5ms/step - loss: 0.4123 - accuracy: 0.8566 - val_loss: 0.3916 - val_accuracy: 0.8650\n",
      "Epoch 5/30\n",
      "1719/1719 [==============================] - 7s 4ms/step - loss: 0.3939 - accuracy: 0.8622 - val_loss: 0.3745 - val_accuracy: 0.8690\n",
      "Epoch 6/30\n",
      "1719/1719 [==============================] - 6s 4ms/step - loss: 0.3752 - accuracy: 0.8675 - val_loss: 0.3718 - val_accuracy: 0.8724\n",
      "Epoch 7/30\n",
      "1719/1719 [==============================] - 7s 4ms/step - loss: 0.3631 - accuracy: 0.8716 - val_loss: 0.3616 - val_accuracy: 0.8736\n",
      "Epoch 8/30\n",
      "1719/1719 [==============================] - 6s 4ms/step - loss: 0.3514 - accuracy: 0.8747 - val_loss: 0.3853 - val_accuracy: 0.8608\n",
      "Epoch 9/30\n",
      "1719/1719 [==============================] - 6s 4ms/step - loss: 0.3412 - accuracy: 0.8793 - val_loss: 0.3573 - val_accuracy: 0.8718\n",
      "Epoch 10/30\n",
      "1719/1719 [==============================] - 6s 4ms/step - loss: 0.3317 - accuracy: 0.8821 - val_loss: 0.3420 - val_accuracy: 0.8786\n",
      "Epoch 11/30\n",
      "1719/1719 [==============================] - 6s 4ms/step - loss: 0.3238 - accuracy: 0.8839 - val_loss: 0.3450 - val_accuracy: 0.8770\n",
      "Epoch 12/30\n",
      "1719/1719 [==============================] - 6s 3ms/step - loss: 0.3147 - accuracy: 0.8865 - val_loss: 0.3306 - val_accuracy: 0.8832\n",
      "Epoch 13/30\n",
      "1719/1719 [==============================] - 6s 4ms/step - loss: 0.3077 - accuracy: 0.8896 - val_loss: 0.3274 - val_accuracy: 0.8868\n",
      "Epoch 14/30\n",
      "1719/1719 [==============================] - 6s 4ms/step - loss: 0.3019 - accuracy: 0.8917 - val_loss: 0.3420 - val_accuracy: 0.8772\n",
      "Epoch 15/30\n",
      "1719/1719 [==============================] - 6s 4ms/step - loss: 0.2943 - accuracy: 0.8940 - val_loss: 0.3222 - val_accuracy: 0.8842\n",
      "Epoch 16/30\n",
      "1719/1719 [==============================] - 6s 4ms/step - loss: 0.2889 - accuracy: 0.8971 - val_loss: 0.3090 - val_accuracy: 0.8906\n",
      "Epoch 17/30\n",
      "1719/1719 [==============================] - 6s 4ms/step - loss: 0.2835 - accuracy: 0.8979 - val_loss: 0.3546 - val_accuracy: 0.8736\n",
      "Epoch 18/30\n",
      "1719/1719 [==============================] - 6s 4ms/step - loss: 0.2775 - accuracy: 0.9006 - val_loss: 0.3136 - val_accuracy: 0.8902\n",
      "Epoch 19/30\n",
      "1719/1719 [==============================] - 6s 4ms/step - loss: 0.2726 - accuracy: 0.9024 - val_loss: 0.3110 - val_accuracy: 0.8904\n",
      "Epoch 20/30\n",
      "1719/1719 [==============================] - 8s 4ms/step - loss: 0.2671 - accuracy: 0.9036 - val_loss: 0.3271 - val_accuracy: 0.8818\n",
      "Epoch 21/30\n",
      "1719/1719 [==============================] - 6s 3ms/step - loss: 0.2621 - accuracy: 0.9056 - val_loss: 0.3066 - val_accuracy: 0.8926\n",
      "Epoch 22/30\n",
      "1719/1719 [==============================] - 6s 4ms/step - loss: 0.2576 - accuracy: 0.9071 - val_loss: 0.2968 - val_accuracy: 0.8972\n",
      "Epoch 23/30\n",
      "1719/1719 [==============================] - 6s 4ms/step - loss: 0.2533 - accuracy: 0.9086 - val_loss: 0.2997 - val_accuracy: 0.8936\n",
      "Epoch 24/30\n",
      "1719/1719 [==============================] - 6s 4ms/step - loss: 0.2484 - accuracy: 0.9104 - val_loss: 0.3079 - val_accuracy: 0.8890\n",
      "Epoch 25/30\n",
      "1719/1719 [==============================] - 6s 4ms/step - loss: 0.2442 - accuracy: 0.9127 - val_loss: 0.2977 - val_accuracy: 0.8948\n",
      "Epoch 26/30\n",
      "1719/1719 [==============================] - 6s 4ms/step - loss: 0.2404 - accuracy: 0.9138 - val_loss: 0.3069 - val_accuracy: 0.8906\n",
      "Epoch 27/30\n",
      "1719/1719 [==============================] - 6s 4ms/step - loss: 0.2360 - accuracy: 0.9155 - val_loss: 0.3040 - val_accuracy: 0.8940\n",
      "Epoch 28/30\n",
      "1719/1719 [==============================] - 6s 4ms/step - loss: 0.2327 - accuracy: 0.9166 - val_loss: 0.3003 - val_accuracy: 0.8934\n",
      "Epoch 29/30\n",
      "1719/1719 [==============================] - 6s 3ms/step - loss: 0.2284 - accuracy: 0.9181 - val_loss: 0.3050 - val_accuracy: 0.8908\n",
      "Epoch 30/30\n",
      "1719/1719 [==============================] - 6s 3ms/step - loss: 0.2248 - accuracy: 0.9203 - val_loss: 0.3055 - val_accuracy: 0.8934\n"
     ]
    }
   ],
   "source": [
    "history = model.fit(X_train, y_train, epochs=30,\n",
    "                    validation_data=(X_valid, y_valid))"
   ]
  },
  {
   "cell_type": "markdown",
   "metadata": {
    "colab_type": "text",
    "id": "EulNpxdQzAiC"
   },
   "source": [
    "- 모형을 만들고 훈련 시키는 것은 위 과정이 전부이다.\n",
    "- 그러나, 초보자들이 흔히 하는 실수는 훈련 데이터와 검증 데이터의 크기가 맞지 않을 때 예외가 발생한다. "
   ]
  },
  {
   "cell_type": "markdown",
   "metadata": {
    "colab_type": "text",
    "id": "8k50G49szTy1"
   },
   "source": [
    "### (8) 모델 평가\n",
    "- 이제 모델을 평가합니다. 모델을 평가할 때는 보통 시각화를 통해서 확인합니다. \n",
    "- 그리고, `evaluate()` 함수를 사용합니다. "
   ]
  },
  {
   "cell_type": "code",
   "execution_count": 65,
   "metadata": {
    "colab": {
     "base_uri": "https://localhost:8080/",
     "height": 386
    },
    "colab_type": "code",
    "executionInfo": {
     "elapsed": 1569,
     "status": "ok",
     "timestamp": 1594788628354,
     "user": {
      "displayName": "ji-hoon Jung",
      "photoUrl": "https://lh3.googleusercontent.com/a-/AOh14GgEP4yfwhnQ1TZPZlHUU6YbHyd-BvHkAnUrwdBWex0=s64",
      "userId": "03007390404369457996"
     },
     "user_tz": -540
    },
    "id": "cSHUcdp7zzw1",
    "outputId": "1dd2d1c1-893f-4314-84df-ed943996f565"
   },
   "outputs": [
    {
     "name": "stdout",
     "output_type": "stream",
     "text": [
      "그림 저장: keras_learning_curves_plot\n"
     ]
    },
    {
     "data": {
      "image/png": "[encoded data removed]",
      "text/plain": [
       "<Figure size 576x360 with 1 Axes>"
      ]
     },
     "metadata": {
      "needs_background": "light",
      "tags": []
     },
     "output_type": "display_data"
    }
   ],
   "source": [
    "import pandas as pd\n",
    "\n",
    "pd.DataFrame(history.history).plot(figsize=(8, 5))\n",
    "plt.grid(True)\n",
    "plt.gca().set_ylim(0, 1)\n",
    "save_fig(\"keras_learning_curves_plot\")\n",
    "plt.show()"
   ]
  },
  {
   "cell_type": "markdown",
   "metadata": {
    "colab_type": "text",
    "id": "IzfVqPBfz7HZ"
   },
   "source": [
    "- 훈련 손실과 검증 손실은 감소하며, 또한 검증 곡선이 훈련 곡선과 가까우면, 과대적합하지 않았다는 증거가 된다. \n"
   ]
  },
  {
   "cell_type": "code",
   "execution_count": 66,
   "metadata": {
    "colab": {
     "base_uri": "https://localhost:8080/",
     "height": 51
    },
    "colab_type": "code",
    "executionInfo": {
     "elapsed": 1560,
     "status": "ok",
     "timestamp": 1594788758595,
     "user": {
      "displayName": "ji-hoon Jung",
      "photoUrl": "https://lh3.googleusercontent.com/a-/AOh14GgEP4yfwhnQ1TZPZlHUU6YbHyd-BvHkAnUrwdBWex0=s64",
      "userId": "03007390404369457996"
     },
     "user_tz": -540
    },
    "id": "_x5oDUqN0TmQ",
    "outputId": "3e7a4fd7-7a8d-4756-fdf9-ec49c1f02c43"
   },
   "outputs": [
    {
     "name": "stdout",
     "output_type": "stream",
     "text": [
      "313/313 [==============================] - 1s 3ms/step - loss: 0.3382 - accuracy: 0.8822\n"
     ]
    },
    {
     "data": {
      "text/plain": [
       "[0.3381877839565277, 0.8822000026702881]"
      ]
     },
     "execution_count": 66,
     "metadata": {
      "tags": []
     },
     "output_type": "execute_result"
    }
   ],
   "source": [
    "model.evaluate(X_test, y_test)"
   ]
  },
  {
   "cell_type": "markdown",
   "metadata": {
    "colab_type": "text",
    "id": "f74f3pUk0W6H"
   },
   "source": [
    "### (9) 모델 예측\n",
    "- 이제 `predict()` 함수를 사용해 새로운 샘플에 대해 예측을 만든다. \n",
    "- 새로운 샘플은 존재하지 않기 때문에 처음 3개의 샘플만 사용한다. "
   ]
  },
  {
   "cell_type": "code",
   "execution_count": 70,
   "metadata": {
    "colab": {
     "base_uri": "https://localhost:8080/",
     "height": 102
    },
    "colab_type": "code",
    "executionInfo": {
     "elapsed": 669,
     "status": "ok",
     "timestamp": 1594789099509,
     "user": {
      "displayName": "ji-hoon Jung",
      "photoUrl": "https://lh3.googleusercontent.com/a-/AOh14GgEP4yfwhnQ1TZPZlHUU6YbHyd-BvHkAnUrwdBWex0=s64",
      "userId": "03007390404369457996"
     },
     "user_tz": -540
    },
    "id": "8JXBEAG70rql",
    "outputId": "cc808b1b-9202-4290-be61-472f4a65369f"
   },
   "outputs": [
    {
     "name": "stdout",
     "output_type": "stream",
     "text": [
      "[[0.   0.   0.   0.   0.   0.01 0.   0.03 0.   0.96]\n",
      " [0.   0.   0.99 0.   0.01 0.   0.   0.   0.   0.  ]\n",
      " [0.   1.   0.   0.   0.   0.   0.   0.   0.   0.  ]]\n",
      "[9 2 1]\n",
      "['Ankle boot' 'Pullover' 'Trouser']\n"
     ]
    }
   ],
   "source": [
    "X_new = X_test[:3]\n",
    "y_proba = model.predict(X_new)\n",
    "print(y_proba.round(2))\n",
    "y_pred = model.predict_classes(X_new)\n",
    "print(y_pred)\n",
    "print(np.array(class_names)[y_pred])"
   ]
  },
  {
   "cell_type": "markdown",
   "metadata": {
    "colab_type": "text",
    "id": "CmgF1WCY10mV"
   },
   "source": [
    "- 가장 높은 확률을 가진 클래스에만 관심이 있다면, `predict_classes()` 사용한다. "
   ]
  },
  {
   "cell_type": "code",
   "execution_count": 71,
   "metadata": {
    "colab": {
     "base_uri": "https://localhost:8080/",
     "height": 34
    },
    "colab_type": "code",
    "executionInfo": {
     "elapsed": 716,
     "status": "ok",
     "timestamp": 1594789109960,
     "user": {
      "displayName": "ji-hoon Jung",
      "photoUrl": "https://lh3.googleusercontent.com/a-/AOh14GgEP4yfwhnQ1TZPZlHUU6YbHyd-BvHkAnUrwdBWex0=s64",
      "userId": "03007390404369457996"
     },
     "user_tz": -540
    },
    "id": "q9I5OMH51pnk",
    "outputId": "b5bfe8bb-45ef-4a59-b14d-c9e38b1ef7c1"
   },
   "outputs": [
    {
     "data": {
      "text/plain": [
       "array([9, 2, 1], dtype=uint8)"
      ]
     },
     "execution_count": 71,
     "metadata": {
      "tags": []
     },
     "output_type": "execute_result"
    }
   ],
   "source": [
    "y_new = y_test[:3]\n",
    "y_new"
   ]
  },
  {
   "cell_type": "markdown",
   "metadata": {
    "colab_type": "text",
    "id": "wZ--As9Q1-kr"
   },
   "source": [
    "- 실제 학습한 코드가 제대로 분류 되었는지 실제 이미지를 확인하는 차원에서의 코드를 다음과 같이 구현한다. "
   ]
  },
  {
   "cell_type": "code",
   "execution_count": 72,
   "metadata": {
    "colab": {
     "base_uri": "https://localhost:8080/",
     "height": 182
    },
    "colab_type": "code",
    "executionInfo": {
     "elapsed": 1035,
     "status": "ok",
     "timestamp": 1594789123929,
     "user": {
      "displayName": "ji-hoon Jung",
      "photoUrl": "https://lh3.googleusercontent.com/a-/AOh14GgEP4yfwhnQ1TZPZlHUU6YbHyd-BvHkAnUrwdBWex0=s64",
      "userId": "03007390404369457996"
     },
     "user_tz": -540
    },
    "id": "uDPUxg1f1s7H",
    "outputId": "3a573516-4511-41ca-8bb2-956362c28635"
   },
   "outputs": [
    {
     "name": "stdout",
     "output_type": "stream",
     "text": [
      "그림 저장: fashion_mnist_images_plot\n"
     ]
    },
    {
     "data": {
      "image/png": "[encoded data removed]",
      "text/plain": [
       "<Figure size 518.4x172.8 with 3 Axes>"
      ]
     },
     "metadata": {
      "needs_background": "light",
      "tags": []
     },
     "output_type": "display_data"
    }
   ],
   "source": [
    "plt.figure(figsize=(7.2, 2.4))\n",
    "for index, image in enumerate(X_new):\n",
    "    plt.subplot(1, 3, index + 1)\n",
    "    plt.imshow(image, cmap=\"binary\", interpolation=\"nearest\")\n",
    "    plt.axis('off')\n",
    "    plt.title(class_names[y_test[index]], fontsize=12)\n",
    "plt.subplots_adjust(wspace=0.2, hspace=0.5)\n",
    "save_fig('fashion_mnist_images_plot', tight_layout=False)\n",
    "plt.show()"
   ]
  },
  {
   "cell_type": "markdown",
   "metadata": {
    "colab_type": "text",
    "id": "COTClM0a2J8l"
   },
   "source": [
    "## IV. 금일 과제\n",
    "- 교재를 참조하여 아래 예제를 연습한다. \n",
    "  + 함수형 API 모델 만들기\n",
    "  + 모형의 저장과 복원\n",
    "  + 훈련 과정에서의 Callback 사용하기\n"
   ]
  },
  {
   "cell_type": "markdown",
   "metadata": {
    "colab_type": "text",
    "id": "2n8CIbjt48Of"
   },
   "source": [
    "## V. What's Next\n",
    "- 다음 시간에는 심층 신경망에 대해 학습하도록 한다. "
   ]
  }
 ],
 "metadata": {
  "colab": {
   "authorship_tag": "ABX9TyMGEClZUNy8/6i+78QiZiiQ",
   "collapsed_sections": [],
   "name": "Chapter_7_1_deeplearning_intro.ipynb",
   "provenance": [],
   "toc_visible": true
  },
  "kernelspec": {
   "display_name": "Python 3",
   "language": "python",
   "name": "python3"
  },
  "language_info": {
   "codemirror_mode": {
    "name": "ipython",
    "version": 3
   },
   "file_extension": ".py",
   "mimetype": "text/x-python",
   "name": "python",
   "nbconvert_exporter": "python",
   "pygments_lexer": "ipython3",
   "version": "3.7.6"
  }
 },
 "nbformat": 4,
 "nbformat_minor": 1
}
