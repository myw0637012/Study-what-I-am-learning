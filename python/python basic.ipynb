{
 "cells": [
  {
   "cell_type": "code",
   "execution_count": null,
   "metadata": {},
   "outputs": [],
   "source": [
    "파이썬의 특징\n",
    "가독성\n",
    "풍부한 라이브러리\n",
    "접목성 : C++, java 모듈을 사용해서 합니다.\n",
    "무료\n",
    "유니코드 지원\n",
    "동적타이핑이 가능"
   ]
  },
  {
   "cell_type": "code",
   "execution_count": null,
   "metadata": {},
   "outputs": [],
   "source": [
    "파이썬 종류\n",
    "Cpython : C로 작성된 파이썬\n",
    "Jython : 자바로 작성된 파이썬 자바간에 연동이 가능하게 하는 것\n",
    "Iron python : C#으로 구현, NET Mono용으로 개발\n",
    "Pypy : 파이썬으로 구현된 파이썬"
   ]
  },
  {
   "cell_type": "code",
   "execution_count": null,
   "metadata": {},
   "outputs": [],
   "source": [
    "2.X하고 3.X의 차이\n",
    "print형태\n",
    "long형태가 없음.\n",
    "int/int의 결과는 float 처리\n",
    "String과 unicode 체계변경"
   ]
  },
  {
   "cell_type": "markdown",
   "metadata": {},
   "source": [
    "print 'hi'\n",
    "print ('hi')"
   ]
  },
  {
   "cell_type": "code",
   "execution_count": 3,
   "metadata": {
    "scrolled": false
   },
   "outputs": [
    {
     "data": {
      "text/plain": [
       "1.0"
      ]
     },
     "execution_count": 3,
     "metadata": {},
     "output_type": "execute_result"
    }
   ],
   "source": [
    "1/1"
   ]
  },
  {
   "cell_type": "code",
   "execution_count": 4,
   "metadata": {},
   "outputs": [
    {
     "data": {
      "text/plain": [
       "str"
      ]
     },
     "execution_count": 4,
     "metadata": {},
     "output_type": "execute_result"
    }
   ],
   "source": [
    "type('가')"
   ]
  },
  {
   "cell_type": "code",
   "execution_count": 5,
   "metadata": {},
   "outputs": [
    {
     "data": {
      "text/plain": [
       "str"
      ]
     },
     "execution_count": 5,
     "metadata": {},
     "output_type": "execute_result"
    }
   ],
   "source": [
    "type(u'가') #2.0에서는 unicode로 나옴"
   ]
  },
  {
   "cell_type": "code",
   "execution_count": null,
   "metadata": {},
   "outputs": [],
   "source": [
    "a = 1\n",
    "a = b = c = 1\n",
    "a, b = 1, 2"
   ]
  },
  {
   "cell_type": "code",
   "execution_count": 6,
   "metadata": {},
   "outputs": [
    {
     "name": "stdout",
     "output_type": "stream",
     "text": [
      "['False', 'None', 'True', 'and', 'as', 'assert', 'async', 'await', 'break', 'class', 'continue', 'def', 'del', 'elif', 'else', 'except', 'finally', 'for', 'from', 'global', 'if', 'import', 'in', 'is', 'lambda', 'nonlocal', 'not', 'or', 'pass', 'raise', 'return', 'try', 'while', 'with', 'yield']\n"
     ]
    }
   ],
   "source": [
    "#예약어\n",
    "import keyword\n",
    "print(keyword.kwlist)"
   ]
  },
  {
   "cell_type": "code",
   "execution_count": null,
   "metadata": {},
   "outputs": [],
   "source": [
    "변수지정\n",
    "스네이크 케이스 : 변수, 함수명을 선언할때 씁니다.\n",
    "    i_love_you, i_love_you()\n",
    "케멀케이스 : 클래스명 지정\n",
    "    ILoveYou\n",
    "knight_health()"
   ]
  },
  {
   "cell_type": "code",
   "execution_count": 7,
   "metadata": {},
   "outputs": [
    {
     "name": "stdout",
     "output_type": "stream",
     "text": [
      "2019 16 8 2\n"
     ]
    }
   ],
   "source": [
    "#수치\n",
    "a = 2019\n",
    "b = 0x10 #16진수\n",
    "c = 0o10 #8진수\n",
    "d = 0b10 #2진수\n",
    "print(a,b,c,d)"
   ]
  },
  {
   "cell_type": "code",
   "execution_count": 65,
   "metadata": {},
   "outputs": [
    {
     "name": "stdout",
     "output_type": "stream",
     "text": [
      "0o12 0b1010 0xa True\n"
     ]
    }
   ],
   "source": [
    "e = oct(10)\n",
    "f = bin(10)\n",
    "g = hex(10)\n",
    "h = bool(10)\n",
    "print(e,f,g,h)"
   ]
  },
  {
   "cell_type": "code",
   "execution_count": 13,
   "metadata": {},
   "outputs": [
    {
     "name": "stdout",
     "output_type": "stream",
     "text": [
      "string 가\n",
      "<class 'str'>\n",
      "<class 'str'>\n"
     ]
    }
   ],
   "source": [
    "#문자표현\n",
    "a = 'string'\n",
    "b = '가'\n",
    "print(a,b)\n",
    "print(type(a))\n",
    "print(type(b))"
   ]
  },
  {
   "cell_type": "code",
   "execution_count": null,
   "metadata": {},
   "outputs": [],
   "source": [
    "for i : <아이템> in  <집합> :\n",
    "        <수식>"
   ]
  },
  {
   "cell_type": "code",
   "execution_count": 15,
   "metadata": {},
   "outputs": [
    {
     "name": "stdout",
     "output_type": "stream",
     "text": [
      "2\n",
      "3\n",
      "4\n",
      "5\n"
     ]
    }
   ],
   "source": [
    "a = [1,2,3,4]\n",
    "for i in a :\n",
    "    i += 1\n",
    "    print(i)"
   ]
  },
  {
   "cell_type": "code",
   "execution_count": 49,
   "metadata": {},
   "outputs": [
    {
     "name": "stdout",
     "output_type": "stream",
     "text": [
      "55\n"
     ]
    }
   ],
   "source": [
    "a = [1,2,3,4,5,6,7,8,9,10]\n",
    "b = 0\n",
    "for i in a :\n",
    "    b += i\n",
    "print(b)\n",
    "    \n"
   ]
  },
  {
   "cell_type": "code",
   "execution_count": 57,
   "metadata": {},
   "outputs": [
    {
     "name": "stdout",
     "output_type": "stream",
     "text": [
      "True\n",
      "True\n"
     ]
    }
   ],
   "source": [
    "c, d = 1, 3\n",
    "print(c == 1 and d != 0)\n",
    "print(not 0)"
   ]
  },
  {
   "cell_type": "code",
   "execution_count": 58,
   "metadata": {},
   "outputs": [
    {
     "name": "stdout",
     "output_type": "stream",
     "text": [
      "<class 'bool'>\n",
      "<class 'bool'>\n"
     ]
    }
   ],
   "source": [
    "#부울문\n",
    "a = True\n",
    "b = False\n",
    "print(type(a))\n",
    "print(type(b))"
   ]
  },
  {
   "cell_type": "code",
   "execution_count": null,
   "metadata": {},
   "outputs": [],
   "source": [
    "#int, float, bool, str"
   ]
  },
  {
   "cell_type": "code",
   "execution_count": 59,
   "metadata": {},
   "outputs": [
    {
     "name": "stdout",
     "output_type": "stream",
     "text": [
      "True\n"
     ]
    }
   ],
   "source": [
    "print(c < d)"
   ]
  },
  {
   "cell_type": "code",
   "execution_count": 64,
   "metadata": {},
   "outputs": [
    {
     "name": "stdout",
     "output_type": "stream",
     "text": [
      "False\n",
      "True\n",
      "3\n",
      "False\n"
     ]
    }
   ],
   "source": [
    "print (c == d)\n",
    "print (c <= d)\n",
    "print(c and d) #잘못된 식\n",
    "print(c == 0 or d == 0)"
   ]
  },
  {
   "cell_type": "code",
   "execution_count": 67,
   "metadata": {},
   "outputs": [
    {
     "name": "stdout",
     "output_type": "stream",
     "text": [
      "True\n",
      "False\n"
     ]
    }
   ],
   "source": [
    "print(bool('test'))\n",
    "print(bool())"
   ]
  },
  {
   "cell_type": "code",
   "execution_count": null,
   "metadata": {},
   "outputs": [],
   "source": [
    "if <부울> : \n",
    "    <구문> elif <부울> : <구문> else :\n",
    "            <구문>"
   ]
  },
  {
   "cell_type": "code",
   "execution_count": 69,
   "metadata": {},
   "outputs": [
    {
     "name": "stdout",
     "output_type": "stream",
     "text": [
      "비쌈\n"
     ]
    }
   ],
   "source": [
    "price = 1000\n",
    "if price < 2000 :\n",
    "    print(\"비쌈\")\n",
    "elif price < 1500 and price > 500 :\n",
    "        print(\"적당\")\n",
    "else : \n",
    "        print(\"너무쌈\")"
   ]
  },
  {
   "cell_type": "code",
   "execution_count": 89,
   "metadata": {},
   "outputs": [
    {
     "name": "stdout",
     "output_type": "stream",
     "text": [
      "25\n"
     ]
    }
   ],
   "source": [
    "a = [1,2,3,4,5,6,7,8,9,10]\n",
    "b = 0\n",
    "for i in a :\n",
    "    if i%2 >=1 :\n",
    "        b += i\n",
    "print(b)\n",
    "    "
   ]
  },
  {
   "cell_type": "code",
   "execution_count": 120,
   "metadata": {},
   "outputs": [
    {
     "name": "stdout",
     "output_type": "stream",
     "text": [
      "1\n",
      "2\n",
      "짝\n",
      "4\n",
      "5\n",
      "짝\n",
      "7\n",
      "8\n",
      "짝\n",
      "10\n"
     ]
    }
   ],
   "source": [
    "a = [1,2,3,4,5,6,7,8,9,10]\n",
    "for i in a :\n",
    "    if i%3 < 1 :\n",
    "        print(\"짝\")\n",
    "    else :\n",
    "        print(i)"
   ]
  },
  {
   "cell_type": "code",
   "execution_count": 2,
   "metadata": {},
   "outputs": [
    {
     "name": "stdout",
     "output_type": "stream",
     "text": [
      "1\n",
      "2\n",
      "짝\n",
      "4\n",
      "5\n",
      "짝\n",
      "7\n",
      "8\n",
      "짝\n",
      "10\n",
      "11\n",
      "짝\n",
      "짝\n",
      "14\n",
      "짝\n",
      "짝\n",
      "17\n",
      "짝\n",
      "짝\n",
      "20\n",
      "짝\n",
      "22\n",
      "짝\n",
      "짝\n",
      "25\n",
      "짝\n",
      "짝\n",
      "28\n",
      "짝\n",
      "짝\n",
      "짝\n",
      "짝\n",
      "짝짝\n",
      "짝\n",
      "짝\n",
      "짝짝\n",
      "짝\n",
      "짝\n",
      "짝짝\n",
      "40\n",
      "41\n",
      "짝\n",
      "짝\n",
      "44\n",
      "짝\n",
      "짝\n",
      "47\n",
      "짝\n",
      "짝\n",
      "50\n",
      "짝\n",
      "52\n",
      "짝\n",
      "짝\n",
      "55\n",
      "짝\n",
      "짝\n",
      "58\n",
      "짝\n",
      "짝\n",
      "짝\n",
      "짝\n",
      "짝짝\n",
      "짝\n",
      "짝\n",
      "짝짝\n",
      "짝\n",
      "짝\n",
      "짝짝\n",
      "70\n",
      "71\n",
      "짝\n",
      "짝\n",
      "74\n",
      "짝\n",
      "짝\n",
      "77\n",
      "짝\n",
      "짝\n",
      "80\n",
      "짝\n",
      "82\n",
      "짝\n",
      "짝\n",
      "85\n",
      "짝\n",
      "짝\n",
      "88\n",
      "짝\n",
      "짝\n",
      "짝\n",
      "짝\n",
      "짝짝\n",
      "짝\n",
      "짝\n",
      "짝짝\n",
      "짝\n",
      "짝\n",
      "짝짝\n",
      "100\n"
     ]
    }
   ],
   "source": [
    "a = range(1,101)\n",
    "for i in a : \n",
    "    if i in [33,36,39,63,66,69,93,96,99]:\n",
    "        print(\"짝짝\")\n",
    "    elif i%3 < 1:\n",
    "        print(\"짝\")\n",
    "    elif i%10 == 3 or i%10 == 6 or i%10 == 9 :\n",
    "        print(\"짝\")\n",
    "    elif (i/10)%3 < 1 and i > 10 :\n",
    "        print(\"짝\")\n",
    "    else :\n",
    "        print(i)"
   ]
  },
  {
   "cell_type": "code",
   "execution_count": 535,
   "metadata": {},
   "outputs": [
    {
     "name": "stdout",
     "output_type": "stream",
     "text": [
      "3Mjqqt%U~ymts%Uwtlwfrrnsl333Mjqqt%U~ymts%Uwtlwfrrnsl333Mjqqt%U~ymts%Uwtlwfrrnsl333Mjqqt%U~ymts%Uwtlwfrrnsl333Mjqqt%U~ymts%Uwtlwfrrnsl333Hello Python Programming...Mjqqt%U~ymts%Uwtlwfrrnsl333\n"
     ]
    }
   ],
   "source": [
    "a = [\"Hello Python Programming...\"]\n",
    "for i in a[0] :\n",
    "    b += chr(ord(i) + 5)\n",
    "print(b)"
   ]
  },
  {
   "cell_type": "code",
   "execution_count": 539,
   "metadata": {},
   "outputs": [
    {
     "name": "stdout",
     "output_type": "stream",
     "text": [
      "Mjqqt%U~ymts%Uwtlwfrrnsl333\n"
     ]
    }
   ],
   "source": [
    "a = [\"Hello Python Programming...\"]\n",
    "dd = \"\"\n",
    "for i in a[0] :\n",
    "    dd += chr(ord(i) + 5)\n",
    "print(dd)"
   ]
  },
  {
   "cell_type": "code",
   "execution_count": 540,
   "metadata": {},
   "outputs": [
    {
     "name": "stdout",
     "output_type": "stream",
     "text": [
      "Hello Python Programming...\n"
     ]
    }
   ],
   "source": [
    "a = [\"Mjqqt%U~ymts%Uwtlwfrrnsl333\"]\n",
    "ee = \"\"\n",
    "for i in a[0] :\n",
    "    ee += chr(ord(i) - 5)\n",
    "print(ee)"
   ]
  },
  {
   "cell_type": "code",
   "execution_count": 553,
   "metadata": {},
   "outputs": [
    {
     "name": "stdout",
     "output_type": "stream",
     "text": [
      "{'a': 1, 'b': 2, 'c': 3}\n"
     ]
    }
   ],
   "source": [
    "#정의되지 않은 인수\n",
    "def aa(**kargs):\n",
    "    print(kargs)\n",
    "aa(a=1,b=2,c=3)\n",
    "\n",
    "#가변인수\n",
    "def aa(*kargs):\n",
    "    print(kargs)\n",
    "def aa(a,b)\n",
    "aa(\"strubg\",3)\n",
    "def aa(a=2,b=45):\n",
    "    retrun a+b\n",
    "aa(44,55)"
   ]
  },
  {
   "cell_type": "code",
   "execution_count": 120,
   "metadata": {},
   "outputs": [],
   "source": [
    "def hamsu(s):\n",
    "    val = \"\"\n",
    "    for i in s :\n",
    "        val += chr(ord(i)+5)\n",
    "    print(val)"
   ]
  },
  {
   "cell_type": "code",
   "execution_count": 121,
   "metadata": {},
   "outputs": [
    {
     "name": "stdout",
     "output_type": "stream",
     "text": [
      "7575녉%9웙%7:잁%65싡엕%볹잕\n"
     ]
    }
   ],
   "source": [
    "hamsu('2020년 4월 25일 10시에 보자')"
   ]
  },
  {
   "cell_type": "code",
   "execution_count": 7,
   "metadata": {},
   "outputs": [],
   "source": [
    "def ham(q):\n",
    "    val = \"\"\n",
    "    for i in q :\n",
    "        val += chr(ord(i)-5)\n",
    "    print(val)"
   ]
  },
  {
   "cell_type": "code",
   "execution_count": 123,
   "metadata": {},
   "outputs": [
    {
     "name": "stdout",
     "output_type": "stream",
     "text": [
      "2020년 4월 25일 10시에 보자\n"
     ]
    }
   ],
   "source": [
    "ham('7575녉%9웙%7:잁%65싡엕%볹잕')"
   ]
  },
  {
   "cell_type": "code",
   "execution_count": null,
   "metadata": {},
   "outputs": [],
   "source": [
    "#형변환\n",
    "list()\n",
    "tupel()\n",
    "set()"
   ]
  },
  {
   "cell_type": "code",
   "execution_count": 19,
   "metadata": {},
   "outputs": [
    {
     "name": "stdout",
     "output_type": "stream",
     "text": [
      "s\n",
      "t\n"
     ]
    }
   ],
   "source": [
    "#인댁싱\n",
    "a='string'\n",
    "print(a[0])\n",
    "print(a[1])"
   ]
  },
  {
   "cell_type": "code",
   "execution_count": 20,
   "metadata": {},
   "outputs": [
    {
     "name": "stdout",
     "output_type": "stream",
     "text": [
      "aa\n"
     ]
    }
   ],
   "source": [
    "a=['string','aa']\n",
    "print(a[1])"
   ]
  },
  {
   "cell_type": "code",
   "execution_count": 24,
   "metadata": {},
   "outputs": [
    {
     "name": "stdout",
     "output_type": "stream",
     "text": [
      "t\n",
      "string\n",
      "st\n",
      "g\n"
     ]
    }
   ],
   "source": [
    "#슬라이싱\n",
    "a = 'string'\n",
    "print(a[1:2])\n",
    "print(a[:])\n",
    "print(a[:2])\n",
    "print(a[-1:])"
   ]
  },
  {
   "cell_type": "code",
   "execution_count": 25,
   "metadata": {},
   "outputs": [
    {
     "name": "stdout",
     "output_type": "stream",
     "text": [
      "하나\n",
      "둘\t셋\n",
      "넷\r",
      "다섯\u0000여섯\\\n",
      "abcddefg\n"
     ]
    }
   ],
   "source": [
    "#문자열\n",
    "print('하나\\n둘\\t셋')\n",
    "print('넷\\r다섯\\0여섯\\\\')\n",
    "print('abcd'+'defg')"
   ]
  },
  {
   "cell_type": "code",
   "execution_count": null,
   "metadata": {},
   "outputs": [],
   "source": [
    "#list[]\n",
    "#tuple()\n",
    "#dic{'a' : 1, 'b' : 2} \n",
    "#set{1,2,3}"
   ]
  },
  {
   "cell_type": "code",
   "execution_count": 28,
   "metadata": {},
   "outputs": [
    {
     "name": "stdout",
     "output_type": "stream",
     "text": [
      "{1, 2}\n",
      "{3}\n",
      "{1, 2, 3, 4, 5}\n"
     ]
    }
   ],
   "source": [
    "#set\n",
    "a={1,2,3}\n",
    "b={3,4,5}\n",
    "print(a-b)#차집합\n",
    "print(a & b)#교집합\n",
    "print(a | b)#합집합"
   ]
  },
  {
   "cell_type": "code",
   "execution_count": null,
   "metadata": {},
   "outputs": [],
   "source": [
    "#스왑\n",
    "a, b = 1, 2\n",
    "a, b = b, a"
   ]
  },
  {
   "cell_type": "code",
   "execution_count": 29,
   "metadata": {},
   "outputs": [
    {
     "data": {
      "text/plain": [
       "[1, 2, 3]"
      ]
     },
     "execution_count": 29,
     "metadata": {},
     "output_type": "execute_result"
    }
   ],
   "source": [
    "list(a)"
   ]
  },
  {
   "cell_type": "code",
   "execution_count": 30,
   "metadata": {},
   "outputs": [
    {
     "data": {
      "text/plain": [
       "(1, 2, 3)"
      ]
     },
     "execution_count": 30,
     "metadata": {},
     "output_type": "execute_result"
    }
   ],
   "source": [
    "tuple(a)"
   ]
  },
  {
   "cell_type": "code",
   "execution_count": 31,
   "metadata": {},
   "outputs": [
    {
     "name": "stdout",
     "output_type": "stream",
     "text": [
      "(1, 2, 3)\n"
     ]
    }
   ],
   "source": [
    "b=tuple(a)\n",
    "print(b)"
   ]
  },
  {
   "cell_type": "code",
   "execution_count": 32,
   "metadata": {},
   "outputs": [
    {
     "data": {
      "text/plain": [
       "{1, 2, 3}"
      ]
     },
     "execution_count": 32,
     "metadata": {},
     "output_type": "execute_result"
    }
   ],
   "source": [
    "set(b)"
   ]
  },
  {
   "cell_type": "code",
   "execution_count": 33,
   "metadata": {},
   "outputs": [
    {
     "name": "stdout",
     "output_type": "stream",
     "text": [
      "True\n"
     ]
    }
   ],
   "source": [
    "print(1 in a)"
   ]
  },
  {
   "cell_type": "code",
   "execution_count": 34,
   "metadata": {},
   "outputs": [
    {
     "name": "stdout",
     "output_type": "stream",
     "text": [
      "{'a': 1, 'b': 2, 'c': 3}\n"
     ]
    }
   ],
   "source": [
    "a=dict(a=1, b=2, c = 3)\n",
    "print(a)"
   ]
  },
  {
   "cell_type": "code",
   "execution_count": 37,
   "metadata": {},
   "outputs": [
    {
     "name": "stdout",
     "output_type": "stream",
     "text": [
      "2930488526472\n",
      "2930488526472\n",
      "2930488526472\n",
      "2930488526664\n"
     ]
    }
   ],
   "source": [
    "#객체 참조 및 복사\n",
    "a=[1,2,3]\n",
    "b=a #객체 참조\n",
    "print(id(a))\n",
    "print(id(b))\n",
    "b=a[:] #객체 복사\n",
    "print(id(a))\n",
    "print(id(b))"
   ]
  },
  {
   "cell_type": "code",
   "execution_count": 54,
   "metadata": {},
   "outputs": [
    {
     "name": "stdout",
     "output_type": "stream",
     "text": [
      "$$$10\n",
      "+$$10\n",
      "$$+10\n",
      "$$$10\n",
      "$$ 10\n",
      "1010\n",
      "a\n",
      "10\n",
      "12\n",
      "\n",
      "\n",
      "{0:#b} {0:#x} 0o12\n",
      "4, \n",
      "3.400000, \n",
      "하나, \n",
      "나는 10 번째, 2\n"
     ]
    }
   ],
   "source": [
    "#문자열 포맷팅\n",
    "# > 오른쪽으로 정렬, < 왼쪽으로 정렬 ^가운데로 정렬\n",
    "print('{0:$>5}'.format(10))\n",
    "print('{0:$=+5}'.format(10))\n",
    "print('{0:$>+5}'.format(10))\n",
    "print('{0:$>-5}'.format(10))\n",
    "print('{0:$> 5}'.format(10))\n",
    "\n",
    "print('{0:b}'.format(10))\n",
    "print('{0:x}'.format(10))\n",
    "print('{0:d}'.format(10))\n",
    "print('{0:o}'.format(10))\n",
    "print('{0:c}'.format(10))\n",
    "\n",
    "##\n",
    "print('{0:#b}', '{0:#x}', '{0:#o}'.format(10))\n",
    "\n",
    "#\n",
    "print('%d, '%4)\n",
    "print('%f, '%3.4)\n",
    "print('%s, '%('하나'))\n",
    "print('나는 {0} 번째, {1}'. format(10, 2))\n",
    "하나 = [1,2,3]"
   ]
  },
  {
   "cell_type": "code",
   "execution_count": 62,
   "metadata": {},
   "outputs": [
    {
     "name": "stdout",
     "output_type": "stream",
     "text": [
      "[1, 2, 3, (1, 2)]\n",
      "[1, 2, (3, 4), 3, (1, 2)]\n",
      "[1, 2, (3, 4), 3, (1, 2), 1, 2]\n",
      "1\n",
      "2\n",
      "(3, 4)\n",
      "3\n",
      "(1, 2)\n",
      "1\n",
      "2\n"
     ]
    },
    {
     "ename": "StopIteration",
     "evalue": "",
     "output_type": "error",
     "traceback": [
      "\u001b[1;31m---------------------------------------------------------------------------\u001b[0m",
      "\u001b[1;31mStopIteration\u001b[0m                             Traceback (most recent call last)",
      "\u001b[1;32m<ipython-input-62-fe5948b341ef>\u001b[0m in \u001b[0;36m<module>\u001b[1;34m\u001b[0m\n\u001b[0;32m     15\u001b[0m \u001b[0mprint\u001b[0m\u001b[1;33m(\u001b[0m\u001b[0mnext\u001b[0m\u001b[1;33m(\u001b[0m\u001b[0mb\u001b[0m\u001b[1;33m)\u001b[0m\u001b[1;33m)\u001b[0m\u001b[1;33m\u001b[0m\u001b[1;33m\u001b[0m\u001b[0m\n\u001b[0;32m     16\u001b[0m \u001b[0mprint\u001b[0m\u001b[1;33m(\u001b[0m\u001b[0mnext\u001b[0m\u001b[1;33m(\u001b[0m\u001b[0mb\u001b[0m\u001b[1;33m)\u001b[0m\u001b[1;33m)\u001b[0m\u001b[1;33m\u001b[0m\u001b[1;33m\u001b[0m\u001b[0m\n\u001b[1;32m---> 17\u001b[1;33m \u001b[0mprint\u001b[0m\u001b[1;33m(\u001b[0m\u001b[0mnext\u001b[0m\u001b[1;33m(\u001b[0m\u001b[0mb\u001b[0m\u001b[1;33m)\u001b[0m\u001b[1;33m)\u001b[0m\u001b[1;33m\u001b[0m\u001b[1;33m\u001b[0m\u001b[0m\n\u001b[0m\u001b[0;32m     18\u001b[0m \u001b[0mprint\u001b[0m\u001b[1;33m(\u001b[0m\u001b[0mnext\u001b[0m\u001b[1;33m(\u001b[0m\u001b[0mb\u001b[0m\u001b[1;33m)\u001b[0m\u001b[1;33m)\u001b[0m\u001b[1;33m\u001b[0m\u001b[1;33m\u001b[0m\u001b[0m\n\u001b[0;32m     19\u001b[0m \u001b[1;33m\u001b[0m\u001b[0m\n",
      "\u001b[1;31mStopIteration\u001b[0m: "
     ]
    }
   ],
   "source": [
    "#이터레이터\n",
    "a = [1,2,3]\n",
    "a.append((1,2))\n",
    "print(a)\n",
    "a.insert(2,(3,4))\n",
    "print(a)\n",
    "a.extend((1,2))\n",
    "print(a)\n",
    "b = iter(a)\n",
    "print(next(b))\n",
    "print(next(b))\n",
    "print(next(b))\n",
    "print(next(b))\n",
    "print(next(b))\n",
    "print(next(b))\n",
    "print(next(b))\n",
    "print(next(b))\n",
    "print(next(b))\n",
    "\n"
   ]
  },
  {
   "cell_type": "code",
   "execution_count": 63,
   "metadata": {},
   "outputs": [
    {
     "name": "stdout",
     "output_type": "stream",
     "text": [
      "[1, 4, 9, 16, 25]\n"
     ]
    }
   ],
   "source": [
    "#제너레이터 : 이터레이터를 만드는 도구\n",
    "def multi(a) :\n",
    "    result = []\n",
    "    for i in a :\n",
    "        result.append(i*i)\n",
    "    return result\n",
    "a = [1,2,3,4,5]\n",
    "print(multi(a))"
   ]
  },
  {
   "cell_type": "code",
   "execution_count": 64,
   "metadata": {},
   "outputs": [
    {
     "name": "stdout",
     "output_type": "stream",
     "text": [
      "[2, 3, 4, 5, 6, 7, 8, 9, 10, 11]\n",
      "['문', '자', '열']\n",
      "['튜', '플']\n",
      "['딕', '셔', '너', '리']\n",
      "['리', '스', '트']\n",
      "[2, 3, 1, 2]\n",
      "[0, 2, 4, 6, 8]\n",
      "[2, 12, 22, 32, 42, 52, 62, 72, 82, 92]\n",
      "[0, 10, 20, 30, 40, 50, 60, 70, 80, 90]\n",
      "[2, 4, 8]\n",
      "['짝', '홀', '짝', '홀', '짝', '홀', '짝', '홀', '짝', '홀']\n"
     ]
    }
   ],
   "source": [
    "# [ 기초 ]\n",
    "\n",
    "# 리스트 = [표현식 for 요소 in 이터러블객체 if 조건문]\n",
    "\n",
    "print([i+2 for i in range(10)])\n",
    "for i in range(10):\n",
    "    i=i+2\n",
    "print([i for i in \"문자열\"])\n",
    "print([i for i in (\"튜\", \"플\")])\n",
    "print([i for i in {\"딕\": 1, \"셔\": 2, \"너\": 3, \"리\": 4}])\n",
    "print([i for i in [\"리\", \"스\", \"트\"]])\n",
    "print([len(c) for c in [\"사과\", \"바나나\", \"귤\", \"포도\"]])\n",
    "print([i for i in range(10) if i % 2 == 0])\n",
    "\n",
    "# 컴프리헨션 내부 if else문\n",
    "print([i+2 for i in range(100) if i % 2 == 0 if i % 5 == 0])\n",
    "print([i for i in range(100) if (i % 2 == 0 and i % 5 == 0)])\n",
    "print([i for i in range(10) if i % 2 == 0 if i % 3 != 0])\n",
    "\n",
    "\n",
    "\n",
    "# [ 고급 ]\n",
    "\n",
    "# 1. 표현식 변형\n",
    "print([\"짝\" if i % 2 == 0 else \"홀\" for i in range(10)])\n",
    "\n",
    "# 2. 리스트 컴프리헨션 중첩\n",
    "matrix = [1, 2, 3, 4], [5, 6, 7, 8]"
   ]
  },
  {
   "cell_type": "code",
   "execution_count": null,
   "metadata": {},
   "outputs": [],
   "source": [
    "<lambda>\n",
    " # 형식 : 함수명 = lambda 인수 : 구문\n",
    "def a(x,y):\n",
    "    return x+y\n",
    " 입력 : a = lambda x,y: x + y\n",
    "          print(a(10,20))\n",
    " 출력 : 30\n",
    "\n",
    " # 사용하는 이유\n",
    "1. 쓰고 버리는 일시적인 함수이다. (익명함수 : 메모리를 아끼고 향상시킨다.) \n",
    "2. 간단한 기능을 일반적인 함수와 같이 정의해두고 쓰는 것이 아니고 필요한 곳에서 즉시 사용하고 버릴수 있다. \n",
    "\n",
    " # map(함수 , 리스트) : 리스트로부터 원소를 하나씩 꺼내서 함수를 적용시킨 다음 리스트화 한다.\n",
    "   - 파이썬 3.0 에서는 list(map(함수,리스트))로 사용 한다.\n",
    "\n",
    " 입력 : list(map(lambda x: x ** 2, range(5)))\n",
    "    for i in range(5)\n",
    "\n",
    " 출력 : [0, 1, 4, 9, 16]\n",
    "\n",
    " # reduce(함수, 순서형 자료)\n",
    "   - 순서형 자료형 이란 ? 문자열 과 리스트 튜플을 말한다.\n",
    "    - 순서형 자료의 원소를 누적하여 함수에 적용한다.\n",
    "\n",
    "    a=[0, 1, 2, 3, 4]\n",
    " 입력 : reduce(lambda x, y: x + y, [0, 1, 2, 3, 4])\n",
    "\n",
    " 출력 : 10\n",
    "\n",
    " # filter(함수, 리스트) : 리스트에 들어있는 원소들을 함수에 적용 시켜서 참인 값들로 리스트화 한다.\n",
    "\n",
    " 입력 : list(filter(lambda x: x < 5, range(10)))\n",
    "\n",
    " 출력 : [0, 1, 2, 3, 4]\n",
    "\n",
    " # lambda 표현식안에서는 변수를 만들수 없다. (단 전역변수는 사용할 수 있다.)"
   ]
  },
  {
   "cell_type": "code",
   "execution_count": 66,
   "metadata": {},
   "outputs": [
    {
     "name": "stdout",
     "output_type": "stream",
     "text": [
      "[1, 4, 9, 16, 25]\n"
     ]
    }
   ],
   "source": [
    "def multi(a) :\n",
    "    for i in a :\n",
    "        yield i*i\n",
    "a = [1,2,3,4,5]\n",
    "print(list(multi(a)))"
   ]
  },
  {
   "cell_type": "code",
   "execution_count": 105,
   "metadata": {},
   "outputs": [
    {
     "name": "stdout",
     "output_type": "stream",
     "text": [
      "[0, 1, 2, '짝', 4, 5, '짝', 7, 8, '짝', 10]\n"
     ]
    }
   ],
   "source": [
    "print([\"짝\" if i%3 < 1 and i != 0 else i for i in range(11)])"
   ]
  },
  {
   "cell_type": "code",
   "execution_count": 225,
   "metadata": {},
   "outputs": [
    {
     "name": "stdout",
     "output_type": "stream",
     "text": [
      "[1, 2, '짝', 4, 5, '짝', 7, 8, '짝', 10, 11, '짝', '짝', 14, '짝', '짝', 17, '짝', '짝', 20, '짝', 22, '짝', '짝', 25, '짝', '짝', 28, '짝', '짝', '짝', '짝', '짝짝', '짝', '짝', '짝짝', '짝', '짝', '짝짝', 40, 41, '짝', '짝', 44, '짝', '짝', 47, '짝', '짝', 50, '짝', 52, '짝', '짝', 55, '짝', '짝', 58, '짝', '짝', '짝', '짝', '짝짝', '짝', '짝', '짝짝', '짝', '짝', '짝짝', 70, 71, '짝', '짝', 74, '짝', '짝', 77, '짝', '짝', 80, '짝', 82, '짝', '짝', 85, '짝', '짝', 88, '짝', '짝', '짝', '짝', '짝짝', '짝', '짝', '짝짝', '짝', '짝', '짝짝', 100]\n"
     ]
    }
   ],
   "source": [
    "a = range(1,101)\n",
    "print([\"짝짝\" if i in [33,36,39,63,66,69,93,96,99] else \"짝\" if i%3 < 1 or i%10 == 3 or i%10 == 6 or i%10 == 9 or ((i/10)%3 < 1 and i > 10) else i for i in a])"
   ]
  },
  {
   "cell_type": "code",
   "execution_count": 118,
   "metadata": {},
   "outputs": [
    {
     "name": "stdout",
     "output_type": "stream",
     "text": [
      "[1, '짝', 3, '짝', 5, '짝', 7, '짝', 9, '짝']\n"
     ]
    }
   ],
   "source": [
    "print([\"짝\" if i%2 == 0 else i for i in range(1,11)])"
   ]
  },
  {
   "cell_type": "code",
   "execution_count": 114,
   "metadata": {},
   "outputs": [
    {
     "name": "stdout",
     "output_type": "stream",
     "text": [
      "[1, '짝', 3, '짝', 5, '짝', 7, '짝', 9, '짝']\n"
     ]
    }
   ],
   "source": [
    "def multi(a) :\n",
    "    result = []\n",
    "    for i in a :\n",
    "        result.append(\"짝\" if i%2 == 0 else i)\n",
    "    return result\n",
    "a = range(1,11)\n",
    "print(multi(a))"
   ]
  },
  {
   "cell_type": "code",
   "execution_count": 236,
   "metadata": {},
   "outputs": [
    {
     "name": "stdout",
     "output_type": "stream",
     "text": [
      "[[1], [2], ['짝'], [4], [5], ['짝'], [7], [8], ['짝'], [10], [11], ['짝'], ['짝'], [14], ['짝'], ['짝'], [17], ['짝'], ['짝'], [20], ['짝'], [22], ['짝'], ['짝'], [25], ['짝'], ['짝'], [28], ['짝'], ['짝'], ['짝'], ['짝'], ['짝짝'], ['짝'], ['짝'], ['짝짝'], ['짝'], ['짝'], ['짝짝'], [40], [41], ['짝'], ['짝'], [44], ['짝'], ['짝'], [47], ['짝'], ['짝'], [50], ['짝'], [52], ['짝'], ['짝'], [55], ['짝'], ['짝'], [58], ['짝'], ['짝'], ['짝'], ['짝'], ['짝짝'], ['짝'], ['짝'], ['짝짝'], ['짝'], ['짝'], ['짝짝'], [70], [71], ['짝'], ['짝'], [74], ['짝'], ['짝'], [77], ['짝'], ['짝'], [80], ['짝'], [82], ['짝'], ['짝'], [85], ['짝'], ['짝'], [88], ['짝'], ['짝'], ['짝'], ['짝'], ['짝짝'], ['짝'], ['짝'], ['짝짝'], ['짝'], ['짝'], ['짝짝'], [100]]\n"
     ]
    }
   ],
   "source": [
    "def ham_1(a) :\n",
    "    result = []\n",
    "    for i in a :\n",
    "        result.append([\"짝짝\" \n",
    "                       if i in [33,36,39,63,66,69,93,96,99] \n",
    "                       else \"짝\" if i%3 < 1 or i%10 == 3 or i%10 == 6 or i%10 == 9 or \n",
    "                       ((i/10)%3 < 1 and i > 10) else i])\n",
    "    return result\n",
    "a = range(1,101)\n",
    "print(ham_1(a))"
   ]
  },
  {
   "cell_type": "code",
   "execution_count": 215,
   "metadata": {},
   "outputs": [
    {
     "name": "stdout",
     "output_type": "stream",
     "text": [
      "[1, '짝', 3, '짝', 5, '짝', 7, '짝', 9, '짝']\n"
     ]
    }
   ],
   "source": [
    "bb = lambda lam_1, lam_2 : [\"짝\" if i%2 == 0 else i for i in range(lam_1, lam_2)]\n",
    "print(bb(1,101))"
   ]
  },
  {
   "cell_type": "code",
   "execution_count": 278,
   "metadata": {},
   "outputs": [
    {
     "name": "stdout",
     "output_type": "stream",
     "text": [
      "[1, 2, '짝', 4, 5, '짝', 7, 8, '짝', 10, 11, '짝', '짝', 14, '짝', '짝', 17, '짝', '짝', 20, '짝', 22, '짝', '짝', 25, '짝', '짝', 28, '짝', '짝', '짝', '짝', '짝짝', '짝', '짝', '짝짝', '짝', '짝', '짝짝', 40, 41, '짝', '짝', 44, '짝', '짝', 47, '짝', '짝', 50, '짝', 52, '짝', '짝', 55, '짝', '짝', 58, '짝', '짝', '짝', '짝', '짝짝', '짝', '짝', '짝짝', '짝', '짝', '짝짝', 70, 71, '짝', '짝', 74, '짝', '짝', 77, '짝', '짝', 80, '짝', 82, '짝', '짝', 85, '짝', '짝', 88, '짝', '짝', '짝', '짝', '짝짝', '짝', '짝', '짝짝', '짝', '짝', '짝짝', 100]\n"
     ]
    }
   ],
   "source": [
    "cc = lambda lam_3, lam_4 : [\"짝짝\" if i in [33,36,39,63,66,69,93,96,99] \n",
    "                            else \"짝\" \n",
    "                            if i%3 < 1 or i%10 == 3 or\n",
    "                            i%10 == 6 or i%10 == 9 or ((i/10)%3 < 1 and i > 10) else i\n",
    "                            for i in range(lam_3, lam_4)]\n",
    "print(cc(1,101))"
   ]
  },
  {
   "cell_type": "code",
   "execution_count": 256,
   "metadata": {},
   "outputs": [
    {
     "data": {
      "text/plain": [
       "[1, '짝', 3, '짝', 5, '짝', 7, '짝', 9, '짝']"
      ]
     },
     "execution_count": 256,
     "metadata": {},
     "output_type": "execute_result"
    }
   ],
   "source": [
    "list(map(lambda x: \"짝\" if x%2 == 0 else x, range(1,11)))"
   ]
  },
  {
   "cell_type": "code",
   "execution_count": 276,
   "metadata": {},
   "outputs": [
    {
     "data": {
      "text/plain": [
       "[1,\n",
       " 2,\n",
       " '짝',\n",
       " 4,\n",
       " 5,\n",
       " '짝',\n",
       " 7,\n",
       " 8,\n",
       " '짝',\n",
       " 10,\n",
       " 11,\n",
       " '짝',\n",
       " '짝',\n",
       " 14,\n",
       " '짝',\n",
       " '짝',\n",
       " 17,\n",
       " '짝',\n",
       " '짝',\n",
       " 20,\n",
       " '짝',\n",
       " 22,\n",
       " '짝',\n",
       " '짝',\n",
       " 25,\n",
       " '짝',\n",
       " '짝',\n",
       " 28,\n",
       " '짝',\n",
       " '짝',\n",
       " '짝',\n",
       " '짝',\n",
       " '짝짝',\n",
       " '짝',\n",
       " '짝',\n",
       " '짝짝',\n",
       " '짝',\n",
       " '짝',\n",
       " '짝짝',\n",
       " 40,\n",
       " 41,\n",
       " '짝',\n",
       " '짝',\n",
       " 44,\n",
       " '짝',\n",
       " '짝',\n",
       " 47,\n",
       " '짝',\n",
       " '짝',\n",
       " 50,\n",
       " '짝',\n",
       " 52,\n",
       " '짝',\n",
       " '짝',\n",
       " 55,\n",
       " '짝',\n",
       " '짝',\n",
       " 58,\n",
       " '짝',\n",
       " '짝',\n",
       " '짝',\n",
       " '짝',\n",
       " '짝짝',\n",
       " '짝',\n",
       " '짝',\n",
       " '짝짝',\n",
       " '짝',\n",
       " '짝',\n",
       " '짝짝',\n",
       " 70,\n",
       " 71,\n",
       " '짝',\n",
       " '짝',\n",
       " 74,\n",
       " '짝',\n",
       " '짝',\n",
       " 77,\n",
       " '짝',\n",
       " '짝',\n",
       " 80,\n",
       " '짝',\n",
       " 82,\n",
       " '짝',\n",
       " '짝',\n",
       " 85,\n",
       " '짝',\n",
       " '짝',\n",
       " 88,\n",
       " '짝',\n",
       " '짝',\n",
       " '짝',\n",
       " '짝',\n",
       " '짝짝',\n",
       " '짝',\n",
       " '짝',\n",
       " '짝짝',\n",
       " '짝',\n",
       " '짝',\n",
       " '짝짝',\n",
       " 100]"
      ]
     },
     "execution_count": 276,
     "metadata": {},
     "output_type": "execute_result"
    }
   ],
   "source": [
    "list(map(lambda y : \"짝짝\" \n",
    "         if y in [33,36,39,63,66,69,93,96,99] \n",
    "         else \"짝\" if y%3 < 1 or y%10 == 3 or y%10 == 6 or y%10 == 9 or ((y/10)%3 < 1 and y > 10) else y,range(1,101)))"
   ]
  },
  {
   "cell_type": "code",
   "execution_count": 259,
   "metadata": {},
   "outputs": [
    {
     "data": {
      "text/plain": [
       "[3, 6, 9]"
      ]
     },
     "execution_count": 259,
     "metadata": {},
     "output_type": "execute_result"
    }
   ],
   "source": [
    "list(filter(lambda x: x%3 < 1 and x != 0, range(11)))"
   ]
  },
  {
   "cell_type": "code",
   "execution_count": 4,
   "metadata": {},
   "outputs": [
    {
     "data": {
      "text/plain": [
       "10"
      ]
     },
     "execution_count": 4,
     "metadata": {},
     "output_type": "execute_result"
    }
   ],
   "source": [
    "10"
   ]
  },
  {
   "cell_type": "code",
   "execution_count": 5,
   "metadata": {},
   "outputs": [
    {
     "data": {
      "text/plain": [
       "0"
      ]
     },
     "execution_count": 5,
     "metadata": {},
     "output_type": "execute_result"
    }
   ],
   "source": [
    "_"
   ]
  },
  {
   "cell_type": "code",
   "execution_count": 6,
   "metadata": {},
   "outputs": [
    {
     "data": {
      "text/plain": [
       "0"
      ]
     },
     "execution_count": 6,
     "metadata": {},
     "output_type": "execute_result"
    }
   ],
   "source": [
    "_ * 3"
   ]
  },
  {
   "cell_type": "code",
   "execution_count": 4,
   "metadata": {},
   "outputs": [
    {
     "name": "stdout",
     "output_type": "stream",
     "text": [
      "True\n"
     ]
    }
   ],
   "source": [
    "class Person:\n",
    " #두발로 걸어다닌다\n",
    "    pass\n",
    "class Animal:\n",
    "    pass\n",
    "class Student(Person,Animal):\n",
    "    #공부한다\n",
    "    pass\n",
    "\n",
    "p = Animal()\n",
    "print(isinstance(p,Animal))"
   ]
  },
  {
   "cell_type": "code",
   "execution_count": null,
   "metadata": {},
   "outputs": [],
   "source": []
  }
 ],
 "metadata": {
  "kernelspec": {
   "display_name": "Python 3",
   "language": "python",
   "name": "python3"
  },
  "language_info": {
   "codemirror_mode": {
    "name": "ipython",
    "version": 3
   },
   "file_extension": ".py",
   "mimetype": "text/x-python",
   "name": "python",
   "nbconvert_exporter": "python",
   "pygments_lexer": "ipython3",
   "version": "3.7.6"
  }
 },
 "nbformat": 4,
 "nbformat_minor": 4
}
